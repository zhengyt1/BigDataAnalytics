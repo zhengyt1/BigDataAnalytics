{
 "cells": [
  {
   "cell_type": "markdown",
   "metadata": {
    "id": "2OJW_QtKLbhA"
   },
   "source": [
    "# CIS 5450 Homework 1: Data Wrangling and Cleaning (Spring 2023)\n",
    "_Due: February 7th, 10:00 PM EST_"
   ]
  },
  {
   "cell_type": "markdown",
   "metadata": {
    "id": "H4iTlvqYyoRT"
   },
   "source": [
    "Hello future data scientists and welcome to CIS 5450! In this homework, you will familiarize yourself with Pandas 🐼! The cutest animal and one of the essential libraries for Data Science. This homework is focused on one of the most important tasks in Data Science, preparing datasets so that they can be analyzed, plotted, used for machine learning models, etc...\n",
    "\n",
    "This homework will be broken into analyzing several datasets across three sections and a fourth section focusing on XPath!\n",
    "\n",
    "1. Working with Major League Soccer (MLS) player, table and match data.\n",
    "\n",
    "2. Working on merged/joined versions of the datasets (more on this later though).\n",
    "\n",
    "**IMPORTANT NOTE: Before starting, you must click on the \"Copy To Drive\" option in the top bar. This is the master notebook so <u>you will not be able to save your changes without copying it </u>! Once you click on that, make sure you are working on that version of the notebook so that your work is saved** \n",
    "\n",
    "\n",
    "Run the following two cells to setup the notebook"
   ]
  },
  {
   "cell_type": "code",
   "execution_count": 2,
   "metadata": {
    "id": "brXQGz4QLIW2"
   },
   "outputs": [
    {
     "name": "stdout",
     "output_type": "stream",
     "text": [
      "Looking in indexes: https://test.pypi.org/simple/\n",
      "Collecting penn-grader==0.5.0\n",
      "  Downloading https://test-files.pythonhosted.org/packages/e4/fa/3a09f42fbed05d27fa4e663e3feed831bc88802342e1a862a6cfb09b77fc/penn_grader-0.5.0-py2.py3-none-any.whl (10 kB)\n",
      "Collecting dill\n",
      "  Downloading https://test-files.pythonhosted.org/packages/be/e3/a84bf2e561beed15813080d693b4b27573262433fced9c1d1fea59e60553/dill-0.3.6-py3-none-any.whl (110 kB)\n",
      "\u001b[2K     \u001b[90m━━━━━━━━━━━━━━━━━━━━━━━━━━━━━━━━━━━━━\u001b[0m \u001b[32m110.5/110.5 kB\u001b[0m \u001b[31m852.5 kB/s\u001b[0m eta \u001b[36m0:00:00\u001b[0ma \u001b[36m0:00:01\u001b[0m\n",
      "\u001b[?25hRequirement already satisfied: pyyaml in /Users/zhengyuting/anaconda3/lib/python3.7/site-packages (from penn-grader==0.5.0) (5.3)\n",
      "Installing collected packages: dill, penn-grader\n",
      "Successfully installed dill-0.3.6 penn-grader-0.5.0\n"
     ]
    }
   ],
   "source": [
    "!pip install -i https://test.pypi.org/simple/ penn-grader==0.5.0"
   ]
  },
  {
   "cell_type": "code",
   "execution_count": 1,
   "metadata": {
    "id": "MlKkB_HuLrAH"
   },
   "outputs": [],
   "source": [
    "from penngrader.grader import *\n",
    "import pandas as pd\n",
    "import numpy as np\n",
    "import seaborn as sns\n",
    "from string import ascii_letters\n",
    "import matplotlib.pyplot as plt\n",
    "import datetime as dt\n",
    "import requests\n",
    "from lxml import html\n",
    "import math\n",
    "import re"
   ]
  },
  {
   "cell_type": "code",
   "execution_count": 2,
   "metadata": {
    "id": "jgqxruV_0Zxw"
   },
   "outputs": [
    {
     "name": "stdout",
     "output_type": "stream",
     "text": [
      "File ‘matches.csv’ already there; not retrieving.\n",
      "\n",
      "File ‘tables.csv’ already there; not retrieving.\n",
      "\n",
      "File ‘players.csv’ already there; not retrieving.\n",
      "\n",
      "File ‘goalkeepers.csv’ already there; not retrieving.\n",
      "\n"
     ]
    }
   ],
   "source": [
    "!wget -nc https://storage.googleapis.com/penn-cis5450/matches.csv\n",
    "!wget -nc https://storage.googleapis.com/penn-cis5450/tables.csv\n",
    "!wget -nc https://storage.googleapis.com/penn-cis5450/players.csv\n",
    "!wget -nc https://storage.googleapis.com/penn-cis5450/goalkeepers.csv"
   ]
  },
  {
   "cell_type": "markdown",
   "metadata": {
    "id": "JvWAeDNhL1-b"
   },
   "source": [
    "#What is Pandas?\n",
    "\n",
    "<div class = \"row\">\n",
    "<div class=\"column\">\n",
    "Apart from animals, Pandas is a Python library to aid with data manipulation/analysis. It is built with support from Numpy. Numpy is another Python package/library that provides efficient calculations for matrices and other math problems.\n",
    "</div><div class=\"column\">\n",
    "<p class=\"d-flex\" align = \"center\">\n",
    "<img src = \"https://thehill.com/sites/default/files/styles/article_full/public/panda_getty.jpg?itok=4ce_5sip\" height= \"200\" align =\"center\"/>\n",
    "<img src = \"https://cff2.earth.com/uploads/2016/09/08101343/giant-panda-bear_1big_stock1.jpg\" height= \"200\" align =\"center\"/>\n",
    "</p>\n",
    "</div>\n",
    "</div>"
   ]
  },
  {
   "cell_type": "markdown",
   "metadata": {
    "id": "diDKbbsbL4uJ"
   },
   "source": [
    "Let's also get familiarized with the **PennGrader**. It was developed specifically for 545 by a previous TA, Leonardo Murri. \n",
    "<br>\n",
    "\n",
    "PennGrader was developed to provide students with instant feedback on their answer. You can submit your answer and know whether it's right or wrong instantly. We then record your most recent answer in our backend database. Let's try it out! Fill in the cell below with your 8-digit Penn ID and then run the following cell to initialize the grader."
   ]
  },
  {
   "cell_type": "code",
   "execution_count": 453,
   "metadata": {
    "id": "H2DysIgZL2u-"
   },
   "outputs": [],
   "source": [
    "# PLEASE ENSURE YOUR PENN-ID IS ENTERED CORRECTLY. \n",
    "# IF NOT, THE AUTOGRADER WON'T KNOW WHO TO ASSIGN POINTS TO YOU IN OUR BACKEND\n",
    "# YOUR PENN-ID GOES HERE AS AN INTEGER\n",
    "STUDENT_ID = 51747601\n",
    "\n",
    "# You should also update this to a unique \"secret\" just for this homework, to\n",
    "# authenticate this is YOUR submission\n",
    "SECRET = \"it_is_a_secret_for_hw2\""
   ]
  },
  {
   "cell_type": "markdown",
   "metadata": {
    "id": "KNFSUjDSHlUY"
   },
   "source": [
    "Leave this cell as-is..."
   ]
  },
  {
   "cell_type": "code",
   "execution_count": 4,
   "metadata": {
    "id": "STmv3XDuHko3"
   },
   "outputs": [
    {
     "name": "stdout",
     "output_type": "stream",
     "text": [
      "Overwriting config.yaml\n"
     ]
    }
   ],
   "source": [
    "%%writefile config.yaml\n",
    "\n",
    "grader_api_url: 'https://wyv616tp17.execute-api.us-east-1.amazonaws.com/default/Grader'\n",
    "grader_api_key: 'Kd32fl3g3p917iM0zwjiO23Bitj4PO9ga4LektOa'"
   ]
  },
  {
   "cell_type": "code",
   "execution_count": 5,
   "metadata": {
    "id": "Fja4mIB1L8oI"
   },
   "outputs": [
    {
     "name": "stdout",
     "output_type": "stream",
     "text": [
      "PennGrader initialized with Student ID: 51747601\n",
      "\n",
      "Make sure this correct or we will not be able to store your grade\n"
     ]
    }
   ],
   "source": [
    "grader = PennGrader('config.yaml', 'CIS5450_23Sp_HW1', STUDENT_ID, SECRET)"
   ]
  },
  {
   "cell_type": "markdown",
   "metadata": {
    "id": "X8wMxjvLMQf5"
   },
   "source": [
    "Pandas (the animal) are lazy. Their days are made up of eating and sleeping. Just like mine. Let's run a cell just to make sure PennGrader works.\n",
    "\n",
    "#### **PennGrader Check [2 points]**\n",
    "- Change `favorite_activity` to whichever panda \"activity\" you prefer, as a string (2 points)\n",
    "\n",
    "**Note**: We'll use cells like these \"TODO\" above to indicate what is important to have in each section of the notebook. Some general guidelines:\n",
    "\n",
    "- You don't have to do all of these in one cell/step; we're just labeling them for each section which might have smaller sub-sections (for example, look at how 1.2 is set up for your reference).\n",
    "- Make sure to read these carefully and do everything that is asked.\n",
    "- Make sure to run all the PennGrader test cells; if we forgot anything, please let us know ASAP on Ed Discussion so that we can update the Markdown cells here."
   ]
  },
  {
   "cell_type": "code",
   "execution_count": 8,
   "metadata": {
    "id": "5AvZUJN0MABE"
   },
   "outputs": [],
   "source": [
    "# In this cell, put which panda activity you prefer in lowercase - either eating or sleeping\n",
    "# Input activity name in all lowercase\n",
    "favorite_activity = \"eating\""
   ]
  },
  {
   "cell_type": "code",
   "execution_count": 9,
   "metadata": {
    "id": "CsrhyQHYMaA5"
   },
   "outputs": [
    {
     "name": "stdout",
     "output_type": "stream",
     "text": [
      "Correct! You earned 2/2 points. You are a star!\n",
      "\n",
      "Your submission has been successfully recorded in the gradebook.\n"
     ]
    }
   ],
   "source": [
    "# Run this cell to submit to PennGrader!\n",
    "\n",
    "# [CIS 545 PennGrader Cell] - 2 points\n",
    "grader.grade(test_case_id = 'panda_test', answer = favorite_activity)"
   ]
  },
  {
   "cell_type": "markdown",
   "metadata": {
    "id": "Rr-nQTrsNDrO"
   },
   "source": [
    "You just had your first experience with the Penn Grader! For the future questions, once you have completed a question, you can submit your answer to the Penn Grader for immediate feedback. Awesome, right?\n",
    "\n",
    "We will use scores from Penn Grader to determine your grade. You will still need to submit your notebook so we can check for cheating and plagarism. Do not cheat. \n",
    "\n",
    "**Note:** If you run Penn Grader after the due date for any question, your assignment will be marked late, even if you already had full points for the question before the deadline. To remedy this, if you're going to run your notebook after the deadline, either do not run the grading cells, or reinitialize the grader with an empty or clearly fake ID such as <code>999999999999</code> (please use 10+ digits to be clearly a fake <code>STUDENT_ID</code>)"
   ]
  },
  {
   "cell_type": "markdown",
   "metadata": {
    "id": "Pv0RR7GyRlWi"
   },
   "source": [
    "#Adding our data so that our code can find it\n",
    "\n",
    "We can't be data scientists without data! We provided code for you to download the data (the \"wget\" cell from earlier). If you go to the view on the left and click files, you should see something similar to this image\n",
    "\n",
    "![Screen Shot 2023-01-23 at 6.28.00 PM.png](data:image/png;base64,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)"
   ]
  },
  {
   "cell_type": "markdown",
   "metadata": {
    "id": "TPm0T5ILfBmH"
   },
   "source": [
    "#Part 1: Working with MLS Data [45 points]\n",
    "\n",
    "In this part of the homework we will be working with a dataset focused on MLS Matches! \n",
    "\n",
    "Let's first load our dataset into a Pandas Dataframe. Use Pandas's <code>read_csv</code> functionality, which you can find documentation for here:\n",
    "\n",
    "https://pandas.pydata.org/pandas-docs/stable/reference/api/pandas.read_csv.html\n",
    "\n",
    "While reading documentation is hard at first, we **strongly encourage you** to get into the habit of doing this, since many times your questions will be answered directly by the documentation (ex: \"why isn't my dataframe dropping duplicates\" or \"why didn't this dataframe update\").\n",
    "\n",
    "#### **TODO**\n",
    "- Save the Matches dataframe to a variable named: <code>matches_df</code>\n",
    "- Save the Players dataframe to a variable named: <code>players_df</code>\n",
    "- Save the Goalkeepers dataframe to a variable named: <code>goalkeepers_df</code>\n",
    "- Save the Tables dataframe to a variable named: <code>tables_df</code>"
   ]
  },
  {
   "cell_type": "code",
   "execution_count": 13,
   "metadata": {
    "id": "KPHV7RFnM-1g"
   },
   "outputs": [],
   "source": [
    "#TODO: Import your four files to pandas dataframes -- make sure the dataframes are named correctly!\n",
    "matches_df = pd.read_csv(\"matches.csv\")\n",
    "players_df = pd.read_csv(\"players.csv\")\n",
    "goalkeepers_df = pd.read_csv(\"goalkeepers.csv\")\n",
    "tables_df = pd.read_csv(\"tables.csv\")"
   ]
  },
  {
   "cell_type": "markdown",
   "metadata": {
    "id": "IUy80c94vudx"
   },
   "source": [
    "Let's focus on the `matches_df` for now and see what the dataframe looks like. Display the first 10 rows of the dataframe in the cell below (take a look at the documentation to find how to do this!)"
   ]
  },
  {
   "cell_type": "code",
   "execution_count": 134,
   "metadata": {
    "id": "A3N2gAlevu5c"
   },
   "outputs": [
    {
     "data": {
      "text/html": [
       "<div>\n",
       "<style scoped>\n",
       "    .dataframe tbody tr th:only-of-type {\n",
       "        vertical-align: middle;\n",
       "    }\n",
       "\n",
       "    .dataframe tbody tr th {\n",
       "        vertical-align: top;\n",
       "    }\n",
       "\n",
       "    .dataframe thead th {\n",
       "        text-align: right;\n",
       "    }\n",
       "</style>\n",
       "<table border=\"1\" class=\"dataframe\">\n",
       "  <thead>\n",
       "    <tr style=\"text-align: right;\">\n",
       "      <th></th>\n",
       "      <th>home_clubname</th>\n",
       "      <th>away_clubname</th>\n",
       "      <th>date</th>\n",
       "      <th>year</th>\n",
       "      <th>time (utc)</th>\n",
       "      <th>attendance</th>\n",
       "      <th>venue</th>\n",
       "      <th>league</th>\n",
       "      <th>part_of_competition</th>\n",
       "      <th>game_status</th>\n",
       "      <th>...</th>\n",
       "      <th>away_wonCorners</th>\n",
       "      <th>home_saves</th>\n",
       "      <th>away_saves</th>\n",
       "      <th>away_bench_14_num</th>\n",
       "      <th>away_bench_14</th>\n",
       "      <th>away_bench_14_minute</th>\n",
       "      <th>home_formation</th>\n",
       "      <th>away_formation</th>\n",
       "      <th>home_club</th>\n",
       "      <th>away_club</th>\n",
       "    </tr>\n",
       "  </thead>\n",
       "  <tbody>\n",
       "    <tr>\n",
       "      <th>0</th>\n",
       "      <td>New England</td>\n",
       "      <td>San Jose</td>\n",
       "      <td>31/7/96</td>\n",
       "      <td>1996</td>\n",
       "      <td>NaN</td>\n",
       "      <td>12,871</td>\n",
       "      <td>Foxboro Stadium</td>\n",
       "      <td>1996 MLS</td>\n",
       "      <td>Regular Season</td>\n",
       "      <td>FT</td>\n",
       "      <td>...</td>\n",
       "      <td>NaN</td>\n",
       "      <td>NaN</td>\n",
       "      <td>NaN</td>\n",
       "      <td>NaN</td>\n",
       "      <td>NaN</td>\n",
       "      <td>NaN</td>\n",
       "      <td>NaN</td>\n",
       "      <td>NaN</td>\n",
       "      <td>NaN</td>\n",
       "      <td>SJ</td>\n",
       "    </tr>\n",
       "    <tr>\n",
       "      <th>1</th>\n",
       "      <td>Dallas</td>\n",
       "      <td>Colorado</td>\n",
       "      <td>15/6/96</td>\n",
       "      <td>1996</td>\n",
       "      <td>NaN</td>\n",
       "      <td>9,704</td>\n",
       "      <td>Cotton Bowl</td>\n",
       "      <td>1996 MLS</td>\n",
       "      <td>Regular Season</td>\n",
       "      <td>FT</td>\n",
       "      <td>...</td>\n",
       "      <td>NaN</td>\n",
       "      <td>NaN</td>\n",
       "      <td>NaN</td>\n",
       "      <td>NaN</td>\n",
       "      <td>NaN</td>\n",
       "      <td>NaN</td>\n",
       "      <td>NaN</td>\n",
       "      <td>NaN</td>\n",
       "      <td>NaN</td>\n",
       "      <td>NaN</td>\n",
       "    </tr>\n",
       "    <tr>\n",
       "      <th>2</th>\n",
       "      <td>Colorado</td>\n",
       "      <td>D.C. United</td>\n",
       "      <td>29/8/96</td>\n",
       "      <td>1996</td>\n",
       "      <td>NaN</td>\n",
       "      <td>6,368</td>\n",
       "      <td>Mile High Stadium</td>\n",
       "      <td>1996 MLS</td>\n",
       "      <td>Regular Season</td>\n",
       "      <td>FT</td>\n",
       "      <td>...</td>\n",
       "      <td>NaN</td>\n",
       "      <td>NaN</td>\n",
       "      <td>NaN</td>\n",
       "      <td>NaN</td>\n",
       "      <td>NaN</td>\n",
       "      <td>NaN</td>\n",
       "      <td>NaN</td>\n",
       "      <td>NaN</td>\n",
       "      <td>NaN</td>\n",
       "      <td>DC</td>\n",
       "    </tr>\n",
       "    <tr>\n",
       "      <th>3</th>\n",
       "      <td>LA Galaxy</td>\n",
       "      <td>New England</td>\n",
       "      <td>8/8/96</td>\n",
       "      <td>1996</td>\n",
       "      <td>NaN</td>\n",
       "      <td>10,251</td>\n",
       "      <td>Rose Bowl</td>\n",
       "      <td>1996 MLS</td>\n",
       "      <td>Regular Season</td>\n",
       "      <td>FT</td>\n",
       "      <td>...</td>\n",
       "      <td>NaN</td>\n",
       "      <td>NaN</td>\n",
       "      <td>NaN</td>\n",
       "      <td>NaN</td>\n",
       "      <td>NaN</td>\n",
       "      <td>NaN</td>\n",
       "      <td>NaN</td>\n",
       "      <td>NaN</td>\n",
       "      <td>LA</td>\n",
       "      <td>NaN</td>\n",
       "    </tr>\n",
       "    <tr>\n",
       "      <th>4</th>\n",
       "      <td>New England</td>\n",
       "      <td>D.C. United</td>\n",
       "      <td>20/7/96</td>\n",
       "      <td>1996</td>\n",
       "      <td>NaN</td>\n",
       "      <td>18,347</td>\n",
       "      <td>Foxboro Stadium</td>\n",
       "      <td>1996 MLS</td>\n",
       "      <td>Regular Season</td>\n",
       "      <td>FT</td>\n",
       "      <td>...</td>\n",
       "      <td>NaN</td>\n",
       "      <td>NaN</td>\n",
       "      <td>NaN</td>\n",
       "      <td>NaN</td>\n",
       "      <td>NaN</td>\n",
       "      <td>NaN</td>\n",
       "      <td>NaN</td>\n",
       "      <td>NaN</td>\n",
       "      <td>NaN</td>\n",
       "      <td>DC</td>\n",
       "    </tr>\n",
       "    <tr>\n",
       "      <th>5</th>\n",
       "      <td>D.C. United</td>\n",
       "      <td>Colorado</td>\n",
       "      <td>21/9/96</td>\n",
       "      <td>1996</td>\n",
       "      <td>NaN</td>\n",
       "      <td>20,573</td>\n",
       "      <td>Robert F. Kennedy Memorial Stadium</td>\n",
       "      <td>1996 MLS</td>\n",
       "      <td>Regular Season</td>\n",
       "      <td>FT</td>\n",
       "      <td>...</td>\n",
       "      <td>NaN</td>\n",
       "      <td>NaN</td>\n",
       "      <td>NaN</td>\n",
       "      <td>NaN</td>\n",
       "      <td>NaN</td>\n",
       "      <td>NaN</td>\n",
       "      <td>NaN</td>\n",
       "      <td>NaN</td>\n",
       "      <td>DC</td>\n",
       "      <td>NaN</td>\n",
       "    </tr>\n",
       "    <tr>\n",
       "      <th>6</th>\n",
       "      <td>Tampa Bay</td>\n",
       "      <td>Columbus</td>\n",
       "      <td>22/6/96</td>\n",
       "      <td>1996</td>\n",
       "      <td>NaN</td>\n",
       "      <td>8,767</td>\n",
       "      <td>Houlihan's Stadium</td>\n",
       "      <td>1996 MLS</td>\n",
       "      <td>Regular Season</td>\n",
       "      <td>FT</td>\n",
       "      <td>...</td>\n",
       "      <td>NaN</td>\n",
       "      <td>NaN</td>\n",
       "      <td>NaN</td>\n",
       "      <td>NaN</td>\n",
       "      <td>NaN</td>\n",
       "      <td>NaN</td>\n",
       "      <td>NaN</td>\n",
       "      <td>NaN</td>\n",
       "      <td>TB</td>\n",
       "      <td>NaN</td>\n",
       "    </tr>\n",
       "    <tr>\n",
       "      <th>7</th>\n",
       "      <td>LA Galaxy</td>\n",
       "      <td>Dallas</td>\n",
       "      <td>25/8/96</td>\n",
       "      <td>1996</td>\n",
       "      <td>NaN</td>\n",
       "      <td>19,279</td>\n",
       "      <td>Rose Bowl</td>\n",
       "      <td>1996 MLS</td>\n",
       "      <td>Regular Season</td>\n",
       "      <td>FT</td>\n",
       "      <td>...</td>\n",
       "      <td>NaN</td>\n",
       "      <td>NaN</td>\n",
       "      <td>NaN</td>\n",
       "      <td>NaN</td>\n",
       "      <td>NaN</td>\n",
       "      <td>NaN</td>\n",
       "      <td>NaN</td>\n",
       "      <td>NaN</td>\n",
       "      <td>LA</td>\n",
       "      <td>NaN</td>\n",
       "    </tr>\n",
       "    <tr>\n",
       "      <th>8</th>\n",
       "      <td>D.C. United</td>\n",
       "      <td>Columbus</td>\n",
       "      <td>28/7/96</td>\n",
       "      <td>1996</td>\n",
       "      <td>NaN</td>\n",
       "      <td>11,173</td>\n",
       "      <td>Robert F. Kennedy Memorial Stadium</td>\n",
       "      <td>1996 MLS</td>\n",
       "      <td>Regular Season</td>\n",
       "      <td>FT</td>\n",
       "      <td>...</td>\n",
       "      <td>NaN</td>\n",
       "      <td>NaN</td>\n",
       "      <td>NaN</td>\n",
       "      <td>NaN</td>\n",
       "      <td>NaN</td>\n",
       "      <td>NaN</td>\n",
       "      <td>NaN</td>\n",
       "      <td>NaN</td>\n",
       "      <td>DC</td>\n",
       "      <td>NaN</td>\n",
       "    </tr>\n",
       "    <tr>\n",
       "      <th>9</th>\n",
       "      <td>MetroStars</td>\n",
       "      <td>KC Wiz</td>\n",
       "      <td>26/6/96</td>\n",
       "      <td>1996</td>\n",
       "      <td>NaN</td>\n",
       "      <td>16,103</td>\n",
       "      <td>Giants Stadium</td>\n",
       "      <td>1996 MLS</td>\n",
       "      <td>Regular Season</td>\n",
       "      <td>FT</td>\n",
       "      <td>...</td>\n",
       "      <td>NaN</td>\n",
       "      <td>NaN</td>\n",
       "      <td>NaN</td>\n",
       "      <td>NaN</td>\n",
       "      <td>NaN</td>\n",
       "      <td>NaN</td>\n",
       "      <td>NaN</td>\n",
       "      <td>NaN</td>\n",
       "      <td>MET</td>\n",
       "      <td>NaN</td>\n",
       "    </tr>\n",
       "  </tbody>\n",
       "</table>\n",
       "<p>10 rows × 210 columns</p>\n",
       "</div>"
      ],
      "text/plain": [
       "  home_clubname away_clubname     date  year time (utc) attendance  \\\n",
       "0   New England      San Jose  31/7/96  1996        NaN     12,871   \n",
       "1        Dallas      Colorado  15/6/96  1996        NaN      9,704   \n",
       "2      Colorado   D.C. United  29/8/96  1996        NaN      6,368   \n",
       "3     LA Galaxy   New England   8/8/96  1996        NaN     10,251   \n",
       "4   New England   D.C. United  20/7/96  1996        NaN     18,347   \n",
       "5   D.C. United      Colorado  21/9/96  1996        NaN     20,573   \n",
       "6     Tampa Bay      Columbus  22/6/96  1996        NaN      8,767   \n",
       "7     LA Galaxy        Dallas  25/8/96  1996        NaN     19,279   \n",
       "8   D.C. United      Columbus  28/7/96  1996        NaN     11,173   \n",
       "9    MetroStars        KC Wiz  26/6/96  1996        NaN     16,103   \n",
       "\n",
       "                                venue    league part_of_competition  \\\n",
       "0                     Foxboro Stadium  1996 MLS      Regular Season   \n",
       "1                         Cotton Bowl  1996 MLS      Regular Season   \n",
       "2                   Mile High Stadium  1996 MLS      Regular Season   \n",
       "3                           Rose Bowl  1996 MLS      Regular Season   \n",
       "4                     Foxboro Stadium  1996 MLS      Regular Season   \n",
       "5  Robert F. Kennedy Memorial Stadium  1996 MLS      Regular Season   \n",
       "6                  Houlihan's Stadium  1996 MLS      Regular Season   \n",
       "7                           Rose Bowl  1996 MLS      Regular Season   \n",
       "8  Robert F. Kennedy Memorial Stadium  1996 MLS      Regular Season   \n",
       "9                      Giants Stadium  1996 MLS      Regular Season   \n",
       "\n",
       "  game_status  ... away_wonCorners  home_saves  away_saves away_bench_14_num  \\\n",
       "0          FT  ...             NaN         NaN         NaN               NaN   \n",
       "1          FT  ...             NaN         NaN         NaN               NaN   \n",
       "2          FT  ...             NaN         NaN         NaN               NaN   \n",
       "3          FT  ...             NaN         NaN         NaN               NaN   \n",
       "4          FT  ...             NaN         NaN         NaN               NaN   \n",
       "5          FT  ...             NaN         NaN         NaN               NaN   \n",
       "6          FT  ...             NaN         NaN         NaN               NaN   \n",
       "7          FT  ...             NaN         NaN         NaN               NaN   \n",
       "8          FT  ...             NaN         NaN         NaN               NaN   \n",
       "9          FT  ...             NaN         NaN         NaN               NaN   \n",
       "\n",
       "  away_bench_14 away_bench_14_minute home_formation away_formation  home_club  \\\n",
       "0           NaN                  NaN            NaN            NaN        NaN   \n",
       "1           NaN                  NaN            NaN            NaN        NaN   \n",
       "2           NaN                  NaN            NaN            NaN        NaN   \n",
       "3           NaN                  NaN            NaN            NaN         LA   \n",
       "4           NaN                  NaN            NaN            NaN        NaN   \n",
       "5           NaN                  NaN            NaN            NaN        DC    \n",
       "6           NaN                  NaN            NaN            NaN        TB    \n",
       "7           NaN                  NaN            NaN            NaN         LA   \n",
       "8           NaN                  NaN            NaN            NaN        DC    \n",
       "9           NaN                  NaN            NaN            NaN        MET   \n",
       "\n",
       "  away_club  \n",
       "0       SJ   \n",
       "1       NaN  \n",
       "2       DC   \n",
       "3       NaN  \n",
       "4       DC   \n",
       "5       NaN  \n",
       "6       NaN  \n",
       "7       NaN  \n",
       "8       NaN  \n",
       "9       NaN  \n",
       "\n",
       "[10 rows x 210 columns]"
      ]
     },
     "execution_count": 134,
     "metadata": {},
     "output_type": "execute_result"
    }
   ],
   "source": [
    "#TODO: Display the first 10 rows of `matches_df`\n",
    "matches_df.head(10)"
   ]
  },
  {
   "cell_type": "markdown",
   "metadata": {
    "id": "rzEntwFtvy1H"
   },
   "source": [
    "Another thing that is often times helpful to do is inspect the types of each column in a dataframe. Output the types of `matches_df` in this cell below. "
   ]
  },
  {
   "cell_type": "code",
   "execution_count": 135,
   "metadata": {
    "id": "7JFASv7Cvz9v"
   },
   "outputs": [
    {
     "data": {
      "text/plain": [
       "home_clubname           object\n",
       "away_clubname           object\n",
       "date                    object\n",
       "year                     int64\n",
       "time (utc)              object\n",
       "                         ...  \n",
       "away_bench_14_minute    object\n",
       "home_formation          object\n",
       "away_formation          object\n",
       "home_club               object\n",
       "away_club               object\n",
       "Length: 210, dtype: object"
      ]
     },
     "execution_count": 135,
     "metadata": {},
     "output_type": "execute_result"
    }
   ],
   "source": [
    "# TODO: Display the datatypes in `matches_df` - feel free to refer to Pandas documentation for this\n",
    "matches_df.dtypes"
   ]
  },
  {
   "cell_type": "markdown",
   "metadata": {
    "id": "WRpBElljv2lJ"
   },
   "source": [
    "Save the types of the `home_clubname`, `away_clubname`, `year`, `venue` and `attendance` columns to a variable called `matches_df_types` (look into Pandas documentation to find a function for this), and pass them into the autograder cell below."
   ]
  },
  {
   "cell_type": "code",
   "execution_count": 136,
   "metadata": {
    "id": "_FaNPGvoCbg1"
   },
   "outputs": [],
   "source": [
    "matches_df_types = matches_df.dtypes.loc[[\"home_clubname\",\"away_clubname\",\"year\",\"venue\",\"attendance\"]]"
   ]
  },
  {
   "cell_type": "code",
   "execution_count": 137,
   "metadata": {
    "id": "Y82wWp8Nv6S2"
   },
   "outputs": [
    {
     "data": {
      "text/plain": [
       "home_clubname    object\n",
       "away_clubname    object\n",
       "year              int64\n",
       "venue            object\n",
       "attendance       object\n",
       "dtype: object"
      ]
     },
     "execution_count": 137,
     "metadata": {},
     "output_type": "execute_result"
    }
   ],
   "source": [
    "# View the output here!\n",
    "matches_df_types"
   ]
  },
  {
   "cell_type": "code",
   "execution_count": 138,
   "metadata": {
    "id": "Y2ESX_FMv7gy"
   },
   "outputs": [
    {
     "name": "stdout",
     "output_type": "stream",
     "text": [
      "Correct! You earned 2/2 points. You are a star!\n",
      "\n",
      "Your submission has been successfully recorded in the gradebook.\n"
     ]
    }
   ],
   "source": [
    "# TEST CASE: matches_df_types (2pt)\n",
    "# [CIS 545 PennGrader Cell] - 2 points\n",
    "grader.grade(test_case_id = 'matches_df_types', answer = matches_df_types)"
   ]
  },
  {
   "cell_type": "markdown",
   "metadata": {
    "id": "6G0XnVCnv9_h"
   },
   "source": [
    "##1.1 Cleaning up Matches data (5 points)\n",
    "\n",
    "When you work with data, you'll have NaNs, duplicates or columns that don't give much insight into the data. There are different ways to deal with missing values (i.e. imputation, which you can read into on your own), but for now, let's drop some of these rows in `matches_df` to clean up our data. Note that there might be multiple ways to do each step. Also note that a lot of the columns in `matches_df` have all nulls. Thus, **ensure to drop the unnecessary columns before filtering out rows with nulls**\n",
    "\n",
    "\n",
    "Refer to the documentation if you get stuck -- it's your best friend!\n",
    "\n",
    "<br>\n",
    "\n",
    "#### **TODO: 1.1**\n",
    "\n",
    "- Keep only the following columns:\n",
    " `home_clubname`, `away_clubname`, `date`, `year`, `attendance`, `venue`, `part_of_competition`, `home_score`, `away_score`.\n",
    "- Drop rows that have nulls (e.g. NaN) in them.\n",
    "- Cast `home_clubname`, `away_clubname` and `venue` columns to type `string`.\n",
    "- Save the result to `matches_cleaned_df`."
   ]
  },
  {
   "cell_type": "code",
   "execution_count": 198,
   "metadata": {
    "id": "iXEQYgnZv9Oh"
   },
   "outputs": [],
   "source": [
    "#TODO: Keep only the necessary columns\n",
    "matches_cleaned_df = matches_df.loc[:,[\"home_clubname\",\"away_clubname\",\"date\",\"year\",\"attendance\",\"venue\",\"part_of_competition\",\"home_score\",\"away_score\"]]"
   ]
  },
  {
   "cell_type": "code",
   "execution_count": 199,
   "metadata": {
    "id": "2E2beZOvI43a"
   },
   "outputs": [],
   "source": [
    "#TODO: Drop nulls\n",
    "matches_cleaned_df = matches_cleaned_df.dropna()"
   ]
  },
  {
   "cell_type": "code",
   "execution_count": 203,
   "metadata": {
    "id": "qk7NOxpZO3wS"
   },
   "outputs": [],
   "source": [
    "#TODO: Cast type\n",
    "matches_cleaned_df = matches_cleaned_df.astype({\"home_clubname\": \"string\", \"away_clubname\": \"string\", \"venue\": \"string\"})"
   ]
  },
  {
   "cell_type": "code",
   "execution_count": 204,
   "metadata": {
    "id": "gWk-uIV6wCrw"
   },
   "outputs": [
    {
     "data": {
      "text/plain": [
       "home_clubname          string\n",
       "away_clubname          string\n",
       "date                   object\n",
       "year                    int64\n",
       "attendance             object\n",
       "venue                  string\n",
       "part_of_competition    object\n",
       "home_score              int64\n",
       "away_score              int64\n",
       "dtype: object"
      ]
     },
     "execution_count": 204,
     "metadata": {},
     "output_type": "execute_result"
    }
   ],
   "source": [
    "matches_cleaned_df.dtypes"
   ]
  },
  {
   "cell_type": "code",
   "execution_count": 205,
   "metadata": {
    "id": "fb5xe3SgwEXq"
   },
   "outputs": [
    {
     "name": "stdout",
     "output_type": "stream",
     "text": [
      "Correct! You earned 5/5 points. You are a star!\n",
      "\n",
      "Your submission has been successfully recorded in the gradebook.\n"
     ]
    }
   ],
   "source": [
    "# TEST CASE: matches_cleaned_df (5pt)\n",
    "# [CIS 545 PennGrader Cell] - 5 points\n",
    "grader.grade(test_case_id = 'matches_cleaned_df', answer = matches_cleaned_df.head(1000))"
   ]
  },
  {
   "cell_type": "markdown",
   "metadata": {
    "id": "GDWpC6BswHBp"
   },
   "source": [
    "## 1.2 Data Wrangling with Matches Data (20 points)\n",
    "\n",
    "Now, let's process the data in an appropriate format so that we can answer some queries more easily. Make sure to use `matches_cleaned_df` for this part."
   ]
  },
  {
   "cell_type": "markdown",
   "metadata": {
    "id": "jirZF1dK-HZU"
   },
   "source": [
    "### 1.2.0 Preprocessing for `matches_final_df` (8 points)\n",
    "\n",
    "**TODO: 1.2.0**\n",
    "\n",
    "*  Create a column called `is_regular_season` that takes on a value of **1** if the `part_of_competition` value for that particular row is `'Regular Season'`, otherwise it takes on a value of **0** if not.\n",
    "* Create a column called `attendance_cleaned` that converts the string-based `'attendance'` column's values into a cleaned `int64` values (removing commas).\n",
    "* Create a column called `date_cleaned` that converts the `date` column's values into a cleaned `datetime` values.\n",
    "* Drop the redundant columns `part_of_competition`, `attendance` and `date`.\n",
    "*   Save the final result into `matches_final_df` (8 points)\n",
    "\n",
    "\n",
    "**Hint**: See [apply](https://pandas.pydata.org/docs/reference/api/pandas.DataFrame.apply.html), `lambda` and [to_datetime](https://pandas.pydata.org/docs/reference/api/pandas.to_datetime.html) in Pandas documentation.\n",
    "\n",
    "**Note**: Do not use for loops for these tasks."
   ]
  },
  {
   "cell_type": "code",
   "execution_count": 180,
   "metadata": {
    "id": "bunsYLSMlq9Z"
   },
   "outputs": [],
   "source": [
    "#TODO: Create is_regular_season column\n",
    "matches_cleaned_df[\"is_regular_season\"] = np.where(matches_cleaned_df[\"part_of_competition\"] == \"Regular Season\", 1, 0)"
   ]
  },
  {
   "cell_type": "code",
   "execution_count": 456,
   "metadata": {
    "id": "nueFl8Ldei3F"
   },
   "outputs": [],
   "source": [
    "#TODO: Create attendance_cleaned column\n",
    "matches_cleaned_df[\"attendance_cleaned\"] = matches_cleaned_df[\"attendance\"].apply(lambda x: x.replace(\",\",\"\")).astype(int)"
   ]
  },
  {
   "cell_type": "code",
   "execution_count": 457,
   "metadata": {
    "id": "eJap_SQkeziN"
   },
   "outputs": [
    {
     "data": {
      "text/plain": [
       "0      1996-07-31\n",
       "1      1996-06-15\n",
       "2      1996-08-29\n",
       "3      1996-08-08\n",
       "4      1996-07-20\n",
       "          ...    \n",
       "7284   2022-07-16\n",
       "7285   2022-07-16\n",
       "7286   2022-07-16\n",
       "7287   2022-07-16\n",
       "7288   2022-07-16\n",
       "Name: date_cleaned, Length: 4873, dtype: datetime64[ns]"
      ]
     },
     "execution_count": 457,
     "metadata": {},
     "output_type": "execute_result"
    }
   ],
   "source": [
    "#TODO: Create date_cleaned column\n",
    "matches_cleaned_df[\"date_cleaned\"] = pd.to_datetime(matches_cleaned_df[\"date\"])\n",
    "matches_cleaned_df[\"date_cleaned\"]"
   ]
  },
  {
   "cell_type": "code",
   "execution_count": 183,
   "metadata": {
    "id": "f1uPAoRMe2Qb"
   },
   "outputs": [],
   "source": [
    "#TODO: Drop redundant columns \n",
    "matches_final_df = matches_cleaned_df.drop([\"part_of_competition\", \"attendance\", \"date\"], axis=1)"
   ]
  },
  {
   "cell_type": "code",
   "execution_count": 184,
   "metadata": {
    "id": "JjOAVYi7wMwj"
   },
   "outputs": [
    {
     "name": "stdout",
     "output_type": "stream",
     "text": [
      "Correct! You earned 8/8 points. You are a star!\n",
      "\n",
      "Your submission has been successfully recorded in the gradebook.\n"
     ]
    }
   ],
   "source": [
    "# TEST CASE: matches_final_df (8pt)\n",
    "# [CIS 545 PennGrader Cell] - 8 points\n",
    "grader.grade(test_case_id = 'matches_final_df', answer = matches_final_df)"
   ]
  },
  {
   "cell_type": "markdown",
   "metadata": {
    "id": "MWqCThdhwQIX"
   },
   "source": [
    "###1.2.1 Compute the Top 3 Months with the Most Regular Season Games (4 points)\n",
    "\n",
    "In this section we will compute the total regular season games per month and get the top 3 months with the most games. Make sure to use `matches_final_df` in this section.\n",
    "\n",
    "\n",
    "**TODO: 1.2.1**\n",
    "*   Create a dataframe `month_matches` with only the columns `date_cleaned` and `is_regular_season`.\n",
    "* Create a new integer column called `month` using data in the `date_cleaned` column. This may cause a warning to be displayed, which is fine.\n",
    "* Get the total counts of **only regular season games** per month using `month_matches`. You can overwrite the `'is_regular_season'` column with these counts.\n",
    "*   Sort `month_matches` in descending order and keep the top 3 months with the most matches.\n",
    "\n",
    "Your final dataframe will only have two columns: `'month'` and `'is_regular_season'` (which stores the counts)\n",
    "\n"
   ]
  },
  {
   "cell_type": "code",
   "execution_count": 316,
   "metadata": {
    "id": "8V1z04u1wWw8"
   },
   "outputs": [
    {
     "name": "stderr",
     "output_type": "stream",
     "text": [
      "/Users/zhengyuting/anaconda3/lib/python3.7/site-packages/ipykernel_launcher.py:3: SettingWithCopyWarning: \n",
      "A value is trying to be set on a copy of a slice from a DataFrame.\n",
      "Try using .loc[row_indexer,col_indexer] = value instead\n",
      "\n",
      "See the caveats in the documentation: https://pandas.pydata.org/pandas-docs/stable/user_guide/indexing.html#returning-a-view-versus-a-copy\n",
      "  This is separate from the ipykernel package so we can avoid doing imports until\n"
     ]
    },
    {
     "data": {
      "text/html": [
       "<div>\n",
       "<style scoped>\n",
       "    .dataframe tbody tr th:only-of-type {\n",
       "        vertical-align: middle;\n",
       "    }\n",
       "\n",
       "    .dataframe tbody tr th {\n",
       "        vertical-align: top;\n",
       "    }\n",
       "\n",
       "    .dataframe thead th {\n",
       "        text-align: right;\n",
       "    }\n",
       "</style>\n",
       "<table border=\"1\" class=\"dataframe\">\n",
       "  <thead>\n",
       "    <tr style=\"text-align: right;\">\n",
       "      <th></th>\n",
       "      <th>month</th>\n",
       "      <th>is_regular_season</th>\n",
       "    </tr>\n",
       "  </thead>\n",
       "  <tbody>\n",
       "    <tr>\n",
       "      <th>0</th>\n",
       "      <td>7</td>\n",
       "      <td>333</td>\n",
       "    </tr>\n",
       "    <tr>\n",
       "      <th>1</th>\n",
       "      <td>4</td>\n",
       "      <td>332</td>\n",
       "    </tr>\n",
       "    <tr>\n",
       "      <th>2</th>\n",
       "      <td>9</td>\n",
       "      <td>321</td>\n",
       "    </tr>\n",
       "  </tbody>\n",
       "</table>\n",
       "</div>"
      ],
      "text/plain": [
       "   month  is_regular_season\n",
       "0      7                333\n",
       "1      4                332\n",
       "2      9                321"
      ]
     },
     "execution_count": 316,
     "metadata": {},
     "output_type": "execute_result"
    }
   ],
   "source": [
    "#TODO: Create month_matches\n",
    "month_matches = matches_final_df[[\"date_cleaned\", \"is_regular_season\"]]\n",
    "month_matches[\"month\"] = month_matches[\"date_cleaned\"].apply(lambda x: x.month)\n",
    "month_matches = month_matches.drop([\"date_cleaned\"], axis=1)\n",
    "month_matches = month_matches[month_matches[\"is_regular_season\"] == 1]\n",
    "month_matches = month_matches.groupby(\"month\").count().sort_values(\"is_regular_season\",ascending=False)[0:3]\n",
    "month_matches.reset_index(inplace=True)\n",
    "month_matches"
   ]
  },
  {
   "cell_type": "code",
   "execution_count": 317,
   "metadata": {
    "id": "24JgidQowY6z"
   },
   "outputs": [
    {
     "name": "stdout",
     "output_type": "stream",
     "text": [
      "Correct! You earned 4/4 points. You are a star!\n",
      "\n",
      "Your submission has been successfully recorded in the gradebook.\n"
     ]
    }
   ],
   "source": [
    "# TEST CASE: most_matches_df (4pt)\n",
    "# [CIS 545 PennGrader Cell] - 4 points\n",
    "grader.grade(test_case_id = 'most_matches_df', answer = month_matches)"
   ]
  },
  {
   "cell_type": "markdown",
   "metadata": {
    "id": "y_qT6KLiwcn6"
   },
   "source": [
    "###1.2.2 Compute Average Attendance by Venue (4 points)\n",
    "\n",
    "In this section we will compute the average attendance by venue. Use `matches_final_df` in this section.\n",
    "\n",
    "**TODO: 1.2.2**\n",
    "\n",
    "*   See the `groupby()` function. \n",
    "*   Create a dataframe `avg_attendance_df` with columns `venue` and `attendance_cleaned`, where `attendance_cleaned` is now the average attendance for a given venue.\n",
    "*   Round the values of `attendance_cleaned` to 2 decimal places to create new column `attendance`, and drop the previous column `attendance_cleaned`.\n",
    "*   Sort `avg_attendance_df` in descending order by `attendance` and keep the top 10 highest attendance rows."
   ]
  },
  {
   "cell_type": "code",
   "execution_count": 326,
   "metadata": {
    "id": "e4uWHAlWwhsw"
   },
   "outputs": [
    {
     "data": {
      "text/html": [
       "<div>\n",
       "<style scoped>\n",
       "    .dataframe tbody tr th:only-of-type {\n",
       "        vertical-align: middle;\n",
       "    }\n",
       "\n",
       "    .dataframe tbody tr th {\n",
       "        vertical-align: top;\n",
       "    }\n",
       "\n",
       "    .dataframe thead th {\n",
       "        text-align: right;\n",
       "    }\n",
       "</style>\n",
       "<table border=\"1\" class=\"dataframe\">\n",
       "  <thead>\n",
       "    <tr style=\"text-align: right;\">\n",
       "      <th></th>\n",
       "      <th>venue</th>\n",
       "      <th>attendance</th>\n",
       "    </tr>\n",
       "  </thead>\n",
       "  <tbody>\n",
       "    <tr>\n",
       "      <th>0</th>\n",
       "      <td>FedExField</td>\n",
       "      <td>53267.00</td>\n",
       "    </tr>\n",
       "    <tr>\n",
       "      <th>1</th>\n",
       "      <td>Mercedes-Benz Stadium</td>\n",
       "      <td>52120.65</td>\n",
       "    </tr>\n",
       "    <tr>\n",
       "      <th>2</th>\n",
       "      <td>Rose Bowl (Neutral Site)</td>\n",
       "      <td>51350.00</td>\n",
       "    </tr>\n",
       "    <tr>\n",
       "      <th>3</th>\n",
       "      <td>Stanford Stadium</td>\n",
       "      <td>50472.33</td>\n",
       "    </tr>\n",
       "    <tr>\n",
       "      <th>4</th>\n",
       "      <td>Levi's Stadium</td>\n",
       "      <td>48765.00</td>\n",
       "    </tr>\n",
       "    <tr>\n",
       "      <th>5</th>\n",
       "      <td>Bobby Dodd Stadium</td>\n",
       "      <td>46318.22</td>\n",
       "    </tr>\n",
       "    <tr>\n",
       "      <th>6</th>\n",
       "      <td>Mercedes-Benz Stadium, Atlanta, Georgia</td>\n",
       "      <td>45319.30</td>\n",
       "    </tr>\n",
       "    <tr>\n",
       "      <th>7</th>\n",
       "      <td>CenturyLink Field, Seattle</td>\n",
       "      <td>42533.42</td>\n",
       "    </tr>\n",
       "    <tr>\n",
       "      <th>8</th>\n",
       "      <td>Foxboro Stadium (Neutral Site)</td>\n",
       "      <td>39776.50</td>\n",
       "    </tr>\n",
       "    <tr>\n",
       "      <th>9</th>\n",
       "      <td>Robert F. Kennedy Memorial Stadium (Neutral Site)</td>\n",
       "      <td>39159.00</td>\n",
       "    </tr>\n",
       "  </tbody>\n",
       "</table>\n",
       "</div>"
      ],
      "text/plain": [
       "                                               venue  attendance\n",
       "0                                         FedExField    53267.00\n",
       "1                              Mercedes-Benz Stadium    52120.65\n",
       "2                           Rose Bowl (Neutral Site)    51350.00\n",
       "3                                   Stanford Stadium    50472.33\n",
       "4                                     Levi's Stadium    48765.00\n",
       "5                                 Bobby Dodd Stadium    46318.22\n",
       "6            Mercedes-Benz Stadium, Atlanta, Georgia    45319.30\n",
       "7                         CenturyLink Field, Seattle    42533.42\n",
       "8                     Foxboro Stadium (Neutral Site)    39776.50\n",
       "9  Robert F. Kennedy Memorial Stadium (Neutral Site)    39159.00"
      ]
     },
     "execution_count": 326,
     "metadata": {},
     "output_type": "execute_result"
    }
   ],
   "source": [
    "#TODO: Create avg_attendance_df\n",
    "avg_attendance_df = matches_final_df[[\"venue\", \"attendance_cleaned\"]]\n",
    "avg_attendance_df = avg_attendance_df.groupby(\"venue\").mean().round(2).sort_values([\"attendance_cleaned\"],ascending=False).rename(columns={\"attendance_cleaned\": \"attendance\"})[:10]\n",
    "avg_attendance_df.reset_index(inplace=True)\n",
    "avg_attendance_df"
   ]
  },
  {
   "cell_type": "code",
   "execution_count": 327,
   "metadata": {
    "id": "LhftIEwhseRK"
   },
   "outputs": [
    {
     "name": "stdout",
     "output_type": "stream",
     "text": [
      "Correct! You earned 4/4 points. You are a star!\n",
      "\n",
      "Your submission has been successfully recorded in the gradebook.\n"
     ]
    }
   ],
   "source": [
    "# TEST CASE: avg_attendance_df (4pt)\n",
    "# [CIS 545 PennGrader Cell] - 4 points\n",
    "grader.grade(test_case_id = 'avg_attendance_df', answer = avg_attendance_df)"
   ]
  },
  {
   "cell_type": "markdown",
   "metadata": {
    "id": "hF44QknSh9w6"
   },
   "source": [
    "###1.2.3 Compute difference in percentage of close games in Regular Season vs Non-Regular Season Games (4 points)\n",
    "Now, we will compute the difference between the number of close games in regular season vs non-regular season games. We consider a game to be a close game if the difference in number of goals scored between the winning and losing team is less than 2.\n",
    "\n",
    "**TODO: 1.2.3**\n",
    "\n",
    "* Create a dataframe `goal_difference_df` which contains columns `is_regular_season`, `home_score` and `away_score`. \n",
    "* Using a lambda function, add the column `goal_difference` that takes the absolute difference between the score values for home and away teams.\n",
    "* Create a new column `goal_difference_sub_2` that contains a 1 if the goal difference is less than 2 in a game, and 0 if not. This may cause a warning to be displayed, which is fine.\n",
    "* Create two new tables `regular_season_df` and `post_season_df` for regular season and post season data respectively based on the value of `is_regular_season`. \n",
    "* Find the percent of matches with that have a goal difference of less than 2 for each df through variables called `regular_season_percentage` and `post_season_percentage` respectively. Round these percentages to 4 decimal points."
   ]
  },
  {
   "cell_type": "code",
   "execution_count": 758,
   "metadata": {
    "id": "mCOH1AnhiN5p"
   },
   "outputs": [
    {
     "name": "stderr",
     "output_type": "stream",
     "text": [
      "/Users/zhengyuting/anaconda3/lib/python3.7/site-packages/ipykernel_launcher.py:3: SettingWithCopyWarning: \n",
      "A value is trying to be set on a copy of a slice from a DataFrame.\n",
      "Try using .loc[row_indexer,col_indexer] = value instead\n",
      "\n",
      "See the caveats in the documentation: https://pandas.pydata.org/pandas-docs/stable/user_guide/indexing.html#returning-a-view-versus-a-copy\n",
      "  This is separate from the ipykernel package so we can avoid doing imports until\n",
      "/Users/zhengyuting/anaconda3/lib/python3.7/site-packages/ipykernel_launcher.py:4: SettingWithCopyWarning: \n",
      "A value is trying to be set on a copy of a slice from a DataFrame.\n",
      "Try using .loc[row_indexer,col_indexer] = value instead\n",
      "\n",
      "See the caveats in the documentation: https://pandas.pydata.org/pandas-docs/stable/user_guide/indexing.html#returning-a-view-versus-a-copy\n",
      "  after removing the cwd from sys.path.\n"
     ]
    },
    {
     "data": {
      "text/html": [
       "<div>\n",
       "<style scoped>\n",
       "    .dataframe tbody tr th:only-of-type {\n",
       "        vertical-align: middle;\n",
       "    }\n",
       "\n",
       "    .dataframe tbody tr th {\n",
       "        vertical-align: top;\n",
       "    }\n",
       "\n",
       "    .dataframe thead th {\n",
       "        text-align: right;\n",
       "    }\n",
       "</style>\n",
       "<table border=\"1\" class=\"dataframe\">\n",
       "  <thead>\n",
       "    <tr style=\"text-align: right;\">\n",
       "      <th></th>\n",
       "      <th>is_regular_season</th>\n",
       "      <th>home_score</th>\n",
       "      <th>away_score</th>\n",
       "      <th>goal_difference</th>\n",
       "      <th>goal_difference_sub_2</th>\n",
       "    </tr>\n",
       "  </thead>\n",
       "  <tbody>\n",
       "    <tr>\n",
       "      <th>0</th>\n",
       "      <td>1</td>\n",
       "      <td>2</td>\n",
       "      <td>0</td>\n",
       "      <td>2</td>\n",
       "      <td>0</td>\n",
       "    </tr>\n",
       "    <tr>\n",
       "      <th>1</th>\n",
       "      <td>1</td>\n",
       "      <td>1</td>\n",
       "      <td>1</td>\n",
       "      <td>0</td>\n",
       "      <td>1</td>\n",
       "    </tr>\n",
       "    <tr>\n",
       "      <th>2</th>\n",
       "      <td>1</td>\n",
       "      <td>1</td>\n",
       "      <td>2</td>\n",
       "      <td>1</td>\n",
       "      <td>1</td>\n",
       "    </tr>\n",
       "    <tr>\n",
       "      <th>3</th>\n",
       "      <td>1</td>\n",
       "      <td>1</td>\n",
       "      <td>0</td>\n",
       "      <td>1</td>\n",
       "      <td>1</td>\n",
       "    </tr>\n",
       "    <tr>\n",
       "      <th>4</th>\n",
       "      <td>1</td>\n",
       "      <td>2</td>\n",
       "      <td>0</td>\n",
       "      <td>2</td>\n",
       "      <td>0</td>\n",
       "    </tr>\n",
       "    <tr>\n",
       "      <th>...</th>\n",
       "      <td>...</td>\n",
       "      <td>...</td>\n",
       "      <td>...</td>\n",
       "      <td>...</td>\n",
       "      <td>...</td>\n",
       "    </tr>\n",
       "    <tr>\n",
       "      <th>7284</th>\n",
       "      <td>1</td>\n",
       "      <td>1</td>\n",
       "      <td>0</td>\n",
       "      <td>1</td>\n",
       "      <td>1</td>\n",
       "    </tr>\n",
       "    <tr>\n",
       "      <th>7285</th>\n",
       "      <td>1</td>\n",
       "      <td>3</td>\n",
       "      <td>2</td>\n",
       "      <td>1</td>\n",
       "      <td>1</td>\n",
       "    </tr>\n",
       "    <tr>\n",
       "      <th>7286</th>\n",
       "      <td>1</td>\n",
       "      <td>2</td>\n",
       "      <td>0</td>\n",
       "      <td>2</td>\n",
       "      <td>0</td>\n",
       "    </tr>\n",
       "    <tr>\n",
       "      <th>7287</th>\n",
       "      <td>1</td>\n",
       "      <td>2</td>\n",
       "      <td>0</td>\n",
       "      <td>2</td>\n",
       "      <td>0</td>\n",
       "    </tr>\n",
       "    <tr>\n",
       "      <th>7288</th>\n",
       "      <td>1</td>\n",
       "      <td>1</td>\n",
       "      <td>1</td>\n",
       "      <td>0</td>\n",
       "      <td>1</td>\n",
       "    </tr>\n",
       "  </tbody>\n",
       "</table>\n",
       "<p>4873 rows × 5 columns</p>\n",
       "</div>"
      ],
      "text/plain": [
       "      is_regular_season  home_score  away_score  goal_difference  \\\n",
       "0                     1           2           0                2   \n",
       "1                     1           1           1                0   \n",
       "2                     1           1           2                1   \n",
       "3                     1           1           0                1   \n",
       "4                     1           2           0                2   \n",
       "...                 ...         ...         ...              ...   \n",
       "7284                  1           1           0                1   \n",
       "7285                  1           3           2                1   \n",
       "7286                  1           2           0                2   \n",
       "7287                  1           2           0                2   \n",
       "7288                  1           1           1                0   \n",
       "\n",
       "      goal_difference_sub_2  \n",
       "0                         0  \n",
       "1                         1  \n",
       "2                         1  \n",
       "3                         1  \n",
       "4                         0  \n",
       "...                     ...  \n",
       "7284                      1  \n",
       "7285                      1  \n",
       "7286                      0  \n",
       "7287                      0  \n",
       "7288                      1  \n",
       "\n",
       "[4873 rows x 5 columns]"
      ]
     },
     "execution_count": 758,
     "metadata": {},
     "output_type": "execute_result"
    }
   ],
   "source": [
    "#TODO: Find the percentages\n",
    "goal_difference_df = matches_final_df[[\"is_regular_season\",\"home_score\",\"away_score\"]]\n",
    "goal_difference_df[\"goal_difference\"] = goal_difference_df.apply(lambda x: abs(x[\"home_score\"] - x[\"away_score\"]), axis=1)\n",
    "goal_difference_df[\"goal_difference_sub_2\"] = goal_difference_df[\"goal_difference\"].apply(lambda x: 1 if x < 2 else 0)\n",
    "# regular_season_df = goal_difference_df[goal_difference_df[\"is_regular_season\"] == 1]\n",
    "# post_season_df = goal_difference_df[goal_difference_df[\"is_regular_season\"] == 0]\n",
    "# regular_season_percentage = round(regular_season_df[\"goal_difference_sub_2\"].sum()/regular_season_df.shape[0], 4)\n",
    "# post_season_percentage = round(post_season_df[\"goal_difference_sub_2\"].sum()/post_season_df.shape[0], 4)\n",
    "goal_difference_df"
   ]
  },
  {
   "cell_type": "code",
   "execution_count": 353,
   "metadata": {
    "id": "yozctvdsXeHT"
   },
   "outputs": [
    {
     "name": "stdout",
     "output_type": "stream",
     "text": [
      "(0.6351, 0.663)\n"
     ]
    }
   ],
   "source": [
    "print((regular_season_percentage, post_season_percentage))"
   ]
  },
  {
   "cell_type": "code",
   "execution_count": 354,
   "metadata": {
    "id": "CHqa3uwWxr_9"
   },
   "outputs": [
    {
     "name": "stdout",
     "output_type": "stream",
     "text": [
      "Correct! You earned 4/4 points. You are a star!\n",
      "\n",
      "Your submission has been successfully recorded in the gradebook.\n"
     ]
    }
   ],
   "source": [
    "# TEST CASE: goal_difference_percent (4pt)\n",
    "# [CIS 545 PennGrader Cell] - 4 points\n",
    "grader.grade(test_case_id = 'goal_difference_percent', answer = (regular_season_percentage, post_season_percentage))"
   ]
  },
  {
   "cell_type": "markdown",
   "metadata": {
    "id": "XQT7e3iI6jkb"
   },
   "source": [
    "##1.3 Cleaning up Tables Data (4 points)\n",
    "\n",
    "We now need to clean up the Tables Data. Let's follow a similar procedure as before in order to drop nulls and unnecessary columns\n",
    "\n",
    "<br>\n",
    "\n",
    "#### **TODO: 1.3**\n",
    "\n",
    "- Keep only the following columns:\n",
    " `Pos`, `Club_Name`, `GP`, `W`, `L`, `GF`, `GA`, `Pts`, `Year`, `Conference`.\n",
    "- Drop rows that have nulls (e.g. NaN) in them.\n",
    "- Remove non-numeric characters from `Pts` then convert the its type to int (**Hint**: Look at the [re.sub](https://docs.python.org/3/library/re.html) module).\n",
    "- Save the result to `tables_cleaned_df`."
   ]
  },
  {
   "cell_type": "code",
   "execution_count": 376,
   "metadata": {
    "id": "XIxel-1ca8ov"
   },
   "outputs": [
    {
     "data": {
      "text/html": [
       "<div>\n",
       "<style scoped>\n",
       "    .dataframe tbody tr th:only-of-type {\n",
       "        vertical-align: middle;\n",
       "    }\n",
       "\n",
       "    .dataframe tbody tr th {\n",
       "        vertical-align: top;\n",
       "    }\n",
       "\n",
       "    .dataframe thead th {\n",
       "        text-align: right;\n",
       "    }\n",
       "</style>\n",
       "<table border=\"1\" class=\"dataframe\">\n",
       "  <thead>\n",
       "    <tr style=\"text-align: right;\">\n",
       "      <th></th>\n",
       "      <th>Pos</th>\n",
       "      <th>Club_Name</th>\n",
       "      <th>GP</th>\n",
       "      <th>W</th>\n",
       "      <th>L</th>\n",
       "      <th>GF</th>\n",
       "      <th>GA</th>\n",
       "      <th>Pts</th>\n",
       "      <th>Year</th>\n",
       "      <th>Conference</th>\n",
       "    </tr>\n",
       "  </thead>\n",
       "  <tbody>\n",
       "    <tr>\n",
       "      <th>0</th>\n",
       "      <td>2.0</td>\n",
       "      <td>D.C. United</td>\n",
       "      <td>32</td>\n",
       "      <td>15</td>\n",
       "      <td>16</td>\n",
       "      <td>62</td>\n",
       "      <td>56</td>\n",
       "      <td>46</td>\n",
       "      <td>1996</td>\n",
       "      <td>Eastern Conference</td>\n",
       "    </tr>\n",
       "    <tr>\n",
       "      <th>1</th>\n",
       "      <td>4.0</td>\n",
       "      <td>Columbus Crew</td>\n",
       "      <td>32</td>\n",
       "      <td>11</td>\n",
       "      <td>17</td>\n",
       "      <td>59</td>\n",
       "      <td>60</td>\n",
       "      <td>37</td>\n",
       "      <td>1996</td>\n",
       "      <td>Eastern Conference</td>\n",
       "    </tr>\n",
       "    <tr>\n",
       "      <th>2</th>\n",
       "      <td>5.0</td>\n",
       "      <td>New England Revolution</td>\n",
       "      <td>32</td>\n",
       "      <td>9</td>\n",
       "      <td>17</td>\n",
       "      <td>43</td>\n",
       "      <td>56</td>\n",
       "      <td>33</td>\n",
       "      <td>1996</td>\n",
       "      <td>Eastern Conference</td>\n",
       "    </tr>\n",
       "    <tr>\n",
       "      <th>3</th>\n",
       "      <td>5.0</td>\n",
       "      <td>Colorado Rapids</td>\n",
       "      <td>32</td>\n",
       "      <td>9</td>\n",
       "      <td>21</td>\n",
       "      <td>44</td>\n",
       "      <td>59</td>\n",
       "      <td>29</td>\n",
       "      <td>1996</td>\n",
       "      <td>Western Conference</td>\n",
       "    </tr>\n",
       "    <tr>\n",
       "      <th>4</th>\n",
       "      <td>8.0</td>\n",
       "      <td>Columbus Crew</td>\n",
       "      <td>32</td>\n",
       "      <td>11</td>\n",
       "      <td>17</td>\n",
       "      <td>59</td>\n",
       "      <td>60</td>\n",
       "      <td>37</td>\n",
       "      <td>1996</td>\n",
       "      <td>Overall</td>\n",
       "    </tr>\n",
       "    <tr>\n",
       "      <th>...</th>\n",
       "      <td>...</td>\n",
       "      <td>...</td>\n",
       "      <td>...</td>\n",
       "      <td>...</td>\n",
       "      <td>...</td>\n",
       "      <td>...</td>\n",
       "      <td>...</td>\n",
       "      <td>...</td>\n",
       "      <td>...</td>\n",
       "      <td>...</td>\n",
       "    </tr>\n",
       "    <tr>\n",
       "      <th>557</th>\n",
       "      <td>23.0</td>\n",
       "      <td>Minnesota United FC</td>\n",
       "      <td>7</td>\n",
       "      <td>2</td>\n",
       "      <td>4</td>\n",
       "      <td>6</td>\n",
       "      <td>11</td>\n",
       "      <td>7</td>\n",
       "      <td>2021</td>\n",
       "      <td>Overall</td>\n",
       "    </tr>\n",
       "    <tr>\n",
       "      <th>558</th>\n",
       "      <td>24.0</td>\n",
       "      <td>FC Dallas</td>\n",
       "      <td>7</td>\n",
       "      <td>1</td>\n",
       "      <td>3</td>\n",
       "      <td>8</td>\n",
       "      <td>11</td>\n",
       "      <td>6</td>\n",
       "      <td>2021</td>\n",
       "      <td>Overall</td>\n",
       "    </tr>\n",
       "    <tr>\n",
       "      <th>559</th>\n",
       "      <td>25.0</td>\n",
       "      <td>Toronto FC</td>\n",
       "      <td>7</td>\n",
       "      <td>1</td>\n",
       "      <td>4</td>\n",
       "      <td>8</td>\n",
       "      <td>12</td>\n",
       "      <td>5</td>\n",
       "      <td>2021</td>\n",
       "      <td>Overall</td>\n",
       "    </tr>\n",
       "    <tr>\n",
       "      <th>560</th>\n",
       "      <td>26.0</td>\n",
       "      <td>Chicago Fire FC</td>\n",
       "      <td>7</td>\n",
       "      <td>1</td>\n",
       "      <td>5</td>\n",
       "      <td>4</td>\n",
       "      <td>11</td>\n",
       "      <td>4</td>\n",
       "      <td>2021</td>\n",
       "      <td>Overall</td>\n",
       "    </tr>\n",
       "    <tr>\n",
       "      <th>561</th>\n",
       "      <td>27.0</td>\n",
       "      <td>FC Cincinnati</td>\n",
       "      <td>6</td>\n",
       "      <td>1</td>\n",
       "      <td>4</td>\n",
       "      <td>6</td>\n",
       "      <td>15</td>\n",
       "      <td>4</td>\n",
       "      <td>2021</td>\n",
       "      <td>Overall</td>\n",
       "    </tr>\n",
       "  </tbody>\n",
       "</table>\n",
       "<p>552 rows × 10 columns</p>\n",
       "</div>"
      ],
      "text/plain": [
       "      Pos               Club_Name  GP   W   L  GF  GA  Pts  Year  \\\n",
       "0     2.0             D.C. United  32  15  16  62  56   46  1996   \n",
       "1     4.0           Columbus Crew  32  11  17  59  60   37  1996   \n",
       "2     5.0  New England Revolution  32   9  17  43  56   33  1996   \n",
       "3     5.0         Colorado Rapids  32   9  21  44  59   29  1996   \n",
       "4     8.0           Columbus Crew  32  11  17  59  60   37  1996   \n",
       "..    ...                     ...  ..  ..  ..  ..  ..  ...   ...   \n",
       "557  23.0     Minnesota United FC   7   2   4   6  11    7  2021   \n",
       "558  24.0               FC Dallas   7   1   3   8  11    6  2021   \n",
       "559  25.0              Toronto FC   7   1   4   8  12    5  2021   \n",
       "560  26.0         Chicago Fire FC   7   1   5   4  11    4  2021   \n",
       "561  27.0           FC Cincinnati   6   1   4   6  15    4  2021   \n",
       "\n",
       "             Conference  \n",
       "0    Eastern Conference  \n",
       "1    Eastern Conference  \n",
       "2    Eastern Conference  \n",
       "3    Western Conference  \n",
       "4               Overall  \n",
       "..                  ...  \n",
       "557             Overall  \n",
       "558             Overall  \n",
       "559             Overall  \n",
       "560             Overall  \n",
       "561             Overall  \n",
       "\n",
       "[552 rows x 10 columns]"
      ]
     },
     "execution_count": 376,
     "metadata": {},
     "output_type": "execute_result"
    }
   ],
   "source": [
    "#TODO: Create tables_cleaned_df\n",
    "tables_cleaned_df = tables_df[[\"Pos\",\"Club_Name\",\"GP\",\"W\",\"L\",\"GF\",\"GA\",\"Pts\",\"Year\",\"Conference\"]]\n",
    "tables_cleaned_df = tables_cleaned_df.dropna()\n",
    "tables_cleaned_df[\"Pts\"] = tables_cleaned_df[\"Pts\"].apply(lambda x: re.sub(\"\\D*\", \"\", x)).astype(int)\n",
    "tables_cleaned_df"
   ]
  },
  {
   "cell_type": "code",
   "execution_count": 373,
   "metadata": {
    "id": "jfosZzvBmXbt"
   },
   "outputs": [
    {
     "name": "stdout",
     "output_type": "stream",
     "text": [
      "Correct! You earned 4/4 points. You are a star!\n",
      "\n",
      "Your submission has been successfully recorded in the gradebook.\n"
     ]
    }
   ],
   "source": [
    "# TEST CASE: tables_cleaned_df (4pt)\n",
    "# [CIS 545 PennGrader Cell] - 4 points\n",
    "grader.grade(test_case_id = 'tables_cleaned_df', answer = tables_cleaned_df)"
   ]
  },
  {
   "cell_type": "markdown",
   "metadata": {
    "id": "ZY3XdysxwkHW"
   },
   "source": [
    "##1.4 Decade with most 50-point club teams (4 points) \n",
    "We are interested in the decade with the highest number of teams part of the '50-point club', meaning that a team scored 50+ points in the regular season.\n",
    "\n",
    "#### **TODO: 1.4**\n",
    "\n",
    "- Using `tables_cleaned_df`, create a table `points_df` that contains only the year and points totals (`Pts`), and filter for 50-point seasons.\n",
    "- Add a column to `points_df` called `Decade` that is the integer decade of the game. **Hint**: To make your code more readable, consider writing a helper function (defined here as `decade_helper`) to return the decade and then calling this function with your lambda function. Note that the possible decades are 1990, 2000 or 2010.\n",
    "- Count all the teams with 50-point seasons by decade using a groupby with count.\n",
    "- Create a df called `fifty_club_df` with the columns `Decade` and `Count`, where `Decade` is the first year of each decade. \n",
    "- Return `fifty_club_df` in order of most number of teams in the 50-point club. \n"
   ]
  },
  {
   "cell_type": "code",
   "execution_count": 377,
   "metadata": {
    "id": "Hd5PI9Mdr97Y"
   },
   "outputs": [],
   "source": [
    "def decade_helper(x):\n",
    "    if (x < 2000): return 1990\n",
    "    elif (x < 2010): return 2000\n",
    "    return 2010"
   ]
  },
  {
   "cell_type": "code",
   "execution_count": 403,
   "metadata": {
    "id": "rAmJTID2Acq6"
   },
   "outputs": [],
   "source": [
    "points_df = tables_cleaned_df[[\"Year\", \"Pts\"]]\n",
    "points_df = points_df[points_df[\"Pts\"] >= 50]\n",
    "points_df[\"Decade\"] = points_df[\"Year\"].apply(decade_helper)"
   ]
  },
  {
   "cell_type": "code",
   "execution_count": 401,
   "metadata": {
    "id": "fGGdzcK9roqW"
   },
   "outputs": [
    {
     "data": {
      "text/html": [
       "<div>\n",
       "<style scoped>\n",
       "    .dataframe tbody tr th:only-of-type {\n",
       "        vertical-align: middle;\n",
       "    }\n",
       "\n",
       "    .dataframe tbody tr th {\n",
       "        vertical-align: top;\n",
       "    }\n",
       "\n",
       "    .dataframe thead th {\n",
       "        text-align: right;\n",
       "    }\n",
       "</style>\n",
       "<table border=\"1\" class=\"dataframe\">\n",
       "  <thead>\n",
       "    <tr style=\"text-align: right;\">\n",
       "      <th></th>\n",
       "      <th>Decade</th>\n",
       "      <th>Year</th>\n",
       "      <th>Count</th>\n",
       "    </tr>\n",
       "  </thead>\n",
       "  <tbody>\n",
       "    <tr>\n",
       "      <th>0</th>\n",
       "      <td>2010</td>\n",
       "      <td>134</td>\n",
       "      <td>134</td>\n",
       "    </tr>\n",
       "    <tr>\n",
       "      <th>1</th>\n",
       "      <td>2000</td>\n",
       "      <td>14</td>\n",
       "      <td>14</td>\n",
       "    </tr>\n",
       "    <tr>\n",
       "      <th>2</th>\n",
       "      <td>1990</td>\n",
       "      <td>1</td>\n",
       "      <td>1</td>\n",
       "    </tr>\n",
       "  </tbody>\n",
       "</table>\n",
       "</div>"
      ],
      "text/plain": [
       "   Decade  Year  Count\n",
       "0    2010   134    134\n",
       "1    2000    14     14\n",
       "2    1990     1      1"
      ]
     },
     "execution_count": 401,
     "metadata": {},
     "output_type": "execute_result"
    }
   ],
   "source": [
    "fifty_club_df = points_df.groupby(\"Decade\").count().sort_values([\"Pts\"],ascending=False)\n",
    "fifty_club_df.reset_index(inplace=True)\n",
    "fifty_club_df = fifty_club_df.rename({\"Pts\": \"Count\"}, axis=1)\n",
    "fifty_club_df"
   ]
  },
  {
   "cell_type": "code",
   "execution_count": 402,
   "metadata": {
    "id": "dFbQfjD7v0XL"
   },
   "outputs": [
    {
     "name": "stdout",
     "output_type": "stream",
     "text": [
      "Correct! You earned 4/4 points. You are a star!\n",
      "\n",
      "Your submission has been successfully recorded in the gradebook.\n"
     ]
    }
   ],
   "source": [
    "# TEST CASE: fifty_club_df (4pt)\n",
    "# [CIS 545 PennGrader Cell] - 4 points\n",
    "grader.grade(test_case_id = 'fifty_club_df', answer = fifty_club_df)"
   ]
  },
  {
   "cell_type": "markdown",
   "metadata": {
    "id": "WoNXrAuMcEPS"
   },
   "source": [
    "##1.5 Cleaning up Players & Goalkeepers Data (6 points)\n",
    "\n",
    "We now need to clean up the Players Data. Let's follow a similar procedure as before in order to drop nulls and unnecessary columns.\n",
    "\n",
    "<br>\n",
    "\n",
    "#### **TODO: 1.5**\n",
    "\n",
    "- Keep only the following columns from `players_df`:\n",
    " `Player`, `POS`, `GP`, `GS`, `MINS`, `Year`, `Season`, `Club_Name`, `G`, `A`.\n",
    "- Keep only the following columns from `goalkeepers_df`:\n",
    " `Player`, `POS`, `GP`, `GS`, `MINS`, `Year`, `Season`, `Club_Name`.\n",
    "- In `goalkeepers_df`, create columns `G` and `A`, all of whose rows have a value of 0.\n",
    "- Concatenate the two tables together (see [pd.concat](https://pandas.pydata.org/docs/reference/api/pandas.concat.html)). You can ignore any warnings.\n",
    "- Drop rows that have nulls (e.g. NaN) in them.\n",
    "- Save the result to `players_cleaned_df`."
   ]
  },
  {
   "cell_type": "code",
   "execution_count": 405,
   "metadata": {
    "id": "YCsoBb-acEPS"
   },
   "outputs": [],
   "source": [
    "#TODO: Create players_df\n",
    "players_df = players_df[[\"Player\", \"POS\", \"GP\", \"GS\", \"MINS\", \"Year\", \"Season\", \"Club_Name\", \"G\", \"A\"]]"
   ]
  },
  {
   "cell_type": "code",
   "execution_count": 409,
   "metadata": {
    "id": "BKevH8Q2dMEc"
   },
   "outputs": [],
   "source": [
    "#TODO: Create goalkeepers_df\n",
    "goalkeepers_df = goalkeepers_df[[\"Player\", \"POS\", \"GP\", \"GS\", \"MINS\", \"Year\", \"Season\", \"Club_Name\"]]\n",
    "goalkeepers_df[\"G\"] = 0\n",
    "goalkeepers_df[\"A\"] = 0"
   ]
  },
  {
   "cell_type": "code",
   "execution_count": 410,
   "metadata": {
    "id": "Ukvzt67IdtW2"
   },
   "outputs": [],
   "source": [
    "#TODO: Create players_cleaned_df\n",
    "players_cleaned_df = pd.concat([players_df, goalkeepers_df]).dropna()"
   ]
  },
  {
   "cell_type": "code",
   "execution_count": 413,
   "metadata": {
    "id": "ImxeqyfCcEPU"
   },
   "outputs": [
    {
     "name": "stdout",
     "output_type": "stream",
     "text": [
      "Correct! You earned 6/6 points. You are a star!\n",
      "\n",
      "Your submission has been successfully recorded in the gradebook.\n"
     ]
    },
    {
     "data": {
      "text/html": [
       "<div>\n",
       "<style scoped>\n",
       "    .dataframe tbody tr th:only-of-type {\n",
       "        vertical-align: middle;\n",
       "    }\n",
       "\n",
       "    .dataframe tbody tr th {\n",
       "        vertical-align: top;\n",
       "    }\n",
       "\n",
       "    .dataframe thead th {\n",
       "        text-align: right;\n",
       "    }\n",
       "</style>\n",
       "<table border=\"1\" class=\"dataframe\">\n",
       "  <thead>\n",
       "    <tr style=\"text-align: right;\">\n",
       "      <th></th>\n",
       "      <th>Player</th>\n",
       "      <th>POS</th>\n",
       "      <th>GP</th>\n",
       "      <th>GS</th>\n",
       "      <th>MINS</th>\n",
       "      <th>Year</th>\n",
       "      <th>Season</th>\n",
       "      <th>Club_Name</th>\n",
       "      <th>G</th>\n",
       "      <th>A</th>\n",
       "    </tr>\n",
       "  </thead>\n",
       "  <tbody>\n",
       "    <tr>\n",
       "      <th>1</th>\n",
       "      <td>Raul Diaz Arce</td>\n",
       "      <td>F</td>\n",
       "      <td>28</td>\n",
       "      <td>28</td>\n",
       "      <td>2351</td>\n",
       "      <td>1996</td>\n",
       "      <td>reg</td>\n",
       "      <td>DC United</td>\n",
       "      <td>23</td>\n",
       "      <td>2</td>\n",
       "    </tr>\n",
       "    <tr>\n",
       "      <th>2</th>\n",
       "      <td>Eduardo Hurtado</td>\n",
       "      <td>F</td>\n",
       "      <td>26</td>\n",
       "      <td>26</td>\n",
       "      <td>2323</td>\n",
       "      <td>1996</td>\n",
       "      <td>reg</td>\n",
       "      <td>LA Galaxy</td>\n",
       "      <td>21</td>\n",
       "      <td>7</td>\n",
       "    </tr>\n",
       "    <tr>\n",
       "      <th>4</th>\n",
       "      <td>Brian McBride</td>\n",
       "      <td>F</td>\n",
       "      <td>28</td>\n",
       "      <td>28</td>\n",
       "      <td>2307</td>\n",
       "      <td>1996</td>\n",
       "      <td>reg</td>\n",
       "      <td>Columbus Crew SC</td>\n",
       "      <td>17</td>\n",
       "      <td>3</td>\n",
       "    </tr>\n",
       "    <tr>\n",
       "      <th>5</th>\n",
       "      <td>Steve Rammel</td>\n",
       "      <td>F</td>\n",
       "      <td>26</td>\n",
       "      <td>20</td>\n",
       "      <td>1649</td>\n",
       "      <td>1996</td>\n",
       "      <td>reg</td>\n",
       "      <td>DC United</td>\n",
       "      <td>14</td>\n",
       "      <td>3</td>\n",
       "    </tr>\n",
       "    <tr>\n",
       "      <th>7</th>\n",
       "      <td>Paul Bravo</td>\n",
       "      <td>M</td>\n",
       "      <td>31</td>\n",
       "      <td>31</td>\n",
       "      <td>2654</td>\n",
       "      <td>1996</td>\n",
       "      <td>reg</td>\n",
       "      <td>San Jose Earthquakes</td>\n",
       "      <td>13</td>\n",
       "      <td>5</td>\n",
       "    </tr>\n",
       "    <tr>\n",
       "      <th>...</th>\n",
       "      <td>...</td>\n",
       "      <td>...</td>\n",
       "      <td>...</td>\n",
       "      <td>...</td>\n",
       "      <td>...</td>\n",
       "      <td>...</td>\n",
       "      <td>...</td>\n",
       "      <td>...</td>\n",
       "      <td>...</td>\n",
       "      <td>...</td>\n",
       "    </tr>\n",
       "    <tr>\n",
       "      <th>1940</th>\n",
       "      <td>Emmanuel Ochoa</td>\n",
       "      <td>GK</td>\n",
       "      <td>0</td>\n",
       "      <td>0</td>\n",
       "      <td>0</td>\n",
       "      <td>2020</td>\n",
       "      <td>reg</td>\n",
       "      <td>San Jose Earthquakes</td>\n",
       "      <td>0</td>\n",
       "      <td>0</td>\n",
       "    </tr>\n",
       "    <tr>\n",
       "      <th>1941</th>\n",
       "      <td>Drake Callender</td>\n",
       "      <td>GK</td>\n",
       "      <td>0</td>\n",
       "      <td>0</td>\n",
       "      <td>0</td>\n",
       "      <td>2020</td>\n",
       "      <td>reg</td>\n",
       "      <td>Inter Miami CF</td>\n",
       "      <td>0</td>\n",
       "      <td>0</td>\n",
       "    </tr>\n",
       "    <tr>\n",
       "      <th>1942</th>\n",
       "      <td>Elliot Panicco</td>\n",
       "      <td>GK</td>\n",
       "      <td>0</td>\n",
       "      <td>0</td>\n",
       "      <td>0</td>\n",
       "      <td>2020</td>\n",
       "      <td>reg</td>\n",
       "      <td>Nashville SC</td>\n",
       "      <td>0</td>\n",
       "      <td>0</td>\n",
       "    </tr>\n",
       "    <tr>\n",
       "      <th>1943</th>\n",
       "      <td>Eric Dick</td>\n",
       "      <td>GK</td>\n",
       "      <td>0</td>\n",
       "      <td>0</td>\n",
       "      <td>0</td>\n",
       "      <td>2020</td>\n",
       "      <td>reg</td>\n",
       "      <td>Sporting Kansas City</td>\n",
       "      <td>0</td>\n",
       "      <td>0</td>\n",
       "    </tr>\n",
       "    <tr>\n",
       "      <th>1944</th>\n",
       "      <td>Stefan Cleveland</td>\n",
       "      <td>GK</td>\n",
       "      <td>0</td>\n",
       "      <td>0</td>\n",
       "      <td>0</td>\n",
       "      <td>2020</td>\n",
       "      <td>reg</td>\n",
       "      <td>Seattle Sounders FC</td>\n",
       "      <td>0</td>\n",
       "      <td>0</td>\n",
       "    </tr>\n",
       "  </tbody>\n",
       "</table>\n",
       "<p>10769 rows × 10 columns</p>\n",
       "</div>"
      ],
      "text/plain": [
       "                Player POS  GP  GS  MINS  Year Season             Club_Name  \\\n",
       "1       Raul Diaz Arce   F  28  28  2351  1996    reg             DC United   \n",
       "2      Eduardo Hurtado   F  26  26  2323  1996    reg             LA Galaxy   \n",
       "4        Brian McBride   F  28  28  2307  1996    reg      Columbus Crew SC   \n",
       "5         Steve Rammel   F  26  20  1649  1996    reg             DC United   \n",
       "7           Paul Bravo   M  31  31  2654  1996    reg  San Jose Earthquakes   \n",
       "...                ...  ..  ..  ..   ...   ...    ...                   ...   \n",
       "1940    Emmanuel Ochoa  GK   0   0     0  2020    reg  San Jose Earthquakes   \n",
       "1941   Drake Callender  GK   0   0     0  2020    reg        Inter Miami CF   \n",
       "1942    Elliot Panicco  GK   0   0     0  2020    reg          Nashville SC   \n",
       "1943         Eric Dick  GK   0   0     0  2020    reg  Sporting Kansas City   \n",
       "1944  Stefan Cleveland  GK   0   0     0  2020    reg   Seattle Sounders FC   \n",
       "\n",
       "       G  A  \n",
       "1     23  2  \n",
       "2     21  7  \n",
       "4     17  3  \n",
       "5     14  3  \n",
       "7     13  5  \n",
       "...   .. ..  \n",
       "1940   0  0  \n",
       "1941   0  0  \n",
       "1942   0  0  \n",
       "1943   0  0  \n",
       "1944   0  0  \n",
       "\n",
       "[10769 rows x 10 columns]"
      ]
     },
     "execution_count": 413,
     "metadata": {},
     "output_type": "execute_result"
    }
   ],
   "source": [
    "# TEST CASE: players_cleaned_df (6pt)\n",
    "# [CIS 545 PennGrader Cell] - 6 points\n",
    "grader.grade(test_case_id = 'players_cleaned_df', answer = players_cleaned_df)\n",
    "players_cleaned_df"
   ]
  },
  {
   "cell_type": "markdown",
   "metadata": {
    "id": "0STRnUwerhji"
   },
   "source": [
    "##1.6 Number of Players per Club (4 points)\n",
    "\n",
    "We are interested in finding the number of players per club over the history of the MLS. Remember to use the `players_cleaned_df`\n",
    "\n",
    "<br>\n",
    "\n",
    "#### **TODO: 1.6**\n",
    "\n",
    "- See `groupby()` function to group players by their clubs.\n",
    "- Create a table `players_count_df` that contains the columns `Club_Name` and `Count`, where `Count` is the number of players per club.\n",
    "- Sort `players_count_df` in descending order by `Count`, and return the top 10 rows in the resulting dataframe."
   ]
  },
  {
   "cell_type": "code",
   "execution_count": 436,
   "metadata": {
    "id": "Mpzi6eIHyozQ"
   },
   "outputs": [],
   "source": [
    "#TODO: Create players_count_df\n",
    "players_count_df = players_cleaned_df[[\"Club_Name\",\"Player\"]].groupby(\"Club_Name\").count()\n",
    "players_count_df.reset_index(inplace=True)\n",
    "players_count_df = players_count_df.rename(columns={\"Player\":\"Count\"}).sort_values([\"Count\"], ascending=False)[:10]"
   ]
  },
  {
   "cell_type": "code",
   "execution_count": 437,
   "metadata": {
    "id": "F2d4RJj7vp0A"
   },
   "outputs": [
    {
     "name": "stdout",
     "output_type": "stream",
     "text": [
      "Correct! You earned 4/4 points. You are a star!\n",
      "\n",
      "Your submission has been successfully recorded in the gradebook.\n"
     ]
    }
   ],
   "source": [
    "# TEST CASE: players_count_df (4pt)\n",
    "# [CIS 545 PennGrader Cell] - 4 points\n",
    "grader.grade(test_case_id = 'players_count_df', answer = players_count_df)"
   ]
  },
  {
   "cell_type": "markdown",
   "metadata": {
    "id": "jkoazKrGz-eP"
   },
   "source": [
    "# Part 2: Combining the data [38 points]\n",
    "\n",
    "When you become a full time data scientist, a lot of times, data will be spread out across multiple files/tables. The way to combine these tables is through join/merge operations. If you're familiar with SQL, this will be very familiar to you. If not, don't worry. I believe in you!\n",
    "\n",
    "To start, here's a nice diagram which shows you the different types of joins\n",
    "\n",
    "\n",
    "<p align = \"center\">\n",
    "<img src = \"https://i.stack.imgur.com/hMKKt.jpg\" width= \"600\" align =\"center\"/>\n",
    "</p>\n",
    "\n",
    "A clarifying point: The two venn diagrams with the \"(if Null)\" are also called Left Outer Join and Right Outer Join"
   ]
  },
  {
   "cell_type": "markdown",
   "metadata": {
    "id": "y4N4ZmhxWC95"
   },
   "source": [
    "##2.1 Metrics on Soccer Venues\n",
    "\n"
   ]
  },
  {
   "cell_type": "markdown",
   "metadata": {
    "id": "QoaSpnGvWTID"
   },
   "source": [
    "#### 2.1.1 Venues that begin with the Letter S (4 points)\n",
    "\n",
    "We are interested in the attendance metrics of venues that begin with the letter 'S'.\n",
    "\n",
    "<br>\n",
    "\n",
    "##### TODO: 2.1.1\n",
    "\n",
    "- Using `matches_cleaned_df`, create an new dataframe `s_intermediate_df` that only contains venues that begin with the capital letter `S` (no need to check for `s`).\n",
    "- Add a column to `s_intermediate_df` called `count` that is a 1 if the attendance of the match at the venue is >= 10000.\n",
    "- Return a dataframe called `s_venues_df` counting the number of matches whose attendance is greater than 10000 in each venue. There should be two columns: `venue` and `count`. Return this df in sorted order by count in descending order and then venue in ascending order.  "
   ]
  },
  {
   "cell_type": "code",
   "execution_count": 458,
   "metadata": {},
   "outputs": [
    {
     "data": {
      "text/plain": [
       "0       12871\n",
       "1        9704\n",
       "2        6368\n",
       "3       10251\n",
       "4       18347\n",
       "        ...  \n",
       "7284    13601\n",
       "7285    12274\n",
       "7286    19718\n",
       "7287    17975\n",
       "7288    16833\n",
       "Name: attendance_cleaned, Length: 4873, dtype: int64"
      ]
     },
     "execution_count": 458,
     "metadata": {},
     "output_type": "execute_result"
    }
   ],
   "source": [
    "# matches_cleaned_df.dtypes\n",
    "matches_cleaned_df[\"attendance_cleaned\"]"
   ]
  },
  {
   "cell_type": "code",
   "execution_count": 467,
   "metadata": {
    "id": "NqiN9L3tK4gd"
   },
   "outputs": [],
   "source": [
    "# Create a dataframe that contains only venues that begin with S\n",
    "# matches_cleaned_df[\"attendance_cleaned\"]\n",
    "s_intermediate_df = matches_cleaned_df[matches_cleaned_df[\"venue\"].apply(lambda x: x.startswith(\"S\"))]\n",
    "s_intermediate_df = s_intermediate_df[s_intermediate_df[\"attendance_cleaned\"] >= 10000]\n",
    "# Create a dataframe that contains the number of matches for each venue with has with attendance more than 10000\n",
    "s_venues_df = s_intermediate_df[[\"venue\",\"attendance\"]].groupby(\"venue\").count().sort_values([\"attendance\"],ascending=False).rename({\"attendance\":\"count\"},axis=1)\n",
    "s_venues_df.reset_index(inplace=True)"
   ]
  },
  {
   "cell_type": "code",
   "execution_count": 468,
   "metadata": {
    "id": "CwPUpiw_vovn"
   },
   "outputs": [
    {
     "data": {
      "text/html": [
       "<div>\n",
       "<style scoped>\n",
       "    .dataframe tbody tr th:only-of-type {\n",
       "        vertical-align: middle;\n",
       "    }\n",
       "\n",
       "    .dataframe tbody tr th {\n",
       "        vertical-align: top;\n",
       "    }\n",
       "\n",
       "    .dataframe thead th {\n",
       "        text-align: right;\n",
       "    }\n",
       "</style>\n",
       "<table border=\"1\" class=\"dataframe\">\n",
       "  <thead>\n",
       "    <tr style=\"text-align: right;\">\n",
       "      <th></th>\n",
       "      <th>venue</th>\n",
       "      <th>count</th>\n",
       "    </tr>\n",
       "  </thead>\n",
       "  <tbody>\n",
       "    <tr>\n",
       "      <th>0</th>\n",
       "      <td>SeatGeek Stadium</td>\n",
       "      <td>166</td>\n",
       "    </tr>\n",
       "    <tr>\n",
       "      <th>1</th>\n",
       "      <td>Subaru Park, Philadelphia</td>\n",
       "      <td>137</td>\n",
       "    </tr>\n",
       "    <tr>\n",
       "      <th>2</th>\n",
       "      <td>Stade Saputo</td>\n",
       "      <td>124</td>\n",
       "    </tr>\n",
       "    <tr>\n",
       "      <th>3</th>\n",
       "      <td>Soldier Field</td>\n",
       "      <td>31</td>\n",
       "    </tr>\n",
       "    <tr>\n",
       "      <th>4</th>\n",
       "      <td>StubHub Center</td>\n",
       "      <td>31</td>\n",
       "    </tr>\n",
       "    <tr>\n",
       "      <th>5</th>\n",
       "      <td>Subaru Park, Chester</td>\n",
       "      <td>23</td>\n",
       "    </tr>\n",
       "    <tr>\n",
       "      <th>6</th>\n",
       "      <td>Soldier Field, Chicago</td>\n",
       "      <td>17</td>\n",
       "    </tr>\n",
       "    <tr>\n",
       "      <th>7</th>\n",
       "      <td>Stade Olympique</td>\n",
       "      <td>17</td>\n",
       "    </tr>\n",
       "    <tr>\n",
       "      <th>8</th>\n",
       "      <td>Stade Saputo, Montreal</td>\n",
       "      <td>10</td>\n",
       "    </tr>\n",
       "    <tr>\n",
       "      <th>9</th>\n",
       "      <td>Stanford Stadium</td>\n",
       "      <td>6</td>\n",
       "    </tr>\n",
       "    <tr>\n",
       "      <th>10</th>\n",
       "      <td>Stade Olympique , Montreal</td>\n",
       "      <td>1</td>\n",
       "    </tr>\n",
       "  </tbody>\n",
       "</table>\n",
       "</div>"
      ],
      "text/plain": [
       "                         venue  count\n",
       "0             SeatGeek Stadium    166\n",
       "1    Subaru Park, Philadelphia    137\n",
       "2                 Stade Saputo    124\n",
       "3                Soldier Field     31\n",
       "4               StubHub Center     31\n",
       "5         Subaru Park, Chester     23\n",
       "6       Soldier Field, Chicago     17\n",
       "7             Stade Olympique      17\n",
       "8       Stade Saputo, Montreal     10\n",
       "9             Stanford Stadium      6\n",
       "10  Stade Olympique , Montreal      1"
      ]
     },
     "execution_count": 468,
     "metadata": {},
     "output_type": "execute_result"
    }
   ],
   "source": [
    "s_venues_df"
   ]
  },
  {
   "cell_type": "code",
   "execution_count": 469,
   "metadata": {
    "id": "LEq5a6YJio98"
   },
   "outputs": [
    {
     "name": "stdout",
     "output_type": "stream",
     "text": [
      "Correct! You earned 4/4 points. You are a star!\n",
      "\n",
      "Your submission has been successfully recorded in the gradebook.\n"
     ]
    }
   ],
   "source": [
    "# TEST CASE: s_venues (4pt)\n",
    "# [CIS 545 PennGrader Cell] - 4 points\n",
    "grader.grade(test_case_id = 's_venues', answer = s_venues_df)"
   ]
  },
  {
   "cell_type": "markdown",
   "metadata": {
    "id": "W_VUjNAuR1yw"
   },
   "source": [
    "#### 2.1.2 Total Goals Scored by Away Teams who have played in the Rose Bowl (5 points)\n",
    "\n",
    "We shall now aim to find the total goals scored by teams who have played Away in the Rose Bowl. Note that we will use `GF` as goals for or the goals scored by the club\n",
    "\n",
    "TODO: \n",
    "- Using `tables_cleaned_df`, create a df called `table_intermediate_df` that contains the total goals scored by a club.\n",
    "- After filtering `matches_cleaned_df` for the `Rose Bowl` venue, merge it on `away_clubname` with the above table to get the required clubs\n",
    "- After grouping by `Club_Name`, assign it to a table called `rose_df` with columns `Club_Name` and `GF`. Sort it in descending order by `GF`. Don't forget to reset the index!\n",
    "\n"
   ]
  },
  {
   "cell_type": "code",
   "execution_count": 533,
   "metadata": {
    "id": "kncKCsphhfCT"
   },
   "outputs": [],
   "source": [
    "# Create a datframe that contains the total goals scored by the club\n",
    "table_intermediate_df = tables_cleaned_df[[\"Club_Name\", \"GF\"]].groupby(\"Club_Name\").sum()\n",
    "table_intermediate_df.reset_index(inplace=True)\n",
    "\n",
    "# Filter matches_cleaned_df for the matches played in the Rose Bowl and create rose_df\n",
    "rose_df = matches_cleaned_df[matches_cleaned_df.apply(lambda x: x[\"venue\"] == \"Rose Bowl\", axis=1)][[\"away_clubname\"]].drop_duplicates()\n",
    "rose_df = table_intermediate_df.merge(rose_df, left_on=\"Club_Name\", right_on=\"away_clubname\").drop([\"away_clubname\"], axis=1)"
   ]
  },
  {
   "cell_type": "code",
   "execution_count": 534,
   "metadata": {
    "id": "zVv2JkwiIS0l"
   },
   "outputs": [
    {
     "data": {
      "text/html": [
       "<div>\n",
       "<style scoped>\n",
       "    .dataframe tbody tr th:only-of-type {\n",
       "        vertical-align: middle;\n",
       "    }\n",
       "\n",
       "    .dataframe tbody tr th {\n",
       "        vertical-align: top;\n",
       "    }\n",
       "\n",
       "    .dataframe thead th {\n",
       "        text-align: right;\n",
       "    }\n",
       "</style>\n",
       "<table border=\"1\" class=\"dataframe\">\n",
       "  <thead>\n",
       "    <tr style=\"text-align: right;\">\n",
       "      <th></th>\n",
       "      <th>Club_Name</th>\n",
       "      <th>GF</th>\n",
       "    </tr>\n",
       "  </thead>\n",
       "  <tbody>\n",
       "    <tr>\n",
       "      <th>0</th>\n",
       "      <td>D.C. United</td>\n",
       "      <td>1552</td>\n",
       "    </tr>\n",
       "    <tr>\n",
       "      <th>1</th>\n",
       "      <td>MetroStars</td>\n",
       "      <td>302</td>\n",
       "    </tr>\n",
       "  </tbody>\n",
       "</table>\n",
       "</div>"
      ],
      "text/plain": [
       "     Club_Name    GF\n",
       "0  D.C. United  1552\n",
       "1   MetroStars   302"
      ]
     },
     "execution_count": 534,
     "metadata": {},
     "output_type": "execute_result"
    }
   ],
   "source": [
    "rose_df"
   ]
  },
  {
   "cell_type": "code",
   "execution_count": 535,
   "metadata": {
    "id": "6JaVW745lOB8"
   },
   "outputs": [
    {
     "name": "stdout",
     "output_type": "stream",
     "text": [
      "Correct! You earned 5/5 points. You are a star!\n",
      "\n",
      "Your submission has been successfully recorded in the gradebook.\n"
     ]
    }
   ],
   "source": [
    "# TEST CASE: rose_bowl_df (5pt)\n",
    "# [CIS 545 PennGrader Cell] - 5 points\n",
    "grader.grade(test_case_id = 'rose_bowl_df', answer = rose_df)"
   ]
  },
  {
   "cell_type": "markdown",
   "metadata": {
    "id": "3NAzrf7Hbgid"
   },
   "source": [
    "#### 2.1.3 High Scoring Venues (6 points)\n",
    "\n",
    "As a final metric, we now wish to find a list of venues whose home teams had the most points that year.\n",
    "\n",
    "TODO: \n",
    "- Create a dataframe called `tables_high_df` that contains the clubs who had the highest points in a year. Remember to filter the dataframe to only have the `Overall` conference value!\n",
    "- Compute the associated `home_clubname` for each `venue` as `grouped_matches`. If a venue has multiple teams for its home team, you should use the team that plays most frequently at the venue as the `home_clubname`\n",
    "- Using `grouped_matches`, compute all venues that a given `home_clubname` plays in, joining them together with `,` as a delimiter. Assign this value to `venue_matches_df`. Hint: take a look at the  [.agg()](https://pandas.pydata.org/docs/reference/api/pandas.DataFrame.agg.html) function to help with this!\n",
    "- Merge the `tables_high_df` and `venue_matches_df` to find the venues for the top teams, returning this list as `high_venues`"
   ]
  },
  {
   "cell_type": "code",
   "execution_count": 721,
   "metadata": {
    "id": "A0r_GPcMVWHR"
   },
   "outputs": [
    {
     "data": {
      "text/html": [
       "<div>\n",
       "<style scoped>\n",
       "    .dataframe tbody tr th:only-of-type {\n",
       "        vertical-align: middle;\n",
       "    }\n",
       "\n",
       "    .dataframe tbody tr th {\n",
       "        vertical-align: top;\n",
       "    }\n",
       "\n",
       "    .dataframe thead th {\n",
       "        text-align: right;\n",
       "    }\n",
       "</style>\n",
       "<table border=\"1\" class=\"dataframe\">\n",
       "  <thead>\n",
       "    <tr style=\"text-align: right;\">\n",
       "      <th></th>\n",
       "      <th>Club_Name</th>\n",
       "      <th>Pts</th>\n",
       "      <th>Year</th>\n",
       "    </tr>\n",
       "  </thead>\n",
       "  <tbody>\n",
       "    <tr>\n",
       "      <th>0</th>\n",
       "      <td>Columbus Crew</td>\n",
       "      <td>37</td>\n",
       "      <td>1996</td>\n",
       "    </tr>\n",
       "    <tr>\n",
       "      <th>1</th>\n",
       "      <td>Columbus Crew</td>\n",
       "      <td>39</td>\n",
       "      <td>1997</td>\n",
       "    </tr>\n",
       "    <tr>\n",
       "      <th>2</th>\n",
       "      <td>New England Revolution</td>\n",
       "      <td>45</td>\n",
       "      <td>2000</td>\n",
       "    </tr>\n",
       "    <tr>\n",
       "      <th>3</th>\n",
       "      <td>San Jose Earthquakes</td>\n",
       "      <td>45</td>\n",
       "      <td>2002</td>\n",
       "    </tr>\n",
       "    <tr>\n",
       "      <th>4</th>\n",
       "      <td>Columbus Crew</td>\n",
       "      <td>49</td>\n",
       "      <td>2004</td>\n",
       "    </tr>\n",
       "    <tr>\n",
       "      <th>5</th>\n",
       "      <td>MetroStars</td>\n",
       "      <td>47</td>\n",
       "      <td>2005</td>\n",
       "    </tr>\n",
       "    <tr>\n",
       "      <th>6</th>\n",
       "      <td>New England Revolution</td>\n",
       "      <td>48</td>\n",
       "      <td>2006</td>\n",
       "    </tr>\n",
       "    <tr>\n",
       "      <th>7</th>\n",
       "      <td>Houston Dynamo</td>\n",
       "      <td>52</td>\n",
       "      <td>2007</td>\n",
       "    </tr>\n",
       "    <tr>\n",
       "      <th>8</th>\n",
       "      <td>Chivas USA</td>\n",
       "      <td>43</td>\n",
       "      <td>2008</td>\n",
       "    </tr>\n",
       "    <tr>\n",
       "      <th>9</th>\n",
       "      <td>New England Revolution</td>\n",
       "      <td>43</td>\n",
       "      <td>2008</td>\n",
       "    </tr>\n",
       "    <tr>\n",
       "      <th>10</th>\n",
       "      <td>Houston Dynamo</td>\n",
       "      <td>48</td>\n",
       "      <td>2009</td>\n",
       "    </tr>\n",
       "    <tr>\n",
       "      <th>11</th>\n",
       "      <td>Real Salt Lake</td>\n",
       "      <td>56</td>\n",
       "      <td>2010</td>\n",
       "    </tr>\n",
       "    <tr>\n",
       "      <th>12</th>\n",
       "      <td>Seattle Sounders FC</td>\n",
       "      <td>63</td>\n",
       "      <td>2011</td>\n",
       "    </tr>\n",
       "    <tr>\n",
       "      <th>13</th>\n",
       "      <td>Sporting Kansas City</td>\n",
       "      <td>63</td>\n",
       "      <td>2012</td>\n",
       "    </tr>\n",
       "    <tr>\n",
       "      <th>14</th>\n",
       "      <td>Sporting Kansas City</td>\n",
       "      <td>58</td>\n",
       "      <td>2013</td>\n",
       "    </tr>\n",
       "    <tr>\n",
       "      <th>15</th>\n",
       "      <td>LA Galaxy</td>\n",
       "      <td>61</td>\n",
       "      <td>2014</td>\n",
       "    </tr>\n",
       "    <tr>\n",
       "      <th>16</th>\n",
       "      <td>FC Dallas</td>\n",
       "      <td>60</td>\n",
       "      <td>2015</td>\n",
       "    </tr>\n",
       "    <tr>\n",
       "      <th>17</th>\n",
       "      <td>Colorado Rapids</td>\n",
       "      <td>58</td>\n",
       "      <td>2016</td>\n",
       "    </tr>\n",
       "    <tr>\n",
       "      <th>18</th>\n",
       "      <td>New York City FC</td>\n",
       "      <td>57</td>\n",
       "      <td>2017</td>\n",
       "    </tr>\n",
       "    <tr>\n",
       "      <th>19</th>\n",
       "      <td>Sporting Kansas City</td>\n",
       "      <td>62</td>\n",
       "      <td>2018</td>\n",
       "    </tr>\n",
       "    <tr>\n",
       "      <th>20</th>\n",
       "      <td>New York City FC</td>\n",
       "      <td>64</td>\n",
       "      <td>2019</td>\n",
       "    </tr>\n",
       "    <tr>\n",
       "      <th>21</th>\n",
       "      <td>Orlando City SC</td>\n",
       "      <td>41</td>\n",
       "      <td>2020</td>\n",
       "    </tr>\n",
       "    <tr>\n",
       "      <th>22</th>\n",
       "      <td>Seattle Sounders FC</td>\n",
       "      <td>18</td>\n",
       "      <td>2021</td>\n",
       "    </tr>\n",
       "  </tbody>\n",
       "</table>\n",
       "</div>"
      ],
      "text/plain": [
       "                 Club_Name  Pts  Year\n",
       "0            Columbus Crew   37  1996\n",
       "1            Columbus Crew   39  1997\n",
       "2   New England Revolution   45  2000\n",
       "3     San Jose Earthquakes   45  2002\n",
       "4            Columbus Crew   49  2004\n",
       "5               MetroStars   47  2005\n",
       "6   New England Revolution   48  2006\n",
       "7           Houston Dynamo   52  2007\n",
       "8               Chivas USA   43  2008\n",
       "9   New England Revolution   43  2008\n",
       "10          Houston Dynamo   48  2009\n",
       "11          Real Salt Lake   56  2010\n",
       "12     Seattle Sounders FC   63  2011\n",
       "13    Sporting Kansas City   63  2012\n",
       "14    Sporting Kansas City   58  2013\n",
       "15               LA Galaxy   61  2014\n",
       "16               FC Dallas   60  2015\n",
       "17         Colorado Rapids   58  2016\n",
       "18        New York City FC   57  2017\n",
       "19    Sporting Kansas City   62  2018\n",
       "20        New York City FC   64  2019\n",
       "21         Orlando City SC   41  2020\n",
       "22     Seattle Sounders FC   18  2021"
      ]
     },
     "execution_count": 721,
     "metadata": {},
     "output_type": "execute_result"
    }
   ],
   "source": [
    "# Create a dataframe that has the clubs with the highest points in the year\n",
    "tables_high_df = tables_cleaned_df[[\"Club_Name\",\"Pts\",\"Year\"]][tables_cleaned_df[\"Conference\"] == \"Overall\"]\n",
    "tables_high_df = tables_high_df.groupby(\"Year\").apply(lambda x: x[x[\"Pts\"]==x[\"Pts\"].max()])\n",
    "tables_high_df.reset_index(inplace=True, drop=True)\n",
    "tables_high_df"
   ]
  },
  {
   "cell_type": "code",
   "execution_count": 727,
   "metadata": {
    "id": "klaq5r0tWj1v"
   },
   "outputs": [
    {
     "name": "stdout",
     "output_type": "stream",
     "text": [
      "           home_clubname                       venue\n",
      "0    Minnesota United FC               Allianz Field\n",
      "1    Minnesota United FC    Allianz Field, Minnesota\n",
      "2             KC Wizards           Arrowhead Stadium\n",
      "3              DC United                  Audi Field\n",
      "4              DC United   Audi Field, Washington DC\n",
      "..                   ...                         ...\n",
      "97             FC Dallas                Toyota Field\n",
      "98             FC Dallas              Toyota Stadium\n",
      "99             FC Dallas  Toyota Stadium, Frisco, TX\n",
      "100     New York City FC              Yankee Stadium\n",
      "101     New York City FC    Yankee Stadium, New York\n",
      "\n",
      "[102 rows x 2 columns]\n"
     ]
    },
    {
     "data": {
      "text/html": [
       "<div>\n",
       "<style scoped>\n",
       "    .dataframe tbody tr th:only-of-type {\n",
       "        vertical-align: middle;\n",
       "    }\n",
       "\n",
       "    .dataframe tbody tr th {\n",
       "        vertical-align: top;\n",
       "    }\n",
       "\n",
       "    .dataframe thead th {\n",
       "        text-align: right;\n",
       "    }\n",
       "</style>\n",
       "<table border=\"1\" class=\"dataframe\">\n",
       "  <thead>\n",
       "    <tr style=\"text-align: right;\">\n",
       "      <th></th>\n",
       "      <th>home_clubname</th>\n",
       "      <th>venue</th>\n",
       "    </tr>\n",
       "  </thead>\n",
       "  <tbody>\n",
       "    <tr>\n",
       "      <th>0</th>\n",
       "      <td>Atlanta United FC</td>\n",
       "      <td>Bobby Dodd Stadium, Mercedes-Benz Stadium, Mer...</td>\n",
       "    </tr>\n",
       "    <tr>\n",
       "      <th>1</th>\n",
       "      <td>Austin FC</td>\n",
       "      <td>Q2 Stadium, Austin</td>\n",
       "    </tr>\n",
       "    <tr>\n",
       "      <th>2</th>\n",
       "      <td>CF Montréal</td>\n",
       "      <td>Stade Olympique , Montreal, Stade Saputo, Mont...</td>\n",
       "    </tr>\n",
       "    <tr>\n",
       "      <th>3</th>\n",
       "      <td>Charlotte FC</td>\n",
       "      <td>Bank of America Stadium, Charlotte</td>\n",
       "    </tr>\n",
       "    <tr>\n",
       "      <th>4</th>\n",
       "      <td>Chicago</td>\n",
       "      <td>Rose Bowl (Neutral Site), Soldier Field</td>\n",
       "    </tr>\n",
       "    <tr>\n",
       "      <th>5</th>\n",
       "      <td>Chicago Fire FC</td>\n",
       "      <td>SeatGeek Stadium, SeatGeek Stadium, Bridgeview...</td>\n",
       "    </tr>\n",
       "    <tr>\n",
       "      <th>6</th>\n",
       "      <td>Chivas USA</td>\n",
       "      <td>StubHub Center</td>\n",
       "    </tr>\n",
       "    <tr>\n",
       "      <th>7</th>\n",
       "      <td>Colorado</td>\n",
       "      <td>Mile High Stadium</td>\n",
       "    </tr>\n",
       "    <tr>\n",
       "      <th>8</th>\n",
       "      <td>Colorado Rapids</td>\n",
       "      <td>Dick's Sporting Goods Park, Commerce City, CO,...</td>\n",
       "    </tr>\n",
       "    <tr>\n",
       "      <th>9</th>\n",
       "      <td>Columbus</td>\n",
       "      <td>MAPFRE Stadium, Ohio Stadium</td>\n",
       "    </tr>\n",
       "    <tr>\n",
       "      <th>10</th>\n",
       "      <td>Columbus Crew</td>\n",
       "      <td>Historic Crew Stadium, Columbus, OH, Lower.com...</td>\n",
       "    </tr>\n",
       "    <tr>\n",
       "      <th>11</th>\n",
       "      <td>Columbus Crew SC</td>\n",
       "      <td>MAPFRE Stadium, Columbus</td>\n",
       "    </tr>\n",
       "    <tr>\n",
       "      <th>12</th>\n",
       "      <td>D.C. United</td>\n",
       "      <td>Robert F. Kennedy Memorial Stadium</td>\n",
       "    </tr>\n",
       "    <tr>\n",
       "      <th>13</th>\n",
       "      <td>DC United</td>\n",
       "      <td>Audi Field, Audi Field, Washington DC, FedExFi...</td>\n",
       "    </tr>\n",
       "    <tr>\n",
       "      <th>14</th>\n",
       "      <td>Dallas</td>\n",
       "      <td>Cotton Bowl</td>\n",
       "    </tr>\n",
       "    <tr>\n",
       "      <th>15</th>\n",
       "      <td>FC Cincinnati</td>\n",
       "      <td>Nippert Stadium, TQL Stadium, Cincinnati, OH</td>\n",
       "    </tr>\n",
       "    <tr>\n",
       "      <th>16</th>\n",
       "      <td>FC Dallas</td>\n",
       "      <td>Pizza Hut Park, Toyota Field, Toyota Stadium, ...</td>\n",
       "    </tr>\n",
       "    <tr>\n",
       "      <th>17</th>\n",
       "      <td>Houston Dynamo</td>\n",
       "      <td>BBVA Stadium, Robertson Stadium, Houston</td>\n",
       "    </tr>\n",
       "    <tr>\n",
       "      <th>18</th>\n",
       "      <td>Houston Dynamo FC</td>\n",
       "      <td>BBVA Stadium, Houston, TX, PNC Stadium, Housto...</td>\n",
       "    </tr>\n",
       "    <tr>\n",
       "      <th>19</th>\n",
       "      <td>Inter Miami CF</td>\n",
       "      <td>DRV PNK Stadium, Fort Lauderdale, FL, Inter Mi...</td>\n",
       "    </tr>\n",
       "    <tr>\n",
       "      <th>20</th>\n",
       "      <td>KC Wizards</td>\n",
       "      <td>Arrowhead Stadium, Robert F. Kennedy Memorial ...</td>\n",
       "    </tr>\n",
       "    <tr>\n",
       "      <th>21</th>\n",
       "      <td>LA Galaxy</td>\n",
       "      <td>Dignity Health Sports Park, Carson, Dignity He...</td>\n",
       "    </tr>\n",
       "    <tr>\n",
       "      <th>22</th>\n",
       "      <td>LAFC</td>\n",
       "      <td>Banc of California Stadium, Banc of California...</td>\n",
       "    </tr>\n",
       "    <tr>\n",
       "      <th>23</th>\n",
       "      <td>MetroStars</td>\n",
       "      <td>Giants Stadium</td>\n",
       "    </tr>\n",
       "    <tr>\n",
       "      <th>24</th>\n",
       "      <td>Miami</td>\n",
       "      <td>Lockhart Stadium</td>\n",
       "    </tr>\n",
       "    <tr>\n",
       "      <th>25</th>\n",
       "      <td>Minnesota United FC</td>\n",
       "      <td>Allianz Field, Allianz Field, Minnesota, TCF B...</td>\n",
       "    </tr>\n",
       "    <tr>\n",
       "      <th>26</th>\n",
       "      <td>Montreal Impact</td>\n",
       "      <td>Stade Olympique , Stade Saputo</td>\n",
       "    </tr>\n",
       "    <tr>\n",
       "      <th>27</th>\n",
       "      <td>Nashville SC</td>\n",
       "      <td>GEODIS Park, Nashville, Nissan Stadium, Nashvi...</td>\n",
       "    </tr>\n",
       "    <tr>\n",
       "      <th>28</th>\n",
       "      <td>New England</td>\n",
       "      <td>Foxboro Stadium</td>\n",
       "    </tr>\n",
       "    <tr>\n",
       "      <th>29</th>\n",
       "      <td>New England Revolution</td>\n",
       "      <td>Gillette Stadium, Gillette Stadium, Foxborough</td>\n",
       "    </tr>\n",
       "    <tr>\n",
       "      <th>30</th>\n",
       "      <td>New York City FC</td>\n",
       "      <td>Citi Field Stadium, Citi Field Stadium, New Yo...</td>\n",
       "    </tr>\n",
       "    <tr>\n",
       "      <th>31</th>\n",
       "      <td>New York Red Bulls</td>\n",
       "      <td>Giants Stadium, East Rutherford, Red Bull Aren...</td>\n",
       "    </tr>\n",
       "    <tr>\n",
       "      <th>32</th>\n",
       "      <td>Orlando City SC</td>\n",
       "      <td>Camping World Stadium, Orlando, Exploria Stadi...</td>\n",
       "    </tr>\n",
       "    <tr>\n",
       "      <th>33</th>\n",
       "      <td>Philadelphia Union</td>\n",
       "      <td>Subaru Park, Chester, Subaru Park, Philadelphia</td>\n",
       "    </tr>\n",
       "    <tr>\n",
       "      <th>34</th>\n",
       "      <td>Portland Timbers</td>\n",
       "      <td>Providence Park, Portland, Providence Park, Po...</td>\n",
       "    </tr>\n",
       "    <tr>\n",
       "      <th>35</th>\n",
       "      <td>Real Salt Lake</td>\n",
       "      <td>Rice-Eccles Stadium, Salt Lake City, Rio Tinto...</td>\n",
       "    </tr>\n",
       "    <tr>\n",
       "      <th>36</th>\n",
       "      <td>San Jose</td>\n",
       "      <td>CEFCU Stadium</td>\n",
       "    </tr>\n",
       "    <tr>\n",
       "      <th>37</th>\n",
       "      <td>San Jose Earthquakes</td>\n",
       "      <td>Buck Shaw Stadium, Earthquakes Stadium, Levi's...</td>\n",
       "    </tr>\n",
       "    <tr>\n",
       "      <th>38</th>\n",
       "      <td>Seattle Sounders FC</td>\n",
       "      <td>CenturyLink Field, Seattle, Lumen Field, Seatt...</td>\n",
       "    </tr>\n",
       "    <tr>\n",
       "      <th>39</th>\n",
       "      <td>Sporting Kansas City</td>\n",
       "      <td>Children's Mercy Park, Kansas City, Children's...</td>\n",
       "    </tr>\n",
       "    <tr>\n",
       "      <th>40</th>\n",
       "      <td>Tampa Bay</td>\n",
       "      <td>Houlihan's Stadium, Raymond James Stadium</td>\n",
       "    </tr>\n",
       "    <tr>\n",
       "      <th>41</th>\n",
       "      <td>Toronto FC</td>\n",
       "      <td>BMO Field, BMO Field, Toronto, Rogers Centere</td>\n",
       "    </tr>\n",
       "    <tr>\n",
       "      <th>42</th>\n",
       "      <td>Vancouver Whitecaps</td>\n",
       "      <td>BC Place, Vancouver</td>\n",
       "    </tr>\n",
       "  </tbody>\n",
       "</table>\n",
       "</div>"
      ],
      "text/plain": [
       "             home_clubname                                              venue\n",
       "0        Atlanta United FC  Bobby Dodd Stadium, Mercedes-Benz Stadium, Mer...\n",
       "1                Austin FC                                 Q2 Stadium, Austin\n",
       "2              CF Montréal  Stade Olympique , Montreal, Stade Saputo, Mont...\n",
       "3             Charlotte FC                 Bank of America Stadium, Charlotte\n",
       "4                  Chicago            Rose Bowl (Neutral Site), Soldier Field\n",
       "5          Chicago Fire FC  SeatGeek Stadium, SeatGeek Stadium, Bridgeview...\n",
       "6               Chivas USA                                     StubHub Center\n",
       "7                 Colorado                                  Mile High Stadium\n",
       "8          Colorado Rapids  Dick's Sporting Goods Park, Commerce City, CO,...\n",
       "9                 Columbus                       MAPFRE Stadium, Ohio Stadium\n",
       "10           Columbus Crew  Historic Crew Stadium, Columbus, OH, Lower.com...\n",
       "11        Columbus Crew SC                           MAPFRE Stadium, Columbus\n",
       "12             D.C. United                 Robert F. Kennedy Memorial Stadium\n",
       "13               DC United  Audi Field, Audi Field, Washington DC, FedExFi...\n",
       "14                  Dallas                                        Cotton Bowl\n",
       "15           FC Cincinnati       Nippert Stadium, TQL Stadium, Cincinnati, OH\n",
       "16               FC Dallas  Pizza Hut Park, Toyota Field, Toyota Stadium, ...\n",
       "17          Houston Dynamo           BBVA Stadium, Robertson Stadium, Houston\n",
       "18       Houston Dynamo FC  BBVA Stadium, Houston, TX, PNC Stadium, Housto...\n",
       "19          Inter Miami CF  DRV PNK Stadium, Fort Lauderdale, FL, Inter Mi...\n",
       "20              KC Wizards  Arrowhead Stadium, Robert F. Kennedy Memorial ...\n",
       "21               LA Galaxy  Dignity Health Sports Park, Carson, Dignity He...\n",
       "22                    LAFC  Banc of California Stadium, Banc of California...\n",
       "23              MetroStars                                     Giants Stadium\n",
       "24                   Miami                                   Lockhart Stadium\n",
       "25     Minnesota United FC  Allianz Field, Allianz Field, Minnesota, TCF B...\n",
       "26         Montreal Impact                     Stade Olympique , Stade Saputo\n",
       "27            Nashville SC  GEODIS Park, Nashville, Nissan Stadium, Nashvi...\n",
       "28             New England                                    Foxboro Stadium\n",
       "29  New England Revolution     Gillette Stadium, Gillette Stadium, Foxborough\n",
       "30        New York City FC  Citi Field Stadium, Citi Field Stadium, New Yo...\n",
       "31      New York Red Bulls  Giants Stadium, East Rutherford, Red Bull Aren...\n",
       "32         Orlando City SC  Camping World Stadium, Orlando, Exploria Stadi...\n",
       "33      Philadelphia Union    Subaru Park, Chester, Subaru Park, Philadelphia\n",
       "34        Portland Timbers  Providence Park, Portland, Providence Park, Po...\n",
       "35          Real Salt Lake  Rice-Eccles Stadium, Salt Lake City, Rio Tinto...\n",
       "36                San Jose                                      CEFCU Stadium\n",
       "37    San Jose Earthquakes  Buck Shaw Stadium, Earthquakes Stadium, Levi's...\n",
       "38     Seattle Sounders FC  CenturyLink Field, Seattle, Lumen Field, Seatt...\n",
       "39    Sporting Kansas City  Children's Mercy Park, Kansas City, Children's...\n",
       "40               Tampa Bay          Houlihan's Stadium, Raymond James Stadium\n",
       "41              Toronto FC      BMO Field, BMO Field, Toronto, Rogers Centere\n",
       "42     Vancouver Whitecaps                                BC Place, Vancouver"
      ]
     },
     "execution_count": 727,
     "metadata": {},
     "output_type": "execute_result"
    }
   ],
   "source": [
    "grouped_matches_df = matches_cleaned_df[[\"home_clubname\",\"venue\"]].groupby(\"venue\").apply(lambda x: x.mode()[:1])\n",
    "grouped_matches_df.reset_index(inplace=True, drop=True)\n",
    "print(grouped_matches_df)\n",
    "venue_matches_df = grouped_matches_df.groupby(\"home_clubname\").agg(lambda x: \", \".join(x))\n",
    "venue_matches_df.reset_index(inplace=True)\n",
    "venue_matches_df"
   ]
  },
  {
   "cell_type": "code",
   "execution_count": 728,
   "metadata": {
    "id": "qfSwufUogXaf"
   },
   "outputs": [
    {
     "name": "stdout",
     "output_type": "stream",
     "text": [
      "Correct! You earned 3/3 points. You are a star!\n",
      "\n",
      "Your submission has been successfully recorded in the gradebook.\n"
     ]
    }
   ],
   "source": [
    "# TEST CASE: tables_high (3 pt)\n",
    "# [CIS 545 PennGrader Cell] - 3 points\n",
    "grader.grade(test_case_id = 'tables_high', answer = (tables_high_df,venue_matches_df) )"
   ]
  },
  {
   "cell_type": "code",
   "execution_count": 731,
   "metadata": {
    "id": "9g7_4ODXXa93"
   },
   "outputs": [
    {
     "data": {
      "text/plain": [
       "['StubHub Center',\n",
       " \"Dick's Sporting Goods Park, Commerce City, CO, Dick's Sporting Goods Park, Denver\",\n",
       " 'Historic Crew Stadium, Columbus, OH, Lower.com Field, Columbus, OH',\n",
       " 'Historic Crew Stadium, Columbus, OH, Lower.com Field, Columbus, OH',\n",
       " 'Historic Crew Stadium, Columbus, OH, Lower.com Field, Columbus, OH',\n",
       " 'Pizza Hut Park, Toyota Field, Toyota Stadium, Toyota Stadium, Frisco, TX',\n",
       " 'BBVA Stadium, Robertson Stadium, Houston',\n",
       " 'BBVA Stadium, Robertson Stadium, Houston',\n",
       " 'Dignity Health Sports Park, Carson, Dignity Health Sports Park, Los Angeles, Foxboro Stadium (Neutral Site), Rose Bowl',\n",
       " 'Giants Stadium',\n",
       " 'Gillette Stadium, Gillette Stadium, Foxborough',\n",
       " 'Gillette Stadium, Gillette Stadium, Foxborough',\n",
       " 'Gillette Stadium, Gillette Stadium, Foxborough',\n",
       " 'Citi Field Stadium, Citi Field Stadium, New York, Pratt & Whitney Stadium at Rentschler Field, Yankee Stadium, Yankee Stadium, New York',\n",
       " 'Citi Field Stadium, Citi Field Stadium, New York, Pratt & Whitney Stadium at Rentschler Field, Yankee Stadium, Yankee Stadium, New York',\n",
       " 'Camping World Stadium, Orlando, Exploria Stadium, Exploria Stadium, Orlando, Florida',\n",
       " 'Rice-Eccles Stadium, Salt Lake City, Rio Tinto Stadium, Rio Tinto Stadium, Sandy, UT, Rio Tinto Stadium, Utah',\n",
       " \"Buck Shaw Stadium, Earthquakes Stadium, Levi's Stadium, McAfee Coliseum, PayPal Park, San Jose, Stanford Stadium\",\n",
       " 'CenturyLink Field, Seattle, Lumen Field, Seattle, Qwest Field, Seattle',\n",
       " 'CenturyLink Field, Seattle, Lumen Field, Seattle, Qwest Field, Seattle',\n",
       " \"Children's Mercy Park, Kansas City, Children's Mercy Park, Kansas City, KS, Community America Ballpark\",\n",
       " \"Children's Mercy Park, Kansas City, Children's Mercy Park, Kansas City, KS, Community America Ballpark\",\n",
       " \"Children's Mercy Park, Kansas City, Children's Mercy Park, Kansas City, KS, Community America Ballpark\"]"
      ]
     },
     "execution_count": 731,
     "metadata": {},
     "output_type": "execute_result"
    }
   ],
   "source": [
    "# Create a list of venues for the top teams\n",
    "high_venues = venue_matches_df.merge(tables_high_df, left_on=\"home_clubname\", right_on=\"Club_Name\")[\"venue\"].to_list()\n",
    "high_venues"
   ]
  },
  {
   "cell_type": "code",
   "execution_count": 732,
   "metadata": {
    "id": "6SC6MAVSnaPO"
   },
   "outputs": [
    {
     "name": "stdout",
     "output_type": "stream",
     "text": [
      "Correct! You earned 3/3 points. You are a star!\n",
      "\n",
      "Your submission has been successfully recorded in the gradebook.\n"
     ]
    }
   ],
   "source": [
    "# TEST CASE: high_venues (3 pt)\n",
    "# [CIS 545 PennGrader Cell] - 3 points\n",
    "grader.grade(test_case_id = 'high_venues', answer = high_venues)"
   ]
  },
  {
   "cell_type": "markdown",
   "metadata": {
    "id": "lt10yNLPwQ6G"
   },
   "source": [
    "## 2.2 Finding the Worst Performing Teams in March\n",
    "\n",
    "We now want to see which teams tend to perform the worst in March relative to other months. In this case, we define worse performances as the count of losses in a given time frame."
   ]
  },
  {
   "cell_type": "markdown",
   "metadata": {
    "id": "dFHd2FN1yW_3"
   },
   "source": [
    "#### 2.2.1 Sorted Loss Counts (6 points)\n",
    "\n",
    "TODO:\n",
    "- Create a new dataframe `march_matches` that filters `matches_cleaned_df` to only contain games from March and removes all draws\n",
    "- Create a column `losing_team` within this dataframe to represent the team that lost in the particular match\n",
    "- Create a dataframe called `club_losses` that contains the columns `losing_team` and `loss_count`, where `loss_count` is the total number of losses in March for a particular club.\n",
    "- Sort this dataframe in descending order of `loss_count` and then in ascending order of `losing_team`\n"
   ]
  },
  {
   "cell_type": "code",
   "execution_count": 828,
   "metadata": {
    "id": "EM9gvpFNnGc7"
   },
   "outputs": [],
   "source": [
    "# Create a dataframe that filters to only matches from March and removes all draws\n",
    "march_matches_df = matches_cleaned_df[matches_cleaned_df[\"date_cleaned\"].apply(lambda x: x.month == 3)]\n",
    "march_matches_df = march_matches_df[march_matches_df.apply(lambda x: x[\"home_score\"] != x[\"away_score\"], axis=1)]\n",
    "march_matches_df[\"losing_team\"] = march_matches_df.apply(lambda x: x[\"home_clubname\"] if x[\"home_score\"]<x[\"away_score\"] else x[\"away_clubname\"], axis=1)"
   ]
  },
  {
   "cell_type": "code",
   "execution_count": 836,
   "metadata": {
    "id": "t-7zO4GMrr_z"
   },
   "outputs": [],
   "source": [
    "# Create a dataframe with the count of losses of teams in March\n",
    "club_losses_df = march_matches_df[[\"losing_team\",\"home_clubname\"]].groupby(\"losing_team\").count().rename({\"home_clubname\": \"loss_count\"},axis=1).sort_values([\"loss_count\",\"losing_team\"],ascending=[False, True])\n",
    "club_losses_df = club_losses_df.reset_index()"
   ]
  },
  {
   "cell_type": "code",
   "execution_count": 837,
   "metadata": {
    "id": "kficbDoP2iah"
   },
   "outputs": [
    {
     "data": {
      "text/html": [
       "<div>\n",
       "<style scoped>\n",
       "    .dataframe tbody tr th:only-of-type {\n",
       "        vertical-align: middle;\n",
       "    }\n",
       "\n",
       "    .dataframe tbody tr th {\n",
       "        vertical-align: top;\n",
       "    }\n",
       "\n",
       "    .dataframe thead th {\n",
       "        text-align: right;\n",
       "    }\n",
       "</style>\n",
       "<table border=\"1\" class=\"dataframe\">\n",
       "  <thead>\n",
       "    <tr style=\"text-align: right;\">\n",
       "      <th></th>\n",
       "      <th>losing_team</th>\n",
       "      <th>loss_count</th>\n",
       "    </tr>\n",
       "  </thead>\n",
       "  <tbody>\n",
       "    <tr>\n",
       "      <th>0</th>\n",
       "      <td>San Jose Earthquakes</td>\n",
       "      <td>19</td>\n",
       "    </tr>\n",
       "    <tr>\n",
       "      <th>1</th>\n",
       "      <td>Toronto FC</td>\n",
       "      <td>17</td>\n",
       "    </tr>\n",
       "    <tr>\n",
       "      <th>2</th>\n",
       "      <td>New England Revolution</td>\n",
       "      <td>16</td>\n",
       "    </tr>\n",
       "    <tr>\n",
       "      <th>3</th>\n",
       "      <td>Philadelphia Union</td>\n",
       "      <td>16</td>\n",
       "    </tr>\n",
       "    <tr>\n",
       "      <th>4</th>\n",
       "      <td>New York Red Bulls</td>\n",
       "      <td>15</td>\n",
       "    </tr>\n",
       "    <tr>\n",
       "      <th>5</th>\n",
       "      <td>DC United</td>\n",
       "      <td>14</td>\n",
       "    </tr>\n",
       "    <tr>\n",
       "      <th>6</th>\n",
       "      <td>Portland Timbers</td>\n",
       "      <td>14</td>\n",
       "    </tr>\n",
       "    <tr>\n",
       "      <th>7</th>\n",
       "      <td>Real Salt Lake</td>\n",
       "      <td>14</td>\n",
       "    </tr>\n",
       "    <tr>\n",
       "      <th>8</th>\n",
       "      <td>Chicago Fire FC</td>\n",
       "      <td>12</td>\n",
       "    </tr>\n",
       "    <tr>\n",
       "      <th>9</th>\n",
       "      <td>Sporting Kansas City</td>\n",
       "      <td>12</td>\n",
       "    </tr>\n",
       "    <tr>\n",
       "      <th>10</th>\n",
       "      <td>Columbus Crew SC</td>\n",
       "      <td>11</td>\n",
       "    </tr>\n",
       "    <tr>\n",
       "      <th>11</th>\n",
       "      <td>Houston Dynamo</td>\n",
       "      <td>11</td>\n",
       "    </tr>\n",
       "    <tr>\n",
       "      <th>12</th>\n",
       "      <td>Montreal Impact</td>\n",
       "      <td>10</td>\n",
       "    </tr>\n",
       "    <tr>\n",
       "      <th>13</th>\n",
       "      <td>Seattle Sounders FC</td>\n",
       "      <td>10</td>\n",
       "    </tr>\n",
       "    <tr>\n",
       "      <th>14</th>\n",
       "      <td>Colorado Rapids</td>\n",
       "      <td>9</td>\n",
       "    </tr>\n",
       "    <tr>\n",
       "      <th>15</th>\n",
       "      <td>Minnesota United FC</td>\n",
       "      <td>9</td>\n",
       "    </tr>\n",
       "    <tr>\n",
       "      <th>16</th>\n",
       "      <td>LA Galaxy</td>\n",
       "      <td>8</td>\n",
       "    </tr>\n",
       "    <tr>\n",
       "      <th>17</th>\n",
       "      <td>Orlando City SC</td>\n",
       "      <td>8</td>\n",
       "    </tr>\n",
       "    <tr>\n",
       "      <th>18</th>\n",
       "      <td>Vancouver Whitecaps</td>\n",
       "      <td>8</td>\n",
       "    </tr>\n",
       "    <tr>\n",
       "      <th>19</th>\n",
       "      <td>Atlanta United FC</td>\n",
       "      <td>7</td>\n",
       "    </tr>\n",
       "    <tr>\n",
       "      <th>20</th>\n",
       "      <td>Chivas USA</td>\n",
       "      <td>7</td>\n",
       "    </tr>\n",
       "    <tr>\n",
       "      <th>21</th>\n",
       "      <td>FC Dallas</td>\n",
       "      <td>7</td>\n",
       "    </tr>\n",
       "    <tr>\n",
       "      <th>22</th>\n",
       "      <td>New York City FC</td>\n",
       "      <td>7</td>\n",
       "    </tr>\n",
       "    <tr>\n",
       "      <th>23</th>\n",
       "      <td>KC Wizards</td>\n",
       "      <td>6</td>\n",
       "    </tr>\n",
       "    <tr>\n",
       "      <th>24</th>\n",
       "      <td>MetroStars</td>\n",
       "      <td>5</td>\n",
       "    </tr>\n",
       "    <tr>\n",
       "      <th>25</th>\n",
       "      <td>San Jose</td>\n",
       "      <td>5</td>\n",
       "    </tr>\n",
       "    <tr>\n",
       "      <th>26</th>\n",
       "      <td>Tampa Bay</td>\n",
       "      <td>5</td>\n",
       "    </tr>\n",
       "    <tr>\n",
       "      <th>27</th>\n",
       "      <td>Houston Dynamo FC</td>\n",
       "      <td>4</td>\n",
       "    </tr>\n",
       "    <tr>\n",
       "      <th>28</th>\n",
       "      <td>Columbus</td>\n",
       "      <td>3</td>\n",
       "    </tr>\n",
       "    <tr>\n",
       "      <th>29</th>\n",
       "      <td>FC Cincinnati</td>\n",
       "      <td>3</td>\n",
       "    </tr>\n",
       "    <tr>\n",
       "      <th>30</th>\n",
       "      <td>Miami</td>\n",
       "      <td>3</td>\n",
       "    </tr>\n",
       "    <tr>\n",
       "      <th>31</th>\n",
       "      <td>Colorado</td>\n",
       "      <td>2</td>\n",
       "    </tr>\n",
       "    <tr>\n",
       "      <th>32</th>\n",
       "      <td>Inter Miami CF</td>\n",
       "      <td>2</td>\n",
       "    </tr>\n",
       "    <tr>\n",
       "      <th>33</th>\n",
       "      <td>Charlotte FC</td>\n",
       "      <td>1</td>\n",
       "    </tr>\n",
       "    <tr>\n",
       "      <th>34</th>\n",
       "      <td>Columbus Crew</td>\n",
       "      <td>1</td>\n",
       "    </tr>\n",
       "    <tr>\n",
       "      <th>35</th>\n",
       "      <td>D.C. United</td>\n",
       "      <td>1</td>\n",
       "    </tr>\n",
       "    <tr>\n",
       "      <th>36</th>\n",
       "      <td>Dallas</td>\n",
       "      <td>1</td>\n",
       "    </tr>\n",
       "    <tr>\n",
       "      <th>37</th>\n",
       "      <td>LAFC</td>\n",
       "      <td>1</td>\n",
       "    </tr>\n",
       "    <tr>\n",
       "      <th>38</th>\n",
       "      <td>Nashville SC</td>\n",
       "      <td>1</td>\n",
       "    </tr>\n",
       "    <tr>\n",
       "      <th>39</th>\n",
       "      <td>New England</td>\n",
       "      <td>1</td>\n",
       "    </tr>\n",
       "  </tbody>\n",
       "</table>\n",
       "</div>"
      ],
      "text/plain": [
       "               losing_team  loss_count\n",
       "0     San Jose Earthquakes          19\n",
       "1               Toronto FC          17\n",
       "2   New England Revolution          16\n",
       "3       Philadelphia Union          16\n",
       "4       New York Red Bulls          15\n",
       "5                DC United          14\n",
       "6         Portland Timbers          14\n",
       "7           Real Salt Lake          14\n",
       "8          Chicago Fire FC          12\n",
       "9     Sporting Kansas City          12\n",
       "10        Columbus Crew SC          11\n",
       "11          Houston Dynamo          11\n",
       "12         Montreal Impact          10\n",
       "13     Seattle Sounders FC          10\n",
       "14         Colorado Rapids           9\n",
       "15     Minnesota United FC           9\n",
       "16               LA Galaxy           8\n",
       "17         Orlando City SC           8\n",
       "18     Vancouver Whitecaps           8\n",
       "19       Atlanta United FC           7\n",
       "20              Chivas USA           7\n",
       "21               FC Dallas           7\n",
       "22        New York City FC           7\n",
       "23              KC Wizards           6\n",
       "24              MetroStars           5\n",
       "25                San Jose           5\n",
       "26               Tampa Bay           5\n",
       "27       Houston Dynamo FC           4\n",
       "28                Columbus           3\n",
       "29           FC Cincinnati           3\n",
       "30                   Miami           3\n",
       "31                Colorado           2\n",
       "32          Inter Miami CF           2\n",
       "33            Charlotte FC           1\n",
       "34           Columbus Crew           1\n",
       "35             D.C. United           1\n",
       "36                  Dallas           1\n",
       "37                    LAFC           1\n",
       "38            Nashville SC           1\n",
       "39             New England           1"
      ]
     },
     "execution_count": 837,
     "metadata": {},
     "output_type": "execute_result"
    }
   ],
   "source": [
    "club_losses_df"
   ]
  },
  {
   "cell_type": "code",
   "execution_count": 838,
   "metadata": {
    "id": "6cB34kHD0qOO"
   },
   "outputs": [
    {
     "name": "stdout",
     "output_type": "stream",
     "text": [
      "Correct! You earned 6/6 points. You are a star!\n",
      "\n",
      "Your submission has been successfully recorded in the gradebook.\n"
     ]
    }
   ],
   "source": [
    "# TEST CASE: club_losses (6pt)\n",
    "# [CIS 545 PennGrader Cell] - 6 points\n",
    "grader.grade(test_case_id = 'club_losses', answer = (club_losses_df,march_matches_df))"
   ]
  },
  {
   "cell_type": "markdown",
   "metadata": {
    "id": "F6GN2eN211XU"
   },
   "source": [
    "#### 2.2.2 Judging Relative Worse Performance  (6 points)\n",
    "\n",
    "We now want to find the teams that have performed worst in March relative to other months. In other words, we want to calculate the teams with the greatest percentage of losses in March.  \n",
    "\n",
    "\n",
    "- Create a dataframe called `tables_loss_df` that contains the clubs with their total losses. Remember to filter the dataframe by the correct Conference value!\n",
    "- Using `club_losses_df`, merge the dataframes and create a new column `percentage` representing the percentage of all losses of a club that have been in March\n",
    "- Store the top 5 clubs with the highest percentage of such losses as a list `worst_teams`"
   ]
  },
  {
   "cell_type": "code",
   "execution_count": 852,
   "metadata": {
    "id": "0rwu3limvkPQ"
   },
   "outputs": [],
   "source": [
    "# Create a filtered dataframe that contains the clubs with their total losses\n",
    "tables_loss_df = tables_cleaned_df[tables_cleaned_df[\"Conference\"] == \"Overall\"][[\"Club_Name\",\"L\"]].groupby(\"Club_Name\").sum().reset_index()"
   ]
  },
  {
   "cell_type": "code",
   "execution_count": 853,
   "metadata": {
    "id": "j9Cj3GalWg9f"
   },
   "outputs": [
    {
     "data": {
      "text/html": [
       "<div>\n",
       "<style scoped>\n",
       "    .dataframe tbody tr th:only-of-type {\n",
       "        vertical-align: middle;\n",
       "    }\n",
       "\n",
       "    .dataframe tbody tr th {\n",
       "        vertical-align: top;\n",
       "    }\n",
       "\n",
       "    .dataframe thead th {\n",
       "        text-align: right;\n",
       "    }\n",
       "</style>\n",
       "<table border=\"1\" class=\"dataframe\">\n",
       "  <thead>\n",
       "    <tr style=\"text-align: right;\">\n",
       "      <th></th>\n",
       "      <th>Club_Name</th>\n",
       "      <th>L</th>\n",
       "    </tr>\n",
       "  </thead>\n",
       "  <tbody>\n",
       "    <tr>\n",
       "      <th>0</th>\n",
       "      <td>Atlanta United FC</td>\n",
       "      <td>10</td>\n",
       "    </tr>\n",
       "    <tr>\n",
       "      <th>1</th>\n",
       "      <td>Austin FC</td>\n",
       "      <td>4</td>\n",
       "    </tr>\n",
       "    <tr>\n",
       "      <th>2</th>\n",
       "      <td>CF Montreal</td>\n",
       "      <td>120</td>\n",
       "    </tr>\n",
       "    <tr>\n",
       "      <th>3</th>\n",
       "      <td>Chicago Fire FC</td>\n",
       "      <td>15</td>\n",
       "    </tr>\n",
       "    <tr>\n",
       "      <th>4</th>\n",
       "      <td>Chivas USA</td>\n",
       "      <td>142</td>\n",
       "    </tr>\n",
       "    <tr>\n",
       "      <th>5</th>\n",
       "      <td>Colorado Rapids</td>\n",
       "      <td>272</td>\n",
       "    </tr>\n",
       "    <tr>\n",
       "      <th>6</th>\n",
       "      <td>Columbus Crew</td>\n",
       "      <td>205</td>\n",
       "    </tr>\n",
       "    <tr>\n",
       "      <th>7</th>\n",
       "      <td>Columbus Crew SC</td>\n",
       "      <td>30</td>\n",
       "    </tr>\n",
       "    <tr>\n",
       "      <th>8</th>\n",
       "      <td>D.C. United</td>\n",
       "      <td>199</td>\n",
       "    </tr>\n",
       "    <tr>\n",
       "      <th>9</th>\n",
       "      <td>FC Cincinnati</td>\n",
       "      <td>41</td>\n",
       "    </tr>\n",
       "    <tr>\n",
       "      <th>10</th>\n",
       "      <td>FC Dallas</td>\n",
       "      <td>138</td>\n",
       "    </tr>\n",
       "    <tr>\n",
       "      <th>11</th>\n",
       "      <td>Houston Dynamo</td>\n",
       "      <td>167</td>\n",
       "    </tr>\n",
       "    <tr>\n",
       "      <th>12</th>\n",
       "      <td>Houston Dynamo FC</td>\n",
       "      <td>3</td>\n",
       "    </tr>\n",
       "    <tr>\n",
       "      <th>13</th>\n",
       "      <td>Inter Miami CF</td>\n",
       "      <td>17</td>\n",
       "    </tr>\n",
       "    <tr>\n",
       "      <th>14</th>\n",
       "      <td>LA Galaxy</td>\n",
       "      <td>148</td>\n",
       "    </tr>\n",
       "    <tr>\n",
       "      <th>15</th>\n",
       "      <td>MetroStars</td>\n",
       "      <td>21</td>\n",
       "    </tr>\n",
       "    <tr>\n",
       "      <th>16</th>\n",
       "      <td>Minnesota United FC</td>\n",
       "      <td>58</td>\n",
       "    </tr>\n",
       "    <tr>\n",
       "      <th>17</th>\n",
       "      <td>Nashville SC</td>\n",
       "      <td>7</td>\n",
       "    </tr>\n",
       "    <tr>\n",
       "      <th>18</th>\n",
       "      <td>New England Revolution</td>\n",
       "      <td>243</td>\n",
       "    </tr>\n",
       "    <tr>\n",
       "      <th>19</th>\n",
       "      <td>New York City FC</td>\n",
       "      <td>62</td>\n",
       "    </tr>\n",
       "    <tr>\n",
       "      <th>20</th>\n",
       "      <td>New York Red Bulls</td>\n",
       "      <td>127</td>\n",
       "    </tr>\n",
       "    <tr>\n",
       "      <th>21</th>\n",
       "      <td>Orlando City SC</td>\n",
       "      <td>82</td>\n",
       "    </tr>\n",
       "    <tr>\n",
       "      <th>22</th>\n",
       "      <td>Philadelphia Union</td>\n",
       "      <td>137</td>\n",
       "    </tr>\n",
       "    <tr>\n",
       "      <th>23</th>\n",
       "      <td>Portland Timbers</td>\n",
       "      <td>91</td>\n",
       "    </tr>\n",
       "    <tr>\n",
       "      <th>24</th>\n",
       "      <td>Real Salt Lake</td>\n",
       "      <td>195</td>\n",
       "    </tr>\n",
       "    <tr>\n",
       "      <th>25</th>\n",
       "      <td>San Jose Earthquakes</td>\n",
       "      <td>204</td>\n",
       "    </tr>\n",
       "    <tr>\n",
       "      <th>26</th>\n",
       "      <td>Seattle Sounders FC</td>\n",
       "      <td>82</td>\n",
       "    </tr>\n",
       "    <tr>\n",
       "      <th>27</th>\n",
       "      <td>Sporting Kansas City</td>\n",
       "      <td>95</td>\n",
       "    </tr>\n",
       "    <tr>\n",
       "      <th>28</th>\n",
       "      <td>Toronto FC</td>\n",
       "      <td>159</td>\n",
       "    </tr>\n",
       "  </tbody>\n",
       "</table>\n",
       "</div>"
      ],
      "text/plain": [
       "                 Club_Name    L\n",
       "0        Atlanta United FC   10\n",
       "1                Austin FC    4\n",
       "2              CF Montreal  120\n",
       "3          Chicago Fire FC   15\n",
       "4               Chivas USA  142\n",
       "5          Colorado Rapids  272\n",
       "6            Columbus Crew  205\n",
       "7         Columbus Crew SC   30\n",
       "8              D.C. United  199\n",
       "9            FC Cincinnati   41\n",
       "10               FC Dallas  138\n",
       "11          Houston Dynamo  167\n",
       "12       Houston Dynamo FC    3\n",
       "13          Inter Miami CF   17\n",
       "14               LA Galaxy  148\n",
       "15              MetroStars   21\n",
       "16     Minnesota United FC   58\n",
       "17            Nashville SC    7\n",
       "18  New England Revolution  243\n",
       "19        New York City FC   62\n",
       "20      New York Red Bulls  127\n",
       "21         Orlando City SC   82\n",
       "22      Philadelphia Union  137\n",
       "23        Portland Timbers   91\n",
       "24          Real Salt Lake  195\n",
       "25    San Jose Earthquakes  204\n",
       "26     Seattle Sounders FC   82\n",
       "27    Sporting Kansas City   95\n",
       "28              Toronto FC  159"
      ]
     },
     "execution_count": 853,
     "metadata": {},
     "output_type": "execute_result"
    }
   ],
   "source": [
    "tables_loss_df"
   ]
  },
  {
   "cell_type": "code",
   "execution_count": 867,
   "metadata": {
    "id": "tGMcJY02v4FS"
   },
   "outputs": [],
   "source": [
    "# Create a list of top 5 clubs with the highest loss percentages\n",
    "worst_teams_final = tables_loss_df.merge(club_losses_df, left_on=\"Club_Name\", right_on=\"losing_team\")\n",
    "worst_teams_final[\"percentage\"] = worst_teams_final[\"loss_count\"] / worst_teams_final[\"L\"]\n",
    "worst_teams_final = worst_teams_final.sort_values([\"percentage\"], ascending=False)[:5].Club_Name.to_list()"
   ]
  },
  {
   "cell_type": "code",
   "execution_count": 868,
   "metadata": {
    "id": "PoNxisqcXL-T"
   },
   "outputs": [
    {
     "data": {
      "text/plain": [
       "['Houston Dynamo FC',\n",
       " 'Chicago Fire FC',\n",
       " 'Atlanta United FC',\n",
       " 'Columbus Crew SC',\n",
       " 'MetroStars']"
      ]
     },
     "execution_count": 868,
     "metadata": {},
     "output_type": "execute_result"
    }
   ],
   "source": [
    "worst_teams_final"
   ]
  },
  {
   "cell_type": "code",
   "execution_count": 869,
   "metadata": {
    "id": "TVV28f5D5rTH"
   },
   "outputs": [
    {
     "name": "stdout",
     "output_type": "stream",
     "text": [
      "Correct! You earned 6/6 points. You are a star!\n",
      "\n",
      "Your submission has been successfully recorded in the gradebook.\n"
     ]
    }
   ],
   "source": [
    "# TEST CASE: worst_teams (6pt)\n",
    "# [CIS 545 PennGrader Cell] - 6 points\n",
    "grader.grade(test_case_id = 'worst_teams', answer = (worst_teams_final,tables_loss_df))"
   ]
  },
  {
   "cell_type": "markdown",
   "metadata": {
    "id": "ELL_b8Vf0KY0"
   },
   "source": [
    "##2.3 Computing Superlative Player Metrics\n",
    "\n",
    "Finally, we would like to understand our players further, including the players that played more than the average time and those that improved the most across years. This would help us understand our dataset in far greater depth!"
   ]
  },
  {
   "cell_type": "markdown",
   "metadata": {
    "id": "kDdLZyMKG5Vw"
   },
   "source": [
    "#### 2.3.1 Players Always on the Pitch (5 points)\n",
    "\n",
    "We first want to understand which players have spent more time on the pitch than average for their position.\n",
    "\n",
    "- Create a list of unique positions in `players_cleaned_df`. Hint: the unique() function might be useful here\n",
    "- For each position, compute the average minutes and all players that played at least the average amount of minutes, (they can appear more than once since we have different entries for every year)\n",
    "- Finally, concatenate the dataframes as `time_player_df`, sorting it in descending order of minutes played `MINS` and then ascending order of `Player`"
   ]
  },
  {
   "cell_type": "code",
   "execution_count": 870,
   "metadata": {},
   "outputs": [
    {
     "data": {
      "text/html": [
       "<div>\n",
       "<style scoped>\n",
       "    .dataframe tbody tr th:only-of-type {\n",
       "        vertical-align: middle;\n",
       "    }\n",
       "\n",
       "    .dataframe tbody tr th {\n",
       "        vertical-align: top;\n",
       "    }\n",
       "\n",
       "    .dataframe thead th {\n",
       "        text-align: right;\n",
       "    }\n",
       "</style>\n",
       "<table border=\"1\" class=\"dataframe\">\n",
       "  <thead>\n",
       "    <tr style=\"text-align: right;\">\n",
       "      <th></th>\n",
       "      <th>Player</th>\n",
       "      <th>POS</th>\n",
       "      <th>GP</th>\n",
       "      <th>GS</th>\n",
       "      <th>MINS</th>\n",
       "      <th>Year</th>\n",
       "      <th>Season</th>\n",
       "      <th>Club_Name</th>\n",
       "      <th>G</th>\n",
       "      <th>A</th>\n",
       "    </tr>\n",
       "  </thead>\n",
       "  <tbody>\n",
       "    <tr>\n",
       "      <th>1</th>\n",
       "      <td>Raul Diaz Arce</td>\n",
       "      <td>F</td>\n",
       "      <td>28</td>\n",
       "      <td>28</td>\n",
       "      <td>2351</td>\n",
       "      <td>1996</td>\n",
       "      <td>reg</td>\n",
       "      <td>DC United</td>\n",
       "      <td>23</td>\n",
       "      <td>2</td>\n",
       "    </tr>\n",
       "    <tr>\n",
       "      <th>2</th>\n",
       "      <td>Eduardo Hurtado</td>\n",
       "      <td>F</td>\n",
       "      <td>26</td>\n",
       "      <td>26</td>\n",
       "      <td>2323</td>\n",
       "      <td>1996</td>\n",
       "      <td>reg</td>\n",
       "      <td>LA Galaxy</td>\n",
       "      <td>21</td>\n",
       "      <td>7</td>\n",
       "    </tr>\n",
       "    <tr>\n",
       "      <th>4</th>\n",
       "      <td>Brian McBride</td>\n",
       "      <td>F</td>\n",
       "      <td>28</td>\n",
       "      <td>28</td>\n",
       "      <td>2307</td>\n",
       "      <td>1996</td>\n",
       "      <td>reg</td>\n",
       "      <td>Columbus Crew SC</td>\n",
       "      <td>17</td>\n",
       "      <td>3</td>\n",
       "    </tr>\n",
       "    <tr>\n",
       "      <th>5</th>\n",
       "      <td>Steve Rammel</td>\n",
       "      <td>F</td>\n",
       "      <td>26</td>\n",
       "      <td>20</td>\n",
       "      <td>1649</td>\n",
       "      <td>1996</td>\n",
       "      <td>reg</td>\n",
       "      <td>DC United</td>\n",
       "      <td>14</td>\n",
       "      <td>3</td>\n",
       "    </tr>\n",
       "    <tr>\n",
       "      <th>7</th>\n",
       "      <td>Paul Bravo</td>\n",
       "      <td>M</td>\n",
       "      <td>31</td>\n",
       "      <td>31</td>\n",
       "      <td>2654</td>\n",
       "      <td>1996</td>\n",
       "      <td>reg</td>\n",
       "      <td>San Jose Earthquakes</td>\n",
       "      <td>13</td>\n",
       "      <td>5</td>\n",
       "    </tr>\n",
       "    <tr>\n",
       "      <th>...</th>\n",
       "      <td>...</td>\n",
       "      <td>...</td>\n",
       "      <td>...</td>\n",
       "      <td>...</td>\n",
       "      <td>...</td>\n",
       "      <td>...</td>\n",
       "      <td>...</td>\n",
       "      <td>...</td>\n",
       "      <td>...</td>\n",
       "      <td>...</td>\n",
       "    </tr>\n",
       "    <tr>\n",
       "      <th>1940</th>\n",
       "      <td>Emmanuel Ochoa</td>\n",
       "      <td>GK</td>\n",
       "      <td>0</td>\n",
       "      <td>0</td>\n",
       "      <td>0</td>\n",
       "      <td>2020</td>\n",
       "      <td>reg</td>\n",
       "      <td>San Jose Earthquakes</td>\n",
       "      <td>0</td>\n",
       "      <td>0</td>\n",
       "    </tr>\n",
       "    <tr>\n",
       "      <th>1941</th>\n",
       "      <td>Drake Callender</td>\n",
       "      <td>GK</td>\n",
       "      <td>0</td>\n",
       "      <td>0</td>\n",
       "      <td>0</td>\n",
       "      <td>2020</td>\n",
       "      <td>reg</td>\n",
       "      <td>Inter Miami CF</td>\n",
       "      <td>0</td>\n",
       "      <td>0</td>\n",
       "    </tr>\n",
       "    <tr>\n",
       "      <th>1942</th>\n",
       "      <td>Elliot Panicco</td>\n",
       "      <td>GK</td>\n",
       "      <td>0</td>\n",
       "      <td>0</td>\n",
       "      <td>0</td>\n",
       "      <td>2020</td>\n",
       "      <td>reg</td>\n",
       "      <td>Nashville SC</td>\n",
       "      <td>0</td>\n",
       "      <td>0</td>\n",
       "    </tr>\n",
       "    <tr>\n",
       "      <th>1943</th>\n",
       "      <td>Eric Dick</td>\n",
       "      <td>GK</td>\n",
       "      <td>0</td>\n",
       "      <td>0</td>\n",
       "      <td>0</td>\n",
       "      <td>2020</td>\n",
       "      <td>reg</td>\n",
       "      <td>Sporting Kansas City</td>\n",
       "      <td>0</td>\n",
       "      <td>0</td>\n",
       "    </tr>\n",
       "    <tr>\n",
       "      <th>1944</th>\n",
       "      <td>Stefan Cleveland</td>\n",
       "      <td>GK</td>\n",
       "      <td>0</td>\n",
       "      <td>0</td>\n",
       "      <td>0</td>\n",
       "      <td>2020</td>\n",
       "      <td>reg</td>\n",
       "      <td>Seattle Sounders FC</td>\n",
       "      <td>0</td>\n",
       "      <td>0</td>\n",
       "    </tr>\n",
       "  </tbody>\n",
       "</table>\n",
       "<p>10769 rows × 10 columns</p>\n",
       "</div>"
      ],
      "text/plain": [
       "                Player POS  GP  GS  MINS  Year Season             Club_Name  \\\n",
       "1       Raul Diaz Arce   F  28  28  2351  1996    reg             DC United   \n",
       "2      Eduardo Hurtado   F  26  26  2323  1996    reg             LA Galaxy   \n",
       "4        Brian McBride   F  28  28  2307  1996    reg      Columbus Crew SC   \n",
       "5         Steve Rammel   F  26  20  1649  1996    reg             DC United   \n",
       "7           Paul Bravo   M  31  31  2654  1996    reg  San Jose Earthquakes   \n",
       "...                ...  ..  ..  ..   ...   ...    ...                   ...   \n",
       "1940    Emmanuel Ochoa  GK   0   0     0  2020    reg  San Jose Earthquakes   \n",
       "1941   Drake Callender  GK   0   0     0  2020    reg        Inter Miami CF   \n",
       "1942    Elliot Panicco  GK   0   0     0  2020    reg          Nashville SC   \n",
       "1943         Eric Dick  GK   0   0     0  2020    reg  Sporting Kansas City   \n",
       "1944  Stefan Cleveland  GK   0   0     0  2020    reg   Seattle Sounders FC   \n",
       "\n",
       "       G  A  \n",
       "1     23  2  \n",
       "2     21  7  \n",
       "4     17  3  \n",
       "5     14  3  \n",
       "7     13  5  \n",
       "...   .. ..  \n",
       "1940   0  0  \n",
       "1941   0  0  \n",
       "1942   0  0  \n",
       "1943   0  0  \n",
       "1944   0  0  \n",
       "\n",
       "[10769 rows x 10 columns]"
      ]
     },
     "execution_count": 870,
     "metadata": {},
     "output_type": "execute_result"
    }
   ],
   "source": [
    "players_cleaned_df"
   ]
  },
  {
   "cell_type": "code",
   "execution_count": 875,
   "metadata": {
    "id": "f6NTKoApdeWM"
   },
   "outputs": [],
   "source": [
    "# Create a list of unique positions\n",
    "positions = players_cleaned_df.POS.unique()"
   ]
  },
  {
   "cell_type": "code",
   "execution_count": 928,
   "metadata": {
    "id": "HCOq8YSxA_7V"
   },
   "outputs": [],
   "source": [
    "# Compute the players who played more than the average minutes and concatenate them into one dataframe\n",
    "time_player_df = players_cleaned_df[[\"Player\",\"POS\",\"MINS\"]].groupby(\"POS\").mean().rename({\"MINS\":\"mean_MINS\"}, axis=1).reset_index()\n",
    "time_player_df = time_player_df.merge(players_cleaned_df, on=\"POS\")\n",
    "time_player_df = time_player_df[time_player_df.MINS >= time_player_df.mean_MINS].sort_values([\"MINS\",\"Player\"], ascending=[False, True])"
   ]
  },
  {
   "cell_type": "code",
   "execution_count": 929,
   "metadata": {
    "id": "7sWq2uJJgjcw"
   },
   "outputs": [
    {
     "data": {
      "text/html": [
       "<div>\n",
       "<style scoped>\n",
       "    .dataframe tbody tr th:only-of-type {\n",
       "        vertical-align: middle;\n",
       "    }\n",
       "\n",
       "    .dataframe tbody tr th {\n",
       "        vertical-align: top;\n",
       "    }\n",
       "\n",
       "    .dataframe thead th {\n",
       "        text-align: right;\n",
       "    }\n",
       "</style>\n",
       "<table border=\"1\" class=\"dataframe\">\n",
       "  <thead>\n",
       "    <tr style=\"text-align: right;\">\n",
       "      <th></th>\n",
       "      <th>POS</th>\n",
       "      <th>mean_MINS</th>\n",
       "      <th>Player</th>\n",
       "      <th>GP</th>\n",
       "      <th>GS</th>\n",
       "      <th>MINS</th>\n",
       "      <th>Year</th>\n",
       "      <th>Season</th>\n",
       "      <th>Club_Name</th>\n",
       "      <th>G</th>\n",
       "      <th>A</th>\n",
       "    </tr>\n",
       "  </thead>\n",
       "  <tbody>\n",
       "    <tr>\n",
       "      <th>2497</th>\n",
       "      <td>D</td>\n",
       "      <td>1222.191515</td>\n",
       "      <td>Alexander Callens</td>\n",
       "      <td>34</td>\n",
       "      <td>34</td>\n",
       "      <td>3060</td>\n",
       "      <td>2017</td>\n",
       "      <td>reg</td>\n",
       "      <td>New York City FC</td>\n",
       "      <td>2</td>\n",
       "      <td>0</td>\n",
       "    </tr>\n",
       "    <tr>\n",
       "      <th>1768</th>\n",
       "      <td>D</td>\n",
       "      <td>1222.191515</td>\n",
       "      <td>Austin Berry</td>\n",
       "      <td>34</td>\n",
       "      <td>34</td>\n",
       "      <td>3060</td>\n",
       "      <td>2013</td>\n",
       "      <td>reg</td>\n",
       "      <td>Chicago Fire FC</td>\n",
       "      <td>1</td>\n",
       "      <td>2</td>\n",
       "    </tr>\n",
       "    <tr>\n",
       "      <th>2719</th>\n",
       "      <td>D</td>\n",
       "      <td>1222.191515</td>\n",
       "      <td>Auston Trusty</td>\n",
       "      <td>34</td>\n",
       "      <td>34</td>\n",
       "      <td>3060</td>\n",
       "      <td>2018</td>\n",
       "      <td>reg</td>\n",
       "      <td>Colorado Rapids</td>\n",
       "      <td>1</td>\n",
       "      <td>1</td>\n",
       "    </tr>\n",
       "    <tr>\n",
       "      <th>6688</th>\n",
       "      <td>GK</td>\n",
       "      <td>872.685000</td>\n",
       "      <td>Brad Guzan</td>\n",
       "      <td>34</td>\n",
       "      <td>34</td>\n",
       "      <td>3060</td>\n",
       "      <td>2019</td>\n",
       "      <td>reg</td>\n",
       "      <td>Atlanta United FC</td>\n",
       "      <td>0</td>\n",
       "      <td>0</td>\n",
       "    </tr>\n",
       "    <tr>\n",
       "      <th>6689</th>\n",
       "      <td>GK</td>\n",
       "      <td>872.685000</td>\n",
       "      <td>Daniel Vega</td>\n",
       "      <td>34</td>\n",
       "      <td>34</td>\n",
       "      <td>3060</td>\n",
       "      <td>2019</td>\n",
       "      <td>reg</td>\n",
       "      <td>San Jose Earthquakes</td>\n",
       "      <td>0</td>\n",
       "      <td>0</td>\n",
       "    </tr>\n",
       "    <tr>\n",
       "      <th>...</th>\n",
       "      <td>...</td>\n",
       "      <td>...</td>\n",
       "      <td>...</td>\n",
       "      <td>...</td>\n",
       "      <td>...</td>\n",
       "      <td>...</td>\n",
       "      <td>...</td>\n",
       "      <td>...</td>\n",
       "      <td>...</td>\n",
       "      <td>...</td>\n",
       "      <td>...</td>\n",
       "    </tr>\n",
       "    <tr>\n",
       "      <th>6320</th>\n",
       "      <td>GK</td>\n",
       "      <td>872.685000</td>\n",
       "      <td>Joe Cannon</td>\n",
       "      <td>10</td>\n",
       "      <td>10</td>\n",
       "      <td>900</td>\n",
       "      <td>2013</td>\n",
       "      <td>reg</td>\n",
       "      <td>Vancouver Whitecaps</td>\n",
       "      <td>0</td>\n",
       "      <td>0</td>\n",
       "    </tr>\n",
       "    <tr>\n",
       "      <th>6000</th>\n",
       "      <td>GK</td>\n",
       "      <td>872.685000</td>\n",
       "      <td>Noah Palmer</td>\n",
       "      <td>10</td>\n",
       "      <td>10</td>\n",
       "      <td>900</td>\n",
       "      <td>2006</td>\n",
       "      <td>reg</td>\n",
       "      <td>Columbus Crew SC</td>\n",
       "      <td>0</td>\n",
       "      <td>0</td>\n",
       "    </tr>\n",
       "    <tr>\n",
       "      <th>5643</th>\n",
       "      <td>F-M</td>\n",
       "      <td>824.378378</td>\n",
       "      <td>Jeisson Vargas</td>\n",
       "      <td>19</td>\n",
       "      <td>10</td>\n",
       "      <td>871</td>\n",
       "      <td>2018</td>\n",
       "      <td>reg</td>\n",
       "      <td>CF Montreal</td>\n",
       "      <td>4</td>\n",
       "      <td>0</td>\n",
       "    </tr>\n",
       "    <tr>\n",
       "      <th>5602</th>\n",
       "      <td>F-M</td>\n",
       "      <td>824.378378</td>\n",
       "      <td>Ely Allen</td>\n",
       "      <td>12</td>\n",
       "      <td>11</td>\n",
       "      <td>848</td>\n",
       "      <td>2008</td>\n",
       "      <td>reg</td>\n",
       "      <td>LA Galaxy</td>\n",
       "      <td>1</td>\n",
       "      <td>1</td>\n",
       "    </tr>\n",
       "    <tr>\n",
       "      <th>5624</th>\n",
       "      <td>F-M</td>\n",
       "      <td>824.378378</td>\n",
       "      <td>Patrick Nyarko</td>\n",
       "      <td>17</td>\n",
       "      <td>9</td>\n",
       "      <td>846</td>\n",
       "      <td>2014</td>\n",
       "      <td>reg</td>\n",
       "      <td>Chicago Fire FC</td>\n",
       "      <td>1</td>\n",
       "      <td>3</td>\n",
       "    </tr>\n",
       "  </tbody>\n",
       "</table>\n",
       "<p>4896 rows × 11 columns</p>\n",
       "</div>"
      ],
      "text/plain": [
       "      POS    mean_MINS             Player  GP  GS  MINS  Year Season  \\\n",
       "2497    D  1222.191515  Alexander Callens  34  34  3060  2017    reg   \n",
       "1768    D  1222.191515       Austin Berry  34  34  3060  2013    reg   \n",
       "2719    D  1222.191515      Auston Trusty  34  34  3060  2018    reg   \n",
       "6688   GK   872.685000         Brad Guzan  34  34  3060  2019    reg   \n",
       "6689   GK   872.685000        Daniel Vega  34  34  3060  2019    reg   \n",
       "...   ...          ...                ...  ..  ..   ...   ...    ...   \n",
       "6320   GK   872.685000         Joe Cannon  10  10   900  2013    reg   \n",
       "6000   GK   872.685000        Noah Palmer  10  10   900  2006    reg   \n",
       "5643  F-M   824.378378     Jeisson Vargas  19  10   871  2018    reg   \n",
       "5602  F-M   824.378378          Ely Allen  12  11   848  2008    reg   \n",
       "5624  F-M   824.378378     Patrick Nyarko  17   9   846  2014    reg   \n",
       "\n",
       "                 Club_Name  G  A  \n",
       "2497      New York City FC  2  0  \n",
       "1768       Chicago Fire FC  1  2  \n",
       "2719       Colorado Rapids  1  1  \n",
       "6688     Atlanta United FC  0  0  \n",
       "6689  San Jose Earthquakes  0  0  \n",
       "...                    ... .. ..  \n",
       "6320   Vancouver Whitecaps  0  0  \n",
       "6000      Columbus Crew SC  0  0  \n",
       "5643           CF Montreal  4  0  \n",
       "5602             LA Galaxy  1  1  \n",
       "5624       Chicago Fire FC  1  3  \n",
       "\n",
       "[4896 rows x 11 columns]"
      ]
     },
     "execution_count": 929,
     "metadata": {},
     "output_type": "execute_result"
    }
   ],
   "source": [
    "time_player_df"
   ]
  },
  {
   "cell_type": "code",
   "execution_count": 930,
   "metadata": {
    "id": "TWeUHJnUNJJt"
   },
   "outputs": [
    {
     "name": "stdout",
     "output_type": "stream",
     "text": [
      "Correct! You earned 5/5 points. You are a star!\n",
      "\n",
      "Your submission has been successfully recorded in the gradebook.\n"
     ]
    }
   ],
   "source": [
    "# TEST CASE: time_players (5pt)\n",
    "# [CIS 545 PennGrader Cell] - 5 points\n",
    "grader.grade(test_case_id = 'time_players', answer = time_player_df)"
   ]
  },
  {
   "cell_type": "markdown",
   "metadata": {
    "id": "ySf9eytTNTFa"
   },
   "source": [
    "#### 2.3.2 Most Improved Players (6 points)\n",
    "We are now interested in which players have improved the most from 2000 to 2001, an important metric in any consideration. We shall measure this improvement in terms of change in goals scored\n",
    "\n",
    "TODO:\n",
    "- Create dataframes `df_2000` and `df_2001` for player statistics on each year\n",
    "- Merge the dataframes as `together_df` and compute a difference column based on column `G`, sorting the dataframe on this\n",
    "- Compute the top forward, top midfielder and top defender (defined as the player with the most improvement in goals scored) by filtering `years_df` and return only the names of the players as one list `best_players` "
   ]
  },
  {
   "cell_type": "code",
   "execution_count": 1011,
   "metadata": {
    "id": "dNKdncvSikNu"
   },
   "outputs": [],
   "source": [
    "# Create player statistics dataframes\n",
    "df_2000 = players_cleaned_df[players_cleaned_df.Year == 2000][[\"Player\",\"POS\",\"G\"]]\n",
    "df_2001 = players_cleaned_df[players_cleaned_df.Year == 2001][[\"Player\",\"G\"]]"
   ]
  },
  {
   "cell_type": "code",
   "execution_count": 1039,
   "metadata": {
    "id": "_djajxg63bww"
   },
   "outputs": [],
   "source": [
    "# Merge to form combined dataframe\n",
    "together_df = df_2000.merge(df_2001, on=\"Player\")\n",
    "together_df[\"difference\"] = together_df[\"G_y\"] - together_df[\"G_x\"]\n",
    "together_df = together_df.sort_values([\"difference\"], ascending=False)\n",
    "max_score = together_df.groupby(\"POS\").agg({\"difference\":max}).reset_index()\n",
    "max_score = together_df.merge(max_score, on=\"POS\")\n",
    "max_score = max_score[max_score[\"difference_y\"] == max_score[\"difference_x\"]]#.Player.to_list()\n",
    "top_f = max_score[max_score[\"POS\"] == \"F\"].Player.to_list()\n",
    "top_mf = max_score[max_score[\"POS\"] == \"M\"].Player.to_list()\n",
    "top_d = max_score[max_score[\"POS\"] == \"D\"].Player.to_list()"
   ]
  },
  {
   "cell_type": "code",
   "execution_count": 1040,
   "metadata": {},
   "outputs": [
    {
     "data": {
      "text/html": [
       "<div>\n",
       "<style scoped>\n",
       "    .dataframe tbody tr th:only-of-type {\n",
       "        vertical-align: middle;\n",
       "    }\n",
       "\n",
       "    .dataframe tbody tr th {\n",
       "        vertical-align: top;\n",
       "    }\n",
       "\n",
       "    .dataframe thead th {\n",
       "        text-align: right;\n",
       "    }\n",
       "</style>\n",
       "<table border=\"1\" class=\"dataframe\">\n",
       "  <thead>\n",
       "    <tr style=\"text-align: right;\">\n",
       "      <th></th>\n",
       "      <th>Player</th>\n",
       "      <th>POS</th>\n",
       "      <th>G_x</th>\n",
       "      <th>G_y</th>\n",
       "      <th>difference_x</th>\n",
       "      <th>difference_y</th>\n",
       "    </tr>\n",
       "  </thead>\n",
       "  <tbody>\n",
       "    <tr>\n",
       "      <th>0</th>\n",
       "      <td>Eric Wynalda</td>\n",
       "      <td>F</td>\n",
       "      <td>1</td>\n",
       "      <td>10</td>\n",
       "      <td>9</td>\n",
       "      <td>9</td>\n",
       "    </tr>\n",
       "    <tr>\n",
       "      <th>27</th>\n",
       "      <td>John Wilmar Perez</td>\n",
       "      <td>M</td>\n",
       "      <td>3</td>\n",
       "      <td>8</td>\n",
       "      <td>5</td>\n",
       "      <td>5</td>\n",
       "    </tr>\n",
       "    <tr>\n",
       "      <th>86</th>\n",
       "      <td>Ezra Hendrickson</td>\n",
       "      <td>D</td>\n",
       "      <td>1</td>\n",
       "      <td>5</td>\n",
       "      <td>4</td>\n",
       "      <td>4</td>\n",
       "    </tr>\n",
       "    <tr>\n",
       "      <th>140</th>\n",
       "      <td>Jorge Rodriguez</td>\n",
       "      <td>M-D</td>\n",
       "      <td>4</td>\n",
       "      <td>6</td>\n",
       "      <td>2</td>\n",
       "      <td>2</td>\n",
       "    </tr>\n",
       "    <tr>\n",
       "      <th>144</th>\n",
       "      <td>Zach Thornton</td>\n",
       "      <td>GK</td>\n",
       "      <td>0</td>\n",
       "      <td>0</td>\n",
       "      <td>0</td>\n",
       "      <td>0</td>\n",
       "    </tr>\n",
       "    <tr>\n",
       "      <th>145</th>\n",
       "      <td>Jeff Causey</td>\n",
       "      <td>GK</td>\n",
       "      <td>0</td>\n",
       "      <td>0</td>\n",
       "      <td>0</td>\n",
       "      <td>0</td>\n",
       "    </tr>\n",
       "    <tr>\n",
       "      <th>146</th>\n",
       "      <td>Nick Rimando</td>\n",
       "      <td>GK</td>\n",
       "      <td>0</td>\n",
       "      <td>0</td>\n",
       "      <td>0</td>\n",
       "      <td>0</td>\n",
       "    </tr>\n",
       "    <tr>\n",
       "      <th>147</th>\n",
       "      <td>Tom Presthus</td>\n",
       "      <td>GK</td>\n",
       "      <td>0</td>\n",
       "      <td>0</td>\n",
       "      <td>0</td>\n",
       "      <td>0</td>\n",
       "    </tr>\n",
       "    <tr>\n",
       "      <th>148</th>\n",
       "      <td>David Kramer</td>\n",
       "      <td>GK</td>\n",
       "      <td>0</td>\n",
       "      <td>0</td>\n",
       "      <td>0</td>\n",
       "      <td>0</td>\n",
       "    </tr>\n",
       "    <tr>\n",
       "      <th>149</th>\n",
       "      <td>Adin Brown</td>\n",
       "      <td>GK</td>\n",
       "      <td>0</td>\n",
       "      <td>0</td>\n",
       "      <td>0</td>\n",
       "      <td>0</td>\n",
       "    </tr>\n",
       "    <tr>\n",
       "      <th>150</th>\n",
       "      <td>Mark Simpson</td>\n",
       "      <td>GK</td>\n",
       "      <td>0</td>\n",
       "      <td>0</td>\n",
       "      <td>0</td>\n",
       "      <td>0</td>\n",
       "    </tr>\n",
       "    <tr>\n",
       "      <th>151</th>\n",
       "      <td>Juergen Sommer</td>\n",
       "      <td>GK</td>\n",
       "      <td>0</td>\n",
       "      <td>0</td>\n",
       "      <td>0</td>\n",
       "      <td>0</td>\n",
       "    </tr>\n",
       "    <tr>\n",
       "      <th>152</th>\n",
       "      <td>Jeff Cassar</td>\n",
       "      <td>GK</td>\n",
       "      <td>0</td>\n",
       "      <td>0</td>\n",
       "      <td>0</td>\n",
       "      <td>0</td>\n",
       "    </tr>\n",
       "    <tr>\n",
       "      <th>153</th>\n",
       "      <td>Tim Howard</td>\n",
       "      <td>GK</td>\n",
       "      <td>0</td>\n",
       "      <td>0</td>\n",
       "      <td>0</td>\n",
       "      <td>0</td>\n",
       "    </tr>\n",
       "    <tr>\n",
       "      <th>154</th>\n",
       "      <td>Matt Napoleon</td>\n",
       "      <td>GK</td>\n",
       "      <td>0</td>\n",
       "      <td>0</td>\n",
       "      <td>0</td>\n",
       "      <td>0</td>\n",
       "    </tr>\n",
       "    <tr>\n",
       "      <th>155</th>\n",
       "      <td>Jon Conway</td>\n",
       "      <td>GK</td>\n",
       "      <td>0</td>\n",
       "      <td>0</td>\n",
       "      <td>0</td>\n",
       "      <td>0</td>\n",
       "    </tr>\n",
       "    <tr>\n",
       "      <th>156</th>\n",
       "      <td>Matt Reis</td>\n",
       "      <td>GK</td>\n",
       "      <td>0</td>\n",
       "      <td>0</td>\n",
       "      <td>0</td>\n",
       "      <td>0</td>\n",
       "    </tr>\n",
       "    <tr>\n",
       "      <th>157</th>\n",
       "      <td>Chris Snitko</td>\n",
       "      <td>GK</td>\n",
       "      <td>0</td>\n",
       "      <td>0</td>\n",
       "      <td>0</td>\n",
       "      <td>0</td>\n",
       "    </tr>\n",
       "    <tr>\n",
       "      <th>158</th>\n",
       "      <td>Paul Grafer</td>\n",
       "      <td>GK</td>\n",
       "      <td>0</td>\n",
       "      <td>0</td>\n",
       "      <td>0</td>\n",
       "      <td>0</td>\n",
       "    </tr>\n",
       "    <tr>\n",
       "      <th>159</th>\n",
       "      <td>Preston Burpo</td>\n",
       "      <td>GK</td>\n",
       "      <td>0</td>\n",
       "      <td>0</td>\n",
       "      <td>0</td>\n",
       "      <td>0</td>\n",
       "    </tr>\n",
       "    <tr>\n",
       "      <th>160</th>\n",
       "      <td>Rich Cullen</td>\n",
       "      <td>GK</td>\n",
       "      <td>0</td>\n",
       "      <td>0</td>\n",
       "      <td>0</td>\n",
       "      <td>0</td>\n",
       "    </tr>\n",
       "    <tr>\n",
       "      <th>161</th>\n",
       "      <td>Randy Dedini</td>\n",
       "      <td>GK</td>\n",
       "      <td>0</td>\n",
       "      <td>0</td>\n",
       "      <td>0</td>\n",
       "      <td>0</td>\n",
       "    </tr>\n",
       "    <tr>\n",
       "      <th>162</th>\n",
       "      <td>Mike Ammann</td>\n",
       "      <td>GK</td>\n",
       "      <td>0</td>\n",
       "      <td>0</td>\n",
       "      <td>0</td>\n",
       "      <td>0</td>\n",
       "    </tr>\n",
       "    <tr>\n",
       "      <th>163</th>\n",
       "      <td>Mark Dougherty</td>\n",
       "      <td>GK</td>\n",
       "      <td>0</td>\n",
       "      <td>0</td>\n",
       "      <td>0</td>\n",
       "      <td>0</td>\n",
       "    </tr>\n",
       "    <tr>\n",
       "      <th>164</th>\n",
       "      <td>Kevin Hartman</td>\n",
       "      <td>GK</td>\n",
       "      <td>0</td>\n",
       "      <td>0</td>\n",
       "      <td>0</td>\n",
       "      <td>0</td>\n",
       "    </tr>\n",
       "    <tr>\n",
       "      <th>165</th>\n",
       "      <td>Matt Jordan</td>\n",
       "      <td>GK</td>\n",
       "      <td>0</td>\n",
       "      <td>0</td>\n",
       "      <td>0</td>\n",
       "      <td>0</td>\n",
       "    </tr>\n",
       "    <tr>\n",
       "      <th>166</th>\n",
       "      <td>Joe Cannon</td>\n",
       "      <td>GK</td>\n",
       "      <td>0</td>\n",
       "      <td>0</td>\n",
       "      <td>0</td>\n",
       "      <td>0</td>\n",
       "    </tr>\n",
       "    <tr>\n",
       "      <th>167</th>\n",
       "      <td>David Winner</td>\n",
       "      <td>GK</td>\n",
       "      <td>0</td>\n",
       "      <td>0</td>\n",
       "      <td>0</td>\n",
       "      <td>0</td>\n",
       "    </tr>\n",
       "    <tr>\n",
       "      <th>168</th>\n",
       "      <td>Brian West</td>\n",
       "      <td>M-F</td>\n",
       "      <td>6</td>\n",
       "      <td>5</td>\n",
       "      <td>-1</td>\n",
       "      <td>-1</td>\n",
       "    </tr>\n",
       "    <tr>\n",
       "      <th>169</th>\n",
       "      <td>Roy Myers</td>\n",
       "      <td>M-F</td>\n",
       "      <td>1</td>\n",
       "      <td>0</td>\n",
       "      <td>-1</td>\n",
       "      <td>-1</td>\n",
       "    </tr>\n",
       "    <tr>\n",
       "      <th>171</th>\n",
       "      <td>Antonio Martinez</td>\n",
       "      <td>F-M</td>\n",
       "      <td>2</td>\n",
       "      <td>1</td>\n",
       "      <td>-1</td>\n",
       "      <td>-1</td>\n",
       "    </tr>\n",
       "    <tr>\n",
       "      <th>172</th>\n",
       "      <td>Wes Hart</td>\n",
       "      <td>D-M</td>\n",
       "      <td>2</td>\n",
       "      <td>0</td>\n",
       "      <td>-2</td>\n",
       "      <td>-2</td>\n",
       "    </tr>\n",
       "  </tbody>\n",
       "</table>\n",
       "</div>"
      ],
      "text/plain": [
       "                Player  POS  G_x  G_y  difference_x  difference_y\n",
       "0         Eric Wynalda    F    1   10             9             9\n",
       "27   John Wilmar Perez    M    3    8             5             5\n",
       "86    Ezra Hendrickson    D    1    5             4             4\n",
       "140    Jorge Rodriguez  M-D    4    6             2             2\n",
       "144      Zach Thornton   GK    0    0             0             0\n",
       "145        Jeff Causey   GK    0    0             0             0\n",
       "146       Nick Rimando   GK    0    0             0             0\n",
       "147       Tom Presthus   GK    0    0             0             0\n",
       "148       David Kramer   GK    0    0             0             0\n",
       "149         Adin Brown   GK    0    0             0             0\n",
       "150       Mark Simpson   GK    0    0             0             0\n",
       "151     Juergen Sommer   GK    0    0             0             0\n",
       "152        Jeff Cassar   GK    0    0             0             0\n",
       "153         Tim Howard   GK    0    0             0             0\n",
       "154      Matt Napoleon   GK    0    0             0             0\n",
       "155         Jon Conway   GK    0    0             0             0\n",
       "156          Matt Reis   GK    0    0             0             0\n",
       "157       Chris Snitko   GK    0    0             0             0\n",
       "158        Paul Grafer   GK    0    0             0             0\n",
       "159      Preston Burpo   GK    0    0             0             0\n",
       "160        Rich Cullen   GK    0    0             0             0\n",
       "161       Randy Dedini   GK    0    0             0             0\n",
       "162        Mike Ammann   GK    0    0             0             0\n",
       "163     Mark Dougherty   GK    0    0             0             0\n",
       "164      Kevin Hartman   GK    0    0             0             0\n",
       "165        Matt Jordan   GK    0    0             0             0\n",
       "166         Joe Cannon   GK    0    0             0             0\n",
       "167       David Winner   GK    0    0             0             0\n",
       "168         Brian West  M-F    6    5            -1            -1\n",
       "169          Roy Myers  M-F    1    0            -1            -1\n",
       "171   Antonio Martinez  F-M    2    1            -1            -1\n",
       "172           Wes Hart  D-M    2    0            -2            -2"
      ]
     },
     "execution_count": 1040,
     "metadata": {},
     "output_type": "execute_result"
    }
   ],
   "source": [
    "max_score"
   ]
  },
  {
   "cell_type": "code",
   "execution_count": 1041,
   "metadata": {},
   "outputs": [
    {
     "name": "stdout",
     "output_type": "stream",
     "text": [
      "['Eric Wynalda'] ['John Wilmar Perez'] ['Ezra Hendrickson']\n"
     ]
    }
   ],
   "source": [
    "print(top_f, top_mf, top_d)"
   ]
  },
  {
   "cell_type": "code",
   "execution_count": 1042,
   "metadata": {
    "id": "DZQt-7ixkR6h"
   },
   "outputs": [],
   "source": [
    "# Create list of best player names\n",
    "best_players = top_f + top_mf + top_d"
   ]
  },
  {
   "cell_type": "code",
   "execution_count": 1043,
   "metadata": {
    "id": "U7bfJ2CjkqLU"
   },
   "outputs": [
    {
     "data": {
      "text/plain": [
       "['Eric Wynalda', 'John Wilmar Perez', 'Ezra Hendrickson']"
      ]
     },
     "execution_count": 1043,
     "metadata": {},
     "output_type": "execute_result"
    }
   ],
   "source": [
    "best_players"
   ]
  },
  {
   "cell_type": "code",
   "execution_count": 1044,
   "metadata": {
    "id": "N9JzrDXHrsUT"
   },
   "outputs": [
    {
     "name": "stdout",
     "output_type": "stream",
     "text": [
      "Correct! You earned 6/6 points. You are a star!\n",
      "\n",
      "Your submission has been successfully recorded in the gradebook.\n"
     ]
    }
   ],
   "source": [
    "# TEST CASE: best_players (6pt)\n",
    "# [CIS 545 PennGrader Cell] - 6 points\n",
    "grader.grade(test_case_id = 'best_players', answer = (together_df, best_players))"
   ]
  },
  {
   "cell_type": "markdown",
   "metadata": {
    "id": "Rkj6SEc7QqNi"
   },
   "source": [
    "# Part 3: Correlation Matrix [6 points]\n",
    "\n"
   ]
  },
  {
   "cell_type": "markdown",
   "metadata": {
    "id": "x3W2kEf8Qw5j"
   },
   "source": [
    "## 3.1 Correlation Matrix (4 + 2 points)\n",
    "\n",
    "Occasionally, there are unexpected correlations in the data. One way to find these correlations is to use a correlation matrix. We suspect that there might be a correlation between games played (`GP`), goals scored (`G`), and assists made (`A`). But how strong is the correlation? Also, could there be any correlation between two seemingly uncorrelated features? **If there is a correlation, how strong is it?**\n",
    "\n",
    "In this section, we will create the correlation matrix for `players_cleaned_df`.\n",
    "\n",
    "\n",
    "#### **TODO: 3.1**\n",
    "\n",
    "- Create a dataframe called `subset_players` that only contains the following columns from `players_cleaned_df`: `Year`, `GP`, `G`, `A`.\n",
    "\n",
    "- Generate the correlation matrix.  *Hint*: Read about Pandas \"corr()\" function.\n",
    "\n",
    "- Name your final answer correlation matrix dataframe to: `correlation_matrix` (4 points)\n",
    "\n",
    "- Plot a correlation matrix -- just to get a sense of what it might look like!"
   ]
  },
  {
   "cell_type": "code",
   "execution_count": 1046,
   "metadata": {
    "id": "XZ4dJ7FJQp-m"
   },
   "outputs": [],
   "source": [
    "#TODO: Create correlation matrix\n",
    "subset_players = players_cleaned_df[[\"Year\", \"GP\", \"G\", \"A\"]]\n",
    "correlation_matrix = subset_players.corr()"
   ]
  },
  {
   "cell_type": "code",
   "execution_count": 1047,
   "metadata": {
    "id": "77makPYI3Iq4"
   },
   "outputs": [
    {
     "data": {
      "text/html": [
       "<div>\n",
       "<style scoped>\n",
       "    .dataframe tbody tr th:only-of-type {\n",
       "        vertical-align: middle;\n",
       "    }\n",
       "\n",
       "    .dataframe tbody tr th {\n",
       "        vertical-align: top;\n",
       "    }\n",
       "\n",
       "    .dataframe thead th {\n",
       "        text-align: right;\n",
       "    }\n",
       "</style>\n",
       "<table border=\"1\" class=\"dataframe\">\n",
       "  <thead>\n",
       "    <tr style=\"text-align: right;\">\n",
       "      <th></th>\n",
       "      <th>Year</th>\n",
       "      <th>GP</th>\n",
       "      <th>G</th>\n",
       "      <th>A</th>\n",
       "    </tr>\n",
       "  </thead>\n",
       "  <tbody>\n",
       "    <tr>\n",
       "      <th>Year</th>\n",
       "      <td>1.000000</td>\n",
       "      <td>-0.048239</td>\n",
       "      <td>-0.041278</td>\n",
       "      <td>-0.101238</td>\n",
       "    </tr>\n",
       "    <tr>\n",
       "      <th>GP</th>\n",
       "      <td>-0.048239</td>\n",
       "      <td>1.000000</td>\n",
       "      <td>0.465885</td>\n",
       "      <td>0.538101</td>\n",
       "    </tr>\n",
       "    <tr>\n",
       "      <th>G</th>\n",
       "      <td>-0.041278</td>\n",
       "      <td>0.465885</td>\n",
       "      <td>1.000000</td>\n",
       "      <td>0.555379</td>\n",
       "    </tr>\n",
       "    <tr>\n",
       "      <th>A</th>\n",
       "      <td>-0.101238</td>\n",
       "      <td>0.538101</td>\n",
       "      <td>0.555379</td>\n",
       "      <td>1.000000</td>\n",
       "    </tr>\n",
       "  </tbody>\n",
       "</table>\n",
       "</div>"
      ],
      "text/plain": [
       "          Year        GP         G         A\n",
       "Year  1.000000 -0.048239 -0.041278 -0.101238\n",
       "GP   -0.048239  1.000000  0.465885  0.538101\n",
       "G    -0.041278  0.465885  1.000000  0.555379\n",
       "A    -0.101238  0.538101  0.555379  1.000000"
      ]
     },
     "execution_count": 1047,
     "metadata": {},
     "output_type": "execute_result"
    }
   ],
   "source": [
    "correlation_matrix"
   ]
  },
  {
   "cell_type": "code",
   "execution_count": 1048,
   "metadata": {
    "id": "0fmggeUASbwX"
   },
   "outputs": [
    {
     "name": "stdout",
     "output_type": "stream",
     "text": [
      "Correct! You earned 4/4 points. You are a star!\n",
      "\n",
      "Your submission has been successfully recorded in the gradebook.\n"
     ]
    }
   ],
   "source": [
    "# TEST CASE: correlation_matrix (4pt)\n",
    "# [CIS 545 PennGrader Cell] - 4 points\n",
    "grader.grade(test_case_id = 'correlation_matrix', answer = correlation_matrix)"
   ]
  },
  {
   "cell_type": "markdown",
   "metadata": {
    "id": "xMCtqKYwSftV"
   },
   "source": [
    "Here we provide code for you to visualize the correlation matrix. In the following code snippet below, please assign your correlation matrix to the variable named \"corr\" and then run the cell. You should see a correlation matrix!"
   ]
  },
  {
   "cell_type": "code",
   "execution_count": 1050,
   "metadata": {
    "id": "FhJy9aylRX2P"
   },
   "outputs": [
    {
     "data": {
      "image/png": "[encoded data removed]",
      "text/plain": [
       "<Figure size 792x648 with 2 Axes>"
      ]
     },
     "metadata": {
      "needs_background": "light"
     },
     "output_type": "display_data"
    }
   ],
   "source": [
    "sns.set(style = \"white\")\n",
    "\n",
    "# Generate a large random dataset\n",
    "rs = np.random.RandomState(33)\n",
    "d = pd.DataFrame(data=rs.normal(size=(100, 26)),\n",
    "                 columns=list(ascii_letters[26:]))\n",
    "\n",
    "# Compute the correlation matrix\n",
    "# ASSIGN THE \"corr\" VARIABLE TO YOUR CORRELATION MATRIX\n",
    "corr = correlation_matrix\n",
    "\n",
    "# Generate a mask for the upper triangle\n",
    "mask = np.zeros_like(corr, dtype=np.bool)\n",
    "mask[np.triu_indices_from(mask)] = True\n",
    "\n",
    "# Set up the matplotlib figure\n",
    "f, ax = plt.subplots(figsize=(11, 9))\n",
    "\n",
    "# Generate a custom diverging colormap\n",
    "cmap = sns.diverging_palette(220, 10, as_cmap=True)\n",
    "\n",
    "# Draw the heatmap with the mask and correct aspect ratio\n",
    "sns.heatmap(corr, mask=mask, cmap=cmap, vmax=.3, center=0,\n",
    "            square=True, linewidths=.5, cbar_kws={\"shrink\": .5})\n",
    "plt.title(\"Correlation Heatmap\")\n",
    "plt.show()"
   ]
  },
  {
   "cell_type": "markdown",
   "metadata": {
    "id": "qjeBQ8sstjBb"
   },
   "source": [
    "# Part 4: XPath [9 points]\n"
   ]
  },
  {
   "cell_type": "markdown",
   "metadata": {
    "id": "r_-jnExB1yy8"
   },
   "source": [
    "So far, we've looked at data on MLS matches. Let's change our scope to look at captains from the most recent competition! The datasets we provide are compiled for us on Kaggle, but sometimes we need to create our own datasets! We'll do some web scraping and work web-based data!\n",
    "\n",
    "On [wikipedia.org](https://en.wikipedia.org/wiki/2022_Major_League_Soccer_season), we have a table with MLS stadium data. \n",
    "\n",
    "We get the DOM tree for you below."
   ]
  },
  {
   "cell_type": "code",
   "execution_count": 1051,
   "metadata": {
    "id": "SQRU1TnI14du"
   },
   "outputs": [
    {
     "name": "stdout",
     "output_type": "stream",
     "text": [
      "<Element html at 0x7fa60159e2f0>\n"
     ]
    }
   ],
   "source": [
    "# Request the data and build the DOM tree (we've done this for you!)\n",
    "w = requests.get(\"https://en.wikipedia.org/wiki/2022_Major_League_Soccer_season\")\n",
    "dom_tree = html.fromstring(w.content)\n",
    "print(dom_tree)"
   ]
  },
  {
   "cell_type": "markdown",
   "metadata": {
    "id": "8wuNl0OF4Rok"
   },
   "source": [
    "## 4.1: Update dom_tree to get only the captains table "
   ]
  },
  {
   "cell_type": "markdown",
   "metadata": {
    "id": "_gClUyOY4FEO"
   },
   "source": [
    "Note the webpage has multiple tables. To find all of these tables we can use the xpath `//table/*`"
   ]
  },
  {
   "cell_type": "code",
   "execution_count": 1052,
   "metadata": {
    "id": "ME3L4N3f4D60"
   },
   "outputs": [
    {
     "data": {
      "text/plain": [
       "[<Element caption at 0x7fa60159e4d0>,\n",
       " <Element tbody at 0x7fa60159e470>,\n",
       " <Element tbody at 0x7fa60159e710>,\n",
       " <Element tbody at 0x7fa60159e770>,\n",
       " <Element tbody at 0x7fa60159e7d0>,\n",
       " <Element tbody at 0x7fa60159e830>,\n",
       " <Element tbody at 0x7fa60159e890>,\n",
       " <Element tbody at 0x7fa60159e8f0>,\n",
       " <Element tbody at 0x7fa60159e950>,\n",
       " <Element tbody at 0x7fa60159e9b0>,\n",
       " <Element tbody at 0x7fa60159ea10>,\n",
       " <Element tbody at 0x7fa60159ea70>,\n",
       " <Element caption at 0x7fa60159ead0>,\n",
       " <Element tbody at 0x7fa60159eb30>,\n",
       " <Element tbody at 0x7fa60159eb90>,\n",
       " <Element tbody at 0x7fa60159ebf0>,\n",
       " <Element tbody at 0x7fa60159ec50>,\n",
       " <Element tbody at 0x7fa60159ecb0>,\n",
       " <Element tbody at 0x7fa60159ed10>,\n",
       " <Element tbody at 0x7fa60159ed70>,\n",
       " <Element tbody at 0x7fa60159edd0>,\n",
       " <Element tbody at 0x7fa60159ee30>,\n",
       " <Element tbody at 0x7fa60159ee90>,\n",
       " <Element tbody at 0x7fa60159eef0>,\n",
       " <Element tbody at 0x7fa60159ef50>,\n",
       " <Element tbody at 0x7fa60159efb0>,\n",
       " <Element tbody at 0x7fa601587050>,\n",
       " <Element tbody at 0x7fa6015870b0>,\n",
       " <Element tbody at 0x7fa601587110>,\n",
       " <Element tbody at 0x7fa601587170>,\n",
       " <Element tbody at 0x7fa6015871d0>,\n",
       " <Element tbody at 0x7fa601587230>,\n",
       " <Element tbody at 0x7fa601587290>,\n",
       " <Element tbody at 0x7fa6015872f0>,\n",
       " <Element tbody at 0x7fa601587350>,\n",
       " <Element tbody at 0x7fa6015873b0>,\n",
       " <Element tbody at 0x7fa601587410>,\n",
       " <Element tbody at 0x7fa601587470>,\n",
       " <Element tbody at 0x7fa6015874d0>,\n",
       " <Element tbody at 0x7fa601587530>,\n",
       " <Element tbody at 0x7fa601587590>]"
      ]
     },
     "execution_count": 1052,
     "metadata": {},
     "output_type": "execute_result"
    }
   ],
   "source": [
    "dom_tree.xpath(\"//table/*\")"
   ]
  },
  {
   "cell_type": "markdown",
   "metadata": {
    "id": "ZqS0rZdA4jj9"
   },
   "source": [
    "We are only interested in the 'Personel and Sponsorships' table (third result in the list). \n",
    "TODO:\n",
    "- Create `updated_dom_tree` to contain the tbody element of the table.\n",
    "- Use `updated_dom_tree` to complete the below questions \n",
    "\n",
    "**Hint**: What does each index of the above xpath search contain? "
   ]
  },
  {
   "cell_type": "code",
   "execution_count": 1053,
   "metadata": {
    "id": "pxriwfgM4VYg"
   },
   "outputs": [],
   "source": [
    "#TODO: Create updaed_dom_tree to contain the tbody element\n",
    "updated_dom_tree = dom_tree.xpath(\"//table//tbody\")[2]"
   ]
  },
  {
   "cell_type": "code",
   "execution_count": 1054,
   "metadata": {},
   "outputs": [
    {
     "data": {
      "text/plain": [
       "<Element tbody at 0x7fa60159e770>"
      ]
     },
     "execution_count": 1054,
     "metadata": {},
     "output_type": "execute_result"
    }
   ],
   "source": [
    "updated_dom_tree"
   ]
  },
  {
   "cell_type": "markdown",
   "metadata": {
    "id": "6SccbFiJ2Adl"
   },
   "source": [
    "## 4.2 Captain Names (2 points)\n",
    "\n",
    "TODO: Create 2 variables - `x_path_captain_name` and `captain_names`.\n",
    "\n",
    "`x_path_captain_name` should be equal to the actual xpath string. That is it should take in html tags in the following way:\n",
    "`x_path_captain_name = “/.../…/text()”`\n",
    "\n",
    "**Hint**: Since in 4.1 we updated the dom tree to start at the specific table we don't need to start the xpath with `/.../table`, we can instead start the xpath string with the next element after `table`.\n",
    "\n",
    "**Hint**: You can use the 'inspect' tool on the website and see the various html tags and labels to figure out how we generate the xpath for the table! Recitation notes will also be helpful!\n",
    "\n",
    "Next, the variable `captain_names` will take in the `x_path_captain_name` string and use the `updated_dom_tree` variable from 4.1 to store the names of all the captains.\n",
    "\n",
    "Return captain_names which is a list with all the captain names."
   ]
  },
  {
   "cell_type": "code",
   "execution_count": 1055,
   "metadata": {
    "id": "ATBVO_Vj2RqM"
   },
   "outputs": [],
   "source": [
    "# TODO: Define the xpath string\n",
    "x_path_captain_name = \"//table[3]//tr//td[3]//span[@class='fn']//text()\"\n",
    "captain_names = dom_tree.xpath(x_path_captain_name)"
   ]
  },
  {
   "cell_type": "code",
   "execution_count": 1056,
   "metadata": {
    "id": "lw8YQVaB2Pa2"
   },
   "outputs": [
    {
     "name": "stdout",
     "output_type": "stream",
     "text": [
      "['Brad Guzan', 'Alexander Ring', 'Christian Fuchs', 'Rafael Czichos', 'Luciano Acosta', 'Jack Price', 'Jonathan Mensah', 'Steve Birnbaum', 'Matt Hedges', 'Tim Parker', 'Gregore ', 'Javier Hernández', 'Carlos Vela', 'Wil Trapp', 'Samuel Piette', 'Dax McCarty', 'Carles Gil', 'Sean Johnson', 'Aaron Long', 'Mauricio Pereyra', 'Alejandro Bedoya', 'Diego Chara', 'Damir Kreilach', 'Jackson Yueill', 'Nicolás Lodeiro', 'Johnny Russell', 'Michael Bradley', 'Russell Teibert']\n"
     ]
    }
   ],
   "source": [
    "# Take a look at the list\n",
    "print(captain_names)"
   ]
  },
  {
   "cell_type": "code",
   "execution_count": 1057,
   "metadata": {
    "id": "Hz6wrbpi65dF"
   },
   "outputs": [
    {
     "name": "stdout",
     "output_type": "stream",
     "text": [
      "Correct! You earned 2/2 points. You are a star!\n",
      "\n",
      "Your submission has been successfully recorded in the gradebook.\n"
     ]
    }
   ],
   "source": [
    "# TEST CASE: xpath_captain_names (2pt)\n",
    "# [CIS 545 PennGrader Cell] - 2 points\n",
    "grader.grade(test_case_id = 'xpath_captains', answer = captain_names)"
   ]
  },
  {
   "cell_type": "markdown",
   "metadata": {
    "id": "7v2Ia7Ft9kLD"
   },
   "source": [
    "## 4.3 Team Names (2 points)\n",
    "TODO: Create `x_path_team_names` and `team_names`\n",
    "\n",
    "This should be very similar to scraping captain names. Change the xpath accordingly to get the team names column of the table into a list! \n",
    "\n",
    "`x_path_team_names` is the xpath string to pass into dom_tree.xpath() to retrive teams.\n",
    "\n",
    "`team_names` is the list of teams. Elements in this list should be strings, without any null or newline strings."
   ]
  },
  {
   "cell_type": "code",
   "execution_count": 1058,
   "metadata": {
    "id": "GGjyeWcJ95xg"
   },
   "outputs": [],
   "source": [
    "x_path_team_names = \"//table[3]//tr//td[1]//a//text()\"\n",
    "team_names = dom_tree.xpath(x_path_team_names)"
   ]
  },
  {
   "cell_type": "code",
   "execution_count": 1059,
   "metadata": {
    "id": "c0ZAO5NisG_V"
   },
   "outputs": [
    {
     "name": "stdout",
     "output_type": "stream",
     "text": [
      "['Atlanta United FC', 'Austin FC', 'Charlotte FC', 'Chicago Fire FC', 'FC Cincinnati', 'Colorado Rapids', 'Columbus Crew', 'D.C. United', 'FC Dallas', 'Houston Dynamo FC', 'Inter Miami CF', 'LA Galaxy', 'Los Angeles FC', 'Minnesota United FC', 'CF Montréal', 'Nashville SC', 'New England Revolution', 'New York City FC', 'New York Red Bulls', 'Orlando City SC', 'Philadelphia Union', 'Portland Timbers', 'Real Salt Lake', 'San Jose Earthquakes', 'Seattle Sounders FC', 'Sporting Kansas City', 'Toronto FC', 'Vancouver Whitecaps FC']\n"
     ]
    }
   ],
   "source": [
    "# Take a look at the list\n",
    "print(team_names)"
   ]
  },
  {
   "cell_type": "code",
   "execution_count": 1060,
   "metadata": {
    "id": "EhKdkEg47OC0"
   },
   "outputs": [
    {
     "name": "stdout",
     "output_type": "stream",
     "text": [
      "Correct! You earned 2/2 points. You are a star!\n",
      "\n",
      "Your submission has been successfully recorded in the gradebook.\n"
     ]
    }
   ],
   "source": [
    "# TEST CASE: xpath_teams (2pt)\n",
    "# [CIS 545 PennGrader Cell] - 2 points\n",
    "grader.grade(test_case_id = 'xpath_teams', answer = team_names)"
   ]
  },
  {
   "cell_type": "markdown",
   "metadata": {
    "id": "X9EJFxzkEWyf"
   },
   "source": [
    "## 4.4 Putting it together (3 points)\n",
    "\n",
    "Create a dataframe called `captains_df` by using the `team_names` and `captain_names` lists that you created in 4.2 and 4.3.\n",
    "\n",
    "The dataframe should have 2 columns. The first should be called `team_name`. The second should be called `captain_name`. The data for these columns should come from the lists."
   ]
  },
  {
   "cell_type": "code",
   "execution_count": 1075,
   "metadata": {
    "id": "xR1bCfVVEhOL"
   },
   "outputs": [
    {
     "data": {
      "text/html": [
       "<div>\n",
       "<style scoped>\n",
       "    .dataframe tbody tr th:only-of-type {\n",
       "        vertical-align: middle;\n",
       "    }\n",
       "\n",
       "    .dataframe tbody tr th {\n",
       "        vertical-align: top;\n",
       "    }\n",
       "\n",
       "    .dataframe thead th {\n",
       "        text-align: right;\n",
       "    }\n",
       "</style>\n",
       "<table border=\"1\" class=\"dataframe\">\n",
       "  <thead>\n",
       "    <tr style=\"text-align: right;\">\n",
       "      <th></th>\n",
       "      <th>team_name</th>\n",
       "      <th>captain_name</th>\n",
       "    </tr>\n",
       "  </thead>\n",
       "  <tbody>\n",
       "    <tr>\n",
       "      <th>0</th>\n",
       "      <td>Atlanta United FC</td>\n",
       "      <td>Brad Guzan</td>\n",
       "    </tr>\n",
       "    <tr>\n",
       "      <th>1</th>\n",
       "      <td>Austin FC</td>\n",
       "      <td>Alexander Ring</td>\n",
       "    </tr>\n",
       "    <tr>\n",
       "      <th>2</th>\n",
       "      <td>Charlotte FC</td>\n",
       "      <td>Christian Fuchs</td>\n",
       "    </tr>\n",
       "    <tr>\n",
       "      <th>3</th>\n",
       "      <td>Chicago Fire FC</td>\n",
       "      <td>Rafael Czichos</td>\n",
       "    </tr>\n",
       "    <tr>\n",
       "      <th>4</th>\n",
       "      <td>FC Cincinnati</td>\n",
       "      <td>Luciano Acosta</td>\n",
       "    </tr>\n",
       "    <tr>\n",
       "      <th>5</th>\n",
       "      <td>Colorado Rapids</td>\n",
       "      <td>Jack Price</td>\n",
       "    </tr>\n",
       "    <tr>\n",
       "      <th>6</th>\n",
       "      <td>Columbus Crew</td>\n",
       "      <td>Jonathan Mensah</td>\n",
       "    </tr>\n",
       "    <tr>\n",
       "      <th>7</th>\n",
       "      <td>D.C. United</td>\n",
       "      <td>Steve Birnbaum</td>\n",
       "    </tr>\n",
       "    <tr>\n",
       "      <th>8</th>\n",
       "      <td>FC Dallas</td>\n",
       "      <td>Matt Hedges</td>\n",
       "    </tr>\n",
       "    <tr>\n",
       "      <th>9</th>\n",
       "      <td>Houston Dynamo FC</td>\n",
       "      <td>Tim Parker</td>\n",
       "    </tr>\n",
       "    <tr>\n",
       "      <th>10</th>\n",
       "      <td>Inter Miami CF</td>\n",
       "      <td>Gregore</td>\n",
       "    </tr>\n",
       "    <tr>\n",
       "      <th>11</th>\n",
       "      <td>LA Galaxy</td>\n",
       "      <td>Javier Hernández</td>\n",
       "    </tr>\n",
       "    <tr>\n",
       "      <th>12</th>\n",
       "      <td>Los Angeles FC</td>\n",
       "      <td>Carlos Vela</td>\n",
       "    </tr>\n",
       "    <tr>\n",
       "      <th>13</th>\n",
       "      <td>Minnesota United FC</td>\n",
       "      <td>Wil Trapp</td>\n",
       "    </tr>\n",
       "    <tr>\n",
       "      <th>14</th>\n",
       "      <td>CF Montréal</td>\n",
       "      <td>Samuel Piette</td>\n",
       "    </tr>\n",
       "    <tr>\n",
       "      <th>15</th>\n",
       "      <td>Nashville SC</td>\n",
       "      <td>Dax McCarty</td>\n",
       "    </tr>\n",
       "    <tr>\n",
       "      <th>16</th>\n",
       "      <td>New England Revolution</td>\n",
       "      <td>Carles Gil</td>\n",
       "    </tr>\n",
       "    <tr>\n",
       "      <th>17</th>\n",
       "      <td>New York City FC</td>\n",
       "      <td>Sean Johnson</td>\n",
       "    </tr>\n",
       "    <tr>\n",
       "      <th>18</th>\n",
       "      <td>New York Red Bulls</td>\n",
       "      <td>Aaron Long</td>\n",
       "    </tr>\n",
       "    <tr>\n",
       "      <th>19</th>\n",
       "      <td>Orlando City SC</td>\n",
       "      <td>Mauricio Pereyra</td>\n",
       "    </tr>\n",
       "    <tr>\n",
       "      <th>20</th>\n",
       "      <td>Philadelphia Union</td>\n",
       "      <td>Alejandro Bedoya</td>\n",
       "    </tr>\n",
       "    <tr>\n",
       "      <th>21</th>\n",
       "      <td>Portland Timbers</td>\n",
       "      <td>Diego Chara</td>\n",
       "    </tr>\n",
       "    <tr>\n",
       "      <th>22</th>\n",
       "      <td>Real Salt Lake</td>\n",
       "      <td>Damir Kreilach</td>\n",
       "    </tr>\n",
       "    <tr>\n",
       "      <th>23</th>\n",
       "      <td>San Jose Earthquakes</td>\n",
       "      <td>Jackson Yueill</td>\n",
       "    </tr>\n",
       "    <tr>\n",
       "      <th>24</th>\n",
       "      <td>Seattle Sounders FC</td>\n",
       "      <td>Nicolás Lodeiro</td>\n",
       "    </tr>\n",
       "    <tr>\n",
       "      <th>25</th>\n",
       "      <td>Sporting Kansas City</td>\n",
       "      <td>Johnny Russell</td>\n",
       "    </tr>\n",
       "    <tr>\n",
       "      <th>26</th>\n",
       "      <td>Toronto FC</td>\n",
       "      <td>Michael Bradley</td>\n",
       "    </tr>\n",
       "    <tr>\n",
       "      <th>27</th>\n",
       "      <td>Vancouver Whitecaps FC</td>\n",
       "      <td>Russell Teibert</td>\n",
       "    </tr>\n",
       "  </tbody>\n",
       "</table>\n",
       "</div>"
      ],
      "text/plain": [
       "                 team_name      captain_name\n",
       "0        Atlanta United FC        Brad Guzan\n",
       "1                Austin FC    Alexander Ring\n",
       "2             Charlotte FC   Christian Fuchs\n",
       "3          Chicago Fire FC    Rafael Czichos\n",
       "4            FC Cincinnati    Luciano Acosta\n",
       "5          Colorado Rapids        Jack Price\n",
       "6            Columbus Crew   Jonathan Mensah\n",
       "7              D.C. United    Steve Birnbaum\n",
       "8                FC Dallas       Matt Hedges\n",
       "9        Houston Dynamo FC        Tim Parker\n",
       "10          Inter Miami CF          Gregore \n",
       "11               LA Galaxy  Javier Hernández\n",
       "12          Los Angeles FC       Carlos Vela\n",
       "13     Minnesota United FC         Wil Trapp\n",
       "14             CF Montréal     Samuel Piette\n",
       "15            Nashville SC       Dax McCarty\n",
       "16  New England Revolution        Carles Gil\n",
       "17        New York City FC      Sean Johnson\n",
       "18      New York Red Bulls        Aaron Long\n",
       "19         Orlando City SC  Mauricio Pereyra\n",
       "20      Philadelphia Union  Alejandro Bedoya\n",
       "21        Portland Timbers       Diego Chara\n",
       "22          Real Salt Lake    Damir Kreilach\n",
       "23    San Jose Earthquakes    Jackson Yueill\n",
       "24     Seattle Sounders FC   Nicolás Lodeiro\n",
       "25    Sporting Kansas City    Johnny Russell\n",
       "26              Toronto FC   Michael Bradley\n",
       "27  Vancouver Whitecaps FC   Russell Teibert"
      ]
     },
     "execution_count": 1075,
     "metadata": {},
     "output_type": "execute_result"
    }
   ],
   "source": [
    "captains_df = pd.DataFrame(list(zip(team_names, captain_names)), columns =['team_name', 'captain_name'])\n",
    "captains_df"
   ]
  },
  {
   "cell_type": "code",
   "execution_count": 1076,
   "metadata": {
    "id": "9_aD2P3K7dtP"
   },
   "outputs": [
    {
     "name": "stdout",
     "output_type": "stream",
     "text": [
      "Correct! You earned 3/3 points. You are a star!\n",
      "\n",
      "Your submission has been successfully recorded in the gradebook.\n"
     ]
    }
   ],
   "source": [
    "# TEST CASE: xpath_df (3pt)\n",
    "# [CIS 545 PennGrader Cell] - 3 points\n",
    "grader.grade(test_case_id = 'xpath_df', answer = captains_df)"
   ]
  },
  {
   "cell_type": "markdown",
   "metadata": {
    "id": "IUhasmdQEy3A"
   },
   "source": [
    "## 4.5 Summary Statistics (2 point)\n",
    "\n",
    "Now that we scraped some data ingredients from the web, let's look them!\n",
    "\n",
    "Use describe() function to get a summary on the `captain_name` column and save the summary to `captain_stats`"
   ]
  },
  {
   "cell_type": "code",
   "execution_count": 1079,
   "metadata": {
    "id": "_TerMu5PE4iU"
   },
   "outputs": [
    {
     "data": {
      "text/plain": [
       "'Damir Kreilach'"
      ]
     },
     "execution_count": 1079,
     "metadata": {},
     "output_type": "execute_result"
    }
   ],
   "source": [
    "captain_stats = captains_df['captain_name']\n",
    "captain_stats.describe()[\"top\"]\n",
    "# captain_stats"
   ]
  },
  {
   "cell_type": "code",
   "execution_count": 1078,
   "metadata": {
    "id": "A5zkvU6vFDHX"
   },
   "outputs": [
    {
     "name": "stdout",
     "output_type": "stream",
     "text": [
      "You earned 0/2 points.\n",
      "\n",
      "But, don't worry you can re-submit and we will keep only your latest score.\n"
     ]
    }
   ],
   "source": [
    "# TEST CASE: captain_stats (2pt)\n",
    "# [CIS 545 PennGrader Cell] - 2 points\n",
    "grader.grade(test_case_id = 'captain_stats', answer = captain_stats)"
   ]
  },
  {
   "cell_type": "markdown",
   "metadata": {
    "id": "sm80Qhz0h_jn"
   },
   "source": [
    "# HW Submission\n",
    "\n",
    "![doge.jpeg](data:image/jpeg;base64,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)\n",
    "\n",
    "The good news is you basically know the score you already got because of the autograder. In fact, since for the first time the autograder is integrated into Gradescope, you should be able to see your autograder score automatically! There is one question we're manually grading (and we'll check for plagiarism), but for the most part things are relatively certain.\n",
    "\n",
    "Before you submit on Gradescope (you must submit your notebook to receive credit):\n",
    "\n",
    "\n",
    "1.   Restart and Run-All to make sure there's nothing wrong with your notebook\n",
    "2.   **Double check that you have the correct PennID (all numbers) in the autograder**. \n",
    "3. Make sure you've run all the PennGrader cells\n",
    "4. Go to the \"File\" tab at the top left, and download both the .ipynb and .py files, renaming them as \"homework1.ipynb\" and \"homework1.py\" respectively. Upload both files to Gradescope directly!\n",
    "\n",
    "**Let the course staff know ASAP if you have any issues submitting, but otherwise best of luck! Congrats on finishing the first HW.**"
   ]
  },
  {
   "cell_type": "code",
   "execution_count": null,
   "metadata": {},
   "outputs": [],
   "source": []
  },
  {
   "cell_type": "code",
   "execution_count": null,
   "metadata": {},
   "outputs": [],
   "source": []
  },
  {
   "cell_type": "code",
   "execution_count": null,
   "metadata": {},
   "outputs": [],
   "source": []
  },
  {
   "cell_type": "code",
   "execution_count": null,
   "metadata": {},
   "outputs": [],
   "source": []
  },
  {
   "cell_type": "code",
   "execution_count": null,
   "metadata": {},
   "outputs": [],
   "source": []
  }
 ],
 "metadata": {
  "colab": {
   "provenance": []
  },
  "kernelspec": {
   "display_name": "Python 3",
   "language": "python",
   "name": "python3"
  },
  "language_info": {
   "codemirror_mode": {
    "name": "ipython",
    "version": 3
   },
   "file_extension": ".py",
   "mimetype": "text/x-python",
   "name": "python",
   "nbconvert_exporter": "python",
   "pygments_lexer": "ipython3",
   "version": "3.7.6"
  }
 },
 "nbformat": 4,
 "nbformat_minor": 1
}
