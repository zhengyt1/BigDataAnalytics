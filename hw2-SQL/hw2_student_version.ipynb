{
  "cells": [
    {
      "cell_type": "markdown",
      "metadata": {
        "id": "W0hcZWDcqCUL"
      },
      "source": [
        "## Part 0: Libraries and Set Up Jargon (The usual wall of imports)"
      ]
    },
    {
      "cell_type": "markdown",
      "metadata": {
        "id": "wlv8esDGMj0h"
      },
      "source": [
        "# CIS 5450 Homework 2: SQL\n",
        "## Due: Tuesday, February 21 2023, 10pm EST \n",
        "### Worth 100 points in total\n",
        "\n",
        "Welcome to Homework 2! By now, you should be familiar with the world of data science and the Pandas library. This assignment focuses on helping you get to grips with a new tool: SQL.\n",
        "\n",
        "Through this homework, we will be working with SQL (specifically **pandasql**) by exploring a [Indego](https://www.rideindego.com/) dataset containing bike rides, stations and weather data. We will also conduct some text analysis of reataurant reviews in Philly.\n",
        "\n",
        " <!-- We will finish off the homework with some text analysis. -->\n",
        "\n",
        "We are introducing a lot of new things in this homework, and this is often where students start to get lost. Thus, we **strongly** encourage you to review the slides/material as you work through this assignment. \n",
        "\n",
        "**Before you begin:**\n",
        "- Be sure to click \"Copy to Drive\" to make sure you're working on your own personal version of the homework\n",
        "- Check the pinned FAQ post on Ed for updates! If you have been stuck, chances are other students have also faced similar problems.\n",
        "\n",
        "# <ins> Note</ins>: this has historically been the _**MOST  difficult**_ HW out of all of them, so please watch the SQL recitation and **start early**!"
      ]
    },
    {
      "cell_type": "code",
      "execution_count": null,
      "metadata": {
        "id": "ylkUtozb2Oc8",
        "colab": {
          "base_uri": "https://localhost:8080/"
        },
        "outputId": "f72b2566-3a87-49b4-ed7d-cc12d89ecc32"
      },
      "outputs": [
        {
          "output_type": "stream",
          "name": "stdout",
          "text": [
            "Looking in indexes: https://pypi.org/simple, https://us-python.pkg.dev/colab-wheels/public/simple/\n",
            "Collecting penngrader\n",
            "  Downloading penngrader-0.4-py3-none-any.whl (13 kB)\n",
            "Installing collected packages: penngrader\n",
            "Successfully installed penngrader-0.4\n",
            "Looking in indexes: https://pypi.org/simple, https://us-python.pkg.dev/colab-wheels/public/simple/\n",
            "Requirement already satisfied: sqlalchemy==1.4.46 in /usr/local/lib/python3.8/dist-packages (1.4.46)\n",
            "Requirement already satisfied: greenlet!=0.4.17 in /usr/local/lib/python3.8/dist-packages (from sqlalchemy==1.4.46) (2.0.2)\n",
            "Looking in indexes: https://pypi.org/simple, https://us-python.pkg.dev/colab-wheels/public/simple/\n",
            "Collecting pandasql\n",
            "  Downloading pandasql-0.7.3.tar.gz (26 kB)\n",
            "  Preparing metadata (setup.py) ... \u001b[?25l\u001b[?25hdone\n",
            "Requirement already satisfied: numpy in /usr/local/lib/python3.8/dist-packages (from pandasql) (1.21.6)\n",
            "Requirement already satisfied: pandas in /usr/local/lib/python3.8/dist-packages (from pandasql) (1.3.5)\n",
            "Requirement already satisfied: sqlalchemy in /usr/local/lib/python3.8/dist-packages (from pandasql) (1.4.46)\n",
            "Requirement already satisfied: pytz>=2017.3 in /usr/local/lib/python3.8/dist-packages (from pandas->pandasql) (2022.7.1)\n",
            "Requirement already satisfied: python-dateutil>=2.7.3 in /usr/local/lib/python3.8/dist-packages (from pandas->pandasql) (2.8.2)\n",
            "Requirement already satisfied: greenlet!=0.4.17 in /usr/local/lib/python3.8/dist-packages (from sqlalchemy->pandasql) (2.0.2)\n",
            "Requirement already satisfied: six>=1.5 in /usr/local/lib/python3.8/dist-packages (from python-dateutil>=2.7.3->pandas->pandasql) (1.15.0)\n",
            "Building wheels for collected packages: pandasql\n",
            "  Building wheel for pandasql (setup.py) ... \u001b[?25l\u001b[?25hdone\n",
            "  Created wheel for pandasql: filename=pandasql-0.7.3-py3-none-any.whl size=26787 sha256=13ad972f5cb8d60e64106625dc77f0e59fa802aa6cf3bc46b0d9b24693d4bce5\n",
            "  Stored in directory: /root/.cache/pip/wheels/ed/8f/46/a383923333728744f01ba24adbd8e364f2cb9470a8b8e5b9ff\n",
            "Successfully built pandasql\n",
            "Installing collected packages: pandasql\n",
            "Successfully installed pandasql-0.7.3\n",
            "Looking in indexes: https://pypi.org/simple, https://us-python.pkg.dev/colab-wheels/public/simple/\n",
            "Requirement already satisfied: geopy in /usr/local/lib/python3.8/dist-packages (1.17.0)\n",
            "Requirement already satisfied: geographiclib<2,>=1.49 in /usr/local/lib/python3.8/dist-packages (from geopy) (1.52)\n",
            "Looking in indexes: https://pypi.org/simple, https://us-python.pkg.dev/colab-wheels/public/simple/\n",
            "Collecting kaleido\n",
            "  Downloading kaleido-0.2.1-py2.py3-none-manylinux1_x86_64.whl (79.9 MB)\n",
            "\u001b[2K     \u001b[90m━━━━━━━━━━━━━━━━━━━━━━━━━━━━━━━━━━━━━━━━\u001b[0m \u001b[32m79.9/79.9 MB\u001b[0m \u001b[31m10.3 MB/s\u001b[0m eta \u001b[36m0:00:00\u001b[0m\n",
            "\u001b[?25hInstalling collected packages: kaleido\n",
            "Successfully installed kaleido-0.2.1\n"
          ]
        }
      ],
      "source": [
        "!pip3 install penngrader\n",
        "!pip install sqlalchemy==1.4.46\n",
        "!pip install pandasql\n",
        "!pip install geopy\n",
        "!pip install -U kaleido"
      ]
    },
    {
      "cell_type": "code",
      "execution_count": null,
      "metadata": {
        "id": "LAXVD0Lo454x"
      },
      "outputs": [],
      "source": [
        "from penngrader.grader import *\n",
        "import pandas as pd\n",
        "import datetime as dt\n",
        "import geopy.distance as gp\n",
        "import matplotlib.image as mpimg\n",
        "import plotly.express as px\n",
        "# import re\n",
        "import pandasql as ps #SQL on Pandas Dataframe\n",
        "import nltk\n",
        "nltk.download('punkt')\n",
        "\n",
        "from wordcloud import WordCloud\n",
        "\n",
        "import matplotlib.pyplot as plt \n",
        "# from collections import Counter\n",
        "# import random"
      ]
    },
    {
      "cell_type": "code",
      "execution_count": null,
      "metadata": {
        "id": "0TmMEXVcwONB"
      },
      "outputs": [],
      "source": [
        "# Three datasets we're using\n",
        "! wget -nc https://storage.googleapis.com/penn-cis5450/indego_trips.csv\n",
        "! wget -nc https://storage.googleapis.com/penn-cis5450/indego_stations.csv\n",
        "! wget -nc https://storage.googleapis.com/penn-cis5450/weather_2022_PHL.csv\n",
        "! wget -nc https://storage.googleapis.com/penn-cis5450/restaurant_reviews.csv"
      ]
    },
    {
      "cell_type": "code",
      "execution_count": null,
      "metadata": {
        "id": "b5NogkmdhhQ7"
      },
      "outputs": [],
      "source": [
        "print(pd.__version__ )"
      ]
    },
    {
      "cell_type": "markdown",
      "metadata": {
        "id": "TeyWoMn6pxSC"
      },
      "source": [
        "### PennGrader Setup"
      ]
    },
    {
      "cell_type": "code",
      "execution_count": null,
      "metadata": {
        "id": "4ds2HHSkpvBO",
        "colab": {
          "base_uri": "https://localhost:8080/"
        },
        "outputId": "8953b435-7b75-4354-dd30-e0a4d5ae5fbf"
      },
      "outputs": [
        {
          "output_type": "stream",
          "name": "stdout",
          "text": [
            "Hold up!!! \n",
            "Hold up!!!!! \n",
            "Hold up!!!!!!!! \n",
            " \n",
            "We can't store your grade if you forgot to change the ID!\n"
          ]
        }
      ],
      "source": [
        "# ENSURE YOUR PENN-ID IS ENTERED CORRECTLY. IF NOT, THE AUTOGRADER WON'T KNOW \n",
        "# TO ASSIGN POINTS TO YOU IN OUR BACKEND\n",
        "\n",
        "STUDENT_ID = 12345678                                                           # YOUR PENN-ID GOES HERE AS AN INTEGER #\n",
        "\n",
        "\n",
        "################################################################################\n",
        "# Check (no need to modify below - we're checking if you changed the ID above)\n",
        "if STUDENT_ID == 12345678:\n",
        "   print(\"Hold up!!! \\nHold up!!!!! \\nHold up!!!!!!!! \\n \\nWe can't store your grade if you forgot to change the ID!\")"
      ]
    },
    {
      "cell_type": "code",
      "execution_count": null,
      "metadata": {
        "id": "vAsLYJGotKbO",
        "colab": {
          "base_uri": "https://localhost:8080/"
        },
        "outputId": "66b6a8c4-7225-4c27-a444-7d88b06ebd02"
      },
      "outputs": [
        {
          "output_type": "stream",
          "name": "stdout",
          "text": [
            "PennGrader initialized with Student ID: 12345678\n",
            "\n",
            "Make sure this correct or we will not be able to store your grade\n"
          ]
        }
      ],
      "source": [
        "grader = PennGrader(homework_id = 'CIS5450_23Sp_HW2', student_id = STUDENT_ID)"
      ]
    },
    {
      "cell_type": "markdown",
      "metadata": {
        "id": "VzZ6JNnKLplQ"
      },
      "source": [
        "\n",
        "\n",
        "# Biking in Philadelphia\n",
        "\n",
        "<br>\n",
        "<center><img src = \"https://whyy.org/wp-content/uploads/2021/11/AP-indego-bike-share-philly-docking-station-110421-768x512.jpg\" width= \"500\" align =\"center\"/></center>\n",
        "<br>\n",
        "\n",
        "I'm sure in your time in Philadelphia so far you've come across these blue bikes and stations. Indego is the company responsible for this bike sharing ride system, and they make data on bike trips available to the public. This data can not only be useful to get information of how people in Philly use bikes, but it can give information on the most visited places in the city which can be useful for city planners and business owners.\n",
        "\n",
        "\n",
        "In this homework, we'll be exploring some data about bikes including:\n",
        "\n",
        "*   Trips: data about bike trips during the first week of October 2022.\n",
        "\n",
        "*   Stations: data about bike stations, their ID and Name.\n",
        "\n",
        "*   Weather: data about the weather in Philadelphia during 2022.\n",
        "\n",
        "\n",
        "We'll be parsing this data into dataframes and relations, and then exploring how to query and assemble the tables into results. We will primarily be using PandaSQL, but for some of the initial questions, we will ask you to perform the same operations in Pandas as well, so as to familiarize you with the differences and similarities of the two.\n",
        "\n",
        "For the final part of this Homework, we'll use a fourth database with restaurants and reviews, and perform some text analysis."
      ]
    },
    {
      "cell_type": "markdown",
      "metadata": {
        "id": "oENmSeFkFRCo"
      },
      "source": [
        "## Part 1: Load & Process our Datasets [10 points total]\n",
        "\n",
        "Before we get into the data, we first need to load and clean our datasets. \n",
        "\n",
        "# Metadata\n",
        "You'll be working with four CSV files:\n",
        "- `indego_trips.csv`: contains data about each trip, like the origin station, destination station and duration. \n",
        "- `indego_stations.csv`: includes information about stations and their status in January 2023.\n",
        "- `weather_2022_PHL.csv`: has one row per day during 2022 and shows weather information.\n",
        "- `restaurant_reviews.csv`: has several reviews about three restaurants.\n",
        "\n",
        "**TO-DO**:\n",
        "* Load `indego_trips.csv` and save the data to a dataframe called `trips_df`.\n",
        "* Load `indego_stations.csv` and save the data to a dataframe called `stations_df`.\n",
        "* Load `weather_2022_PHL.csv` and save the data to a dataframe called `weather_df`.\n",
        "* Load `restaurant_reviews.csv` and save the data to a dataframe called `reviews_df`."
      ]
    },
    {
      "cell_type": "code",
      "execution_count": null,
      "metadata": {
        "id": "zfMn38A25Vt8"
      },
      "outputs": [],
      "source": [
        "# TODO: Import the 4 datasets to pandas dataframes -- make sure the dataframes are named correctly! \n"
      ]
    },
    {
      "cell_type": "code",
      "execution_count": null,
      "metadata": {
        "id": "yTBIwDJ1qDp0"
      },
      "outputs": [],
      "source": [
        "# TODO: view `trips_df` (just the first 5 rows with .head() is fine) to make sure the import was successful\n"
      ]
    },
    {
      "cell_type": "code",
      "execution_count": null,
      "metadata": {
        "id": "Py_XvfZiNzXx"
      },
      "outputs": [],
      "source": [
        "# TODO: view `stations_df` (just the first 5 rows with .head() is fine)to make sure the import was successful\n"
      ]
    },
    {
      "cell_type": "code",
      "execution_count": null,
      "metadata": {
        "id": "hZJwhz1lx4ZV"
      },
      "outputs": [],
      "source": [
        "# TODO: view `weather_df` (just the first 5 rows with .head() is fine)to make sure the import was successful\n"
      ]
    },
    {
      "cell_type": "code",
      "source": [
        "# TODO: view `reviews_df` (just the first 5 rows with .head() is fine)to make sure the import was successful\n"
      ],
      "metadata": {
        "id": "FuxEO2U6VCNA"
      },
      "execution_count": null,
      "outputs": []
    },
    {
      "cell_type": "markdown",
      "metadata": {
        "id": "CPitr7eRJfO0"
      },
      "source": [
        "### 1.1 Data Preprocessing\n",
        "\n",
        "Next, we are going to want to clean up our dataframes, namely `trips_df` and `stations_df`, by \n",
        "\n",
        "1.   Fixing columns\n",
        "2.   Changing datatypes\n",
        "3.   Handling nulls\n",
        "\n",
        "\n",
        "First, let us view the first few rows of `trips_df`. You may also call `.info()` and additionally check the cardinality of each column to view the specifics of the dataframe. This is a good first step to take for Exploratory Data Analysis (EDA)."
      ]
    },
    {
      "cell_type": "code",
      "execution_count": null,
      "metadata": {
        "id": "2nCrp9Z2SCRD"
      },
      "outputs": [],
      "source": [
        "# view the .info() information for trips_df\n"
      ]
    },
    {
      "cell_type": "markdown",
      "metadata": {
        "id": "c-ukI21sPkYV"
      },
      "source": [
        "#### 1.1.1 Cleaning `trips_df` (4 points)\n",
        "\n",
        "`.info()` gives us meaningful information regarding columns, their types, and the amount of nulls, based on which we can now clean our dataframe. \n",
        "\n",
        "Perform these steps and save results on a new dataframe: `trips_cleaned_df` \n",
        "\n",
        "**TODO**:\n",
        "* Drop the column `plan_duration`. We already have that information in the column `passholder_type`, which is more understandable.\n",
        "* Drop the rows where `end_station` is 3000. This is a virtual station used for maintainance, and doesn't represent a real trip.\n",
        "* Drop all rows with null values.\n",
        "* Cast the columns:\n",
        "  -  `start_time`, `end_time`, `trip_route_category`, `passholder_type`, `bike_type` as **string**. (Cast to 'string' and not 'str') \n",
        "  - `bike_id` as **int**.\n",
        "* Save results as `trips_cleaned_df` and sort it by `trip_id` ascending\n",
        "\n",
        "After performing these steps, `trips_cleaned_df` should have the following schema:\n",
        "\n",
        "**Final Schema**:\n",
        ">trip_id | duration | start_time | end_time | start_station | start_lat | start_lon | end_station |  end_lat | end_lon |  bike_id | trip_route_category | passholder_type | bike_type\n",
        ">--- | --- | --- |--- | --- | --- | --- |--- | --- | --- |--- |--- | --- | --- |"
      ]
    },
    {
      "cell_type": "code",
      "execution_count": null,
      "metadata": {
        "id": "cMmQTXV7P4YK"
      },
      "outputs": [],
      "source": [
        "# TO-DO: drop the plan_duration column\n"
      ]
    },
    {
      "cell_type": "code",
      "source": [
        "# TO-DO: drop rows with end_station = 3000\n"
      ],
      "metadata": {
        "id": "4QDdAb9es2Lw"
      },
      "execution_count": null,
      "outputs": []
    },
    {
      "cell_type": "code",
      "source": [
        "# TO-DO: drop nulls\n"
      ],
      "metadata": {
        "id": "TZmxq-d_s1zR"
      },
      "execution_count": null,
      "outputs": []
    },
    {
      "cell_type": "code",
      "source": [
        "# TO-DO: cast columns as indicated types\n"
      ],
      "metadata": {
        "id": "gwmG8EDds1VH"
      },
      "execution_count": null,
      "outputs": []
    },
    {
      "cell_type": "code",
      "source": [
        "#TO-DO: save changes to trips_cleaned_df that is sorted by 'trip_id' \n"
      ],
      "metadata": {
        "id": "XTOBCFtPROG-"
      },
      "execution_count": null,
      "outputs": []
    },
    {
      "cell_type": "code",
      "execution_count": null,
      "metadata": {
        "id": "9SYxGtgOQKLY"
      },
      "outputs": [],
      "source": [
        "# 4 points\n",
        "grader.grade(test_case_id = 'test_cleaning_trips', answer = [len(trips_cleaned_df), trips_cleaned_df.head()])"
      ]
    },
    {
      "cell_type": "markdown",
      "metadata": {
        "id": "aI_zsI3hNJCf"
      },
      "source": [
        "#### 1.1.2 Processing Stations (3 points)\n",
        "\n",
        "`stations_df` contains information on Indego stations across the city. We will clean this df by removing Inactive stations and stations created after October 2022.\n",
        "\n",
        "Perform these steps and assign the cleaned dataframe to `stations_cleaned_df`.\n",
        "\n",
        "**TODO**:\n",
        "* **Cast** column `day_of_go_live_date` as datetime64[ns].\n",
        "* **Drop** the stations that were created **after 10/7/2022** (i.e. we want to keep the ones on or before 10/7/2022)\n",
        "* **Drop** the stations that have an **Inactive** status.\n",
        "* **Drop** the columns `day_of_go_live_date` and `status`\n",
        "* **Create** a new column called `is_west_philly` that is True if zone is 2 or 3 and False otherwise.\n",
        "* **Save** the resulting dataframe as `stations_cleaned_df`, and sort it by `station_id` ascending\n",
        "\n",
        "\n",
        "After performing these steps, `stations_cleaned_df` should have the following schema:\n",
        "\n",
        "**Final Schema**:\n",
        ">station_id | station_name | zone | is_west_philly\n",
        ">--- | --- | --- |--- |"
      ]
    },
    {
      "cell_type": "code",
      "execution_count": null,
      "metadata": {
        "id": "ZOfBFzD7NK8i"
      },
      "outputs": [],
      "source": [
        "# TO-DO: Your code goes below. We recommend creating code comments for each of the bullets above (like we did for you in 1.1.1)\n"
      ]
    },
    {
      "cell_type": "code",
      "execution_count": null,
      "metadata": {
        "id": "sKA2_ScM6nWv"
      },
      "outputs": [],
      "source": [
        "# 3 points\n",
        "grader.grade(test_case_id = 'test_stations_processing', answer = (len(stations_cleaned_df), stations_cleaned_df.head()))"
      ]
    },
    {
      "cell_type": "markdown",
      "metadata": {
        "id": "38JSvyEGCGYN"
      },
      "source": [
        "#### 1.1.3 Cleaning the weather (3 points)\n",
        "Then, let's clean `weather_df` and make it usable."
      ]
    },
    {
      "cell_type": "code",
      "execution_count": null,
      "metadata": {
        "id": "vKv7Gdi_CGYQ"
      },
      "outputs": [],
      "source": [
        "# view .info() of weather_df to sense check it\n"
      ]
    },
    {
      "cell_type": "markdown",
      "metadata": {
        "id": "Cz3Xx84WCGYU"
      },
      "source": [
        "\n",
        "**TO-DO**:\n",
        "* Create `weather_cleaned_df` and only keep the following 5 columns:\n",
        "     * `date`, `actual_mean_temp`, `actual_min_temp`, `actual_max_temp`, `actual_precipitation`\n",
        "* Convert column `date` into type `datetime64[ns]`.\n",
        "* Keep only the rows from 9/1/2022 to 10/31/2022, inclusive.\n",
        "* Sort by column `date` descending.\n",
        "\n",
        "After performing these steps, `weather_cleaned_df` should have the following schema:\n",
        "\n",
        "**Final Schema**:\n",
        ">date | actual_mean_temp | actual_min_temp | actual_max_temp | actual_precipitation\n",
        ">--- | --- | --- |--- |--- |"
      ]
    },
    {
      "cell_type": "code",
      "execution_count": null,
      "metadata": {
        "id": "GfBTqJs3CGYV"
      },
      "outputs": [],
      "source": [
        "#TO-DO: clean up the weather_df \n",
        "\n"
      ]
    },
    {
      "cell_type": "code",
      "execution_count": null,
      "metadata": {
        "id": "PacFnS9JCGYW"
      },
      "outputs": [],
      "source": [
        "# 3 points\n",
        "grader.grade(test_case_id = 'test_cleaning_weather', answer = [len(weather_cleaned_df),weather_cleaned_df.head()])"
      ]
    },
    {
      "cell_type": "markdown",
      "metadata": {
        "id": "kYp9fW_SvG3g"
      },
      "source": [
        "### 1.2 Your Sandbox \n",
        "\n",
        "`.info()` is just one of many basic tools that you can use for Exploratory Data Analysis (EDA). Instead of throwing you straight into the deep end, we wanted to give you a chance to take some time and explore the data on your own. **This section is not graded**, so for the speedrunners out there feel free to just jump in, but we wanted to at least give you a small space to utilize your EDA toolkit to familiarize yourself with all the data you just downloaded.\n",
        "\n",
        "Some suggestions to get you started:\n",
        "- `df.head()`\n",
        "- `df.describe()`\n",
        "- `Series.unique()`"
      ]
    },
    {
      "cell_type": "code",
      "execution_count": null,
      "metadata": {
        "id": "U429NTI5RY4a"
      },
      "outputs": [],
      "source": [
        "# Your EDA here! Feel free to add more cells\n"
      ]
    },
    {
      "cell_type": "markdown",
      "source": [
        "## Part 2: Exploring the Data with PandasSQL (and Pandas) [73 points total]\n",
        "\n",
        "Now that you are familiar (or still unfamiliar) with the dataset, we will now introduce you to SQL, or more specifically **pandasql**: a package created to allow users to query pandas DataFrames with SQL statements."
      ],
      "metadata": {
        "id": "uLO0ZpVr54ZS"
      }
    },
    {
      "cell_type": "markdown",
      "source": [
        "## 👇👇👇 IMPORTANT: Pay VERY CLOSE attention to this style guide! 👇👇👇\n",
        "\n",
        "The typical flow to use pandasql (aliased as `ps`) is as follows:\n",
        "1. Write a SQL query in the form of a string\n",
        "    - **String Syntax:** use triple quotes `\"\"\"<your query>\"\"\"` to write multi-line strings in Python\n",
        "    - **Aliases are your friend:** if there are very long table names or you find yourself needed to declare the source (common during join tasks), it's almost always optimal to alias your tables with short INTUITIVE alias names\n",
        "    - **New Clauses New Line:** each of the main SQL clauses (`SELECT`, `FROM`, `WHERE`, etc.) should begin on a new line\n",
        "    - **Use Indentation:** if there are many components for a single clause, separate them out with new <ins>indented</ins> lines.\n",
        "\n",
        "    Example below:\n",
        "    ```SQL\n",
        "    \"\"\"\n",
        "    SELECT ltn.some_id, SUM(stn.some_value) AS total\n",
        "    FROM long_table_name AS ltn\n",
        "         INNER JOIN short_table_name AS stn \n",
        "            ON ltn.common_key = stn.common_key\n",
        "         INNER JOIN med_table_name AS mtn\n",
        "            ON ltn.other_key = mtn.other_key\n",
        "    WHERE ltn.col1 > value\n",
        "         AND stn.col2 <= another_value\n",
        "         AND mtn.col3 != something_else\n",
        "    GROUP BY ltn.some_id\n",
        "    ORDER BY total DESC\n",
        "    \"\"\"\n",
        "    ```\n",
        "2. Run the query using `ps.sqldf(your_query, locals())`\n",
        "\n",
        "Pandasql is convenient in that it allows you to reference the dataframes that are currently defined in your notebook, so you will be able to fully utilize the dataframes `trips_cleaned_df`, `stations_cleaned_df` and `weather__cleaned_df` that you have created above!\n",
        "\n",
        "Given that it is a brand new language, we wanted to give you a chance to directly compare the similarities/differences of the pandas that you already know and the SQL that you are about to learn. Thus, for each of the simpler queries, we may ask that you **look into the question twice: once with pandas and once with pandasql**. "
      ],
      "metadata": {
        "id": "EoV3Uv69ot_Y"
      }
    },
    {
      "cell_type": "markdown",
      "source": [
        "### 2.1 One Way vs Round Trip [19 points]"
      ],
      "metadata": {
        "id": "65adiX7u55m2"
      }
    },
    {
      "cell_type": "markdown",
      "source": [
        "#### 2.1.1 How many of the rides taken were Round Trip journeys? (4 points)\n",
        "\n",
        "The dataframe `trips_cleaned_df` contains information for each ride. We want to know which of these rides were Round Trip journeys, and how many such rides were taken.\n",
        "\n",
        "**TO-DO:**\n",
        "\n",
        "*    Using what you learned in EDA in 1.2, use `pandas` to filter on the appropriate column to obtain only round trips, and save it to a DataFrame called `round_df`, which is sorted by `trip_id` in ascending order.\n",
        "*   Save the number of rides in the integer variable `number_of_rounds`. "
      ],
      "metadata": {
        "id": "0PfvXCpC6NB2"
      }
    },
    {
      "cell_type": "code",
      "source": [
        "# TO-DO: Use pandas to obtain rides that were round trip\n"
      ],
      "metadata": {
        "id": "pknIChHj6Oom"
      },
      "execution_count": null,
      "outputs": []
    },
    {
      "cell_type": "code",
      "source": [
        "# TO-DO : Save the number of round trip rides obtained from round_df to number_of_rounds\n"
      ],
      "metadata": {
        "id": "DwCpytm38dYW"
      },
      "execution_count": null,
      "outputs": []
    },
    {
      "cell_type": "code",
      "source": [
        "# 2 points\n",
        "grader.grade(test_case_id = 'test_round', answer = (round_df, number_of_rounds))"
      ],
      "metadata": {
        "id": "73kQXwnL6OZ0"
      },
      "execution_count": null,
      "outputs": []
    },
    {
      "cell_type": "markdown",
      "source": [
        "**TO-DO:** Now using **pandasql**, calculate the number of round trips in trips_cleaned_df and save it to the dataframe `round_df_sql`, with the column named `num`. This will be a rather unconventional 1x1 dataframe, but that's OK.\n",
        "\n",
        "**Final Schema:**\n",
        "\n",
        "> num|\n",
        "> --- |"
      ],
      "metadata": {
        "id": "gUSj2RVaXBDd"
      }
    },
    {
      "cell_type": "code",
      "source": [
        "# TODO: Use pandasql to calculate the number of round trips\n",
        "round_query = \"\"\"\n",
        "              \n",
        "              \"\"\"\n",
        "round_df_sql = ps.sqldf(round_query, locals())\n",
        "round_df_sql"
      ],
      "metadata": {
        "id": "xdGJjfXDXPig"
      },
      "execution_count": null,
      "outputs": []
    },
    {
      "cell_type": "code",
      "source": [
        "# 2 points\n",
        "grader.grade(test_case_id = 'test_round_sql', answer = round_df_sql)"
      ],
      "metadata": {
        "id": "nXuUq8UWXPSo"
      },
      "execution_count": null,
      "outputs": []
    },
    {
      "cell_type": "markdown",
      "source": [
        "#### 2.1.2 What was the duration of these round trips? [4 points]\n",
        "\n",
        "The dataframe `round_df` contains information for each ride that was a round trip. We want to know the average duration of the trip for all these rides. \n",
        "\n",
        "**TO-DO:** Using **pandas**, calculate the average duration of the rides in `round_df` and save it to the variable `avg_round_pd`. Please make sure you do NOT cast it to any type explicitly nor should you round it. \n",
        "\n",
        "\n",
        "\n"
      ],
      "metadata": {
        "id": "a_JjvuvQdqxo"
      }
    },
    {
      "cell_type": "code",
      "source": [
        "# TODO: Use pandas to calculate the average duration of round trips\n"
      ],
      "metadata": {
        "id": "r-OX8Ss9Vm2C"
      },
      "execution_count": null,
      "outputs": []
    },
    {
      "cell_type": "code",
      "source": [
        "# 2 points\n",
        "grader.grade(test_case_id = 'test_round_dur_pd', answer = avg_round_pd)"
      ],
      "metadata": {
        "id": "d0zPIuloVnMc"
      },
      "execution_count": null,
      "outputs": []
    },
    {
      "cell_type": "markdown",
      "source": [
        "**TO-DO:** Using **pandasql**, calculate the average duration of the rides in round_df and save it to the dataframe `avg_round_df`, with the column named `avg_dur`. Please make sure you do NOT cast it to any type explicitly nor should you round it.\n",
        "\n",
        "Again, this will be a 1x1 dataframe but that's OK.\n",
        "\n",
        "**Final Schema:**\n",
        "\n",
        "\n",
        "> avg_dur |\n",
        "> --- |"
      ],
      "metadata": {
        "id": "3INzdIvKVvYM"
      }
    },
    {
      "cell_type": "code",
      "source": [
        "# TODO: Use pandasql to calculate the average duration of round trips\n",
        "avg_dur_query = \"\"\"\n",
        "\n",
        "                \"\"\"\n",
        "\n",
        "avg_round_df = ps.sqldf(avg_dur_query, locals())\n",
        "avg_round_df"
      ],
      "metadata": {
        "id": "CCvBUvzHdqxs"
      },
      "execution_count": null,
      "outputs": []
    },
    {
      "cell_type": "code",
      "source": [
        "# 2 points\n",
        "grader.grade(test_case_id = 'test_round_dur', answer = avg_round_df)"
      ],
      "metadata": {
        "id": "pfI7GSRadqxs"
      },
      "execution_count": null,
      "outputs": []
    },
    {
      "cell_type": "markdown",
      "source": [
        "#### 2.1.3 How long do you take? (5 points)\n",
        "\n",
        "Some of the rides listed in the `trips_cleaned_df` are marked as Day Pass. We'd like to know how long riders take their bikes out when they get a Day Pass. \n",
        "\n",
        "**TO-DO:** Using **pandas**, and what you learned in EDA in 1.2, use a filter on the appropriate column to obtain only “Day Pass” to calculate the average duration of these trips from `trips_cleaned_df` and save it to the variable `day_df_pd`. Please make sure you do not cast it to any type explicitly, or round it.  \n",
        "\n",
        "**Final Schema:**\n",
        "\n",
        "> avg_dur |\n",
        "> --- |\n",
        "\n",
        "Please use only `trips_cleaned_df` for both `pandas` and `pandasql`."
      ],
      "metadata": {
        "id": "FD3Dgsdv6atY"
      }
    },
    {
      "cell_type": "code",
      "source": [
        "# TODO: Use pandas to calculate the average duration of trips with a day pass \n"
      ],
      "metadata": {
        "id": "wRHgc5T-q95z"
      },
      "execution_count": null,
      "outputs": []
    },
    {
      "cell_type": "markdown",
      "source": [
        "**TO-DO:** Repeat the same using **pandasql** and save it as `day_df_sql` where the average duration column should be named `avg_dur`."
      ],
      "metadata": {
        "id": "C1m5KL71qxyY"
      }
    },
    {
      "cell_type": "code",
      "source": [
        "# TODO: Use pandasql to calculate the average duration of trips with a day pass \n",
        "day_query = \"\"\"\n",
        "\n",
        "            \"\"\"\n",
        "\n",
        "day_df_sql = ps.sqldf(day_query, locals())\n",
        "day_df_sql"
      ],
      "metadata": {
        "id": "r-8X-hQq6eb4"
      },
      "execution_count": null,
      "outputs": []
    },
    {
      "cell_type": "code",
      "source": [
        "# 4 points\n",
        "grader.grade(test_case_id = 'test_day_dur', answer = (day_df_sql, day_df_pd, day_query))"
      ],
      "metadata": {
        "id": "aZti3-Tp6d2t"
      },
      "execution_count": null,
      "outputs": []
    },
    {
      "cell_type": "markdown",
      "source": [
        "##### **Reflect:**  What do you think? (1 point)\n",
        "\n",
        "Is there a difference between the average duration for round trips (2.1.2) and Day Pass journeys (2.1.3)? Please state your answer as Yes/No with a reason for the possible similarity/difference? [1 pt]\n",
        "\n"
      ],
      "metadata": {
        "id": "0TzDzttGEUxV"
      }
    },
    {
      "cell_type": "code",
      "source": [
        "your_ans = \"\"\" \"\"\""
      ],
      "metadata": {
        "id": "9vGtS4TjExHZ"
      },
      "execution_count": null,
      "outputs": []
    },
    {
      "cell_type": "code",
      "source": [
        "# Grader Cell for Text Response (do not modify) [1 point]\n",
        "grader.grade(test_case_id = 'test_q', answer = your_ans)"
      ],
      "metadata": {
        "id": "B7fdjrTJEzTu"
      },
      "execution_count": null,
      "outputs": []
    },
    {
      "cell_type": "markdown",
      "source": [
        "#### 2.1.4 Ratio of Rides (6 points)\n",
        "\n",
        "Some of the rides listed in the `trips_cleaned_df` are marked as One Way while some are marked as Round Trip. We'd like to know the ratio between the number of one - way trips to the number of round-trip journeys. \n",
        "\n",
        "**TO-DO:** Using **pandas**, calculate the ratio of the number of one-way rides to the number of round-trip rides from `trips_cleaned_df` and save it to the variable `ratio_1_round` \n",
        "\n",
        "**HINT:** Let the answer remain a float value when using pandas. "
      ],
      "metadata": {
        "id": "zQ4D0K4w6e-F"
      }
    },
    {
      "cell_type": "code",
      "source": [
        "# TO-DO: Use pandas to obtain the ratio of average number of one-way trips to average number of round-trip journeys\n"
      ],
      "metadata": {
        "id": "4nlsC5Ul67Da"
      },
      "execution_count": null,
      "outputs": []
    },
    {
      "cell_type": "code",
      "source": [
        "# 2 points\n",
        "grader.grade(test_case_id = 'test_ratio_pd', answer = ratio_1_round)"
      ],
      "metadata": {
        "id": "b4m9-1M_Aptp"
      },
      "execution_count": null,
      "outputs": []
    },
    {
      "cell_type": "markdown",
      "source": [
        "Now, let's try doing the same thing using pandasql, and see if the results match. \n",
        "\n",
        "**TODO:** Using **pandasql**, calculate the ratio of the number of one-way rides to the number of round-trip rides from `trips_cleaned_df` and save it to the dataframe `ratio_df`, naming the column `'ratio'`. \n",
        "\n",
        "Try to make use of subqueries here! Note, your results should be equivalent (to each other, and the answer, of course) if you have done both parts correctly.\n",
        "\n",
        "**HINT:** Cast your ratio to `float` type.  \n",
        "\n",
        "**Final Schema:**\n",
        "\n",
        "> ratio |\n",
        "> --- |"
      ],
      "metadata": {
        "id": "6D6k9ydQBCiT"
      }
    },
    {
      "cell_type": "code",
      "source": [
        "# TODO: Use pandasql to obtain the ratio of number of one-way trips to  number of round trips \n",
        "\n",
        "ratio_query = \"\"\"  \n",
        "\n",
        "              \"\"\"\n",
        "\n",
        "ratio_df = ps.sqldf(ratio_query, locals())\n",
        "ratio_df"
      ],
      "metadata": {
        "id": "GZjIm-C_661o"
      },
      "execution_count": null,
      "outputs": []
    },
    {
      "cell_type": "code",
      "source": [
        "# 4 points\n",
        "grader.grade(test_case_id = 'test_ratio_sql', answer = (ratio_df, ratio_query))"
      ],
      "metadata": {
        "id": "l3orIXJvAqe2"
      },
      "execution_count": null,
      "outputs": []
    },
    {
      "cell_type": "markdown",
      "source": [
        "###2.2 Station Involvement [16 points]"
      ],
      "metadata": {
        "id": "EmtOjC3s67UW"
      }
    },
    {
      "cell_type": "markdown",
      "source": [
        "#### 2.2.1 Names not numbers [5 points]\n",
        "We will now use `stations_cleaned_df` to modify our `trips_final_df`. If you look at the rides data, you will notice that both start and end station columns have numbers corresponding to the station ID listed. Using the station ID listed in stations_df, we want to include station names instead of station IDs in our `trips_final_df`.\n",
        "\n",
        "**TO-DO** (`pandas`): \n",
        "* Drop records with missing values and update `trips_cleaned_df`\n",
        "* Create a new dataframe called `trips_final_df` which you'll use after this question. Begin by assigning a **copy** of `trips_cleaned_df` to it.\n",
        "  * **Hint:** Don't just set them equal right away! Refer to the ```.copy()``` function!\n",
        ". \n",
        "* Replace the IDs in the `'start_station'` column of `trips_final_df` with the corresponding station name. \n",
        "* Replace the IDs in the `'end_station'` column of `trips_final_df` with the corresponding station name. \n",
        "* If the any station ID cannot be mapped to a name, the name should be set to 'Unknown'\n",
        "* Sort `trips_final_df` by the trip_id (in ascending order). \n",
        "\n"
      ],
      "metadata": {
        "id": "2fXGZWkF7AeD"
      }
    },
    {
      "cell_type": "code",
      "source": [
        "# TO-DO : Drop missing values\n"
      ],
      "metadata": {
        "id": "ZEbcMIew1CSR"
      },
      "execution_count": null,
      "outputs": []
    },
    {
      "cell_type": "code",
      "source": [
        "# TO-DO : Create a copy named trips_final_df using .copy()\n"
      ],
      "metadata": {
        "id": "LaTHa9dU1Ehk"
      },
      "execution_count": null,
      "outputs": []
    },
    {
      "cell_type": "code",
      "source": [
        "# TO-DO: Replace station IDs with station names in trips_final_df. Read ALL the bullets above carefully!\n"
      ],
      "metadata": {
        "id": "TIBK-_uO7EVZ"
      },
      "execution_count": null,
      "outputs": []
    },
    {
      "cell_type": "code",
      "source": [
        "# TO-DO: Sort trips_final_df by the trip_id\n"
      ],
      "metadata": {
        "id": "EfdLg0mpxANz"
      },
      "execution_count": null,
      "outputs": []
    },
    {
      "cell_type": "code",
      "source": [
        "# 2 points\n",
        "grader.grade(test_case_id = 'test_stations', answer = trips_final_df)"
      ],
      "metadata": {
        "id": "hXK8HI2j7EL0"
      },
      "execution_count": null,
      "outputs": []
    },
    {
      "cell_type": "markdown",
      "source": [
        "**TO-DO** : Repeat the same using `trips_cleaned_df` (only for this sql query) and `pandasql`, saving it as `trips_stations_sql`.\n",
        "\n",
        "<ins>Remember:</ins> If a station ID cannot be mapped to a name, the name should be **NULL**"
      ],
      "metadata": {
        "id": "uon1cRZVZ6vI"
      }
    },
    {
      "cell_type": "code",
      "source": [
        "#TODO : Use pandasql to replace station IDs with station names in trips_cleaned_df and save it as trips_stations_sql\n",
        "\n",
        "replace_query = \"\"\"\n",
        "\n",
        "                \"\"\"\n",
        "\n",
        "trips_stations_sql = ps.sqldf(replace_query, locals())\n",
        "trips_stations_sql"
      ],
      "metadata": {
        "id": "BoBeYT_uZtJH"
      },
      "execution_count": null,
      "outputs": []
    },
    {
      "cell_type": "code",
      "source": [
        "#3 points\n",
        "grader.grade(test_case_id = 'test_stations_sql', answer = (trips_stations_sql, replace_query))"
      ],
      "metadata": {
        "id": "rnEiHa_8Zs--"
      },
      "execution_count": null,
      "outputs": []
    },
    {
      "cell_type": "markdown",
      "source": [
        "#### 2.2.2 Morning Class? (5 points)\n",
        "We are all pretty familiar with University City, most of you probably live in or commute to this area every day. We want to count the number of people who start out at the University City Station before noon. \n",
        "\n",
        "**TO-DO**: \n",
        "* The first step involved is creating a new column in `trips_final_df` called `hour` where you will extract the hour of the `start_time` column. You can do this using pandas, and an apply function. \n",
        "* The next step is to use `pandasql` to count the number of rides that start at the 'University City Station' before noon (do not include trips with hour 12) and store the result in a dataframe called `ucity_df`, with the column name as `ride_count`.\n",
        "\n",
        "**Hint**: you may find it helpful to look up the `.Timestamp()` function to understand how to extract the hour of a particular date. "
      ],
      "metadata": {
        "id": "_BuyVlRb7EvA"
      }
    },
    {
      "cell_type": "code",
      "source": [
        "#TODO : Create a new column called hour\n"
      ],
      "metadata": {
        "id": "bUWKZMoA7I5E"
      },
      "execution_count": null,
      "outputs": []
    },
    {
      "cell_type": "code",
      "source": [
        "# Count the number of rides before noon that started at `University City Station`\n",
        "ucity_query = \"\"\" \n",
        "              \n",
        "              \"\"\"\n",
        "\n",
        "ucity_df = ps.sqldf(ucity_query, locals())\n",
        "ucity_df "
      ],
      "metadata": {
        "id": "gfga-M2B7InM"
      },
      "execution_count": null,
      "outputs": []
    },
    {
      "cell_type": "code",
      "source": [
        "# 7 points\n",
        "grader.grade(test_case_id = 'test_ucity', answer = (trips_final_df, ucity_df, ucity_query))"
      ],
      "metadata": {
        "id": "I8i6HGFDJPi1"
      },
      "execution_count": null,
      "outputs": []
    },
    {
      "cell_type": "markdown",
      "source": [
        "#### 2.2.3 Most Popular Stations (6 points)\n",
        "We now want to see which stations from `trips_final_df` are used most frequently. \n",
        "\n",
        "**TODO**: \n",
        "* Find the total number of rides for each `start_station`\n",
        "* Return the top 3 most frequently used stations in a dataframe named `top3_df` where the schema looks like this:\n",
        "\n",
        "> Station | Count_rides\n",
        "> --- | ---\n",
        "\n",
        "**Hint**: Use `pandasql` to do this in ONE query. "
      ],
      "metadata": {
        "id": "aCCk-rrn7JOg"
      }
    },
    {
      "cell_type": "code",
      "source": [
        "#TODO: Return the top three used stations by number of rides\n",
        "top3_query = \"\"\"  \"\"\"\n",
        "\n",
        "top3_df = ps.sqldf(top3_query, locals())\n",
        "top3_df"
      ],
      "metadata": {
        "id": "ZaZqjaky7PHB"
      },
      "execution_count": null,
      "outputs": []
    },
    {
      "cell_type": "code",
      "source": [
        "# 6 points\n",
        "grader.grade(test_case_id = 'test_freq_stat', answer = (top3_query,top3_df))"
      ],
      "metadata": {
        "id": "nCcj1xdr7O2H"
      },
      "execution_count": null,
      "outputs": []
    },
    {
      "cell_type": "markdown",
      "source": [
        "### 2.3 Determining the Distance [8 points]\n",
        "\n",
        "We are going to be using a new package called geopy to calculate the distance between the start and end stations for a particular ride. \n",
        "\n",
        "`geopy` has been imported as `gp` above, and the `.geodesic()` gives you the distance between two sets of coordinates. We have the coordinates for the start_station and end_station for each ride. \n",
        "\n",
        "**TO-DO**: \n",
        "* For the trip with `'trip_id': 540422637`, find the latitude and longitudes of both the start and end stations.\n",
        "* Save the latitude and longitude as **tuples** into variables `coords_1` and `coords_2` for the `'start_station'` and `'end_station'` respectively.\n",
        "  - Do **NOT** hard code the values: you will get a **ZERO** for the question when we manually review for this!\n",
        "* Use geopy to calculate the distance **in miles** between the two stations and save it to the variable final_dist. "
      ],
      "metadata": {
        "id": "2oUvTghy7Pdw"
      }
    },
    {
      "cell_type": "code",
      "source": [
        "# TO-DO: Use pandasql to obtain the latitude and longitude of the start and end stations for ride ID 540422637. \n",
        "latlng_query = \"\"\"  \n",
        "\n",
        "               \"\"\"\n",
        "\n",
        "latlng_df = ps.sqldf(latlng_query, locals())\n",
        "latlng_df"
      ],
      "metadata": {
        "id": "EpVOwJtp7aWS"
      },
      "execution_count": null,
      "outputs": []
    },
    {
      "cell_type": "code",
      "source": [
        "# TO-DO : Fill in the coordinates using the dataframe that has the resultant coordinates\n"
      ],
      "metadata": {
        "id": "kIZfNmVuMLEk"
      },
      "execution_count": null,
      "outputs": []
    },
    {
      "cell_type": "code",
      "source": [
        "# TO-DO: Use geopy and its appropriate functions to calculate the distance between the two stations \n"
      ],
      "metadata": {
        "id": "KpR7DKPBMLmL"
      },
      "execution_count": null,
      "outputs": []
    },
    {
      "cell_type": "code",
      "source": [
        "# 8 points\n",
        "grader.grade(test_case_id = 'test_geodist', answer = (coords_1, coords_2, final_dist, latlng_query))"
      ],
      "metadata": {
        "id": "DIzg0Xkn7Z-7"
      },
      "execution_count": null,
      "outputs": []
    },
    {
      "cell_type": "markdown",
      "source": [
        "### 2.4 Destinations from Amtrak Station [7 points]\n",
        "As you might imagine, Amtrak Station is a very important location for Indego, as there is a lot of people that either want to get there for a train ride or are exiting from there to visit Philadelphia. Thus, we want to learn about where people tend to go once they leave Amtrak Station.\n",
        "\n",
        "You will first create this dataset using Pandas, and then SQL (pandasql)\n",
        "\n",
        "**TO-DO:**\n",
        "- Using `trips_final_df`, find the top 5 most common end stations where Amtrak Station was the start_station where the duration is **at least 15 minutes**\n",
        "  - Do **NOT** include Amtrak as an end station! \n",
        "  - Note that duration is already measured in minutes, and that Amtrak's station_name is _\"Amtrak 30th Street Station\"_\n",
        "- For this Pandas section, name the final dataframe `end_station_df`.\n",
        "- Ensure that `end_station_df` is first sorted by `Count` in descending order, and then sorted by `end_station` in ascending order.\n",
        "\n",
        "**Final Schema (make sure you have the same column names and order!)**:\n",
        "> end_station | Count\n",
        "> --- | ---"
      ],
      "metadata": {
        "id": "sQQ1CzdiS3yI"
      }
    },
    {
      "cell_type": "code",
      "source": [
        "# TODO: Get end_station_df using Pandas\n",
        "end_station_df = "
      ],
      "metadata": {
        "id": "VGAB9ue9S3yK"
      },
      "execution_count": null,
      "outputs": []
    },
    {
      "cell_type": "markdown",
      "source": [
        "**TO-DO:**\n",
        "- Repeat the process but now using pandasql. Please make sure to use `end_station_query` to save your SQL code as this is what will be graded.\n",
        "- Name the final dataframe `sql_end_station_df`\n",
        "- Double-check that this looks the exact same as `end_station_df` from the Pandas section above.\n",
        "\n",
        "**Final Schema:**\n",
        "> end_station | Count\n",
        "> --- | ---"
      ],
      "metadata": {
        "id": "4XTfx3f_S3yL"
      }
    },
    {
      "cell_type": "code",
      "source": [
        "# TODO: Get the same exact query, but only using PandaSQL\n",
        "\n",
        "end_station_query = \"\"\"\n",
        "\n",
        "                    \"\"\"\n",
        "\n",
        "sql_end_station_df = ps.sqldf(end_station_query, locals())\n",
        "sql_end_station_df"
      ],
      "metadata": {
        "id": "wArHcWrvS3yM"
      },
      "execution_count": null,
      "outputs": []
    },
    {
      "cell_type": "code",
      "source": [
        "# 7 points\n",
        "grader.grade(test_case_id = 'test_amtrak', answer = (end_station_df, sql_end_station_df, end_station_query))"
      ],
      "metadata": {
        "id": "uCoROMVlS3yM"
      },
      "execution_count": null,
      "outputs": []
    },
    {
      "cell_type": "markdown",
      "source": [
        "### 2.5 Weather and Trip Data [15 points]"
      ],
      "metadata": {
        "id": "0OIIHzThS3yM"
      }
    },
    {
      "cell_type": "markdown",
      "source": [
        "#### 2.5.1 Trips and Weather Tables [2 points]\n",
        "\n",
        "We will begin by slightly modifying `trips_final_df` and `weather_cleaned_df`. We eventually want to merge using the `date` column from `weather_cleaned_df` and the `start_time` column from `trips_final_df`. You will note that these two columns do not contain the same information, since `date` does not contain the time.\n",
        "\n",
        "**We are not concerned about the time, it is up to you to find the best way to alter the `start_time` column to keep just the date and thus make merging possible**.\n",
        "\n",
        "We strongly recommend creating a new `date` column in `trips_final_df` containing only the day information, as it will make merging the dataframes much easier.\n",
        "\n",
        "**TO-DO:** \\\\\n",
        "- `weather_merge_df`, containing columns `date`, `actual_max_temp` and `actual_precipitation`\n",
        "- `trips_merge_df`, containing columns `date`,  `bike_type`, `start_station` and `trip_id`"
      ],
      "metadata": {
        "id": "FMW2nhXPS3yN"
      }
    },
    {
      "cell_type": "code",
      "source": [
        "# TODO: Create weather_merge_df and trips_merge_df\n",
        "weather_merge_df = \n",
        "trips_merge_df = "
      ],
      "metadata": {
        "id": "owKCJszYS3yO"
      },
      "execution_count": null,
      "outputs": []
    },
    {
      "cell_type": "code",
      "source": [
        "# 2 points\n",
        "grader.grade(test_case_id = 'test_merge_df', answer = (weather_merge_df, trips_merge_df))"
      ],
      "metadata": {
        "id": "IYjUTfDQS3yO"
      },
      "execution_count": null,
      "outputs": []
    },
    {
      "cell_type": "markdown",
      "source": [
        "#### 2.5.2 Standard Riding on Spruce (SQL) [3 points]\n",
        "\n",
        "**TO-DO:**\n",
        "- Using `trips_merge_df` and `weather_merge_df`, *for each actual max temperature*, find the percentage of rides that were of **standard** bike type on trips where the start_station included **Spruce** in it\n",
        "  - e.g. \"13th & Spruce\" OR \"15th & Spruce\" are 2 potential start_stations that would be included\n",
        "- Filter so that we only have entries where the **average actual_precipitation** is **less than** 0.3\n",
        "\n",
        "*   Cast your percentages to integers and name the column **Standard_Percentage**\n",
        "\n",
        "**Final Schema (make sure you have the same column names and order!)**:\n",
        ">Temperature | Standard_Percentage |\n",
        ">--- | --- |"
      ],
      "metadata": {
        "id": "NystCsO9EuIh"
      }
    },
    {
      "cell_type": "code",
      "source": [
        "# TO-DO: Create percentage_df (use PandaSQL)\n",
        "percentage_query = '''\n",
        "\n",
        "                   '''\n",
        "\n",
        "percentage_df = ps.sqldf(percentage_query, locals())"
      ],
      "metadata": {
        "id": "7jbzplMKS3yP"
      },
      "execution_count": null,
      "outputs": []
    },
    {
      "cell_type": "code",
      "source": [
        "# 3 points\n",
        "grader.grade(test_case_id = 'test_percentage', answer = (percentage_query, percentage_df))"
      ],
      "metadata": {
        "id": "ql6NED1sqwFr"
      },
      "execution_count": null,
      "outputs": []
    },
    {
      "cell_type": "markdown",
      "source": [
        "#### 2.5.3 Bike Types by Weather (SQL) [3 points]\n",
        "\n",
        "Using the dataframes from part 2.5.1, we want to find out which bike type is the most popular during good weather conditions.\n",
        "\n",
        "**TO-DO:**\n",
        "- Good weather conditions are defined to be when the temperature (`actual_max_temp`) is **AT OR ABOVE 70 degrees Farenheit**, and the `'actual_precipitation'` is **AT OR BELOW 0.3**.\n",
        "- Create a dataframe that has columns `Bike Type` for each of the various kinds of bikes that Indego offers, and `Number of Rides` for the number of rides taken by each kind of bike.\n",
        "- For the final dataframe, there should only be ONE entry, consisting of the bike type with the most rides. Name this dataframe `sql_bike_type_df`.\n",
        "\n",
        "**NOTE:** When renaming one of the aggregated columns as `Number of Rides`, you can select either `actual_max_temp` or `actual_precipitation`, just be consistent!\n",
        "\n",
        "**Final Schema (make sure you have the same column names and order!)**:\n",
        ">Bike Type | Number of Rides |\n",
        ">--- | --- |"
      ],
      "metadata": {
        "id": "AmZHEsBsS3yQ"
      }
    },
    {
      "cell_type": "code",
      "source": [
        "# TODO: Create sql_bike_type_df using PandasSQL\n",
        "\n",
        "bike_query = \"\"\"\n",
        "\n",
        "             \"\"\"\n",
        "\n",
        "sql_bike_type_df = ps.sqldf(bike_query, locals())"
      ],
      "metadata": {
        "id": "AHgMRPv3S3yQ"
      },
      "execution_count": null,
      "outputs": []
    },
    {
      "cell_type": "code",
      "source": [
        "# 3 points\n",
        "grader.grade(test_case_id = 'test_bikes', answer = (sql_bike_type_df, bike_query))"
      ],
      "metadata": {
        "id": "w6RSHDbUS3yR"
      },
      "execution_count": null,
      "outputs": []
    },
    {
      "cell_type": "markdown",
      "source": [
        "#### 2.5.4 Rainy Days vs Non-Rainy Days [7 points]\n",
        "\n",
        "Just to get a little more practice with SQL...\n",
        "\n",
        "**TO-DO:**\n",
        "- Make a dataframe called `sql_rain_df` using query `rain_query` that finds the total number of trips on Rainy Days vs. Sunny Days, along with the number of days for each day type (rainy, non-rainy)\n",
        "  - A rainy day is defined as one where the precipitation was **greater than 0**.\n",
        "  - You will find `WITH (...) AS` and `UNION` commands useful here.\n",
        "\n",
        "<ins>Sense-Check</ins>: The `'Number of Days'` in your output will necessarily need to sum up to **7** since we only have 7 different days in our bikes dataset.\n",
        "\n",
        "<ins>Warning</ins>: Please note that you do NOT need to do this with Pandas, **ONLY PANDASQL**! <br> If you do this in Pandas, we will reduce the score to **ZERO** during manual review.\n",
        "\n",
        "\n",
        "**Final Schema** _(make sure you have the same column names and order!)_:\n",
        ">Day Type | Number of Rides | Number of Days\n",
        ">--- | --- | --- |\n",
        "> Rainy Day | ? | ?\n",
        "> Sunny Day | ? | ?"
      ],
      "metadata": {
        "id": "_3sr7YYrS3yR"
      }
    },
    {
      "cell_type": "code",
      "source": [
        "# TODO: create sql_rain_df as described above. =\n",
        "\n",
        "rain_query = \"\"\"\n",
        "\n",
        "             \"\"\"\n",
        "\n",
        "sql_rain_df = ps.sqldf(rain_query, locals())\n",
        "sql_rain_df"
      ],
      "metadata": {
        "id": "x0ifSHrSS3yR"
      },
      "execution_count": null,
      "outputs": []
    },
    {
      "cell_type": "code",
      "source": [
        "# 7 points\n",
        "grader.grade(test_case_id = 'test_rainy', answer = (sql_rain_df,rain_query))"
      ],
      "metadata": {
        "id": "XKRLmq_2S3yS"
      },
      "execution_count": null,
      "outputs": []
    },
    {
      "cell_type": "markdown",
      "source": [
        "### 2.6 Weekend Rush [8 points]\n",
        "\n",
        "We want to determine the percentage change in the number of rides from the weekend to the weekdays in the first 7 days of October using `pandasql`.\n",
        "\n",
        "\n",
        "\n",
        "**TODO**: Use `pandasql` to :\n",
        "* Count the number of rides that take place on the weekend (Saturday, Sunday)\n",
        "* Count the number of rides that take place M-F.\n",
        "* Calculate the percentage change for `trips_final_df` and save it in a new dataframe called `perc_df` with the column named `perc_change`. Please cast this column to `float` type You can use the following formula:\n",
        "\n",
        "$$\\frac{ number\\_of\\_trips\\_on\\_weekday - number\\_of\\_trips\\_on\\_weekend}{number\\_of\\_trips\\_on\\_weekend} \\times 100$$"
      ],
      "metadata": {
        "id": "O4HY0xZQS3yS"
      }
    },
    {
      "cell_type": "code",
      "source": [
        "# TODO: Use pandasql to get the percentage change between trips on the weekend and trips on the weekday\n",
        "perc_query = \"\"\"\n",
        "\n",
        "             \"\"\"\n",
        "\n",
        "perc_df = ps.sqldf(perc_query, locals())\n",
        "perc_df"
      ],
      "metadata": {
        "id": "JxRHY1lsS3yT"
      },
      "execution_count": null,
      "outputs": []
    },
    {
      "cell_type": "code",
      "source": [
        "# 8 points\n",
        "grader.grade(test_case_id = 'test_perc', answer = (perc_df, perc_query))"
      ],
      "metadata": {
        "id": "7cJ2QvpsS3yU"
      },
      "execution_count": null,
      "outputs": []
    },
    {
      "cell_type": "markdown",
      "source": [
        "## Part 3: Data Visualization [8 points total]"
      ],
      "metadata": {
        "id": "2TmWRlsBS3yU"
      }
    },
    {
      "cell_type": "markdown",
      "source": [
        "You've done great work so far! Now let's create a couple visualizations to illustrate data we might be interested in. \n",
        "\n",
        "\n",
        "This section will be **manually graded**."
      ],
      "metadata": {
        "id": "FBMLzvZES3yU"
      }
    },
    {
      "cell_type": "markdown",
      "source": [
        "Begin by following the directions below to prepare the dataset for plotting"
      ],
      "metadata": {
        "id": "SWl6emHZS3yU"
      }
    },
    {
      "cell_type": "code",
      "source": [
        "from datetime import datetime\n",
        "import seaborn as sns"
      ],
      "metadata": {
        "id": "vUBBTugE9T4H"
      },
      "execution_count": null,
      "outputs": []
    },
    {
      "cell_type": "markdown",
      "source": [
        "For this part we will be using `trips_final_df`"
      ],
      "metadata": {
        "id": "7TbqcrVG9VDd"
      }
    },
    {
      "cell_type": "code",
      "source": [
        "# Step 1a - using datetime functions, create a column called Time that has the time \n",
        "# (Hour:Minute) seen in the start_time column\n",
        "\n",
        "# HINT: The date should be of type %m/%d/%Y %H:%M, and once you've converted to datetime\n",
        "# you can use the .time() function to get the time of day\n",
        "\n"
      ],
      "metadata": {
        "id": "76tp5HG-S3yU"
      },
      "execution_count": null,
      "outputs": []
    },
    {
      "cell_type": "code",
      "source": [
        "# Step 1b - to make things simple for our graph, \"round\" the time down to the nearest hour.\n",
        "# For example, 0:01 and 0:59 should both turn into 0:00. You can either alter the \"Time of Day\"\n",
        "# column or create a new column and drop the old one, your choice.\n",
        "\n",
        "# Hint: you can use the replace() function to alter the minute component of the datetime object\n",
        "\n"
      ],
      "metadata": {
        "id": "sVAMLlHM9Hy9"
      },
      "execution_count": null,
      "outputs": []
    },
    {
      "cell_type": "code",
      "source": [
        "# Step 2a - Create a column called Date that gets the actual date (Month/Day/Year) seen\n",
        "# in the start_time column. Similar process as part 1a, and you will find .date() helpful here\n",
        "\n"
      ],
      "metadata": {
        "id": "wLcQT5Ok9JLP"
      },
      "execution_count": null,
      "outputs": []
    },
    {
      "cell_type": "code",
      "source": [
        "# Step 2b- Using the 'Date' column, create a column called Day which has the day\n",
        "# associated with the date (Monday, Tuesday, ..., Sunday). You can discard the \n",
        "# 'Date' column once you're done.\n",
        "\n",
        "# Hint: the .weekday() function will be helpful here, but you cannot leave the final\n",
        "# answer as an integer; make sure to convert to the actual name of the day!\n",
        "\n",
        "# Note: 0 represents Monday, 1 represents Tuesday, ... , 6 represents Sunday\n",
        "\n"
      ],
      "metadata": {
        "id": "SkJU6LBS9KMa"
      },
      "execution_count": null,
      "outputs": []
    },
    {
      "cell_type": "code",
      "source": [
        "# Step 3-  Make a dataframe that just contains 'trip_id','duration','Time of Day', and 'Day'\n",
        "\n",
        "\n"
      ],
      "metadata": {
        "id": "tEI_BSHF9L9p"
      },
      "execution_count": null,
      "outputs": []
    },
    {
      "cell_type": "markdown",
      "source": [
        "Your dataset is now complete! For the first line plot, you will be visualizing the number of trips that occur during each hour of the day, for all 7 days. To do so, you will be creating 2 line charts using Seaborn (sns).\n",
        "\n",
        "### This is important: using only Matplotlib will NOT result in full credit\n",
        "\n",
        "It is crucial that **your first line graph** contains the following features:\n",
        "1. The X-axis should be labelled \"Time of Day\", is of type datetime and ranges from 00:00 (midnight) to 23:00 (11 pm)\n",
        "2. The Y-axis should be labelled \"# of Rides\".\n",
        "3. There should be a title called \"# of Rides for each Time of Day\"\n",
        "4. There are 7 lines for each day of the week, clearly labeled and differentiated, **containing markers**.\n",
        "5. Again, must be completed using Seaborn (sns)\n"
      ],
      "metadata": {
        "id": "3uz28_FeVYnK"
      }
    },
    {
      "cell_type": "code",
      "source": [
        "# First Plot:\n",
        "\n",
        "# For this plot, create a dataframe that does not the duration column\n",
        "plot1_df = \n",
        "\n",
        "\n",
        "# Now, alter this dataframe to have 3 columns, IN THIS ORDER:\n",
        "# 'day', 'Time of Day', 'Count'. Count will keep track of how many rides occured \n",
        "# during the particular hour of that day. Using Pandas for aggregation is strongly recommended.\n",
        "\n",
        "\n",
        "\n",
        "# Now you have everything you need to create and display a line graph that\n",
        "# meets all the necessary criteria.\n",
        "\n"
      ],
      "metadata": {
        "id": "ydXhm8lCS3yV"
      },
      "execution_count": null,
      "outputs": []
    },
    {
      "cell_type": "markdown",
      "source": [
        "Very interesting. Now for the second line plot, you will be visualizing the average duration of a ride that occurs during each hour of the day, for all 7 days. \n",
        "\n",
        "As a reminder, **your second line graph** should contain the following features:\n",
        "1. The X-axis should be the same as last time\n",
        "2. The Y-axis should be labelled \"Average Duration\".\n",
        "3. There should be a title called \"Average Duration of an Indego Bike Ride for each Time of Day\"\n",
        "4. There are 7 lines for each of the 7 days"
      ],
      "metadata": {
        "id": "CJKpjLkUp5B0"
      }
    },
    {
      "cell_type": "code",
      "source": [
        "# Second Plot:\n",
        "\n",
        "# For this plot, create a dataframe that does not the trip_id column\n",
        "plot2_df = \n",
        "\n",
        "\n",
        "# Now, alter this dataframe to have 3 columns, IN THIS ORDER:\n",
        "# 'day', 'Time of Day', 'Average Duration'. Average Duration is the mean duration time\n",
        "# for the particular hour of that day. \n",
        "\n",
        "\n",
        "\n",
        "# Now just plot the graph\n"
      ],
      "metadata": {
        "id": "GzP5j9KCS3yW"
      },
      "execution_count": null,
      "outputs": []
    },
    {
      "cell_type": "markdown",
      "source": [
        "## Part 4: Working with Text Data [9 points]\n",
        "\n",
        "Now, let's switch gears and try to text-based analysis. Textual data is complex, but can also be used to generate extremely interpretable results, making it both valuable and interesting. \n",
        "\n",
        "Throughout this section, we will attempt to answer the following question:\n",
        "\n",
        "**According to the `reviews_df` dataframe, what do the reviews for some of the most popular restaurants in Philadelphia look like?**"
      ],
      "metadata": {
        "id": "rC5YZxulS3yX"
      }
    },
    {
      "cell_type": "markdown",
      "source": [
        "###4.1 Tokenizing the text [2 points]\n",
        "\n",
        "We are going to split the contents of the `reviews` column from `reviews_df` into a list of words. We will use the **nltk** library, which contains an extensive set of tools for text processing. Now, this homework would be interminably long if we went into all the details of nltk. Thus, we are only going to use the following components of the library:\n",
        "- `nltk.word_tokenize()`: a function used to tokenize text\n",
        "- `nltk.corpus.stopwords`: a list of commonly used words such as \"a\", \"an\",\"in\" that are often ignored in text analysis\n",
        "\n",
        "Note that for this question, we didn't have to clean the text data first as our original dataset was well-formatted. However, in practice, we would typically clean the text first using regular expressions (regex). Keep this in mind as you work on the project later on in the semester.\n",
        "\n",
        "**TODO:** Perform the following tasks:\n",
        "- Use **nltk.corpus.stopwords** to create a set containing the most common English stopwords.\n",
        "- Implement the function **tokenized_content(content)**, which takes in a string and does the following:\n",
        "1. Tokenize the text\n",
        "2. Keep tokens that only contain alphabetic characters (i.e. tokens with no punctuation)\n",
        "3. Convert each token to lowercase\n",
        "4. Remove stopwords (commonly used words such as \"a\", \"an\", \"in\")\n"
      ],
      "metadata": {
        "id": "6LRZiK9YS3yX"
      }
    },
    {
      "cell_type": "code",
      "source": [
        "# We've imported the nltk library and created the stopwords set for you\n",
        "import nltk\n",
        "from nltk.corpus import stopwords\n",
        "nltk.download('stopwords')\n",
        "stopwords = set(stopwords.words('english'))"
      ],
      "metadata": {
        "id": "MTeCg9ggS3yX"
      },
      "execution_count": null,
      "outputs": []
    },
    {
      "cell_type": "code",
      "source": [
        "# TODO: tokenize and flatten \n",
        "# (create a tokenized_content function that performs the steps listed above)\n",
        "\n",
        "def tokenized_content(content):\n",
        "  pass\n"
      ],
      "metadata": {
        "id": "VrCQn9XkS3yY"
      },
      "execution_count": null,
      "outputs": []
    },
    {
      "cell_type": "markdown",
      "source": [
        " **TODO**: Now perform the following tasks: \n",
        "- We are interested in reviews for the **most reviewed** restaurant in `reviews_df`. Using Counter() to find this restaurant is recommended. Store the name of the restaurant in the `most_reviewed_restaurant` variable, and use it to create `restaurant_reviews_df`, a subset of `reviews_df` only containing instances from the restaurant in question\n",
        "- From there, extract the `review` column of `reviews_df` as a list called `reviews`. \n",
        "- Apply your `tokenize_content()` function to each item in the list `reviews`. Call the resultant list `top_tokens_list`. \n",
        "- Flatten the list `top_tokens_list`, and call the resultant list `top_tokens`. The autograder will be examining the contents of this list. (Flatten using list comprehension)\n",
        "\n",
        "For futher assistance, here is the documentation for Counter() objects: \n",
        "\n",
        "https://docs.python.org/2/library/collections.html#counter-objects"
      ],
      "metadata": {
        "id": "kSFZfxDXS3yY"
      }
    },
    {
      "cell_type": "code",
      "source": [
        "from collections import Counter\n",
        "# TODO: find the most reviewed restaurant, use that to make restaurant_reviews_df,\n",
        "#       extract the reviews, use your function to make the token list, and flatten it\n",
        "\n",
        "most_reviewed_restaurant = \n",
        "restaurant_reviews_df = \n",
        "reviews = \n",
        "top_tokens_list = \n",
        "top_tokens = "
      ],
      "metadata": {
        "id": "_b-JZ1I5S3yZ"
      },
      "execution_count": null,
      "outputs": []
    },
    {
      "cell_type": "code",
      "source": [
        "# 2 points\n",
        "grader.grade(test_case_id = 'test_top_tokens', answer = top_tokens)"
      ],
      "metadata": {
        "id": "8Dc2ogf8S3yZ"
      },
      "execution_count": null,
      "outputs": []
    },
    {
      "cell_type": "markdown",
      "source": [
        "\n",
        "### 4.2 Most Frequent Words [2 points]\n",
        "**TODO**: Now, find the 10 most common words amongst the content of `top_tokens`. Return this as a list of `(word, count)` tuples, in descending order of `count`. Store this variable in `top_ten_words`\n",
        "\n",
        "**Hint**: We again recommend using `Counter` in this question."
      ],
      "metadata": {
        "id": "GEwk7DbrS3yZ"
      }
    },
    {
      "cell_type": "code",
      "source": [
        "# TODO: From top_tokens, find the ten most frequent words\n",
        "top_ten_words = "
      ],
      "metadata": {
        "id": "GFd9R1wyS3yZ"
      },
      "execution_count": null,
      "outputs": []
    },
    {
      "cell_type": "code",
      "source": [
        "# 2 points\n",
        "grader.grade(test_case_id = 'test_top_most_common', answer = top_ten_words)"
      ],
      "metadata": {
        "id": "Wd_RRFloS3ya"
      },
      "execution_count": null,
      "outputs": []
    },
    {
      "cell_type": "markdown",
      "source": [
        "### 4.3 Word Clouds [5 points]\n",
        "\n",
        "Before we move on from this dataset, let's visualize our results using a word cloud.\n",
        "\n",
        "**TODO**: Create a word cloud containing all the words in the list `top_tokens` (created in part 4.1). [The WordCloud documentation](https://amueller.github.io/word_cloud/generated/wordcloud.WordCloud.html) contains instructions on how to do this. \n",
        "\n",
        "*Please make sure your wordcloud has a **lavender** background color.*\n",
        "\n",
        "We will be going through your notebooks and **manually grading** your word cloud. This is worth 5 points. "
      ],
      "metadata": {
        "id": "vr94cNcdS3ya"
      }
    },
    {
      "cell_type": "code",
      "source": [
        "# TODO: generate your word cloud, making sure it meets the requirements above\n",
        "wordcloud = "
      ],
      "metadata": {
        "id": "gzM1RmhxS3ya"
      },
      "execution_count": null,
      "outputs": []
    },
    {
      "cell_type": "markdown",
      "metadata": {
        "id": "UcrcDEJNlrN0"
      },
      "source": [
        "# HW Submission\n",
        "\n",
        "<br>\n",
        "<center><img src = \"https://i.imgflip.com/79knab.jpg\" width= \"500\" align =\"center\"/></center>\n",
        "<br>\n",
        "\n",
        "Congratulations on finishing this homework! The good news is that similar to HW1, you basically know your score when you submit to Gradescope. \n",
        "However, this time, we will be manually grading your lineplots and wordclouds, so the autograder score is not final! Remember that we will also be checking for plagiarism, so please make sure to cite your sources (if any) by commenting the urls / links you looked at.\n",
        "\n",
        "Before you submit on Gradescope (you must submit your notebook to receive credit):\n",
        "\n",
        "1.   Please rerun your notebook on Colab by clicking \"Restart and Run-All\", and make sure there is nothing wrong with your notebook.\n",
        "2.   **Double check that you have the correct PennID (all numbers) saved in the autograder**. \n",
        "3. Make sure you've run all the PennGrader cells and have received a score.\n",
        "4. Go to the \"File\" tab at the top left, and click \"Download .ipynb\" + \"Download .py\". Please name the `.ipynb` and `.py` files **\"homework2.ipynb\"** and **\"homework2.py\"** respectively. Then, upload both the `.py` and `.ipynb` files to Gradescope. \n",
        "\n",
        "###Be sure to name your files correctly!!!\n",
        "\n",
        "**Please let the course staff know ASAP if you have any issues submitting.**"
      ]
    }
  ],
  "metadata": {
    "colab": {
      "provenance": []
    },
    "kernelspec": {
      "display_name": "Python 3",
      "name": "python3"
    },
    "language_info": {
      "name": "python"
    }
  },
  "nbformat": 4,
  "nbformat_minor": 0
}