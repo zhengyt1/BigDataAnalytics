{
  "cells": [
    {
      "cell_type": "markdown",
      "metadata": {
        "id": "W0hcZWDcqCUL"
      },
      "source": [
        "## Part 0: Libraries and Set Up Jargon (The usual wall of imports)"
      ]
    },
    {
      "cell_type": "markdown",
      "metadata": {
        "id": "wlv8esDGMj0h"
      },
      "source": [
        "# CIS 5450 Homework 2: SQL\n",
        "## Due: Tuesday, February 21 2023, 10pm EST \n",
        "### Worth 100 points in total\n",
        "\n",
        "Welcome to Homework 2! By now, you should be familiar with the world of data science and the Pandas library. This assignment focuses on helping you get to grips with a new tool: SQL.\n",
        "\n",
        "Through this homework, we will be working with SQL (specifically **pandasql**) by exploring a [Indego](https://www.rideindego.com/) dataset containing bike rides, stations and weather data. We will also conduct some text analysis of reataurant reviews in Philly.\n",
        "\n",
        " <!-- We will finish off the homework with some text analysis. -->\n",
        "\n",
        "We are introducing a lot of new things in this homework, and this is often where students start to get lost. Thus, we **strongly** encourage you to review the slides/material as you work through this assignment. \n",
        "\n",
        "**Before you begin:**\n",
        "- Be sure to click \"Copy to Drive\" to make sure you're working on your own personal version of the homework\n",
        "- Check the pinned FAQ post on Ed for updates! If you have been stuck, chances are other students have also faced similar problems.\n",
        "\n",
        "# <ins> Note</ins>: this has historically been the _**MOST  difficult**_ HW out of all of them, so please watch the SQL recitation and **start early**!"
      ]
    },
    {
      "cell_type": "code",
      "execution_count": 1,
      "metadata": {
        "id": "ylkUtozb2Oc8",
        "colab": {
          "base_uri": "https://localhost:8080/"
        },
        "outputId": "deb29872-a911-40bb-b758-77ac953840f7"
      },
      "outputs": [
        {
          "output_type": "stream",
          "name": "stdout",
          "text": [
            "Looking in indexes: https://pypi.org/simple, https://us-python.pkg.dev/colab-wheels/public/simple/\n",
            "Collecting penngrader\n",
            "  Downloading penngrader-0.4-py3-none-any.whl (13 kB)\n",
            "Installing collected packages: penngrader\n",
            "Successfully installed penngrader-0.4\n",
            "Looking in indexes: https://pypi.org/simple, https://us-python.pkg.dev/colab-wheels/public/simple/\n",
            "Requirement already satisfied: sqlalchemy==1.4.46 in /usr/local/lib/python3.8/dist-packages (1.4.46)\n",
            "Requirement already satisfied: greenlet!=0.4.17 in /usr/local/lib/python3.8/dist-packages (from sqlalchemy==1.4.46) (2.0.2)\n",
            "Looking in indexes: https://pypi.org/simple, https://us-python.pkg.dev/colab-wheels/public/simple/\n",
            "Collecting pandasql\n",
            "  Downloading pandasql-0.7.3.tar.gz (26 kB)\n",
            "  Preparing metadata (setup.py) ... \u001b[?25l\u001b[?25hdone\n",
            "Requirement already satisfied: numpy in /usr/local/lib/python3.8/dist-packages (from pandasql) (1.22.4)\n",
            "Requirement already satisfied: pandas in /usr/local/lib/python3.8/dist-packages (from pandasql) (1.3.5)\n",
            "Requirement already satisfied: sqlalchemy in /usr/local/lib/python3.8/dist-packages (from pandasql) (1.4.46)\n",
            "Requirement already satisfied: python-dateutil>=2.7.3 in /usr/local/lib/python3.8/dist-packages (from pandas->pandasql) (2.8.2)\n",
            "Requirement already satisfied: pytz>=2017.3 in /usr/local/lib/python3.8/dist-packages (from pandas->pandasql) (2022.7.1)\n",
            "Requirement already satisfied: greenlet!=0.4.17 in /usr/local/lib/python3.8/dist-packages (from sqlalchemy->pandasql) (2.0.2)\n",
            "Requirement already satisfied: six>=1.5 in /usr/local/lib/python3.8/dist-packages (from python-dateutil>=2.7.3->pandas->pandasql) (1.15.0)\n",
            "Building wheels for collected packages: pandasql\n",
            "  Building wheel for pandasql (setup.py) ... \u001b[?25l\u001b[?25hdone\n",
            "  Created wheel for pandasql: filename=pandasql-0.7.3-py3-none-any.whl size=26787 sha256=fc98967e6f73f1437ca23793296db07f868aa5405aca7e15b410dd203dd68f40\n",
            "  Stored in directory: /root/.cache/pip/wheels/ed/8f/46/a383923333728744f01ba24adbd8e364f2cb9470a8b8e5b9ff\n",
            "Successfully built pandasql\n",
            "Installing collected packages: pandasql\n",
            "Successfully installed pandasql-0.7.3\n",
            "Looking in indexes: https://pypi.org/simple, https://us-python.pkg.dev/colab-wheels/public/simple/\n",
            "Requirement already satisfied: geopy in /usr/local/lib/python3.8/dist-packages (1.17.0)\n",
            "Requirement already satisfied: geographiclib<2,>=1.49 in /usr/local/lib/python3.8/dist-packages (from geopy) (1.52)\n",
            "Looking in indexes: https://pypi.org/simple, https://us-python.pkg.dev/colab-wheels/public/simple/\n",
            "Collecting kaleido\n",
            "  Downloading kaleido-0.2.1-py2.py3-none-manylinux1_x86_64.whl (79.9 MB)\n",
            "\u001b[2K     \u001b[90m━━━━━━━━━━━━━━━━━━━━━━━━━━━━━━━━━━━━━━━━\u001b[0m \u001b[32m79.9/79.9 MB\u001b[0m \u001b[31m9.3 MB/s\u001b[0m eta \u001b[36m0:00:00\u001b[0m\n",
            "\u001b[?25hInstalling collected packages: kaleido\n",
            "Successfully installed kaleido-0.2.1\n"
          ]
        }
      ],
      "source": [
        "!pip3 install penngrader\n",
        "!pip install sqlalchemy==1.4.46\n",
        "!pip install pandasql\n",
        "!pip install geopy\n",
        "!pip install -U kaleido"
      ]
    },
    {
      "cell_type": "code",
      "execution_count": 2,
      "metadata": {
        "id": "LAXVD0Lo454x",
        "colab": {
          "base_uri": "https://localhost:8080/"
        },
        "outputId": "ecdd50e6-b4c4-4b4b-a67e-88a13c83360b"
      },
      "outputs": [
        {
          "output_type": "stream",
          "name": "stderr",
          "text": [
            "[nltk_data] Downloading package punkt to /root/nltk_data...\n",
            "[nltk_data]   Unzipping tokenizers/punkt.zip.\n"
          ]
        }
      ],
      "source": [
        "from penngrader.grader import *\n",
        "import pandas as pd\n",
        "import datetime as dt\n",
        "import geopy.distance as gp\n",
        "import matplotlib.image as mpimg\n",
        "import plotly.express as px\n",
        "# import re\n",
        "import pandasql as ps #SQL on Pandas Dataframe\n",
        "import nltk\n",
        "nltk.download('punkt')\n",
        "\n",
        "from wordcloud import WordCloud\n",
        "\n",
        "import matplotlib.pyplot as plt \n",
        "# from collections import Counter\n",
        "# import random"
      ]
    },
    {
      "cell_type": "code",
      "execution_count": 3,
      "metadata": {
        "id": "0TmMEXVcwONB",
        "colab": {
          "base_uri": "https://localhost:8080/"
        },
        "outputId": "73ba9d8f-377f-419f-e3a7-1701c2dc7558"
      },
      "outputs": [
        {
          "output_type": "stream",
          "name": "stdout",
          "text": [
            "--2023-02-22 23:12:20--  https://storage.googleapis.com/penn-cis5450/indego_trips.csv\n",
            "Resolving storage.googleapis.com (storage.googleapis.com)... 74.125.196.128, 173.194.213.128, 173.194.217.128, ...\n",
            "Connecting to storage.googleapis.com (storage.googleapis.com)|74.125.196.128|:443... connected.\n",
            "HTTP request sent, awaiting response... 200 OK\n",
            "Length: 2033339 (1.9M) [text/csv]\n",
            "Saving to: ‘indego_trips.csv’\n",
            "\n",
            "\rindego_trips.csv      0%[                    ]       0  --.-KB/s               \rindego_trips.csv    100%[===================>]   1.94M  --.-KB/s    in 0.03s   \n",
            "\n",
            "2023-02-22 23:12:20 (59.4 MB/s) - ‘indego_trips.csv’ saved [2033339/2033339]\n",
            "\n",
            "--2023-02-22 23:12:20--  https://storage.googleapis.com/penn-cis5450/indego_stations.csv\n",
            "Resolving storage.googleapis.com (storage.googleapis.com)... 74.125.196.128, 173.194.213.128, 173.194.217.128, ...\n",
            "Connecting to storage.googleapis.com (storage.googleapis.com)|74.125.196.128|:443... connected.\n",
            "HTTP request sent, awaiting response... 200 OK\n",
            "Length: 9052 (8.8K) [text/csv]\n",
            "Saving to: ‘indego_stations.csv’\n",
            "\n",
            "indego_stations.csv 100%[===================>]   8.84K  --.-KB/s    in 0s      \n",
            "\n",
            "2023-02-22 23:12:20 (57.4 MB/s) - ‘indego_stations.csv’ saved [9052/9052]\n",
            "\n",
            "--2023-02-22 23:12:20--  https://storage.googleapis.com/penn-cis5450/weather_2022_PHL.csv\n",
            "Resolving storage.googleapis.com (storage.googleapis.com)... 74.125.196.128, 173.194.213.128, 173.194.217.128, ...\n",
            "Connecting to storage.googleapis.com (storage.googleapis.com)|74.125.196.128|:443... connected.\n",
            "HTTP request sent, awaiting response... 200 OK\n",
            "Length: 20104 (20K) [text/csv]\n",
            "Saving to: ‘weather_2022_PHL.csv’\n",
            "\n",
            "weather_2022_PHL.cs 100%[===================>]  19.63K  --.-KB/s    in 0.001s  \n",
            "\n",
            "2023-02-22 23:12:20 (37.5 MB/s) - ‘weather_2022_PHL.csv’ saved [20104/20104]\n",
            "\n",
            "--2023-02-22 23:12:20--  https://storage.googleapis.com/penn-cis5450/restaurant_reviews.csv\n",
            "Resolving storage.googleapis.com (storage.googleapis.com)... 74.125.196.128, 173.194.213.128, 173.194.217.128, ...\n",
            "Connecting to storage.googleapis.com (storage.googleapis.com)|74.125.196.128|:443... connected.\n",
            "HTTP request sent, awaiting response... 200 OK\n",
            "Length: 46963 (46K) [text/csv]\n",
            "Saving to: ‘restaurant_reviews.csv’\n",
            "\n",
            "restaurant_reviews. 100%[===================>]  45.86K  --.-KB/s    in 0.001s  \n",
            "\n",
            "2023-02-22 23:12:20 (65.7 MB/s) - ‘restaurant_reviews.csv’ saved [46963/46963]\n",
            "\n"
          ]
        }
      ],
      "source": [
        "# Three datasets we're using\n",
        "! wget -nc https://storage.googleapis.com/penn-cis5450/indego_trips.csv\n",
        "! wget -nc https://storage.googleapis.com/penn-cis5450/indego_stations.csv\n",
        "! wget -nc https://storage.googleapis.com/penn-cis5450/weather_2022_PHL.csv\n",
        "! wget -nc https://storage.googleapis.com/penn-cis5450/restaurant_reviews.csv"
      ]
    },
    {
      "cell_type": "code",
      "execution_count": 4,
      "metadata": {
        "id": "b5NogkmdhhQ7",
        "colab": {
          "base_uri": "https://localhost:8080/"
        },
        "outputId": "2f1dff62-2749-45a5-cdc2-5b3645e05688"
      },
      "outputs": [
        {
          "output_type": "stream",
          "name": "stdout",
          "text": [
            "1.3.5\n"
          ]
        }
      ],
      "source": [
        "print(pd.__version__ )"
      ]
    },
    {
      "cell_type": "markdown",
      "metadata": {
        "id": "TeyWoMn6pxSC"
      },
      "source": [
        "### PennGrader Setup"
      ]
    },
    {
      "cell_type": "code",
      "execution_count": 5,
      "metadata": {
        "id": "4ds2HHSkpvBO"
      },
      "outputs": [],
      "source": [
        "# ENSURE YOUR PENN-ID IS ENTERED CORRECTLY. IF NOT, THE AUTOGRADER WON'T KNOW \n",
        "# TO ASSIGN POINTS TO YOU IN OUR BACKEND\n",
        "\n",
        "STUDENT_ID = 51747601                                                           # YOUR PENN-ID GOES HERE AS AN INTEGER #\n",
        "\n",
        "\n",
        "################################################################################\n",
        "# Check (no need to modify below - we're checking if you changed the ID above)\n",
        "if STUDENT_ID == 12345678:\n",
        "   print(\"Hold up!!! \\nHold up!!!!! \\nHold up!!!!!!!! \\n \\nWe can't store your grade if you forgot to change the ID!\")"
      ]
    },
    {
      "cell_type": "code",
      "execution_count": 6,
      "metadata": {
        "id": "vAsLYJGotKbO",
        "colab": {
          "base_uri": "https://localhost:8080/"
        },
        "outputId": "0afdfff9-f51f-4d00-fd2c-3284437a91c6"
      },
      "outputs": [
        {
          "output_type": "stream",
          "name": "stdout",
          "text": [
            "PennGrader initialized with Student ID: 51747601\n",
            "\n",
            "Make sure this correct or we will not be able to store your grade\n"
          ]
        }
      ],
      "source": [
        "grader = PennGrader(homework_id = 'CIS5450_23Sp_HW2', student_id = STUDENT_ID)"
      ]
    },
    {
      "cell_type": "markdown",
      "metadata": {
        "id": "VzZ6JNnKLplQ"
      },
      "source": [
        "\n",
        "\n",
        "# Biking in Philadelphia\n",
        "\n",
        "<br>\n",
        "<center><img src = \"https://whyy.org/wp-content/uploads/2021/11/AP-indego-bike-share-philly-docking-station-110421-768x512.jpg\" width= \"500\" align =\"center\"/></center>\n",
        "<br>\n",
        "\n",
        "I'm sure in your time in Philadelphia so far you've come across these blue bikes and stations. Indego is the company responsible for this bike sharing ride system, and they make data on bike trips available to the public. This data can not only be useful to get information of how people in Philly use bikes, but it can give information on the most visited places in the city which can be useful for city planners and business owners.\n",
        "\n",
        "\n",
        "In this homework, we'll be exploring some data about bikes including:\n",
        "\n",
        "*   Trips: data about bike trips during the first week of October 2022.\n",
        "\n",
        "*   Stations: data about bike stations, their ID and Name.\n",
        "\n",
        "*   Weather: data about the weather in Philadelphia during 2022.\n",
        "\n",
        "\n",
        "We'll be parsing this data into dataframes and relations, and then exploring how to query and assemble the tables into results. We will primarily be using PandaSQL, but for some of the initial questions, we will ask you to perform the same operations in Pandas as well, so as to familiarize you with the differences and similarities of the two.\n",
        "\n",
        "For the final part of this Homework, we'll use a fourth database with restaurants and reviews, and perform some text analysis."
      ]
    },
    {
      "cell_type": "markdown",
      "metadata": {
        "id": "oENmSeFkFRCo"
      },
      "source": [
        "## Part 1: Load & Process our Datasets [10 points total]\n",
        "\n",
        "Before we get into the data, we first need to load and clean our datasets. \n",
        "\n",
        "# Metadata\n",
        "You'll be working with four CSV files:\n",
        "- `indego_trips.csv`: contains data about each trip, like the origin station, destination station and duration. \n",
        "- `indego_stations.csv`: includes information about stations and their status in January 2023.\n",
        "- `weather_2022_PHL.csv`: has one row per day during 2022 and shows weather information.\n",
        "- `restaurant_reviews.csv`: has several reviews about three restaurants.\n",
        "\n",
        "**TO-DO**:\n",
        "* Load `indego_trips.csv` and save the data to a dataframe called `trips_df`.\n",
        "* Load `indego_stations.csv` and save the data to a dataframe called `stations_df`.\n",
        "* Load `weather_2022_PHL.csv` and save the data to a dataframe called `weather_df`.\n",
        "* Load `restaurant_reviews.csv` and save the data to a dataframe called `reviews_df`."
      ]
    },
    {
      "cell_type": "code",
      "execution_count": 7,
      "metadata": {
        "id": "zfMn38A25Vt8"
      },
      "outputs": [],
      "source": [
        "# TODO: Import the 4 datasets to pandas dataframes -- make sure the dataframes are named correctly! \n",
        "trips_df = pd.read_csv(\"indego_trips.csv\")\n",
        "stations_df = pd.read_csv(\"indego_stations.csv\")\n",
        "weather_df = pd.read_csv(\"weather_2022_PHL.csv\")\n",
        "reviews_df = pd.read_csv(\"restaurant_reviews.csv\")"
      ]
    },
    {
      "cell_type": "code",
      "execution_count": 8,
      "metadata": {
        "id": "yTBIwDJ1qDp0",
        "colab": {
          "base_uri": "https://localhost:8080/",
          "height": 206
        },
        "outputId": "6e91a2e8-9c35-4291-9992-f84db5e54585"
      },
      "outputs": [
        {
          "output_type": "execute_result",
          "data": {
            "text/plain": [
              "     trip_id  duration      start_time        end_time  start_station  \\\n",
              "0  536547052         9  10/1/2022 0:00  10/1/2022 0:09         3190.0   \n",
              "1  536547050        19  10/1/2022 0:01  10/1/2022 0:20         3168.0   \n",
              "2  536547048        12  10/1/2022 0:02  10/1/2022 0:14         3190.0   \n",
              "3  536547046         5  10/1/2022 0:03  10/1/2022 0:08         3075.0   \n",
              "4  536547044        11  10/1/2022 0:03  10/1/2022 0:14         3050.0   \n",
              "\n",
              "   start_lat  start_lon  end_station    end_lat    end_lon bike_id  \\\n",
              "0  39.948921 -75.169907       3158.0  39.925522 -75.169037   23553   \n",
              "1  39.951340 -75.173943       3034.0  39.933151 -75.162483   22190   \n",
              "2  39.948921 -75.169907       3158.0  39.925522 -75.169037   18789   \n",
              "3  39.967178 -75.161247       3039.0  39.971569 -75.159927   23383   \n",
              "4  39.953388 -75.154259       3075.0  39.967178 -75.161247    5367   \n",
              "\n",
              "   plan_duration trip_route_category passholder_type bike_type  \n",
              "0           30.0             One Way        Indego30  electric  \n",
              "1           30.0             One Way        Indego30  electric  \n",
              "2           30.0             One Way        Indego30  electric  \n",
              "3           30.0             One Way        Indego30  electric  \n",
              "4           30.0             One Way        Indego30  standard  "
            ],
            "text/html": [
              "\n",
              "  <div id=\"df-966c7656-b5e0-4bcc-b2c5-453e6b27e0a7\">\n",
              "    <div class=\"colab-df-container\">\n",
              "      <div>\n",
              "<style scoped>\n",
              "    .dataframe tbody tr th:only-of-type {\n",
              "        vertical-align: middle;\n",
              "    }\n",
              "\n",
              "    .dataframe tbody tr th {\n",
              "        vertical-align: top;\n",
              "    }\n",
              "\n",
              "    .dataframe thead th {\n",
              "        text-align: right;\n",
              "    }\n",
              "</style>\n",
              "<table border=\"1\" class=\"dataframe\">\n",
              "  <thead>\n",
              "    <tr style=\"text-align: right;\">\n",
              "      <th></th>\n",
              "      <th>trip_id</th>\n",
              "      <th>duration</th>\n",
              "      <th>start_time</th>\n",
              "      <th>end_time</th>\n",
              "      <th>start_station</th>\n",
              "      <th>start_lat</th>\n",
              "      <th>start_lon</th>\n",
              "      <th>end_station</th>\n",
              "      <th>end_lat</th>\n",
              "      <th>end_lon</th>\n",
              "      <th>bike_id</th>\n",
              "      <th>plan_duration</th>\n",
              "      <th>trip_route_category</th>\n",
              "      <th>passholder_type</th>\n",
              "      <th>bike_type</th>\n",
              "    </tr>\n",
              "  </thead>\n",
              "  <tbody>\n",
              "    <tr>\n",
              "      <th>0</th>\n",
              "      <td>536547052</td>\n",
              "      <td>9</td>\n",
              "      <td>10/1/2022 0:00</td>\n",
              "      <td>10/1/2022 0:09</td>\n",
              "      <td>3190.0</td>\n",
              "      <td>39.948921</td>\n",
              "      <td>-75.169907</td>\n",
              "      <td>3158.0</td>\n",
              "      <td>39.925522</td>\n",
              "      <td>-75.169037</td>\n",
              "      <td>23553</td>\n",
              "      <td>30.0</td>\n",
              "      <td>One Way</td>\n",
              "      <td>Indego30</td>\n",
              "      <td>electric</td>\n",
              "    </tr>\n",
              "    <tr>\n",
              "      <th>1</th>\n",
              "      <td>536547050</td>\n",
              "      <td>19</td>\n",
              "      <td>10/1/2022 0:01</td>\n",
              "      <td>10/1/2022 0:20</td>\n",
              "      <td>3168.0</td>\n",
              "      <td>39.951340</td>\n",
              "      <td>-75.173943</td>\n",
              "      <td>3034.0</td>\n",
              "      <td>39.933151</td>\n",
              "      <td>-75.162483</td>\n",
              "      <td>22190</td>\n",
              "      <td>30.0</td>\n",
              "      <td>One Way</td>\n",
              "      <td>Indego30</td>\n",
              "      <td>electric</td>\n",
              "    </tr>\n",
              "    <tr>\n",
              "      <th>2</th>\n",
              "      <td>536547048</td>\n",
              "      <td>12</td>\n",
              "      <td>10/1/2022 0:02</td>\n",
              "      <td>10/1/2022 0:14</td>\n",
              "      <td>3190.0</td>\n",
              "      <td>39.948921</td>\n",
              "      <td>-75.169907</td>\n",
              "      <td>3158.0</td>\n",
              "      <td>39.925522</td>\n",
              "      <td>-75.169037</td>\n",
              "      <td>18789</td>\n",
              "      <td>30.0</td>\n",
              "      <td>One Way</td>\n",
              "      <td>Indego30</td>\n",
              "      <td>electric</td>\n",
              "    </tr>\n",
              "    <tr>\n",
              "      <th>3</th>\n",
              "      <td>536547046</td>\n",
              "      <td>5</td>\n",
              "      <td>10/1/2022 0:03</td>\n",
              "      <td>10/1/2022 0:08</td>\n",
              "      <td>3075.0</td>\n",
              "      <td>39.967178</td>\n",
              "      <td>-75.161247</td>\n",
              "      <td>3039.0</td>\n",
              "      <td>39.971569</td>\n",
              "      <td>-75.159927</td>\n",
              "      <td>23383</td>\n",
              "      <td>30.0</td>\n",
              "      <td>One Way</td>\n",
              "      <td>Indego30</td>\n",
              "      <td>electric</td>\n",
              "    </tr>\n",
              "    <tr>\n",
              "      <th>4</th>\n",
              "      <td>536547044</td>\n",
              "      <td>11</td>\n",
              "      <td>10/1/2022 0:03</td>\n",
              "      <td>10/1/2022 0:14</td>\n",
              "      <td>3050.0</td>\n",
              "      <td>39.953388</td>\n",
              "      <td>-75.154259</td>\n",
              "      <td>3075.0</td>\n",
              "      <td>39.967178</td>\n",
              "      <td>-75.161247</td>\n",
              "      <td>5367</td>\n",
              "      <td>30.0</td>\n",
              "      <td>One Way</td>\n",
              "      <td>Indego30</td>\n",
              "      <td>standard</td>\n",
              "    </tr>\n",
              "  </tbody>\n",
              "</table>\n",
              "</div>\n",
              "      <button class=\"colab-df-convert\" onclick=\"convertToInteractive('df-966c7656-b5e0-4bcc-b2c5-453e6b27e0a7')\"\n",
              "              title=\"Convert this dataframe to an interactive table.\"\n",
              "              style=\"display:none;\">\n",
              "        \n",
              "  <svg xmlns=\"http://www.w3.org/2000/svg\" height=\"24px\"viewBox=\"0 0 24 24\"\n",
              "       width=\"24px\">\n",
              "    <path d=\"M0 0h24v24H0V0z\" fill=\"none\"/>\n",
              "    <path d=\"M18.56 5.44l.94 2.06.94-2.06 2.06-.94-2.06-.94-.94-2.06-.94 2.06-2.06.94zm-11 1L8.5 8.5l.94-2.06 2.06-.94-2.06-.94L8.5 2.5l-.94 2.06-2.06.94zm10 10l.94 2.06.94-2.06 2.06-.94-2.06-.94-.94-2.06-.94 2.06-2.06.94z\"/><path d=\"M17.41 7.96l-1.37-1.37c-.4-.4-.92-.59-1.43-.59-.52 0-1.04.2-1.43.59L10.3 9.45l-7.72 7.72c-.78.78-.78 2.05 0 2.83L4 21.41c.39.39.9.59 1.41.59.51 0 1.02-.2 1.41-.59l7.78-7.78 2.81-2.81c.8-.78.8-2.07 0-2.86zM5.41 20L4 18.59l7.72-7.72 1.47 1.35L5.41 20z\"/>\n",
              "  </svg>\n",
              "      </button>\n",
              "      \n",
              "  <style>\n",
              "    .colab-df-container {\n",
              "      display:flex;\n",
              "      flex-wrap:wrap;\n",
              "      gap: 12px;\n",
              "    }\n",
              "\n",
              "    .colab-df-convert {\n",
              "      background-color: #E8F0FE;\n",
              "      border: none;\n",
              "      border-radius: 50%;\n",
              "      cursor: pointer;\n",
              "      display: none;\n",
              "      fill: #1967D2;\n",
              "      height: 32px;\n",
              "      padding: 0 0 0 0;\n",
              "      width: 32px;\n",
              "    }\n",
              "\n",
              "    .colab-df-convert:hover {\n",
              "      background-color: #E2EBFA;\n",
              "      box-shadow: 0px 1px 2px rgba(60, 64, 67, 0.3), 0px 1px 3px 1px rgba(60, 64, 67, 0.15);\n",
              "      fill: #174EA6;\n",
              "    }\n",
              "\n",
              "    [theme=dark] .colab-df-convert {\n",
              "      background-color: #3B4455;\n",
              "      fill: #D2E3FC;\n",
              "    }\n",
              "\n",
              "    [theme=dark] .colab-df-convert:hover {\n",
              "      background-color: #434B5C;\n",
              "      box-shadow: 0px 1px 3px 1px rgba(0, 0, 0, 0.15);\n",
              "      filter: drop-shadow(0px 1px 2px rgba(0, 0, 0, 0.3));\n",
              "      fill: #FFFFFF;\n",
              "    }\n",
              "  </style>\n",
              "\n",
              "      <script>\n",
              "        const buttonEl =\n",
              "          document.querySelector('#df-966c7656-b5e0-4bcc-b2c5-453e6b27e0a7 button.colab-df-convert');\n",
              "        buttonEl.style.display =\n",
              "          google.colab.kernel.accessAllowed ? 'block' : 'none';\n",
              "\n",
              "        async function convertToInteractive(key) {\n",
              "          const element = document.querySelector('#df-966c7656-b5e0-4bcc-b2c5-453e6b27e0a7');\n",
              "          const dataTable =\n",
              "            await google.colab.kernel.invokeFunction('convertToInteractive',\n",
              "                                                     [key], {});\n",
              "          if (!dataTable) return;\n",
              "\n",
              "          const docLinkHtml = 'Like what you see? Visit the ' +\n",
              "            '<a target=\"_blank\" href=https://colab.research.google.com/notebooks/data_table.ipynb>data table notebook</a>'\n",
              "            + ' to learn more about interactive tables.';\n",
              "          element.innerHTML = '';\n",
              "          dataTable['output_type'] = 'display_data';\n",
              "          await google.colab.output.renderOutput(dataTable, element);\n",
              "          const docLink = document.createElement('div');\n",
              "          docLink.innerHTML = docLinkHtml;\n",
              "          element.appendChild(docLink);\n",
              "        }\n",
              "      </script>\n",
              "    </div>\n",
              "  </div>\n",
              "  "
            ]
          },
          "metadata": {},
          "execution_count": 8
        }
      ],
      "source": [
        "# TODO: view `trips_df` (just the first 5 rows with .head() is fine) to make sure the import was successful\n",
        "trips_df.head(5)"
      ]
    },
    {
      "cell_type": "code",
      "execution_count": 9,
      "metadata": {
        "id": "Py_XvfZiNzXx",
        "colab": {
          "base_uri": "https://localhost:8080/",
          "height": 206
        },
        "outputId": "e60d7bab-a951-4856-a2bb-409661da3160"
      },
      "outputs": [
        {
          "output_type": "execute_result",
          "data": {
            "text/plain": [
              "   station_id                       station_name day_of_go_live_date  status  \\\n",
              "0        3000                    Virtual Station           4/23/2015  Active   \n",
              "1        3004  Municipal Services Building Plaza           4/23/2015  Active   \n",
              "2        3005                  Welcome Park, NPS           4/23/2015  Active   \n",
              "3        3006                      40th & Spruce           4/23/2015  Active   \n",
              "4        3007             11th & Pine, Kahn Park           4/23/2015  Active   \n",
              "\n",
              "   zone  \n",
              "0     0  \n",
              "1     0  \n",
              "2     0  \n",
              "3     2  \n",
              "4     0  "
            ],
            "text/html": [
              "\n",
              "  <div id=\"df-d39c49ff-eb1f-4af1-ac6a-b4e7c6f295e3\">\n",
              "    <div class=\"colab-df-container\">\n",
              "      <div>\n",
              "<style scoped>\n",
              "    .dataframe tbody tr th:only-of-type {\n",
              "        vertical-align: middle;\n",
              "    }\n",
              "\n",
              "    .dataframe tbody tr th {\n",
              "        vertical-align: top;\n",
              "    }\n",
              "\n",
              "    .dataframe thead th {\n",
              "        text-align: right;\n",
              "    }\n",
              "</style>\n",
              "<table border=\"1\" class=\"dataframe\">\n",
              "  <thead>\n",
              "    <tr style=\"text-align: right;\">\n",
              "      <th></th>\n",
              "      <th>station_id</th>\n",
              "      <th>station_name</th>\n",
              "      <th>day_of_go_live_date</th>\n",
              "      <th>status</th>\n",
              "      <th>zone</th>\n",
              "    </tr>\n",
              "  </thead>\n",
              "  <tbody>\n",
              "    <tr>\n",
              "      <th>0</th>\n",
              "      <td>3000</td>\n",
              "      <td>Virtual Station</td>\n",
              "      <td>4/23/2015</td>\n",
              "      <td>Active</td>\n",
              "      <td>0</td>\n",
              "    </tr>\n",
              "    <tr>\n",
              "      <th>1</th>\n",
              "      <td>3004</td>\n",
              "      <td>Municipal Services Building Plaza</td>\n",
              "      <td>4/23/2015</td>\n",
              "      <td>Active</td>\n",
              "      <td>0</td>\n",
              "    </tr>\n",
              "    <tr>\n",
              "      <th>2</th>\n",
              "      <td>3005</td>\n",
              "      <td>Welcome Park, NPS</td>\n",
              "      <td>4/23/2015</td>\n",
              "      <td>Active</td>\n",
              "      <td>0</td>\n",
              "    </tr>\n",
              "    <tr>\n",
              "      <th>3</th>\n",
              "      <td>3006</td>\n",
              "      <td>40th &amp; Spruce</td>\n",
              "      <td>4/23/2015</td>\n",
              "      <td>Active</td>\n",
              "      <td>2</td>\n",
              "    </tr>\n",
              "    <tr>\n",
              "      <th>4</th>\n",
              "      <td>3007</td>\n",
              "      <td>11th &amp; Pine, Kahn Park</td>\n",
              "      <td>4/23/2015</td>\n",
              "      <td>Active</td>\n",
              "      <td>0</td>\n",
              "    </tr>\n",
              "  </tbody>\n",
              "</table>\n",
              "</div>\n",
              "      <button class=\"colab-df-convert\" onclick=\"convertToInteractive('df-d39c49ff-eb1f-4af1-ac6a-b4e7c6f295e3')\"\n",
              "              title=\"Convert this dataframe to an interactive table.\"\n",
              "              style=\"display:none;\">\n",
              "        \n",
              "  <svg xmlns=\"http://www.w3.org/2000/svg\" height=\"24px\"viewBox=\"0 0 24 24\"\n",
              "       width=\"24px\">\n",
              "    <path d=\"M0 0h24v24H0V0z\" fill=\"none\"/>\n",
              "    <path d=\"M18.56 5.44l.94 2.06.94-2.06 2.06-.94-2.06-.94-.94-2.06-.94 2.06-2.06.94zm-11 1L8.5 8.5l.94-2.06 2.06-.94-2.06-.94L8.5 2.5l-.94 2.06-2.06.94zm10 10l.94 2.06.94-2.06 2.06-.94-2.06-.94-.94-2.06-.94 2.06-2.06.94z\"/><path d=\"M17.41 7.96l-1.37-1.37c-.4-.4-.92-.59-1.43-.59-.52 0-1.04.2-1.43.59L10.3 9.45l-7.72 7.72c-.78.78-.78 2.05 0 2.83L4 21.41c.39.39.9.59 1.41.59.51 0 1.02-.2 1.41-.59l7.78-7.78 2.81-2.81c.8-.78.8-2.07 0-2.86zM5.41 20L4 18.59l7.72-7.72 1.47 1.35L5.41 20z\"/>\n",
              "  </svg>\n",
              "      </button>\n",
              "      \n",
              "  <style>\n",
              "    .colab-df-container {\n",
              "      display:flex;\n",
              "      flex-wrap:wrap;\n",
              "      gap: 12px;\n",
              "    }\n",
              "\n",
              "    .colab-df-convert {\n",
              "      background-color: #E8F0FE;\n",
              "      border: none;\n",
              "      border-radius: 50%;\n",
              "      cursor: pointer;\n",
              "      display: none;\n",
              "      fill: #1967D2;\n",
              "      height: 32px;\n",
              "      padding: 0 0 0 0;\n",
              "      width: 32px;\n",
              "    }\n",
              "\n",
              "    .colab-df-convert:hover {\n",
              "      background-color: #E2EBFA;\n",
              "      box-shadow: 0px 1px 2px rgba(60, 64, 67, 0.3), 0px 1px 3px 1px rgba(60, 64, 67, 0.15);\n",
              "      fill: #174EA6;\n",
              "    }\n",
              "\n",
              "    [theme=dark] .colab-df-convert {\n",
              "      background-color: #3B4455;\n",
              "      fill: #D2E3FC;\n",
              "    }\n",
              "\n",
              "    [theme=dark] .colab-df-convert:hover {\n",
              "      background-color: #434B5C;\n",
              "      box-shadow: 0px 1px 3px 1px rgba(0, 0, 0, 0.15);\n",
              "      filter: drop-shadow(0px 1px 2px rgba(0, 0, 0, 0.3));\n",
              "      fill: #FFFFFF;\n",
              "    }\n",
              "  </style>\n",
              "\n",
              "      <script>\n",
              "        const buttonEl =\n",
              "          document.querySelector('#df-d39c49ff-eb1f-4af1-ac6a-b4e7c6f295e3 button.colab-df-convert');\n",
              "        buttonEl.style.display =\n",
              "          google.colab.kernel.accessAllowed ? 'block' : 'none';\n",
              "\n",
              "        async function convertToInteractive(key) {\n",
              "          const element = document.querySelector('#df-d39c49ff-eb1f-4af1-ac6a-b4e7c6f295e3');\n",
              "          const dataTable =\n",
              "            await google.colab.kernel.invokeFunction('convertToInteractive',\n",
              "                                                     [key], {});\n",
              "          if (!dataTable) return;\n",
              "\n",
              "          const docLinkHtml = 'Like what you see? Visit the ' +\n",
              "            '<a target=\"_blank\" href=https://colab.research.google.com/notebooks/data_table.ipynb>data table notebook</a>'\n",
              "            + ' to learn more about interactive tables.';\n",
              "          element.innerHTML = '';\n",
              "          dataTable['output_type'] = 'display_data';\n",
              "          await google.colab.output.renderOutput(dataTable, element);\n",
              "          const docLink = document.createElement('div');\n",
              "          docLink.innerHTML = docLinkHtml;\n",
              "          element.appendChild(docLink);\n",
              "        }\n",
              "      </script>\n",
              "    </div>\n",
              "  </div>\n",
              "  "
            ]
          },
          "metadata": {},
          "execution_count": 9
        }
      ],
      "source": [
        "# TODO: view `stations_df` (just the first 5 rows with .head() is fine)to make sure the import was successful\n",
        "stations_df.head(5)"
      ]
    },
    {
      "cell_type": "code",
      "execution_count": 10,
      "metadata": {
        "id": "hZJwhz1lx4ZV",
        "colab": {
          "base_uri": "https://localhost:8080/",
          "height": 206
        },
        "outputId": "5fb213b6-940d-4bd6-c414-5b57f6add752"
      },
      "outputs": [
        {
          "output_type": "execute_result",
          "data": {
            "text/plain": [
              "       date  actual_mean_temp  actual_min_temp  actual_max_temp  \\\n",
              "0  1/1/2022                35               28               42   \n",
              "1  1/2/2022                37               29               44   \n",
              "2  1/3/2022                36               28               44   \n",
              "3  1/4/2022                50               42               58   \n",
              "4  1/5/2022                37               24               50   \n",
              "\n",
              "   average_min_temp  average_max_temp  record_min_temp  record_max_temp  \\\n",
              "0                27                41                4               64   \n",
              "1                26                41                7               67   \n",
              "2                26                41               -3               63   \n",
              "3                26                41                2               68   \n",
              "4                26                40               -2               66   \n",
              "\n",
              "   record_min_temp_year  record_max_temp_year  actual_precipitation  \\\n",
              "0                  1881                  2005                  0.00   \n",
              "1                  1968                  1876                  0.00   \n",
              "2                  1879                  2000                  0.72   \n",
              "3                  1918                  1950                  0.37   \n",
              "4                  1904                  1997                  0.00   \n",
              "\n",
              "   average_precipitation  record_precipitation  \n",
              "0                   0.09                  1.60  \n",
              "1                   0.10                  1.68  \n",
              "2                   0.09                  1.50  \n",
              "3                   0.10                  1.51  \n",
              "4                   0.10                  2.24  "
            ],
            "text/html": [
              "\n",
              "  <div id=\"df-cca02a0f-d5d0-4081-b2fd-08eaa1951805\">\n",
              "    <div class=\"colab-df-container\">\n",
              "      <div>\n",
              "<style scoped>\n",
              "    .dataframe tbody tr th:only-of-type {\n",
              "        vertical-align: middle;\n",
              "    }\n",
              "\n",
              "    .dataframe tbody tr th {\n",
              "        vertical-align: top;\n",
              "    }\n",
              "\n",
              "    .dataframe thead th {\n",
              "        text-align: right;\n",
              "    }\n",
              "</style>\n",
              "<table border=\"1\" class=\"dataframe\">\n",
              "  <thead>\n",
              "    <tr style=\"text-align: right;\">\n",
              "      <th></th>\n",
              "      <th>date</th>\n",
              "      <th>actual_mean_temp</th>\n",
              "      <th>actual_min_temp</th>\n",
              "      <th>actual_max_temp</th>\n",
              "      <th>average_min_temp</th>\n",
              "      <th>average_max_temp</th>\n",
              "      <th>record_min_temp</th>\n",
              "      <th>record_max_temp</th>\n",
              "      <th>record_min_temp_year</th>\n",
              "      <th>record_max_temp_year</th>\n",
              "      <th>actual_precipitation</th>\n",
              "      <th>average_precipitation</th>\n",
              "      <th>record_precipitation</th>\n",
              "    </tr>\n",
              "  </thead>\n",
              "  <tbody>\n",
              "    <tr>\n",
              "      <th>0</th>\n",
              "      <td>1/1/2022</td>\n",
              "      <td>35</td>\n",
              "      <td>28</td>\n",
              "      <td>42</td>\n",
              "      <td>27</td>\n",
              "      <td>41</td>\n",
              "      <td>4</td>\n",
              "      <td>64</td>\n",
              "      <td>1881</td>\n",
              "      <td>2005</td>\n",
              "      <td>0.00</td>\n",
              "      <td>0.09</td>\n",
              "      <td>1.60</td>\n",
              "    </tr>\n",
              "    <tr>\n",
              "      <th>1</th>\n",
              "      <td>1/2/2022</td>\n",
              "      <td>37</td>\n",
              "      <td>29</td>\n",
              "      <td>44</td>\n",
              "      <td>26</td>\n",
              "      <td>41</td>\n",
              "      <td>7</td>\n",
              "      <td>67</td>\n",
              "      <td>1968</td>\n",
              "      <td>1876</td>\n",
              "      <td>0.00</td>\n",
              "      <td>0.10</td>\n",
              "      <td>1.68</td>\n",
              "    </tr>\n",
              "    <tr>\n",
              "      <th>2</th>\n",
              "      <td>1/3/2022</td>\n",
              "      <td>36</td>\n",
              "      <td>28</td>\n",
              "      <td>44</td>\n",
              "      <td>26</td>\n",
              "      <td>41</td>\n",
              "      <td>-3</td>\n",
              "      <td>63</td>\n",
              "      <td>1879</td>\n",
              "      <td>2000</td>\n",
              "      <td>0.72</td>\n",
              "      <td>0.09</td>\n",
              "      <td>1.50</td>\n",
              "    </tr>\n",
              "    <tr>\n",
              "      <th>3</th>\n",
              "      <td>1/4/2022</td>\n",
              "      <td>50</td>\n",
              "      <td>42</td>\n",
              "      <td>58</td>\n",
              "      <td>26</td>\n",
              "      <td>41</td>\n",
              "      <td>2</td>\n",
              "      <td>68</td>\n",
              "      <td>1918</td>\n",
              "      <td>1950</td>\n",
              "      <td>0.37</td>\n",
              "      <td>0.10</td>\n",
              "      <td>1.51</td>\n",
              "    </tr>\n",
              "    <tr>\n",
              "      <th>4</th>\n",
              "      <td>1/5/2022</td>\n",
              "      <td>37</td>\n",
              "      <td>24</td>\n",
              "      <td>50</td>\n",
              "      <td>26</td>\n",
              "      <td>40</td>\n",
              "      <td>-2</td>\n",
              "      <td>66</td>\n",
              "      <td>1904</td>\n",
              "      <td>1997</td>\n",
              "      <td>0.00</td>\n",
              "      <td>0.10</td>\n",
              "      <td>2.24</td>\n",
              "    </tr>\n",
              "  </tbody>\n",
              "</table>\n",
              "</div>\n",
              "      <button class=\"colab-df-convert\" onclick=\"convertToInteractive('df-cca02a0f-d5d0-4081-b2fd-08eaa1951805')\"\n",
              "              title=\"Convert this dataframe to an interactive table.\"\n",
              "              style=\"display:none;\">\n",
              "        \n",
              "  <svg xmlns=\"http://www.w3.org/2000/svg\" height=\"24px\"viewBox=\"0 0 24 24\"\n",
              "       width=\"24px\">\n",
              "    <path d=\"M0 0h24v24H0V0z\" fill=\"none\"/>\n",
              "    <path d=\"M18.56 5.44l.94 2.06.94-2.06 2.06-.94-2.06-.94-.94-2.06-.94 2.06-2.06.94zm-11 1L8.5 8.5l.94-2.06 2.06-.94-2.06-.94L8.5 2.5l-.94 2.06-2.06.94zm10 10l.94 2.06.94-2.06 2.06-.94-2.06-.94-.94-2.06-.94 2.06-2.06.94z\"/><path d=\"M17.41 7.96l-1.37-1.37c-.4-.4-.92-.59-1.43-.59-.52 0-1.04.2-1.43.59L10.3 9.45l-7.72 7.72c-.78.78-.78 2.05 0 2.83L4 21.41c.39.39.9.59 1.41.59.51 0 1.02-.2 1.41-.59l7.78-7.78 2.81-2.81c.8-.78.8-2.07 0-2.86zM5.41 20L4 18.59l7.72-7.72 1.47 1.35L5.41 20z\"/>\n",
              "  </svg>\n",
              "      </button>\n",
              "      \n",
              "  <style>\n",
              "    .colab-df-container {\n",
              "      display:flex;\n",
              "      flex-wrap:wrap;\n",
              "      gap: 12px;\n",
              "    }\n",
              "\n",
              "    .colab-df-convert {\n",
              "      background-color: #E8F0FE;\n",
              "      border: none;\n",
              "      border-radius: 50%;\n",
              "      cursor: pointer;\n",
              "      display: none;\n",
              "      fill: #1967D2;\n",
              "      height: 32px;\n",
              "      padding: 0 0 0 0;\n",
              "      width: 32px;\n",
              "    }\n",
              "\n",
              "    .colab-df-convert:hover {\n",
              "      background-color: #E2EBFA;\n",
              "      box-shadow: 0px 1px 2px rgba(60, 64, 67, 0.3), 0px 1px 3px 1px rgba(60, 64, 67, 0.15);\n",
              "      fill: #174EA6;\n",
              "    }\n",
              "\n",
              "    [theme=dark] .colab-df-convert {\n",
              "      background-color: #3B4455;\n",
              "      fill: #D2E3FC;\n",
              "    }\n",
              "\n",
              "    [theme=dark] .colab-df-convert:hover {\n",
              "      background-color: #434B5C;\n",
              "      box-shadow: 0px 1px 3px 1px rgba(0, 0, 0, 0.15);\n",
              "      filter: drop-shadow(0px 1px 2px rgba(0, 0, 0, 0.3));\n",
              "      fill: #FFFFFF;\n",
              "    }\n",
              "  </style>\n",
              "\n",
              "      <script>\n",
              "        const buttonEl =\n",
              "          document.querySelector('#df-cca02a0f-d5d0-4081-b2fd-08eaa1951805 button.colab-df-convert');\n",
              "        buttonEl.style.display =\n",
              "          google.colab.kernel.accessAllowed ? 'block' : 'none';\n",
              "\n",
              "        async function convertToInteractive(key) {\n",
              "          const element = document.querySelector('#df-cca02a0f-d5d0-4081-b2fd-08eaa1951805');\n",
              "          const dataTable =\n",
              "            await google.colab.kernel.invokeFunction('convertToInteractive',\n",
              "                                                     [key], {});\n",
              "          if (!dataTable) return;\n",
              "\n",
              "          const docLinkHtml = 'Like what you see? Visit the ' +\n",
              "            '<a target=\"_blank\" href=https://colab.research.google.com/notebooks/data_table.ipynb>data table notebook</a>'\n",
              "            + ' to learn more about interactive tables.';\n",
              "          element.innerHTML = '';\n",
              "          dataTable['output_type'] = 'display_data';\n",
              "          await google.colab.output.renderOutput(dataTable, element);\n",
              "          const docLink = document.createElement('div');\n",
              "          docLink.innerHTML = docLinkHtml;\n",
              "          element.appendChild(docLink);\n",
              "        }\n",
              "      </script>\n",
              "    </div>\n",
              "  </div>\n",
              "  "
            ]
          },
          "metadata": {},
          "execution_count": 10
        }
      ],
      "source": [
        "# TODO: view `weather_df` (just the first 5 rows with .head() is fine)to make sure the import was successful\n",
        "weather_df.head(5)"
      ]
    },
    {
      "cell_type": "code",
      "source": [
        "# TODO: view `reviews_df` (just the first 5 rows with .head() is fine)to make sure the import was successful\n",
        "reviews_df.head(5)"
      ],
      "metadata": {
        "id": "FuxEO2U6VCNA",
        "colab": {
          "base_uri": "https://localhost:8080/",
          "height": 206
        },
        "outputId": "7feea531-05e0-45ea-eedb-9876fb8d007f"
      },
      "execution_count": 11,
      "outputs": [
        {
          "output_type": "execute_result",
          "data": {
            "text/plain": [
              "          restaurant                                             review  zone\n",
              "0  Gloria Restaurant  Today is the third time I've come to Gloria Re...     1\n",
              "1  Gloria Restaurant  I have been to Gloria Restaurant a couple time...     1\n",
              "2  Gloria Restaurant  Last Saturday I went to this restaurant hoping...     1\n",
              "3  Gloria Restaurant  First off, let me say I have never been to the...     1\n",
              "4  Gloria Restaurant  I've been coming here for a while now and I wa...     1"
            ],
            "text/html": [
              "\n",
              "  <div id=\"df-d07d7aa3-d7d5-487b-b23a-c5d4b1354b9a\">\n",
              "    <div class=\"colab-df-container\">\n",
              "      <div>\n",
              "<style scoped>\n",
              "    .dataframe tbody tr th:only-of-type {\n",
              "        vertical-align: middle;\n",
              "    }\n",
              "\n",
              "    .dataframe tbody tr th {\n",
              "        vertical-align: top;\n",
              "    }\n",
              "\n",
              "    .dataframe thead th {\n",
              "        text-align: right;\n",
              "    }\n",
              "</style>\n",
              "<table border=\"1\" class=\"dataframe\">\n",
              "  <thead>\n",
              "    <tr style=\"text-align: right;\">\n",
              "      <th></th>\n",
              "      <th>restaurant</th>\n",
              "      <th>review</th>\n",
              "      <th>zone</th>\n",
              "    </tr>\n",
              "  </thead>\n",
              "  <tbody>\n",
              "    <tr>\n",
              "      <th>0</th>\n",
              "      <td>Gloria Restaurant</td>\n",
              "      <td>Today is the third time I've come to Gloria Re...</td>\n",
              "      <td>1</td>\n",
              "    </tr>\n",
              "    <tr>\n",
              "      <th>1</th>\n",
              "      <td>Gloria Restaurant</td>\n",
              "      <td>I have been to Gloria Restaurant a couple time...</td>\n",
              "      <td>1</td>\n",
              "    </tr>\n",
              "    <tr>\n",
              "      <th>2</th>\n",
              "      <td>Gloria Restaurant</td>\n",
              "      <td>Last Saturday I went to this restaurant hoping...</td>\n",
              "      <td>1</td>\n",
              "    </tr>\n",
              "    <tr>\n",
              "      <th>3</th>\n",
              "      <td>Gloria Restaurant</td>\n",
              "      <td>First off, let me say I have never been to the...</td>\n",
              "      <td>1</td>\n",
              "    </tr>\n",
              "    <tr>\n",
              "      <th>4</th>\n",
              "      <td>Gloria Restaurant</td>\n",
              "      <td>I've been coming here for a while now and I wa...</td>\n",
              "      <td>1</td>\n",
              "    </tr>\n",
              "  </tbody>\n",
              "</table>\n",
              "</div>\n",
              "      <button class=\"colab-df-convert\" onclick=\"convertToInteractive('df-d07d7aa3-d7d5-487b-b23a-c5d4b1354b9a')\"\n",
              "              title=\"Convert this dataframe to an interactive table.\"\n",
              "              style=\"display:none;\">\n",
              "        \n",
              "  <svg xmlns=\"http://www.w3.org/2000/svg\" height=\"24px\"viewBox=\"0 0 24 24\"\n",
              "       width=\"24px\">\n",
              "    <path d=\"M0 0h24v24H0V0z\" fill=\"none\"/>\n",
              "    <path d=\"M18.56 5.44l.94 2.06.94-2.06 2.06-.94-2.06-.94-.94-2.06-.94 2.06-2.06.94zm-11 1L8.5 8.5l.94-2.06 2.06-.94-2.06-.94L8.5 2.5l-.94 2.06-2.06.94zm10 10l.94 2.06.94-2.06 2.06-.94-2.06-.94-.94-2.06-.94 2.06-2.06.94z\"/><path d=\"M17.41 7.96l-1.37-1.37c-.4-.4-.92-.59-1.43-.59-.52 0-1.04.2-1.43.59L10.3 9.45l-7.72 7.72c-.78.78-.78 2.05 0 2.83L4 21.41c.39.39.9.59 1.41.59.51 0 1.02-.2 1.41-.59l7.78-7.78 2.81-2.81c.8-.78.8-2.07 0-2.86zM5.41 20L4 18.59l7.72-7.72 1.47 1.35L5.41 20z\"/>\n",
              "  </svg>\n",
              "      </button>\n",
              "      \n",
              "  <style>\n",
              "    .colab-df-container {\n",
              "      display:flex;\n",
              "      flex-wrap:wrap;\n",
              "      gap: 12px;\n",
              "    }\n",
              "\n",
              "    .colab-df-convert {\n",
              "      background-color: #E8F0FE;\n",
              "      border: none;\n",
              "      border-radius: 50%;\n",
              "      cursor: pointer;\n",
              "      display: none;\n",
              "      fill: #1967D2;\n",
              "      height: 32px;\n",
              "      padding: 0 0 0 0;\n",
              "      width: 32px;\n",
              "    }\n",
              "\n",
              "    .colab-df-convert:hover {\n",
              "      background-color: #E2EBFA;\n",
              "      box-shadow: 0px 1px 2px rgba(60, 64, 67, 0.3), 0px 1px 3px 1px rgba(60, 64, 67, 0.15);\n",
              "      fill: #174EA6;\n",
              "    }\n",
              "\n",
              "    [theme=dark] .colab-df-convert {\n",
              "      background-color: #3B4455;\n",
              "      fill: #D2E3FC;\n",
              "    }\n",
              "\n",
              "    [theme=dark] .colab-df-convert:hover {\n",
              "      background-color: #434B5C;\n",
              "      box-shadow: 0px 1px 3px 1px rgba(0, 0, 0, 0.15);\n",
              "      filter: drop-shadow(0px 1px 2px rgba(0, 0, 0, 0.3));\n",
              "      fill: #FFFFFF;\n",
              "    }\n",
              "  </style>\n",
              "\n",
              "      <script>\n",
              "        const buttonEl =\n",
              "          document.querySelector('#df-d07d7aa3-d7d5-487b-b23a-c5d4b1354b9a button.colab-df-convert');\n",
              "        buttonEl.style.display =\n",
              "          google.colab.kernel.accessAllowed ? 'block' : 'none';\n",
              "\n",
              "        async function convertToInteractive(key) {\n",
              "          const element = document.querySelector('#df-d07d7aa3-d7d5-487b-b23a-c5d4b1354b9a');\n",
              "          const dataTable =\n",
              "            await google.colab.kernel.invokeFunction('convertToInteractive',\n",
              "                                                     [key], {});\n",
              "          if (!dataTable) return;\n",
              "\n",
              "          const docLinkHtml = 'Like what you see? Visit the ' +\n",
              "            '<a target=\"_blank\" href=https://colab.research.google.com/notebooks/data_table.ipynb>data table notebook</a>'\n",
              "            + ' to learn more about interactive tables.';\n",
              "          element.innerHTML = '';\n",
              "          dataTable['output_type'] = 'display_data';\n",
              "          await google.colab.output.renderOutput(dataTable, element);\n",
              "          const docLink = document.createElement('div');\n",
              "          docLink.innerHTML = docLinkHtml;\n",
              "          element.appendChild(docLink);\n",
              "        }\n",
              "      </script>\n",
              "    </div>\n",
              "  </div>\n",
              "  "
            ]
          },
          "metadata": {},
          "execution_count": 11
        }
      ]
    },
    {
      "cell_type": "markdown",
      "metadata": {
        "id": "CPitr7eRJfO0"
      },
      "source": [
        "### 1.1 Data Preprocessing\n",
        "\n",
        "Next, we are going to want to clean up our dataframes, namely `trips_df` and `stations_df`, by \n",
        "\n",
        "1.   Fixing columns\n",
        "2.   Changing datatypes\n",
        "3.   Handling nulls\n",
        "\n",
        "\n",
        "First, let us view the first few rows of `trips_df`. You may also call `.info()` and additionally check the cardinality of each column to view the specifics of the dataframe. This is a good first step to take for Exploratory Data Analysis (EDA)."
      ]
    },
    {
      "cell_type": "code",
      "execution_count": 12,
      "metadata": {
        "id": "2nCrp9Z2SCRD",
        "colab": {
          "base_uri": "https://localhost:8080/"
        },
        "outputId": "9ddb5ca9-f19d-4be7-b6ce-365bdab8835b"
      },
      "outputs": [
        {
          "output_type": "stream",
          "name": "stdout",
          "text": [
            "<class 'pandas.core.frame.DataFrame'>\n",
            "RangeIndex: 15502 entries, 0 to 15501\n",
            "Data columns (total 15 columns):\n",
            " #   Column               Non-Null Count  Dtype  \n",
            "---  ------               --------------  -----  \n",
            " 0   trip_id              15502 non-null  int64  \n",
            " 1   duration             15502 non-null  int64  \n",
            " 2   start_time           15502 non-null  object \n",
            " 3   end_time             15502 non-null  object \n",
            " 4   start_station        15477 non-null  float64\n",
            " 5   start_lat            15477 non-null  float64\n",
            " 6   start_lon            15477 non-null  float64\n",
            " 7   end_station          15477 non-null  float64\n",
            " 8   end_lat              15255 non-null  float64\n",
            " 9   end_lon              15255 non-null  float64\n",
            " 10  bike_id              15477 non-null  object \n",
            " 11  plan_duration        15477 non-null  float64\n",
            " 12  trip_route_category  15477 non-null  object \n",
            " 13  passholder_type      15477 non-null  object \n",
            " 14  bike_type            15477 non-null  object \n",
            "dtypes: float64(7), int64(2), object(6)\n",
            "memory usage: 1.8+ MB\n"
          ]
        }
      ],
      "source": [
        "# view the .info() information for trips_df\n",
        "trips_df.info()"
      ]
    },
    {
      "cell_type": "code",
      "source": [
        "stations_df.info()"
      ],
      "metadata": {
        "colab": {
          "base_uri": "https://localhost:8080/"
        },
        "id": "ljjeN4bo5lAf",
        "outputId": "bd6903d9-28d4-479a-e27b-930b98847471"
      },
      "execution_count": 13,
      "outputs": [
        {
          "output_type": "stream",
          "name": "stdout",
          "text": [
            "<class 'pandas.core.frame.DataFrame'>\n",
            "RangeIndex: 203 entries, 0 to 202\n",
            "Data columns (total 5 columns):\n",
            " #   Column               Non-Null Count  Dtype \n",
            "---  ------               --------------  ----- \n",
            " 0   station_id           203 non-null    int64 \n",
            " 1   station_name         203 non-null    object\n",
            " 2   day_of_go_live_date  203 non-null    object\n",
            " 3   status               203 non-null    object\n",
            " 4   zone                 203 non-null    int64 \n",
            "dtypes: int64(2), object(3)\n",
            "memory usage: 8.1+ KB\n"
          ]
        }
      ]
    },
    {
      "cell_type": "markdown",
      "metadata": {
        "id": "c-ukI21sPkYV"
      },
      "source": [
        "#### 1.1.1 Cleaning `trips_df` (4 points)\n",
        "\n",
        "`.info()` gives us meaningful information regarding columns, their types, and the amount of nulls, based on which we can now clean our dataframe. \n",
        "\n",
        "Perform these steps and save results on a new dataframe: `trips_cleaned_df` \n",
        "\n",
        "**TODO**:\n",
        "* Drop the column `plan_duration`. We already have that information in the column `passholder_type`, which is more understandable.\n",
        "* Drop the rows where `end_station` is 3000. This is a virtual station used for maintainance, and doesn't represent a real trip.\n",
        "* Drop all rows with null values.\n",
        "* Cast the columns:\n",
        "  -  `start_time`, `end_time`, `trip_route_category`, `passholder_type`, `bike_type` as **string**. (Cast to 'string' and not 'str') \n",
        "  - `bike_id` as **int**.\n",
        "* Save results as `trips_cleaned_df` and sort it by `trip_id` ascending\n",
        "\n",
        "After performing these steps, `trips_cleaned_df` should have the following schema:\n",
        "\n",
        "**Final Schema**:\n",
        ">trip_id | duration | start_time | end_time | start_station | start_lat | start_lon | end_station |  end_lat | end_lon |  bike_id | trip_route_category | passholder_type | bike_type\n",
        ">--- | --- | --- |--- | --- | --- | --- |--- | --- | --- |--- |--- | --- | --- |"
      ]
    },
    {
      "cell_type": "code",
      "execution_count": 14,
      "metadata": {
        "id": "cMmQTXV7P4YK"
      },
      "outputs": [],
      "source": [
        "# TO-DO: drop the plan_duration column\n",
        "trips_cleaned_df = trips_df.drop([\"plan_duration\"], axis=1)"
      ]
    },
    {
      "cell_type": "code",
      "source": [
        "# TO-DO: drop rows with end_station = 3000\n",
        "trips_cleaned_df = trips_cleaned_df[trips_cleaned_df.end_station != 3000]"
      ],
      "metadata": {
        "id": "4QDdAb9es2Lw"
      },
      "execution_count": 15,
      "outputs": []
    },
    {
      "cell_type": "code",
      "source": [
        "# TO-DO: drop nulls\n",
        "trips_cleaned_df = trips_cleaned_df.dropna()"
      ],
      "metadata": {
        "id": "TZmxq-d_s1zR"
      },
      "execution_count": 16,
      "outputs": []
    },
    {
      "cell_type": "code",
      "source": [
        "# TO-DO: cast columns as indicated types\n",
        "trips_cleaned_df[\"start_time\"] = trips_cleaned_df[\"start_time\"].astype(\"string\")\n",
        "trips_cleaned_df['end_time'] = trips_cleaned_df['end_time'].astype(\"string\")\n",
        "trips_cleaned_df['trip_route_category'] = trips_cleaned_df['trip_route_category'].astype(\"string\")\n",
        "trips_cleaned_df['passholder_type'] = trips_cleaned_df['passholder_type'].astype(\"string\")\n",
        "trips_cleaned_df['bike_type'] = trips_cleaned_df['bike_type'].astype(\"string\")\n",
        "trips_cleaned_df['bike_id'] = trips_cleaned_df['bike_id'].astype(int)"
      ],
      "metadata": {
        "id": "gwmG8EDds1VH"
      },
      "execution_count": 17,
      "outputs": []
    },
    {
      "cell_type": "code",
      "source": [
        "#TO-DO: save changes to trips_cleaned_df that is sorted by 'trip_id' \n",
        "trips_cleaned_df = trips_cleaned_df.sort_values([\"trip_id\"])"
      ],
      "metadata": {
        "id": "XTOBCFtPROG-"
      },
      "execution_count": 18,
      "outputs": []
    },
    {
      "cell_type": "code",
      "execution_count": 19,
      "metadata": {
        "id": "9SYxGtgOQKLY",
        "colab": {
          "base_uri": "https://localhost:8080/"
        },
        "outputId": "25bc70a0-068e-4fb4-97e8-ffd2f2f9f39a"
      },
      "outputs": [
        {
          "output_type": "stream",
          "name": "stdout",
          "text": [
            "Correct! You earned 4/4 points. You are a star!\n",
            "\n",
            "Your submission has been successfully recorded in the gradebook.\n"
          ]
        }
      ],
      "source": [
        "# 4 points\n",
        "grader.grade(test_case_id = 'test_cleaning_trips', answer = [len(trips_cleaned_df), trips_cleaned_df.head()])"
      ]
    },
    {
      "cell_type": "markdown",
      "metadata": {
        "id": "aI_zsI3hNJCf"
      },
      "source": [
        "#### 1.1.2 Processing Stations (3 points)\n",
        "\n",
        "`stations_df` contains information on Indego stations across the city. We will clean this df by removing Inactive stations and stations created after October 2022.\n",
        "\n",
        "Perform these steps and assign the cleaned dataframe to `stations_cleaned_df`.\n",
        "\n",
        "**TODO**:\n",
        "* **Cast** column `day_of_go_live_date` as datetime64[ns].\n",
        "* **Drop** the stations that were created **after 10/7/2022** (i.e. we want to keep the ones on or before 10/7/2022)\n",
        "* **Drop** the stations that have an **Inactive** status.\n",
        "* **Drop** the columns `day_of_go_live_date` and `status`\n",
        "* **Create** a new column called `is_west_philly` that is True if zone is 2 or 3 and False otherwise.\n",
        "* **Save** the resulting dataframe as `stations_cleaned_df`, and sort it by `station_id` ascending\n",
        "\n",
        "\n",
        "After performing these steps, `stations_cleaned_df` should have the following schema:\n",
        "\n",
        "**Final Schema**:\n",
        ">station_id | station_name | zone | is_west_philly\n",
        ">--- | --- | --- |--- |"
      ]
    },
    {
      "cell_type": "code",
      "execution_count": 20,
      "metadata": {
        "id": "ZOfBFzD7NK8i"
      },
      "outputs": [],
      "source": [
        "from numpy import datetime64\n",
        "# TO-DO: Your code goes below. We recommend creating code comments for each of the bullets above (like we did for you in 1.1.1)\n",
        "stations_cleaned_df = stations_df.copy()\n",
        "stations_cleaned_df[\"day_of_go_live_date\"] = stations_cleaned_df[\"day_of_go_live_date\"].astype(datetime64)\n",
        "stations_cleaned_df = stations_cleaned_df[stations_cleaned_df[\"day_of_go_live_date\"] <= \"10/7/2022\"]\n",
        "stations_cleaned_df = stations_cleaned_df[stations_cleaned_df.status != \"Inactive\"]\n",
        "stations_cleaned_df = stations_cleaned_df.drop([\"day_of_go_live_date\", \"status\"], axis=1)\n",
        "stations_cleaned_df[\"is_west_philly\"] = stations_cleaned_df.apply(lambda x: True if x.zone == 2 else False, axis=1)\n",
        "stations_cleaned_df = stations_cleaned_df.sort_values([\"station_id\"])"
      ]
    },
    {
      "cell_type": "code",
      "execution_count": 21,
      "metadata": {
        "id": "sKA2_ScM6nWv",
        "colab": {
          "base_uri": "https://localhost:8080/"
        },
        "outputId": "8be4a171-cea5-4d2c-fd40-18287a823194"
      },
      "outputs": [
        {
          "output_type": "stream",
          "name": "stdout",
          "text": [
            "Correct! You earned 3/3 points. You are a star!\n",
            "\n",
            "Your submission has been successfully recorded in the gradebook.\n"
          ]
        }
      ],
      "source": [
        "# 3 points\n",
        "grader.grade(test_case_id = 'test_stations_processing', answer = (len(stations_cleaned_df), stations_cleaned_df.head()))"
      ]
    },
    {
      "cell_type": "markdown",
      "metadata": {
        "id": "38JSvyEGCGYN"
      },
      "source": [
        "#### 1.1.3 Cleaning the weather (3 points)\n",
        "Then, let's clean `weather_df` and make it usable."
      ]
    },
    {
      "cell_type": "code",
      "execution_count": 22,
      "metadata": {
        "id": "vKv7Gdi_CGYQ",
        "colab": {
          "base_uri": "https://localhost:8080/"
        },
        "outputId": "50fee1fa-5ea6-4731-eced-756bf50b7168"
      },
      "outputs": [
        {
          "output_type": "stream",
          "name": "stdout",
          "text": [
            "<class 'pandas.core.frame.DataFrame'>\n",
            "RangeIndex: 365 entries, 0 to 364\n",
            "Data columns (total 13 columns):\n",
            " #   Column                 Non-Null Count  Dtype  \n",
            "---  ------                 --------------  -----  \n",
            " 0   date                   365 non-null    object \n",
            " 1   actual_mean_temp       365 non-null    int64  \n",
            " 2   actual_min_temp        365 non-null    int64  \n",
            " 3   actual_max_temp        365 non-null    int64  \n",
            " 4   average_min_temp       365 non-null    int64  \n",
            " 5   average_max_temp       365 non-null    int64  \n",
            " 6   record_min_temp        365 non-null    int64  \n",
            " 7   record_max_temp        365 non-null    int64  \n",
            " 8   record_min_temp_year   365 non-null    int64  \n",
            " 9   record_max_temp_year   365 non-null    int64  \n",
            " 10  actual_precipitation   365 non-null    float64\n",
            " 11  average_precipitation  365 non-null    float64\n",
            " 12  record_precipitation   365 non-null    float64\n",
            "dtypes: float64(3), int64(9), object(1)\n",
            "memory usage: 37.2+ KB\n"
          ]
        }
      ],
      "source": [
        "# view .info() of weather_df to sense check it\n",
        "weather_df.info()"
      ]
    },
    {
      "cell_type": "markdown",
      "metadata": {
        "id": "Cz3Xx84WCGYU"
      },
      "source": [
        "\n",
        "**TO-DO**:\n",
        "* Create `weather_cleaned_df` and only keep the following 5 columns:\n",
        "     * `date`, `actual_mean_temp`, `actual_min_temp`, `actual_max_temp`, `actual_precipitation`\n",
        "* Convert column `date` into type `datetime64[ns]`.\n",
        "* Keep only the rows from 9/1/2022 to 10/31/2022, inclusive.\n",
        "* Sort by column `date` descending.\n",
        "\n",
        "After performing these steps, `weather_cleaned_df` should have the following schema:\n",
        "\n",
        "**Final Schema**:\n",
        ">date | actual_mean_temp | actual_min_temp | actual_max_temp | actual_precipitation\n",
        ">--- | --- | --- |--- |--- |"
      ]
    },
    {
      "cell_type": "code",
      "execution_count": 23,
      "metadata": {
        "id": "GfBTqJs3CGYV",
        "colab": {
          "base_uri": "https://localhost:8080/"
        },
        "outputId": "d8a048a6-aeec-4596-b2da-1de6e890c0bc"
      },
      "outputs": [
        {
          "output_type": "stream",
          "name": "stderr",
          "text": [
            "<ipython-input-23-6e62e25b11ac>:4: SettingWithCopyWarning: \n",
            "A value is trying to be set on a copy of a slice from a DataFrame.\n",
            "Try using .loc[row_indexer,col_indexer] = value instead\n",
            "\n",
            "See the caveats in the documentation: https://pandas.pydata.org/pandas-docs/stable/user_guide/indexing.html#returning-a-view-versus-a-copy\n",
            "  weather_cleaned_df[\"date\"] = weather_cleaned_df[\"date\"].astype(datetime64)\n"
          ]
        }
      ],
      "source": [
        "#TO-DO: clean up the weather_df \n",
        "\n",
        "weather_cleaned_df = weather_df[[\"date\", \"actual_mean_temp\",\"actual_min_temp\",\"actual_max_temp\",\"actual_precipitation\"]]\n",
        "weather_cleaned_df[\"date\"] = weather_cleaned_df[\"date\"].astype(datetime64)\n",
        "weather_cleaned_df = weather_cleaned_df[\"9/1/2022\" <= weather_cleaned_df[\"date\"]]\n",
        "weather_cleaned_df = weather_cleaned_df[weather_cleaned_df[\"date\"] <= \"10/31/2022\"]\n",
        "weather_cleaned_df = weather_cleaned_df.sort_values([\"date\"], ascending=False)"
      ]
    },
    {
      "cell_type": "code",
      "execution_count": 24,
      "metadata": {
        "id": "PacFnS9JCGYW",
        "colab": {
          "base_uri": "https://localhost:8080/"
        },
        "outputId": "13643f5a-01bf-4456-f923-ed468dd2e1f3"
      },
      "outputs": [
        {
          "output_type": "stream",
          "name": "stdout",
          "text": [
            "Correct! You earned 3/3 points. You are a star!\n",
            "\n",
            "Your submission has been successfully recorded in the gradebook.\n"
          ]
        }
      ],
      "source": [
        "# 3 points\n",
        "grader.grade(test_case_id = 'test_cleaning_weather', answer = [len(weather_cleaned_df),weather_cleaned_df.head()])"
      ]
    },
    {
      "cell_type": "markdown",
      "metadata": {
        "id": "kYp9fW_SvG3g"
      },
      "source": [
        "### 1.2 Your Sandbox \n",
        "\n",
        "`.info()` is just one of many basic tools that you can use for Exploratory Data Analysis (EDA). Instead of throwing you straight into the deep end, we wanted to give you a chance to take some time and explore the data on your own. **This section is not graded**, so for the speedrunners out there feel free to just jump in, but we wanted to at least give you a small space to utilize your EDA toolkit to familiarize yourself with all the data you just downloaded.\n",
        "\n",
        "Some suggestions to get you started:\n",
        "- `df.head()`\n",
        "- `df.describe()`\n",
        "- `Series.unique()`"
      ]
    },
    {
      "cell_type": "code",
      "execution_count": 25,
      "metadata": {
        "id": "U429NTI5RY4a",
        "colab": {
          "base_uri": "https://localhost:8080/",
          "height": 206
        },
        "outputId": "e0f8b419-126e-4ba3-88a3-c33b0a6d8191"
      },
      "outputs": [
        {
          "output_type": "execute_result",
          "data": {
            "text/plain": [
              "      trip_id  duration      start_time        end_time  start_station  \\\n",
              "68  536546924         3  10/1/2022 1:50  10/1/2022 1:53         3188.0   \n",
              "67  536546925         3  10/1/2022 1:50  10/1/2022 1:53         3188.0   \n",
              "66  536546927         7  10/1/2022 1:48  10/1/2022 1:55         3010.0   \n",
              "65  536546929         7  10/1/2022 1:48  10/1/2022 1:55         3010.0   \n",
              "63  536546932         6  10/1/2022 1:41  10/1/2022 1:47         3004.0   \n",
              "\n",
              "    start_lat  start_lon  end_station    end_lat    end_lon  bike_id  \\\n",
              "68  39.904709 -75.173401       3188.0  39.904709 -75.173401    11708   \n",
              "67  39.904709 -75.173401       3188.0  39.904709 -75.173401     3483   \n",
              "66  39.947109 -75.166183       3064.0  39.938400 -75.173271    14655   \n",
              "65  39.947109 -75.166183       3064.0  39.938400 -75.173271    12987   \n",
              "63  39.953781 -75.163742       3206.0  39.951740 -75.170631    22554   \n",
              "\n",
              "   trip_route_category passholder_type bike_type  \n",
              "68          Round Trip        Indego30  standard  \n",
              "67          Round Trip        Indego30  standard  \n",
              "66             One Way        Indego30  standard  \n",
              "65             One Way        Indego30  standard  \n",
              "63             One Way        Day Pass  electric  "
            ],
            "text/html": [
              "\n",
              "  <div id=\"df-dd3ebd22-bde1-4b2d-a0f5-ade26c03da40\">\n",
              "    <div class=\"colab-df-container\">\n",
              "      <div>\n",
              "<style scoped>\n",
              "    .dataframe tbody tr th:only-of-type {\n",
              "        vertical-align: middle;\n",
              "    }\n",
              "\n",
              "    .dataframe tbody tr th {\n",
              "        vertical-align: top;\n",
              "    }\n",
              "\n",
              "    .dataframe thead th {\n",
              "        text-align: right;\n",
              "    }\n",
              "</style>\n",
              "<table border=\"1\" class=\"dataframe\">\n",
              "  <thead>\n",
              "    <tr style=\"text-align: right;\">\n",
              "      <th></th>\n",
              "      <th>trip_id</th>\n",
              "      <th>duration</th>\n",
              "      <th>start_time</th>\n",
              "      <th>end_time</th>\n",
              "      <th>start_station</th>\n",
              "      <th>start_lat</th>\n",
              "      <th>start_lon</th>\n",
              "      <th>end_station</th>\n",
              "      <th>end_lat</th>\n",
              "      <th>end_lon</th>\n",
              "      <th>bike_id</th>\n",
              "      <th>trip_route_category</th>\n",
              "      <th>passholder_type</th>\n",
              "      <th>bike_type</th>\n",
              "    </tr>\n",
              "  </thead>\n",
              "  <tbody>\n",
              "    <tr>\n",
              "      <th>68</th>\n",
              "      <td>536546924</td>\n",
              "      <td>3</td>\n",
              "      <td>10/1/2022 1:50</td>\n",
              "      <td>10/1/2022 1:53</td>\n",
              "      <td>3188.0</td>\n",
              "      <td>39.904709</td>\n",
              "      <td>-75.173401</td>\n",
              "      <td>3188.0</td>\n",
              "      <td>39.904709</td>\n",
              "      <td>-75.173401</td>\n",
              "      <td>11708</td>\n",
              "      <td>Round Trip</td>\n",
              "      <td>Indego30</td>\n",
              "      <td>standard</td>\n",
              "    </tr>\n",
              "    <tr>\n",
              "      <th>67</th>\n",
              "      <td>536546925</td>\n",
              "      <td>3</td>\n",
              "      <td>10/1/2022 1:50</td>\n",
              "      <td>10/1/2022 1:53</td>\n",
              "      <td>3188.0</td>\n",
              "      <td>39.904709</td>\n",
              "      <td>-75.173401</td>\n",
              "      <td>3188.0</td>\n",
              "      <td>39.904709</td>\n",
              "      <td>-75.173401</td>\n",
              "      <td>3483</td>\n",
              "      <td>Round Trip</td>\n",
              "      <td>Indego30</td>\n",
              "      <td>standard</td>\n",
              "    </tr>\n",
              "    <tr>\n",
              "      <th>66</th>\n",
              "      <td>536546927</td>\n",
              "      <td>7</td>\n",
              "      <td>10/1/2022 1:48</td>\n",
              "      <td>10/1/2022 1:55</td>\n",
              "      <td>3010.0</td>\n",
              "      <td>39.947109</td>\n",
              "      <td>-75.166183</td>\n",
              "      <td>3064.0</td>\n",
              "      <td>39.938400</td>\n",
              "      <td>-75.173271</td>\n",
              "      <td>14655</td>\n",
              "      <td>One Way</td>\n",
              "      <td>Indego30</td>\n",
              "      <td>standard</td>\n",
              "    </tr>\n",
              "    <tr>\n",
              "      <th>65</th>\n",
              "      <td>536546929</td>\n",
              "      <td>7</td>\n",
              "      <td>10/1/2022 1:48</td>\n",
              "      <td>10/1/2022 1:55</td>\n",
              "      <td>3010.0</td>\n",
              "      <td>39.947109</td>\n",
              "      <td>-75.166183</td>\n",
              "      <td>3064.0</td>\n",
              "      <td>39.938400</td>\n",
              "      <td>-75.173271</td>\n",
              "      <td>12987</td>\n",
              "      <td>One Way</td>\n",
              "      <td>Indego30</td>\n",
              "      <td>standard</td>\n",
              "    </tr>\n",
              "    <tr>\n",
              "      <th>63</th>\n",
              "      <td>536546932</td>\n",
              "      <td>6</td>\n",
              "      <td>10/1/2022 1:41</td>\n",
              "      <td>10/1/2022 1:47</td>\n",
              "      <td>3004.0</td>\n",
              "      <td>39.953781</td>\n",
              "      <td>-75.163742</td>\n",
              "      <td>3206.0</td>\n",
              "      <td>39.951740</td>\n",
              "      <td>-75.170631</td>\n",
              "      <td>22554</td>\n",
              "      <td>One Way</td>\n",
              "      <td>Day Pass</td>\n",
              "      <td>electric</td>\n",
              "    </tr>\n",
              "  </tbody>\n",
              "</table>\n",
              "</div>\n",
              "      <button class=\"colab-df-convert\" onclick=\"convertToInteractive('df-dd3ebd22-bde1-4b2d-a0f5-ade26c03da40')\"\n",
              "              title=\"Convert this dataframe to an interactive table.\"\n",
              "              style=\"display:none;\">\n",
              "        \n",
              "  <svg xmlns=\"http://www.w3.org/2000/svg\" height=\"24px\"viewBox=\"0 0 24 24\"\n",
              "       width=\"24px\">\n",
              "    <path d=\"M0 0h24v24H0V0z\" fill=\"none\"/>\n",
              "    <path d=\"M18.56 5.44l.94 2.06.94-2.06 2.06-.94-2.06-.94-.94-2.06-.94 2.06-2.06.94zm-11 1L8.5 8.5l.94-2.06 2.06-.94-2.06-.94L8.5 2.5l-.94 2.06-2.06.94zm10 10l.94 2.06.94-2.06 2.06-.94-2.06-.94-.94-2.06-.94 2.06-2.06.94z\"/><path d=\"M17.41 7.96l-1.37-1.37c-.4-.4-.92-.59-1.43-.59-.52 0-1.04.2-1.43.59L10.3 9.45l-7.72 7.72c-.78.78-.78 2.05 0 2.83L4 21.41c.39.39.9.59 1.41.59.51 0 1.02-.2 1.41-.59l7.78-7.78 2.81-2.81c.8-.78.8-2.07 0-2.86zM5.41 20L4 18.59l7.72-7.72 1.47 1.35L5.41 20z\"/>\n",
              "  </svg>\n",
              "      </button>\n",
              "      \n",
              "  <style>\n",
              "    .colab-df-container {\n",
              "      display:flex;\n",
              "      flex-wrap:wrap;\n",
              "      gap: 12px;\n",
              "    }\n",
              "\n",
              "    .colab-df-convert {\n",
              "      background-color: #E8F0FE;\n",
              "      border: none;\n",
              "      border-radius: 50%;\n",
              "      cursor: pointer;\n",
              "      display: none;\n",
              "      fill: #1967D2;\n",
              "      height: 32px;\n",
              "      padding: 0 0 0 0;\n",
              "      width: 32px;\n",
              "    }\n",
              "\n",
              "    .colab-df-convert:hover {\n",
              "      background-color: #E2EBFA;\n",
              "      box-shadow: 0px 1px 2px rgba(60, 64, 67, 0.3), 0px 1px 3px 1px rgba(60, 64, 67, 0.15);\n",
              "      fill: #174EA6;\n",
              "    }\n",
              "\n",
              "    [theme=dark] .colab-df-convert {\n",
              "      background-color: #3B4455;\n",
              "      fill: #D2E3FC;\n",
              "    }\n",
              "\n",
              "    [theme=dark] .colab-df-convert:hover {\n",
              "      background-color: #434B5C;\n",
              "      box-shadow: 0px 1px 3px 1px rgba(0, 0, 0, 0.15);\n",
              "      filter: drop-shadow(0px 1px 2px rgba(0, 0, 0, 0.3));\n",
              "      fill: #FFFFFF;\n",
              "    }\n",
              "  </style>\n",
              "\n",
              "      <script>\n",
              "        const buttonEl =\n",
              "          document.querySelector('#df-dd3ebd22-bde1-4b2d-a0f5-ade26c03da40 button.colab-df-convert');\n",
              "        buttonEl.style.display =\n",
              "          google.colab.kernel.accessAllowed ? 'block' : 'none';\n",
              "\n",
              "        async function convertToInteractive(key) {\n",
              "          const element = document.querySelector('#df-dd3ebd22-bde1-4b2d-a0f5-ade26c03da40');\n",
              "          const dataTable =\n",
              "            await google.colab.kernel.invokeFunction('convertToInteractive',\n",
              "                                                     [key], {});\n",
              "          if (!dataTable) return;\n",
              "\n",
              "          const docLinkHtml = 'Like what you see? Visit the ' +\n",
              "            '<a target=\"_blank\" href=https://colab.research.google.com/notebooks/data_table.ipynb>data table notebook</a>'\n",
              "            + ' to learn more about interactive tables.';\n",
              "          element.innerHTML = '';\n",
              "          dataTable['output_type'] = 'display_data';\n",
              "          await google.colab.output.renderOutput(dataTable, element);\n",
              "          const docLink = document.createElement('div');\n",
              "          docLink.innerHTML = docLinkHtml;\n",
              "          element.appendChild(docLink);\n",
              "        }\n",
              "      </script>\n",
              "    </div>\n",
              "  </div>\n",
              "  "
            ]
          },
          "metadata": {},
          "execution_count": 25
        }
      ],
      "source": [
        "# Your EDA here! Feel free to add more cells\n",
        "trips_cleaned_df.head()"
      ]
    },
    {
      "cell_type": "markdown",
      "source": [
        "## Part 2: Exploring the Data with PandasSQL (and Pandas) [73 points total]\n",
        "\n",
        "Now that you are familiar (or still unfamiliar) with the dataset, we will now introduce you to SQL, or more specifically **pandasql**: a package created to allow users to query pandas DataFrames with SQL statements."
      ],
      "metadata": {
        "id": "uLO0ZpVr54ZS"
      }
    },
    {
      "cell_type": "markdown",
      "source": [
        "## 👇👇👇 IMPORTANT: Pay VERY CLOSE attention to this style guide! 👇👇👇\n",
        "\n",
        "The typical flow to use pandasql (aliased as `ps`) is as follows:\n",
        "1. Write a SQL query in the form of a string\n",
        "    - **String Syntax:** use triple quotes `\"\"\"<your query>\"\"\"` to write multi-line strings in Python\n",
        "    - **Aliases are your friend:** if there are very long table names or you find yourself needed to declare the source (common during join tasks), it's almost always optimal to alias your tables with short INTUITIVE alias names\n",
        "    - **New Clauses New Line:** each of the main SQL clauses (`SELECT`, `FROM`, `WHERE`, etc.) should begin on a new line\n",
        "    - **Use Indentation:** if there are many components for a single clause, separate them out with new <ins>indented</ins> lines.\n",
        "\n",
        "    Example below:\n",
        "    ```SQL\n",
        "    \"\"\"\n",
        "    SELECT ltn.some_id, SUM(stn.some_value) AS total\n",
        "    FROM long_table_name AS ltn\n",
        "         INNER JOIN short_table_name AS stn \n",
        "            ON ltn.common_key = stn.common_key\n",
        "         INNER JOIN med_table_name AS mtn\n",
        "            ON ltn.other_key = mtn.other_key\n",
        "    WHERE ltn.col1 > value\n",
        "         AND stn.col2 <= another_value\n",
        "         AND mtn.col3 != something_else\n",
        "    GROUP BY ltn.some_id\n",
        "    ORDER BY total DESC\n",
        "    \"\"\"\n",
        "    ```\n",
        "2. Run the query using `ps.sqldf(your_query, locals())`\n",
        "\n",
        "Pandasql is convenient in that it allows you to reference the dataframes that are currently defined in your notebook, so you will be able to fully utilize the dataframes `trips_cleaned_df`, `stations_cleaned_df` and `weather__cleaned_df` that you have created above!\n",
        "\n",
        "Given that it is a brand new language, we wanted to give you a chance to directly compare the similarities/differences of the pandas that you already know and the SQL that you are about to learn. Thus, for each of the simpler queries, we may ask that you **look into the question twice: once with pandas and once with pandasql**. "
      ],
      "metadata": {
        "id": "EoV3Uv69ot_Y"
      }
    },
    {
      "cell_type": "markdown",
      "source": [
        "### 2.1 One Way vs Round Trip [19 points]"
      ],
      "metadata": {
        "id": "65adiX7u55m2"
      }
    },
    {
      "cell_type": "markdown",
      "source": [
        "#### 2.1.1 How many of the rides taken were Round Trip journeys? (4 points)\n",
        "\n",
        "The dataframe `trips_cleaned_df` contains information for each ride. We want to know which of these rides were Round Trip journeys, and how many such rides were taken.\n",
        "\n",
        "**TO-DO:**\n",
        "\n",
        "*    Using what you learned in EDA in 1.2, use `pandas` to filter on the appropriate column to obtain only round trips, and save it to a DataFrame called `round_df`, which is sorted by `trip_id` in ascending order.\n",
        "*   Save the number of rides in the integer variable `number_of_rounds`. "
      ],
      "metadata": {
        "id": "0PfvXCpC6NB2"
      }
    },
    {
      "cell_type": "code",
      "source": [
        "# TO-DO: Use pandas to obtain rides that were round trip\n",
        "round_df = trips_cleaned_df[trips_cleaned_df[\"trip_route_category\"] == \"Round Trip\"]\n",
        "round_df = round_df.sort_values([\"trip_id\"])"
      ],
      "metadata": {
        "id": "pknIChHj6Oom"
      },
      "execution_count": 26,
      "outputs": []
    },
    {
      "cell_type": "code",
      "source": [
        "# TO-DO : Save the number of round trip rides obtained from round_df to number_of_rounds\n",
        "number_of_rounds = len(round_df)\n",
        "number_of_rounds"
      ],
      "metadata": {
        "id": "DwCpytm38dYW",
        "colab": {
          "base_uri": "https://localhost:8080/"
        },
        "outputId": "1de42a2f-61ab-4f14-cd07-469a7e805bff"
      },
      "execution_count": 27,
      "outputs": [
        {
          "output_type": "execute_result",
          "data": {
            "text/plain": [
              "930"
            ]
          },
          "metadata": {},
          "execution_count": 27
        }
      ]
    },
    {
      "cell_type": "code",
      "source": [
        "# 2 points\n",
        "grader.grade(test_case_id = 'test_round', answer = (round_df, number_of_rounds))"
      ],
      "metadata": {
        "id": "73kQXwnL6OZ0",
        "colab": {
          "base_uri": "https://localhost:8080/"
        },
        "outputId": "1a9e3fd7-452a-4ca8-a2ee-8856015e904e"
      },
      "execution_count": 28,
      "outputs": [
        {
          "output_type": "stream",
          "name": "stdout",
          "text": [
            "Correct! You earned 2/2 points. You are a star!\n",
            "\n",
            "Your submission has been successfully recorded in the gradebook.\n"
          ]
        }
      ]
    },
    {
      "cell_type": "markdown",
      "source": [
        "**TO-DO:** Now using **pandasql**, calculate the number of round trips in trips_cleaned_df and save it to the dataframe `round_df_sql`, with the column named `num`. This will be a rather unconventional 1x1 dataframe, but that's OK.\n",
        "\n",
        "**Final Schema:**\n",
        "\n",
        "> num|\n",
        "> --- |"
      ],
      "metadata": {
        "id": "gUSj2RVaXBDd"
      }
    },
    {
      "cell_type": "code",
      "source": [
        "# TODO: Use pandasql to calculate the number of round trips\n",
        "round_query = \"\"\"\n",
        "              SELECT COUNT(*) AS num\n",
        "              FROM trips_cleaned_df AS trips\n",
        "              WHERE trips.trip_route_category == \"Round Trip\"\n",
        "              \"\"\"\n",
        "round_df_sql = ps.sqldf(round_query, locals())\n",
        "round_df_sql"
      ],
      "metadata": {
        "id": "xdGJjfXDXPig",
        "colab": {
          "base_uri": "https://localhost:8080/",
          "height": 81
        },
        "outputId": "b0fce57e-2dab-4441-c7dd-76bebde5801f"
      },
      "execution_count": 29,
      "outputs": [
        {
          "output_type": "execute_result",
          "data": {
            "text/plain": [
              "   num\n",
              "0  930"
            ],
            "text/html": [
              "\n",
              "  <div id=\"df-82892143-eed4-4cbb-b5ff-94922586a911\">\n",
              "    <div class=\"colab-df-container\">\n",
              "      <div>\n",
              "<style scoped>\n",
              "    .dataframe tbody tr th:only-of-type {\n",
              "        vertical-align: middle;\n",
              "    }\n",
              "\n",
              "    .dataframe tbody tr th {\n",
              "        vertical-align: top;\n",
              "    }\n",
              "\n",
              "    .dataframe thead th {\n",
              "        text-align: right;\n",
              "    }\n",
              "</style>\n",
              "<table border=\"1\" class=\"dataframe\">\n",
              "  <thead>\n",
              "    <tr style=\"text-align: right;\">\n",
              "      <th></th>\n",
              "      <th>num</th>\n",
              "    </tr>\n",
              "  </thead>\n",
              "  <tbody>\n",
              "    <tr>\n",
              "      <th>0</th>\n",
              "      <td>930</td>\n",
              "    </tr>\n",
              "  </tbody>\n",
              "</table>\n",
              "</div>\n",
              "      <button class=\"colab-df-convert\" onclick=\"convertToInteractive('df-82892143-eed4-4cbb-b5ff-94922586a911')\"\n",
              "              title=\"Convert this dataframe to an interactive table.\"\n",
              "              style=\"display:none;\">\n",
              "        \n",
              "  <svg xmlns=\"http://www.w3.org/2000/svg\" height=\"24px\"viewBox=\"0 0 24 24\"\n",
              "       width=\"24px\">\n",
              "    <path d=\"M0 0h24v24H0V0z\" fill=\"none\"/>\n",
              "    <path d=\"M18.56 5.44l.94 2.06.94-2.06 2.06-.94-2.06-.94-.94-2.06-.94 2.06-2.06.94zm-11 1L8.5 8.5l.94-2.06 2.06-.94-2.06-.94L8.5 2.5l-.94 2.06-2.06.94zm10 10l.94 2.06.94-2.06 2.06-.94-2.06-.94-.94-2.06-.94 2.06-2.06.94z\"/><path d=\"M17.41 7.96l-1.37-1.37c-.4-.4-.92-.59-1.43-.59-.52 0-1.04.2-1.43.59L10.3 9.45l-7.72 7.72c-.78.78-.78 2.05 0 2.83L4 21.41c.39.39.9.59 1.41.59.51 0 1.02-.2 1.41-.59l7.78-7.78 2.81-2.81c.8-.78.8-2.07 0-2.86zM5.41 20L4 18.59l7.72-7.72 1.47 1.35L5.41 20z\"/>\n",
              "  </svg>\n",
              "      </button>\n",
              "      \n",
              "  <style>\n",
              "    .colab-df-container {\n",
              "      display:flex;\n",
              "      flex-wrap:wrap;\n",
              "      gap: 12px;\n",
              "    }\n",
              "\n",
              "    .colab-df-convert {\n",
              "      background-color: #E8F0FE;\n",
              "      border: none;\n",
              "      border-radius: 50%;\n",
              "      cursor: pointer;\n",
              "      display: none;\n",
              "      fill: #1967D2;\n",
              "      height: 32px;\n",
              "      padding: 0 0 0 0;\n",
              "      width: 32px;\n",
              "    }\n",
              "\n",
              "    .colab-df-convert:hover {\n",
              "      background-color: #E2EBFA;\n",
              "      box-shadow: 0px 1px 2px rgba(60, 64, 67, 0.3), 0px 1px 3px 1px rgba(60, 64, 67, 0.15);\n",
              "      fill: #174EA6;\n",
              "    }\n",
              "\n",
              "    [theme=dark] .colab-df-convert {\n",
              "      background-color: #3B4455;\n",
              "      fill: #D2E3FC;\n",
              "    }\n",
              "\n",
              "    [theme=dark] .colab-df-convert:hover {\n",
              "      background-color: #434B5C;\n",
              "      box-shadow: 0px 1px 3px 1px rgba(0, 0, 0, 0.15);\n",
              "      filter: drop-shadow(0px 1px 2px rgba(0, 0, 0, 0.3));\n",
              "      fill: #FFFFFF;\n",
              "    }\n",
              "  </style>\n",
              "\n",
              "      <script>\n",
              "        const buttonEl =\n",
              "          document.querySelector('#df-82892143-eed4-4cbb-b5ff-94922586a911 button.colab-df-convert');\n",
              "        buttonEl.style.display =\n",
              "          google.colab.kernel.accessAllowed ? 'block' : 'none';\n",
              "\n",
              "        async function convertToInteractive(key) {\n",
              "          const element = document.querySelector('#df-82892143-eed4-4cbb-b5ff-94922586a911');\n",
              "          const dataTable =\n",
              "            await google.colab.kernel.invokeFunction('convertToInteractive',\n",
              "                                                     [key], {});\n",
              "          if (!dataTable) return;\n",
              "\n",
              "          const docLinkHtml = 'Like what you see? Visit the ' +\n",
              "            '<a target=\"_blank\" href=https://colab.research.google.com/notebooks/data_table.ipynb>data table notebook</a>'\n",
              "            + ' to learn more about interactive tables.';\n",
              "          element.innerHTML = '';\n",
              "          dataTable['output_type'] = 'display_data';\n",
              "          await google.colab.output.renderOutput(dataTable, element);\n",
              "          const docLink = document.createElement('div');\n",
              "          docLink.innerHTML = docLinkHtml;\n",
              "          element.appendChild(docLink);\n",
              "        }\n",
              "      </script>\n",
              "    </div>\n",
              "  </div>\n",
              "  "
            ]
          },
          "metadata": {},
          "execution_count": 29
        }
      ]
    },
    {
      "cell_type": "code",
      "source": [
        "# 2 points\n",
        "grader.grade(test_case_id = 'test_round_sql', answer = round_df_sql)"
      ],
      "metadata": {
        "id": "nXuUq8UWXPSo",
        "colab": {
          "base_uri": "https://localhost:8080/"
        },
        "outputId": "827d3e26-ab54-4730-b013-e763839c6253"
      },
      "execution_count": 30,
      "outputs": [
        {
          "output_type": "stream",
          "name": "stdout",
          "text": [
            "Correct! You earned 2/2 points. You are a star!\n",
            "\n",
            "Your submission has been successfully recorded in the gradebook.\n"
          ]
        }
      ]
    },
    {
      "cell_type": "markdown",
      "source": [
        "#### 2.1.2 What was the duration of these round trips? [4 points]\n",
        "\n",
        "The dataframe `round_df` contains information for each ride that was a round trip. We want to know the average duration of the trip for all these rides. \n",
        "\n",
        "**TO-DO:** Using **pandas**, calculate the average duration of the rides in `round_df` and save it to the variable `avg_round_pd`. Please make sure you do NOT cast it to any type explicitly nor should you round it. \n",
        "\n",
        "\n",
        "\n"
      ],
      "metadata": {
        "id": "a_JjvuvQdqxo"
      }
    },
    {
      "cell_type": "code",
      "source": [
        "# TODO: Use pandas to calculate the average duration of round trips\n",
        "avg_round_pd = round_df.duration.mean()"
      ],
      "metadata": {
        "id": "r-OX8Ss9Vm2C"
      },
      "execution_count": 31,
      "outputs": []
    },
    {
      "cell_type": "code",
      "source": [
        "# 2 points\n",
        "grader.grade(test_case_id = 'test_round_dur_pd', answer = avg_round_pd)"
      ],
      "metadata": {
        "id": "d0zPIuloVnMc",
        "colab": {
          "base_uri": "https://localhost:8080/"
        },
        "outputId": "56509526-f86d-4ccb-94df-2d0369dd0943"
      },
      "execution_count": 32,
      "outputs": [
        {
          "output_type": "stream",
          "name": "stdout",
          "text": [
            "Correct! You earned 2/2 points. You are a star!\n",
            "\n",
            "Your submission has been successfully recorded in the gradebook.\n"
          ]
        }
      ]
    },
    {
      "cell_type": "markdown",
      "source": [
        "**TO-DO:** Using **pandasql**, calculate the average duration of the rides in round_df and save it to the dataframe `avg_round_df`, with the column named `avg_dur`. Please make sure you do NOT cast it to any type explicitly nor should you round it.\n",
        "\n",
        "Again, this will be a 1x1 dataframe but that's OK.\n",
        "\n",
        "**Final Schema:**\n",
        "\n",
        "\n",
        "> avg_dur |\n",
        "> --- |"
      ],
      "metadata": {
        "id": "3INzdIvKVvYM"
      }
    },
    {
      "cell_type": "code",
      "source": [
        "# TODO: Use pandasql to calculate the average duration of round trips\n",
        "avg_dur_query = \"\"\"\n",
        "                SELECT AVG(duration) AS avg_dur\n",
        "                FROM round_df\n",
        "                \"\"\"\n",
        "\n",
        "avg_round_df = ps.sqldf(avg_dur_query, locals())\n",
        "avg_round_df"
      ],
      "metadata": {
        "id": "CCvBUvzHdqxs",
        "colab": {
          "base_uri": "https://localhost:8080/",
          "height": 81
        },
        "outputId": "5bb0d5cf-f817-4ddb-8675-ac8ff70e1e42"
      },
      "execution_count": 33,
      "outputs": [
        {
          "output_type": "execute_result",
          "data": {
            "text/plain": [
              "     avg_dur\n",
              "0  20.107527"
            ],
            "text/html": [
              "\n",
              "  <div id=\"df-698564a8-0809-4870-b303-944cf20cc83d\">\n",
              "    <div class=\"colab-df-container\">\n",
              "      <div>\n",
              "<style scoped>\n",
              "    .dataframe tbody tr th:only-of-type {\n",
              "        vertical-align: middle;\n",
              "    }\n",
              "\n",
              "    .dataframe tbody tr th {\n",
              "        vertical-align: top;\n",
              "    }\n",
              "\n",
              "    .dataframe thead th {\n",
              "        text-align: right;\n",
              "    }\n",
              "</style>\n",
              "<table border=\"1\" class=\"dataframe\">\n",
              "  <thead>\n",
              "    <tr style=\"text-align: right;\">\n",
              "      <th></th>\n",
              "      <th>avg_dur</th>\n",
              "    </tr>\n",
              "  </thead>\n",
              "  <tbody>\n",
              "    <tr>\n",
              "      <th>0</th>\n",
              "      <td>20.107527</td>\n",
              "    </tr>\n",
              "  </tbody>\n",
              "</table>\n",
              "</div>\n",
              "      <button class=\"colab-df-convert\" onclick=\"convertToInteractive('df-698564a8-0809-4870-b303-944cf20cc83d')\"\n",
              "              title=\"Convert this dataframe to an interactive table.\"\n",
              "              style=\"display:none;\">\n",
              "        \n",
              "  <svg xmlns=\"http://www.w3.org/2000/svg\" height=\"24px\"viewBox=\"0 0 24 24\"\n",
              "       width=\"24px\">\n",
              "    <path d=\"M0 0h24v24H0V0z\" fill=\"none\"/>\n",
              "    <path d=\"M18.56 5.44l.94 2.06.94-2.06 2.06-.94-2.06-.94-.94-2.06-.94 2.06-2.06.94zm-11 1L8.5 8.5l.94-2.06 2.06-.94-2.06-.94L8.5 2.5l-.94 2.06-2.06.94zm10 10l.94 2.06.94-2.06 2.06-.94-2.06-.94-.94-2.06-.94 2.06-2.06.94z\"/><path d=\"M17.41 7.96l-1.37-1.37c-.4-.4-.92-.59-1.43-.59-.52 0-1.04.2-1.43.59L10.3 9.45l-7.72 7.72c-.78.78-.78 2.05 0 2.83L4 21.41c.39.39.9.59 1.41.59.51 0 1.02-.2 1.41-.59l7.78-7.78 2.81-2.81c.8-.78.8-2.07 0-2.86zM5.41 20L4 18.59l7.72-7.72 1.47 1.35L5.41 20z\"/>\n",
              "  </svg>\n",
              "      </button>\n",
              "      \n",
              "  <style>\n",
              "    .colab-df-container {\n",
              "      display:flex;\n",
              "      flex-wrap:wrap;\n",
              "      gap: 12px;\n",
              "    }\n",
              "\n",
              "    .colab-df-convert {\n",
              "      background-color: #E8F0FE;\n",
              "      border: none;\n",
              "      border-radius: 50%;\n",
              "      cursor: pointer;\n",
              "      display: none;\n",
              "      fill: #1967D2;\n",
              "      height: 32px;\n",
              "      padding: 0 0 0 0;\n",
              "      width: 32px;\n",
              "    }\n",
              "\n",
              "    .colab-df-convert:hover {\n",
              "      background-color: #E2EBFA;\n",
              "      box-shadow: 0px 1px 2px rgba(60, 64, 67, 0.3), 0px 1px 3px 1px rgba(60, 64, 67, 0.15);\n",
              "      fill: #174EA6;\n",
              "    }\n",
              "\n",
              "    [theme=dark] .colab-df-convert {\n",
              "      background-color: #3B4455;\n",
              "      fill: #D2E3FC;\n",
              "    }\n",
              "\n",
              "    [theme=dark] .colab-df-convert:hover {\n",
              "      background-color: #434B5C;\n",
              "      box-shadow: 0px 1px 3px 1px rgba(0, 0, 0, 0.15);\n",
              "      filter: drop-shadow(0px 1px 2px rgba(0, 0, 0, 0.3));\n",
              "      fill: #FFFFFF;\n",
              "    }\n",
              "  </style>\n",
              "\n",
              "      <script>\n",
              "        const buttonEl =\n",
              "          document.querySelector('#df-698564a8-0809-4870-b303-944cf20cc83d button.colab-df-convert');\n",
              "        buttonEl.style.display =\n",
              "          google.colab.kernel.accessAllowed ? 'block' : 'none';\n",
              "\n",
              "        async function convertToInteractive(key) {\n",
              "          const element = document.querySelector('#df-698564a8-0809-4870-b303-944cf20cc83d');\n",
              "          const dataTable =\n",
              "            await google.colab.kernel.invokeFunction('convertToInteractive',\n",
              "                                                     [key], {});\n",
              "          if (!dataTable) return;\n",
              "\n",
              "          const docLinkHtml = 'Like what you see? Visit the ' +\n",
              "            '<a target=\"_blank\" href=https://colab.research.google.com/notebooks/data_table.ipynb>data table notebook</a>'\n",
              "            + ' to learn more about interactive tables.';\n",
              "          element.innerHTML = '';\n",
              "          dataTable['output_type'] = 'display_data';\n",
              "          await google.colab.output.renderOutput(dataTable, element);\n",
              "          const docLink = document.createElement('div');\n",
              "          docLink.innerHTML = docLinkHtml;\n",
              "          element.appendChild(docLink);\n",
              "        }\n",
              "      </script>\n",
              "    </div>\n",
              "  </div>\n",
              "  "
            ]
          },
          "metadata": {},
          "execution_count": 33
        }
      ]
    },
    {
      "cell_type": "code",
      "source": [
        "# 2 points\n",
        "grader.grade(test_case_id = 'test_round_dur', answer = avg_round_df)"
      ],
      "metadata": {
        "id": "pfI7GSRadqxs",
        "colab": {
          "base_uri": "https://localhost:8080/"
        },
        "outputId": "d2f21bf8-d7e1-451f-c15c-a2297285ed94"
      },
      "execution_count": 34,
      "outputs": [
        {
          "output_type": "stream",
          "name": "stdout",
          "text": [
            "Correct! You earned 2/2 points. You are a star!\n",
            "\n",
            "Your submission has been successfully recorded in the gradebook.\n"
          ]
        }
      ]
    },
    {
      "cell_type": "markdown",
      "source": [
        "#### 2.1.3 How long do you take? (5 points)\n",
        "\n",
        "Some of the rides listed in the `trips_cleaned_df` are marked as Day Pass. We'd like to know how long riders take their bikes out when they get a Day Pass. \n",
        "\n",
        "**TO-DO:** Using **pandas**, and what you learned in EDA in 1.2, use a filter on the appropriate column to obtain only “Day Pass” to calculate the average duration of these trips from `trips_cleaned_df` and save it to the variable `day_df_pd`. Please make sure you do not cast it to any type explicitly, or round it.  \n",
        "\n",
        "**Final Schema:**\n",
        "\n",
        "> avg_dur |\n",
        "> --- |\n",
        "\n",
        "Please use only `trips_cleaned_df` for both `pandas` and `pandasql`."
      ],
      "metadata": {
        "id": "FD3Dgsdv6atY"
      }
    },
    {
      "cell_type": "code",
      "source": [
        "# TODO: Use pandas to calculate the average duration of trips with a day pass \n",
        "day_df_pd = trips_cleaned_df[trips_cleaned_df.passholder_type == \"Day Pass\"].duration.mean()"
      ],
      "metadata": {
        "id": "wRHgc5T-q95z"
      },
      "execution_count": 35,
      "outputs": []
    },
    {
      "cell_type": "markdown",
      "source": [
        "**TO-DO:** Repeat the same using **pandasql** and save it as `day_df_sql` where the average duration column should be named `avg_dur`."
      ],
      "metadata": {
        "id": "C1m5KL71qxyY"
      }
    },
    {
      "cell_type": "code",
      "source": [
        "# TODO: Use pandasql to calculate the average duration of trips with a day pass \n",
        "day_query = \"\"\"\n",
        "            SELECT AVG(duration) AS avg_dur\n",
        "            FROM trips_cleaned_df\n",
        "            WHERE passholder_type == \"Day Pass\"\n",
        "            \"\"\"\n",
        "\n",
        "day_df_sql = ps.sqldf(day_query, locals())\n",
        "day_df_sql"
      ],
      "metadata": {
        "id": "r-8X-hQq6eb4",
        "colab": {
          "base_uri": "https://localhost:8080/",
          "height": 81
        },
        "outputId": "23b01fcd-a206-4635-fd1a-69e82f1ab695"
      },
      "execution_count": 36,
      "outputs": [
        {
          "output_type": "execute_result",
          "data": {
            "text/plain": [
              "    avg_dur\n",
              "0  31.43299"
            ],
            "text/html": [
              "\n",
              "  <div id=\"df-a7ec7dfc-8c65-4db4-85e6-22de90f2215a\">\n",
              "    <div class=\"colab-df-container\">\n",
              "      <div>\n",
              "<style scoped>\n",
              "    .dataframe tbody tr th:only-of-type {\n",
              "        vertical-align: middle;\n",
              "    }\n",
              "\n",
              "    .dataframe tbody tr th {\n",
              "        vertical-align: top;\n",
              "    }\n",
              "\n",
              "    .dataframe thead th {\n",
              "        text-align: right;\n",
              "    }\n",
              "</style>\n",
              "<table border=\"1\" class=\"dataframe\">\n",
              "  <thead>\n",
              "    <tr style=\"text-align: right;\">\n",
              "      <th></th>\n",
              "      <th>avg_dur</th>\n",
              "    </tr>\n",
              "  </thead>\n",
              "  <tbody>\n",
              "    <tr>\n",
              "      <th>0</th>\n",
              "      <td>31.43299</td>\n",
              "    </tr>\n",
              "  </tbody>\n",
              "</table>\n",
              "</div>\n",
              "      <button class=\"colab-df-convert\" onclick=\"convertToInteractive('df-a7ec7dfc-8c65-4db4-85e6-22de90f2215a')\"\n",
              "              title=\"Convert this dataframe to an interactive table.\"\n",
              "              style=\"display:none;\">\n",
              "        \n",
              "  <svg xmlns=\"http://www.w3.org/2000/svg\" height=\"24px\"viewBox=\"0 0 24 24\"\n",
              "       width=\"24px\">\n",
              "    <path d=\"M0 0h24v24H0V0z\" fill=\"none\"/>\n",
              "    <path d=\"M18.56 5.44l.94 2.06.94-2.06 2.06-.94-2.06-.94-.94-2.06-.94 2.06-2.06.94zm-11 1L8.5 8.5l.94-2.06 2.06-.94-2.06-.94L8.5 2.5l-.94 2.06-2.06.94zm10 10l.94 2.06.94-2.06 2.06-.94-2.06-.94-.94-2.06-.94 2.06-2.06.94z\"/><path d=\"M17.41 7.96l-1.37-1.37c-.4-.4-.92-.59-1.43-.59-.52 0-1.04.2-1.43.59L10.3 9.45l-7.72 7.72c-.78.78-.78 2.05 0 2.83L4 21.41c.39.39.9.59 1.41.59.51 0 1.02-.2 1.41-.59l7.78-7.78 2.81-2.81c.8-.78.8-2.07 0-2.86zM5.41 20L4 18.59l7.72-7.72 1.47 1.35L5.41 20z\"/>\n",
              "  </svg>\n",
              "      </button>\n",
              "      \n",
              "  <style>\n",
              "    .colab-df-container {\n",
              "      display:flex;\n",
              "      flex-wrap:wrap;\n",
              "      gap: 12px;\n",
              "    }\n",
              "\n",
              "    .colab-df-convert {\n",
              "      background-color: #E8F0FE;\n",
              "      border: none;\n",
              "      border-radius: 50%;\n",
              "      cursor: pointer;\n",
              "      display: none;\n",
              "      fill: #1967D2;\n",
              "      height: 32px;\n",
              "      padding: 0 0 0 0;\n",
              "      width: 32px;\n",
              "    }\n",
              "\n",
              "    .colab-df-convert:hover {\n",
              "      background-color: #E2EBFA;\n",
              "      box-shadow: 0px 1px 2px rgba(60, 64, 67, 0.3), 0px 1px 3px 1px rgba(60, 64, 67, 0.15);\n",
              "      fill: #174EA6;\n",
              "    }\n",
              "\n",
              "    [theme=dark] .colab-df-convert {\n",
              "      background-color: #3B4455;\n",
              "      fill: #D2E3FC;\n",
              "    }\n",
              "\n",
              "    [theme=dark] .colab-df-convert:hover {\n",
              "      background-color: #434B5C;\n",
              "      box-shadow: 0px 1px 3px 1px rgba(0, 0, 0, 0.15);\n",
              "      filter: drop-shadow(0px 1px 2px rgba(0, 0, 0, 0.3));\n",
              "      fill: #FFFFFF;\n",
              "    }\n",
              "  </style>\n",
              "\n",
              "      <script>\n",
              "        const buttonEl =\n",
              "          document.querySelector('#df-a7ec7dfc-8c65-4db4-85e6-22de90f2215a button.colab-df-convert');\n",
              "        buttonEl.style.display =\n",
              "          google.colab.kernel.accessAllowed ? 'block' : 'none';\n",
              "\n",
              "        async function convertToInteractive(key) {\n",
              "          const element = document.querySelector('#df-a7ec7dfc-8c65-4db4-85e6-22de90f2215a');\n",
              "          const dataTable =\n",
              "            await google.colab.kernel.invokeFunction('convertToInteractive',\n",
              "                                                     [key], {});\n",
              "          if (!dataTable) return;\n",
              "\n",
              "          const docLinkHtml = 'Like what you see? Visit the ' +\n",
              "            '<a target=\"_blank\" href=https://colab.research.google.com/notebooks/data_table.ipynb>data table notebook</a>'\n",
              "            + ' to learn more about interactive tables.';\n",
              "          element.innerHTML = '';\n",
              "          dataTable['output_type'] = 'display_data';\n",
              "          await google.colab.output.renderOutput(dataTable, element);\n",
              "          const docLink = document.createElement('div');\n",
              "          docLink.innerHTML = docLinkHtml;\n",
              "          element.appendChild(docLink);\n",
              "        }\n",
              "      </script>\n",
              "    </div>\n",
              "  </div>\n",
              "  "
            ]
          },
          "metadata": {},
          "execution_count": 36
        }
      ]
    },
    {
      "cell_type": "code",
      "source": [
        "# 4 points\n",
        "grader.grade(test_case_id = 'test_day_dur', answer = (day_df_sql, day_df_pd, day_query))"
      ],
      "metadata": {
        "id": "aZti3-Tp6d2t",
        "colab": {
          "base_uri": "https://localhost:8080/"
        },
        "outputId": "d3058b2c-a191-4424-91a7-dba8c211e2c9"
      },
      "execution_count": 37,
      "outputs": [
        {
          "output_type": "stream",
          "name": "stdout",
          "text": [
            "Correct! You earned 4/4 points. You are a star!\n",
            "\n",
            "Your submission has been successfully recorded in the gradebook.\n"
          ]
        }
      ]
    },
    {
      "cell_type": "markdown",
      "source": [
        "##### **Reflect:**  What do you think? (1 point)\n",
        "\n",
        "Is there a difference between the average duration for round trips (2.1.2) and Day Pass journeys (2.1.3)? Please state your answer as Yes/No with a reason for the possible similarity/difference? [1 pt]\n",
        "\n"
      ],
      "metadata": {
        "id": "0TzDzttGEUxV"
      }
    },
    {
      "cell_type": "code",
      "source": [
        "your_ans = \"\"\"Yes, the former one is in category: round trip, the latter is in pass holder type: Day Pass, their calculations are based on different statistics\"\"\""
      ],
      "metadata": {
        "id": "9vGtS4TjExHZ"
      },
      "execution_count": 38,
      "outputs": []
    },
    {
      "cell_type": "code",
      "source": [
        "# Grader Cell for Text Response (do not modify) [1 point]\n",
        "grader.grade(test_case_id = 'test_q', answer = your_ans)"
      ],
      "metadata": {
        "id": "B7fdjrTJEzTu",
        "colab": {
          "base_uri": "https://localhost:8080/"
        },
        "outputId": "989ad867-1102-4f6a-c62f-f3201f3ea4b8"
      },
      "execution_count": 39,
      "outputs": [
        {
          "output_type": "stream",
          "name": "stdout",
          "text": [
            "Correct! You earned 1/1 points. You are a star!\n",
            "\n",
            "Your submission has been successfully recorded in the gradebook.\n"
          ]
        }
      ]
    },
    {
      "cell_type": "markdown",
      "source": [
        "#### 2.1.4 Ratio of Rides (6 points)\n",
        "\n",
        "Some of the rides listed in the `trips_cleaned_df` are marked as One Way while some are marked as Round Trip. We'd like to know the ratio between the number of one - way trips to the number of round-trip journeys. \n",
        "\n",
        "**TO-DO:** Using **pandas**, calculate the ratio of the number of one-way rides to the number of round-trip rides from `trips_cleaned_df` and save it to the variable `ratio_1_round` \n",
        "\n",
        "**HINT:** Let the answer remain a float value when using pandas. "
      ],
      "metadata": {
        "id": "zQ4D0K4w6e-F"
      }
    },
    {
      "cell_type": "code",
      "source": [
        "# TO-DO: Use pandas to obtain the ratio of average number of one-way trips to average number of round-trip journeys\n",
        "ratio_1_round = len(trips_cleaned_df[trips_cleaned_df.trip_route_category == \"One Way\"]) / len(trips_cleaned_df[trips_cleaned_df.trip_route_category == \"Round Trip\"])\n",
        "print(len(trips_cleaned_df[trips_cleaned_df.trip_route_category == \"One Way\"]), len(trips_cleaned_df[trips_cleaned_df.trip_route_category == \"Round Trip\"]), 14325/930)"
      ],
      "metadata": {
        "id": "4nlsC5Ul67Da",
        "colab": {
          "base_uri": "https://localhost:8080/"
        },
        "outputId": "c528000d-dd31-494c-bc79-c9ddfc111841"
      },
      "execution_count": 40,
      "outputs": [
        {
          "output_type": "stream",
          "name": "stdout",
          "text": [
            "14325 930 15.403225806451612\n"
          ]
        }
      ]
    },
    {
      "cell_type": "code",
      "source": [
        "# 2 points\n",
        "grader.grade(test_case_id = 'test_ratio_pd', answer = ratio_1_round)"
      ],
      "metadata": {
        "id": "b4m9-1M_Aptp",
        "colab": {
          "base_uri": "https://localhost:8080/"
        },
        "outputId": "6a9af78c-3c9e-4e54-a87f-094bb37c6de5"
      },
      "execution_count": 41,
      "outputs": [
        {
          "output_type": "stream",
          "name": "stdout",
          "text": [
            "Correct! You earned 2/2 points. You are a star!\n",
            "\n",
            "Your submission has been successfully recorded in the gradebook.\n"
          ]
        }
      ]
    },
    {
      "cell_type": "markdown",
      "source": [
        "Now, let's try doing the same thing using pandasql, and see if the results match. \n",
        "\n",
        "**TODO:** Using **pandasql**, calculate the ratio of the number of one-way rides to the number of round-trip rides from `trips_cleaned_df` and save it to the dataframe `ratio_df`, naming the column `'ratio'`. \n",
        "\n",
        "Try to make use of subqueries here! Note, your results should be equivalent (to each other, and the answer, of course) if you have done both parts correctly.\n",
        "\n",
        "**HINT:** Cast your ratio to `float` type.  \n",
        "\n",
        "**Final Schema:**\n",
        "\n",
        "> ratio |\n",
        "> --- |"
      ],
      "metadata": {
        "id": "6D6k9ydQBCiT"
      }
    },
    {
      "cell_type": "code",
      "source": [
        "# TODO: Use pandasql to obtain the ratio of number of one-way trips to  number of round trips \n",
        "\n",
        "ratio_query = \"\"\"  \n",
        "              SELECT (CAST(COUNT(*) AS FLOAT) / (round_num + 0.0)) AS ratio\n",
        "              FROM trips_cleaned_df, (\n",
        "                SELECT COUNT(*) AS round_num\n",
        "                FROM trips_cleaned_df\n",
        "                WHERE trip_route_category == \"Round Trip\"\n",
        "              )\n",
        "              WHERE trip_route_category == \"One Way\"\n",
        "              \"\"\"\n",
        "\n",
        "ratio_df = ps.sqldf(ratio_query, locals())\n",
        "ratio_df"
      ],
      "metadata": {
        "id": "GZjIm-C_661o",
        "colab": {
          "base_uri": "https://localhost:8080/",
          "height": 81
        },
        "outputId": "5ee3c2f8-e121-48d4-d0c8-7fc11e9acbe7"
      },
      "execution_count": 42,
      "outputs": [
        {
          "output_type": "execute_result",
          "data": {
            "text/plain": [
              "       ratio\n",
              "0  15.403226"
            ],
            "text/html": [
              "\n",
              "  <div id=\"df-1732d28d-6218-4868-82cd-ae99241a0b86\">\n",
              "    <div class=\"colab-df-container\">\n",
              "      <div>\n",
              "<style scoped>\n",
              "    .dataframe tbody tr th:only-of-type {\n",
              "        vertical-align: middle;\n",
              "    }\n",
              "\n",
              "    .dataframe tbody tr th {\n",
              "        vertical-align: top;\n",
              "    }\n",
              "\n",
              "    .dataframe thead th {\n",
              "        text-align: right;\n",
              "    }\n",
              "</style>\n",
              "<table border=\"1\" class=\"dataframe\">\n",
              "  <thead>\n",
              "    <tr style=\"text-align: right;\">\n",
              "      <th></th>\n",
              "      <th>ratio</th>\n",
              "    </tr>\n",
              "  </thead>\n",
              "  <tbody>\n",
              "    <tr>\n",
              "      <th>0</th>\n",
              "      <td>15.403226</td>\n",
              "    </tr>\n",
              "  </tbody>\n",
              "</table>\n",
              "</div>\n",
              "      <button class=\"colab-df-convert\" onclick=\"convertToInteractive('df-1732d28d-6218-4868-82cd-ae99241a0b86')\"\n",
              "              title=\"Convert this dataframe to an interactive table.\"\n",
              "              style=\"display:none;\">\n",
              "        \n",
              "  <svg xmlns=\"http://www.w3.org/2000/svg\" height=\"24px\"viewBox=\"0 0 24 24\"\n",
              "       width=\"24px\">\n",
              "    <path d=\"M0 0h24v24H0V0z\" fill=\"none\"/>\n",
              "    <path d=\"M18.56 5.44l.94 2.06.94-2.06 2.06-.94-2.06-.94-.94-2.06-.94 2.06-2.06.94zm-11 1L8.5 8.5l.94-2.06 2.06-.94-2.06-.94L8.5 2.5l-.94 2.06-2.06.94zm10 10l.94 2.06.94-2.06 2.06-.94-2.06-.94-.94-2.06-.94 2.06-2.06.94z\"/><path d=\"M17.41 7.96l-1.37-1.37c-.4-.4-.92-.59-1.43-.59-.52 0-1.04.2-1.43.59L10.3 9.45l-7.72 7.72c-.78.78-.78 2.05 0 2.83L4 21.41c.39.39.9.59 1.41.59.51 0 1.02-.2 1.41-.59l7.78-7.78 2.81-2.81c.8-.78.8-2.07 0-2.86zM5.41 20L4 18.59l7.72-7.72 1.47 1.35L5.41 20z\"/>\n",
              "  </svg>\n",
              "      </button>\n",
              "      \n",
              "  <style>\n",
              "    .colab-df-container {\n",
              "      display:flex;\n",
              "      flex-wrap:wrap;\n",
              "      gap: 12px;\n",
              "    }\n",
              "\n",
              "    .colab-df-convert {\n",
              "      background-color: #E8F0FE;\n",
              "      border: none;\n",
              "      border-radius: 50%;\n",
              "      cursor: pointer;\n",
              "      display: none;\n",
              "      fill: #1967D2;\n",
              "      height: 32px;\n",
              "      padding: 0 0 0 0;\n",
              "      width: 32px;\n",
              "    }\n",
              "\n",
              "    .colab-df-convert:hover {\n",
              "      background-color: #E2EBFA;\n",
              "      box-shadow: 0px 1px 2px rgba(60, 64, 67, 0.3), 0px 1px 3px 1px rgba(60, 64, 67, 0.15);\n",
              "      fill: #174EA6;\n",
              "    }\n",
              "\n",
              "    [theme=dark] .colab-df-convert {\n",
              "      background-color: #3B4455;\n",
              "      fill: #D2E3FC;\n",
              "    }\n",
              "\n",
              "    [theme=dark] .colab-df-convert:hover {\n",
              "      background-color: #434B5C;\n",
              "      box-shadow: 0px 1px 3px 1px rgba(0, 0, 0, 0.15);\n",
              "      filter: drop-shadow(0px 1px 2px rgba(0, 0, 0, 0.3));\n",
              "      fill: #FFFFFF;\n",
              "    }\n",
              "  </style>\n",
              "\n",
              "      <script>\n",
              "        const buttonEl =\n",
              "          document.querySelector('#df-1732d28d-6218-4868-82cd-ae99241a0b86 button.colab-df-convert');\n",
              "        buttonEl.style.display =\n",
              "          google.colab.kernel.accessAllowed ? 'block' : 'none';\n",
              "\n",
              "        async function convertToInteractive(key) {\n",
              "          const element = document.querySelector('#df-1732d28d-6218-4868-82cd-ae99241a0b86');\n",
              "          const dataTable =\n",
              "            await google.colab.kernel.invokeFunction('convertToInteractive',\n",
              "                                                     [key], {});\n",
              "          if (!dataTable) return;\n",
              "\n",
              "          const docLinkHtml = 'Like what you see? Visit the ' +\n",
              "            '<a target=\"_blank\" href=https://colab.research.google.com/notebooks/data_table.ipynb>data table notebook</a>'\n",
              "            + ' to learn more about interactive tables.';\n",
              "          element.innerHTML = '';\n",
              "          dataTable['output_type'] = 'display_data';\n",
              "          await google.colab.output.renderOutput(dataTable, element);\n",
              "          const docLink = document.createElement('div');\n",
              "          docLink.innerHTML = docLinkHtml;\n",
              "          element.appendChild(docLink);\n",
              "        }\n",
              "      </script>\n",
              "    </div>\n",
              "  </div>\n",
              "  "
            ]
          },
          "metadata": {},
          "execution_count": 42
        }
      ]
    },
    {
      "cell_type": "code",
      "source": [
        "# 4 points\n",
        "grader.grade(test_case_id = 'test_ratio_sql', answer = (ratio_df, ratio_query))"
      ],
      "metadata": {
        "id": "l3orIXJvAqe2",
        "colab": {
          "base_uri": "https://localhost:8080/"
        },
        "outputId": "3375af3a-331c-452f-cb79-fa279b846b65"
      },
      "execution_count": 43,
      "outputs": [
        {
          "output_type": "stream",
          "name": "stdout",
          "text": [
            "Correct! You earned 4/4 points. You are a star!\n",
            "\n",
            "Your submission has been successfully recorded in the gradebook.\n"
          ]
        }
      ]
    },
    {
      "cell_type": "markdown",
      "source": [
        "###2.2 Station Involvement [16 points]"
      ],
      "metadata": {
        "id": "EmtOjC3s67UW"
      }
    },
    {
      "cell_type": "markdown",
      "source": [
        "#### 2.2.1 Names not numbers [5 points]\n",
        "We will now use `stations_cleaned_df` to modify our `trips_final_df`. If you look at the rides data, you will notice that both start and end station columns have numbers corresponding to the station ID listed. Using the station ID listed in stations_df, we want to include station names instead of station IDs in our `trips_final_df`.\n",
        "\n",
        "**TO-DO** (`pandas`): \n",
        "* Drop records with missing values and update `trips_cleaned_df`\n",
        "* Create a new dataframe called `trips_final_df` which you'll use after this question. Begin by assigning a **copy** of `trips_cleaned_df` to it.\n",
        "  * **Hint:** Don't just set them equal right away! Refer to the ```.copy()``` function!\n",
        ". \n",
        "* Replace the IDs in the `'start_station'` column of `trips_final_df` with the corresponding station name. \n",
        "* Replace the IDs in the `'end_station'` column of `trips_final_df` with the corresponding station name. \n",
        "* If the any station ID cannot be mapped to a name, the name should be set to 'Unknown'\n",
        "* Sort `trips_final_df` by the trip_id (in ascending order). \n",
        "\n"
      ],
      "metadata": {
        "id": "2fXGZWkF7AeD"
      }
    },
    {
      "cell_type": "code",
      "source": [
        "# TO-DO : Drop missing values\n",
        "trips_cleaned_df = trips_cleaned_df.dropna()"
      ],
      "metadata": {
        "id": "ZEbcMIew1CSR"
      },
      "execution_count": 44,
      "outputs": []
    },
    {
      "cell_type": "code",
      "source": [
        "# TO-DO : Create a copy named trips_final_df using .copy()\n",
        "trips_final_df = trips_cleaned_df.copy()"
      ],
      "metadata": {
        "id": "LaTHa9dU1Ehk"
      },
      "execution_count": 45,
      "outputs": []
    },
    {
      "cell_type": "code",
      "source": [
        "from numpy.lib.twodim_base import tri\n",
        "# TO-DO: Replace station IDs with station names in trips_final_df. Read ALL the bullets above carefully!\n",
        "merged_table = stations_cleaned_df[[\"station_id\",\"station_name\"]].merge(trips_final_df, how=\"right\", left_on=\"station_id\", right_on=\"start_station\").drop([\"start_station\", \"station_id\"], axis=1)\n",
        "merged_table = merged_table.rename(columns={\"station_name\": \"start_station\"})\n",
        "merged_table = merged_table.merge(stations_cleaned_df[[\"station_id\",\"station_name\"]], how=\"left\", left_on=\"end_station\", right_on=\"station_id\").drop([\"end_station\", \"station_id\"], axis=1)\n",
        "merged_table = merged_table.rename(columns={\"station_name\": \"end_station\"})\n",
        "merged_table.fillna('Unknown', inplace=True)"
      ],
      "metadata": {
        "id": "TIBK-_uO7EVZ"
      },
      "execution_count": 46,
      "outputs": []
    },
    {
      "cell_type": "code",
      "source": [
        "# TO-DO: Sort trips_final_df by the trip_id\n",
        "trips_final_df = merged_table.sort_values(\"trip_id\")\n",
        "trips_final_df[trips_final_df[\"start_station\"] == \"Unknown\"]\n",
        "trips_final_df.iloc[80, :]"
      ],
      "metadata": {
        "id": "EfdLg0mpxANz",
        "colab": {
          "base_uri": "https://localhost:8080/"
        },
        "outputId": "f8be1946-5be4-4596-d9bf-b408154a5916"
      },
      "execution_count": 47,
      "outputs": [
        {
          "output_type": "execute_result",
          "data": {
            "text/plain": [
              "start_station                 Unknown\n",
              "trip_id                     536574924\n",
              "duration                           10\n",
              "start_time             10/1/2022 2:48\n",
              "end_time               10/1/2022 2:58\n",
              "start_lat                    39.95134\n",
              "start_lon                   -75.16758\n",
              "end_lat                     39.955761\n",
              "end_lon                    -75.189819\n",
              "bike_id                         23133\n",
              "trip_route_category           One Way\n",
              "passholder_type              Indego30\n",
              "bike_type                    electric\n",
              "end_station             33rd & Market\n",
              "Name: 80, dtype: object"
            ]
          },
          "metadata": {},
          "execution_count": 47
        }
      ]
    },
    {
      "cell_type": "code",
      "source": [
        "# 2 points\n",
        "grader.grade(test_case_id = 'test_stations', answer = trips_final_df)"
      ],
      "metadata": {
        "id": "hXK8HI2j7EL0",
        "colab": {
          "base_uri": "https://localhost:8080/"
        },
        "outputId": "ff27a9f5-e444-462f-de2f-63c977dbff7b"
      },
      "execution_count": 48,
      "outputs": [
        {
          "output_type": "stream",
          "name": "stdout",
          "text": [
            "Correct! You earned 2/2 points. You are a star!\n",
            "\n",
            "Your submission has been successfully recorded in the gradebook.\n"
          ]
        }
      ]
    },
    {
      "cell_type": "markdown",
      "source": [
        "**TO-DO** : Repeat the same using `trips_cleaned_df` (only for this sql query) and `pandasql`, saving it as `trips_stations_sql`.\n",
        "\n",
        "<ins>Remember:</ins> If a station ID cannot be mapped to a name, the name should be **NULL**"
      ],
      "metadata": {
        "id": "uon1cRZVZ6vI"
      }
    },
    {
      "cell_type": "code",
      "source": [
        "#TODO : Use pandasql to replace station IDs with station names in trips_cleaned_df and save it as trips_stations_sql\n",
        "# \"\"\"\n",
        "# SELECT ltn.some_id, SUM(stn.some_value) AS total\n",
        "# FROM long_table_name AS ltn\n",
        "#    INNER JOIN short_table_name AS stn \n",
        "#       ON ltn.common_key = stn.common_key\n",
        "#    INNER JOIN med_table_name AS mtn\n",
        "#       ON ltn.other_key = mtn.other_key\n",
        "# WHERE ltn.col1 > value\n",
        "#    AND stn.col2 <= another_value\n",
        "#    AND mtn.col3 != something_else\n",
        "# GROUP BY ltn.some_id\n",
        "# ORDER BY total DESC\n",
        "# \"\"\"\n",
        "replace_query = \"\"\"\n",
        "                SELECT trip_id, duration, start_time, end_time, start_lat, start_lon, end_lat, end_lon, bike_id, trip_route_category, passholder_type,\tbike_type, s1.station_name AS start_station, s2.station_name AS end_station\n",
        "                FROM trips_cleaned_df t\n",
        "                  LEFT JOIN stations_cleaned_df s1\n",
        "                    ON t.start_station = s1.station_id\n",
        "                  LEFT JOIN stations_cleaned_df s2\n",
        "                    ON t.end_station = s2.station_id\n",
        "                \"\"\"\n",
        "\n",
        "trips_stations_sql = ps.sqldf(replace_query, locals())#ps.sqldf(replace_query, locals())\n",
        "trips_stations_sql"
      ],
      "metadata": {
        "id": "BoBeYT_uZtJH",
        "colab": {
          "base_uri": "https://localhost:8080/",
          "height": 424
        },
        "outputId": "1381875d-8d6a-4524-e4ef-9ae0c814087c"
      },
      "execution_count": 49,
      "outputs": [
        {
          "output_type": "execute_result",
          "data": {
            "text/plain": [
              "         trip_id  duration       start_time         end_time  start_lat  \\\n",
              "0      536546924         3   10/1/2022 1:50   10/1/2022 1:53  39.904709   \n",
              "1      536546925         3   10/1/2022 1:50   10/1/2022 1:53  39.904709   \n",
              "2      536546927         7   10/1/2022 1:48   10/1/2022 1:55  39.947109   \n",
              "3      536546929         7   10/1/2022 1:48   10/1/2022 1:55  39.947109   \n",
              "4      536546932         6   10/1/2022 1:41   10/1/2022 1:47  39.953781   \n",
              "...          ...       ...              ...              ...        ...   \n",
              "15250  540422839       100  10/7/2022 21:36  10/7/2022 23:16  39.947922   \n",
              "15251  540422840       102  10/7/2022 21:35  10/7/2022 23:17  39.947922   \n",
              "15252  540422841       102  10/7/2022 21:34  10/7/2022 23:16  39.947922   \n",
              "15253  540422860        50  10/7/2022 21:27  10/7/2022 22:17  39.950249   \n",
              "15254  540422896        53  10/7/2022 21:12  10/7/2022 22:05  39.953819   \n",
              "\n",
              "       start_lon    end_lat    end_lon  bike_id trip_route_category  \\\n",
              "0     -75.173401  39.904709 -75.173401    11708          Round Trip   \n",
              "1     -75.173401  39.904709 -75.173401     3483          Round Trip   \n",
              "2     -75.166183  39.938400 -75.173271    14655             One Way   \n",
              "3     -75.166183  39.938400 -75.173271    12987             One Way   \n",
              "4     -75.163742  39.951740 -75.170631    22554             One Way   \n",
              "...          ...        ...        ...      ...                 ...   \n",
              "15250 -75.162369  39.947922 -75.162369    22404          Round Trip   \n",
              "15251 -75.162369  39.947922 -75.162369    23321          Round Trip   \n",
              "15252 -75.162369  39.947922 -75.162369    22950          Round Trip   \n",
              "15253 -75.160278  39.971569 -75.159927    14533             One Way   \n",
              "15254 -75.142632  39.963039 -75.140991     3570             One Way   \n",
              "\n",
              "      passholder_type bike_type                      start_station  \\\n",
              "0            Indego30  standard              Broad & Pattison, BSL   \n",
              "1            Indego30  standard              Broad & Pattison, BSL   \n",
              "2            Indego30  standard                      15th & Spruce   \n",
              "3            Indego30  standard                      15th & Spruce   \n",
              "4            Day Pass  electric  Municipal Services Building Plaza   \n",
              "...               ...       ...                                ...   \n",
              "15250        Day Pass  electric                      13th & Locust   \n",
              "15251        Day Pass  electric                      13th & Locust   \n",
              "15252        Day Pass  electric                      13th & Locust   \n",
              "15253        Indego30  standard                    12th & Chestnut   \n",
              "15254       Indego365  standard                         2nd & Race   \n",
              "\n",
              "                              end_station  \n",
              "0                   Broad & Pattison, BSL  \n",
              "1                   Broad & Pattison, BSL  \n",
              "2      18th & Washington, Chew Playground  \n",
              "3      18th & Washington, Chew Playground  \n",
              "4                         18th & Chestnut  \n",
              "...                                   ...  \n",
              "15250                       13th & Locust  \n",
              "15251                       13th & Locust  \n",
              "15252                       13th & Locust  \n",
              "15253                      Broad & Girard  \n",
              "15254                         2nd & Brown  \n",
              "\n",
              "[15255 rows x 14 columns]"
            ],
            "text/html": [
              "\n",
              "  <div id=\"df-050a2a9e-7b13-4598-8511-26a687b52cbb\">\n",
              "    <div class=\"colab-df-container\">\n",
              "      <div>\n",
              "<style scoped>\n",
              "    .dataframe tbody tr th:only-of-type {\n",
              "        vertical-align: middle;\n",
              "    }\n",
              "\n",
              "    .dataframe tbody tr th {\n",
              "        vertical-align: top;\n",
              "    }\n",
              "\n",
              "    .dataframe thead th {\n",
              "        text-align: right;\n",
              "    }\n",
              "</style>\n",
              "<table border=\"1\" class=\"dataframe\">\n",
              "  <thead>\n",
              "    <tr style=\"text-align: right;\">\n",
              "      <th></th>\n",
              "      <th>trip_id</th>\n",
              "      <th>duration</th>\n",
              "      <th>start_time</th>\n",
              "      <th>end_time</th>\n",
              "      <th>start_lat</th>\n",
              "      <th>start_lon</th>\n",
              "      <th>end_lat</th>\n",
              "      <th>end_lon</th>\n",
              "      <th>bike_id</th>\n",
              "      <th>trip_route_category</th>\n",
              "      <th>passholder_type</th>\n",
              "      <th>bike_type</th>\n",
              "      <th>start_station</th>\n",
              "      <th>end_station</th>\n",
              "    </tr>\n",
              "  </thead>\n",
              "  <tbody>\n",
              "    <tr>\n",
              "      <th>0</th>\n",
              "      <td>536546924</td>\n",
              "      <td>3</td>\n",
              "      <td>10/1/2022 1:50</td>\n",
              "      <td>10/1/2022 1:53</td>\n",
              "      <td>39.904709</td>\n",
              "      <td>-75.173401</td>\n",
              "      <td>39.904709</td>\n",
              "      <td>-75.173401</td>\n",
              "      <td>11708</td>\n",
              "      <td>Round Trip</td>\n",
              "      <td>Indego30</td>\n",
              "      <td>standard</td>\n",
              "      <td>Broad &amp; Pattison, BSL</td>\n",
              "      <td>Broad &amp; Pattison, BSL</td>\n",
              "    </tr>\n",
              "    <tr>\n",
              "      <th>1</th>\n",
              "      <td>536546925</td>\n",
              "      <td>3</td>\n",
              "      <td>10/1/2022 1:50</td>\n",
              "      <td>10/1/2022 1:53</td>\n",
              "      <td>39.904709</td>\n",
              "      <td>-75.173401</td>\n",
              "      <td>39.904709</td>\n",
              "      <td>-75.173401</td>\n",
              "      <td>3483</td>\n",
              "      <td>Round Trip</td>\n",
              "      <td>Indego30</td>\n",
              "      <td>standard</td>\n",
              "      <td>Broad &amp; Pattison, BSL</td>\n",
              "      <td>Broad &amp; Pattison, BSL</td>\n",
              "    </tr>\n",
              "    <tr>\n",
              "      <th>2</th>\n",
              "      <td>536546927</td>\n",
              "      <td>7</td>\n",
              "      <td>10/1/2022 1:48</td>\n",
              "      <td>10/1/2022 1:55</td>\n",
              "      <td>39.947109</td>\n",
              "      <td>-75.166183</td>\n",
              "      <td>39.938400</td>\n",
              "      <td>-75.173271</td>\n",
              "      <td>14655</td>\n",
              "      <td>One Way</td>\n",
              "      <td>Indego30</td>\n",
              "      <td>standard</td>\n",
              "      <td>15th &amp; Spruce</td>\n",
              "      <td>18th &amp; Washington, Chew Playground</td>\n",
              "    </tr>\n",
              "    <tr>\n",
              "      <th>3</th>\n",
              "      <td>536546929</td>\n",
              "      <td>7</td>\n",
              "      <td>10/1/2022 1:48</td>\n",
              "      <td>10/1/2022 1:55</td>\n",
              "      <td>39.947109</td>\n",
              "      <td>-75.166183</td>\n",
              "      <td>39.938400</td>\n",
              "      <td>-75.173271</td>\n",
              "      <td>12987</td>\n",
              "      <td>One Way</td>\n",
              "      <td>Indego30</td>\n",
              "      <td>standard</td>\n",
              "      <td>15th &amp; Spruce</td>\n",
              "      <td>18th &amp; Washington, Chew Playground</td>\n",
              "    </tr>\n",
              "    <tr>\n",
              "      <th>4</th>\n",
              "      <td>536546932</td>\n",
              "      <td>6</td>\n",
              "      <td>10/1/2022 1:41</td>\n",
              "      <td>10/1/2022 1:47</td>\n",
              "      <td>39.953781</td>\n",
              "      <td>-75.163742</td>\n",
              "      <td>39.951740</td>\n",
              "      <td>-75.170631</td>\n",
              "      <td>22554</td>\n",
              "      <td>One Way</td>\n",
              "      <td>Day Pass</td>\n",
              "      <td>electric</td>\n",
              "      <td>Municipal Services Building Plaza</td>\n",
              "      <td>18th &amp; Chestnut</td>\n",
              "    </tr>\n",
              "    <tr>\n",
              "      <th>...</th>\n",
              "      <td>...</td>\n",
              "      <td>...</td>\n",
              "      <td>...</td>\n",
              "      <td>...</td>\n",
              "      <td>...</td>\n",
              "      <td>...</td>\n",
              "      <td>...</td>\n",
              "      <td>...</td>\n",
              "      <td>...</td>\n",
              "      <td>...</td>\n",
              "      <td>...</td>\n",
              "      <td>...</td>\n",
              "      <td>...</td>\n",
              "      <td>...</td>\n",
              "    </tr>\n",
              "    <tr>\n",
              "      <th>15250</th>\n",
              "      <td>540422839</td>\n",
              "      <td>100</td>\n",
              "      <td>10/7/2022 21:36</td>\n",
              "      <td>10/7/2022 23:16</td>\n",
              "      <td>39.947922</td>\n",
              "      <td>-75.162369</td>\n",
              "      <td>39.947922</td>\n",
              "      <td>-75.162369</td>\n",
              "      <td>22404</td>\n",
              "      <td>Round Trip</td>\n",
              "      <td>Day Pass</td>\n",
              "      <td>electric</td>\n",
              "      <td>13th &amp; Locust</td>\n",
              "      <td>13th &amp; Locust</td>\n",
              "    </tr>\n",
              "    <tr>\n",
              "      <th>15251</th>\n",
              "      <td>540422840</td>\n",
              "      <td>102</td>\n",
              "      <td>10/7/2022 21:35</td>\n",
              "      <td>10/7/2022 23:17</td>\n",
              "      <td>39.947922</td>\n",
              "      <td>-75.162369</td>\n",
              "      <td>39.947922</td>\n",
              "      <td>-75.162369</td>\n",
              "      <td>23321</td>\n",
              "      <td>Round Trip</td>\n",
              "      <td>Day Pass</td>\n",
              "      <td>electric</td>\n",
              "      <td>13th &amp; Locust</td>\n",
              "      <td>13th &amp; Locust</td>\n",
              "    </tr>\n",
              "    <tr>\n",
              "      <th>15252</th>\n",
              "      <td>540422841</td>\n",
              "      <td>102</td>\n",
              "      <td>10/7/2022 21:34</td>\n",
              "      <td>10/7/2022 23:16</td>\n",
              "      <td>39.947922</td>\n",
              "      <td>-75.162369</td>\n",
              "      <td>39.947922</td>\n",
              "      <td>-75.162369</td>\n",
              "      <td>22950</td>\n",
              "      <td>Round Trip</td>\n",
              "      <td>Day Pass</td>\n",
              "      <td>electric</td>\n",
              "      <td>13th &amp; Locust</td>\n",
              "      <td>13th &amp; Locust</td>\n",
              "    </tr>\n",
              "    <tr>\n",
              "      <th>15253</th>\n",
              "      <td>540422860</td>\n",
              "      <td>50</td>\n",
              "      <td>10/7/2022 21:27</td>\n",
              "      <td>10/7/2022 22:17</td>\n",
              "      <td>39.950249</td>\n",
              "      <td>-75.160278</td>\n",
              "      <td>39.971569</td>\n",
              "      <td>-75.159927</td>\n",
              "      <td>14533</td>\n",
              "      <td>One Way</td>\n",
              "      <td>Indego30</td>\n",
              "      <td>standard</td>\n",
              "      <td>12th &amp; Chestnut</td>\n",
              "      <td>Broad &amp; Girard</td>\n",
              "    </tr>\n",
              "    <tr>\n",
              "      <th>15254</th>\n",
              "      <td>540422896</td>\n",
              "      <td>53</td>\n",
              "      <td>10/7/2022 21:12</td>\n",
              "      <td>10/7/2022 22:05</td>\n",
              "      <td>39.953819</td>\n",
              "      <td>-75.142632</td>\n",
              "      <td>39.963039</td>\n",
              "      <td>-75.140991</td>\n",
              "      <td>3570</td>\n",
              "      <td>One Way</td>\n",
              "      <td>Indego365</td>\n",
              "      <td>standard</td>\n",
              "      <td>2nd &amp; Race</td>\n",
              "      <td>2nd &amp; Brown</td>\n",
              "    </tr>\n",
              "  </tbody>\n",
              "</table>\n",
              "<p>15255 rows × 14 columns</p>\n",
              "</div>\n",
              "      <button class=\"colab-df-convert\" onclick=\"convertToInteractive('df-050a2a9e-7b13-4598-8511-26a687b52cbb')\"\n",
              "              title=\"Convert this dataframe to an interactive table.\"\n",
              "              style=\"display:none;\">\n",
              "        \n",
              "  <svg xmlns=\"http://www.w3.org/2000/svg\" height=\"24px\"viewBox=\"0 0 24 24\"\n",
              "       width=\"24px\">\n",
              "    <path d=\"M0 0h24v24H0V0z\" fill=\"none\"/>\n",
              "    <path d=\"M18.56 5.44l.94 2.06.94-2.06 2.06-.94-2.06-.94-.94-2.06-.94 2.06-2.06.94zm-11 1L8.5 8.5l.94-2.06 2.06-.94-2.06-.94L8.5 2.5l-.94 2.06-2.06.94zm10 10l.94 2.06.94-2.06 2.06-.94-2.06-.94-.94-2.06-.94 2.06-2.06.94z\"/><path d=\"M17.41 7.96l-1.37-1.37c-.4-.4-.92-.59-1.43-.59-.52 0-1.04.2-1.43.59L10.3 9.45l-7.72 7.72c-.78.78-.78 2.05 0 2.83L4 21.41c.39.39.9.59 1.41.59.51 0 1.02-.2 1.41-.59l7.78-7.78 2.81-2.81c.8-.78.8-2.07 0-2.86zM5.41 20L4 18.59l7.72-7.72 1.47 1.35L5.41 20z\"/>\n",
              "  </svg>\n",
              "      </button>\n",
              "      \n",
              "  <style>\n",
              "    .colab-df-container {\n",
              "      display:flex;\n",
              "      flex-wrap:wrap;\n",
              "      gap: 12px;\n",
              "    }\n",
              "\n",
              "    .colab-df-convert {\n",
              "      background-color: #E8F0FE;\n",
              "      border: none;\n",
              "      border-radius: 50%;\n",
              "      cursor: pointer;\n",
              "      display: none;\n",
              "      fill: #1967D2;\n",
              "      height: 32px;\n",
              "      padding: 0 0 0 0;\n",
              "      width: 32px;\n",
              "    }\n",
              "\n",
              "    .colab-df-convert:hover {\n",
              "      background-color: #E2EBFA;\n",
              "      box-shadow: 0px 1px 2px rgba(60, 64, 67, 0.3), 0px 1px 3px 1px rgba(60, 64, 67, 0.15);\n",
              "      fill: #174EA6;\n",
              "    }\n",
              "\n",
              "    [theme=dark] .colab-df-convert {\n",
              "      background-color: #3B4455;\n",
              "      fill: #D2E3FC;\n",
              "    }\n",
              "\n",
              "    [theme=dark] .colab-df-convert:hover {\n",
              "      background-color: #434B5C;\n",
              "      box-shadow: 0px 1px 3px 1px rgba(0, 0, 0, 0.15);\n",
              "      filter: drop-shadow(0px 1px 2px rgba(0, 0, 0, 0.3));\n",
              "      fill: #FFFFFF;\n",
              "    }\n",
              "  </style>\n",
              "\n",
              "      <script>\n",
              "        const buttonEl =\n",
              "          document.querySelector('#df-050a2a9e-7b13-4598-8511-26a687b52cbb button.colab-df-convert');\n",
              "        buttonEl.style.display =\n",
              "          google.colab.kernel.accessAllowed ? 'block' : 'none';\n",
              "\n",
              "        async function convertToInteractive(key) {\n",
              "          const element = document.querySelector('#df-050a2a9e-7b13-4598-8511-26a687b52cbb');\n",
              "          const dataTable =\n",
              "            await google.colab.kernel.invokeFunction('convertToInteractive',\n",
              "                                                     [key], {});\n",
              "          if (!dataTable) return;\n",
              "\n",
              "          const docLinkHtml = 'Like what you see? Visit the ' +\n",
              "            '<a target=\"_blank\" href=https://colab.research.google.com/notebooks/data_table.ipynb>data table notebook</a>'\n",
              "            + ' to learn more about interactive tables.';\n",
              "          element.innerHTML = '';\n",
              "          dataTable['output_type'] = 'display_data';\n",
              "          await google.colab.output.renderOutput(dataTable, element);\n",
              "          const docLink = document.createElement('div');\n",
              "          docLink.innerHTML = docLinkHtml;\n",
              "          element.appendChild(docLink);\n",
              "        }\n",
              "      </script>\n",
              "    </div>\n",
              "  </div>\n",
              "  "
            ]
          },
          "metadata": {},
          "execution_count": 49
        }
      ]
    },
    {
      "cell_type": "code",
      "source": [
        "#3 points\n",
        "grader.grade(test_case_id = 'test_stations_sql', answer = (trips_stations_sql, replace_query))"
      ],
      "metadata": {
        "id": "rnEiHa_8Zs--",
        "colab": {
          "base_uri": "https://localhost:8080/"
        },
        "outputId": "16cd4d1b-2f75-440a-e478-7c62d19cd2b3"
      },
      "execution_count": 50,
      "outputs": [
        {
          "output_type": "stream",
          "name": "stdout",
          "text": [
            "Correct! You earned 3/3 points. You are a star!\n",
            "\n",
            "Your submission has been successfully recorded in the gradebook.\n"
          ]
        }
      ]
    },
    {
      "cell_type": "markdown",
      "source": [
        "#### 2.2.2 Morning Class? (5 points)\n",
        "We are all pretty familiar with University City, most of you probably live in or commute to this area every day. We want to count the number of people who start out at the University City Station before noon. \n",
        "\n",
        "**TO-DO**: \n",
        "* The first step involved is creating a new column in `trips_final_df` called `hour` where you will extract the hour of the `start_time` column. You can do this using pandas, and an apply function. \n",
        "* The next step is to use `pandasql` to count the number of rides that start at the 'University City Station' before noon (do not include trips with hour 12) and store the result in a dataframe called `ucity_df`, with the column name as `ride_count`.\n",
        "\n",
        "**Hint**: you may find it helpful to look up the `.Timestamp()` function to understand how to extract the hour of a particular date. "
      ],
      "metadata": {
        "id": "_BuyVlRb7EvA"
      }
    },
    {
      "cell_type": "code",
      "source": [
        "#TODO : Create a new column called hour\n",
        "trips_final_df[\"hour\"] = trips_final_df.start_time.apply(lambda x: x.split()[1].split(\":\")[0]).astype(int)"
      ],
      "metadata": {
        "id": "bUWKZMoA7I5E"
      },
      "execution_count": 51,
      "outputs": []
    },
    {
      "cell_type": "code",
      "source": [
        "# Count the number of rides before noon that started at `University City Station`\n",
        "ucity_query = \"\"\" \n",
        "              SELECT COUNT(*) AS ride_count\n",
        "              FROM trips_final_df\n",
        "              WHERE hour < 12 and start_station = \"University City Station\"\n",
        "              \"\"\"\n",
        "\n",
        "ucity_df = ps.sqldf(ucity_query, locals())\n",
        "ucity_df "
      ],
      "metadata": {
        "id": "gfga-M2B7InM",
        "colab": {
          "base_uri": "https://localhost:8080/",
          "height": 81
        },
        "outputId": "d8970d97-4a95-4640-fb08-a5e5fbd37fbd"
      },
      "execution_count": 52,
      "outputs": [
        {
          "output_type": "execute_result",
          "data": {
            "text/plain": [
              "   ride_count\n",
              "0          23"
            ],
            "text/html": [
              "\n",
              "  <div id=\"df-493358b6-f6a6-40cb-ab35-b4a2742f47b4\">\n",
              "    <div class=\"colab-df-container\">\n",
              "      <div>\n",
              "<style scoped>\n",
              "    .dataframe tbody tr th:only-of-type {\n",
              "        vertical-align: middle;\n",
              "    }\n",
              "\n",
              "    .dataframe tbody tr th {\n",
              "        vertical-align: top;\n",
              "    }\n",
              "\n",
              "    .dataframe thead th {\n",
              "        text-align: right;\n",
              "    }\n",
              "</style>\n",
              "<table border=\"1\" class=\"dataframe\">\n",
              "  <thead>\n",
              "    <tr style=\"text-align: right;\">\n",
              "      <th></th>\n",
              "      <th>ride_count</th>\n",
              "    </tr>\n",
              "  </thead>\n",
              "  <tbody>\n",
              "    <tr>\n",
              "      <th>0</th>\n",
              "      <td>23</td>\n",
              "    </tr>\n",
              "  </tbody>\n",
              "</table>\n",
              "</div>\n",
              "      <button class=\"colab-df-convert\" onclick=\"convertToInteractive('df-493358b6-f6a6-40cb-ab35-b4a2742f47b4')\"\n",
              "              title=\"Convert this dataframe to an interactive table.\"\n",
              "              style=\"display:none;\">\n",
              "        \n",
              "  <svg xmlns=\"http://www.w3.org/2000/svg\" height=\"24px\"viewBox=\"0 0 24 24\"\n",
              "       width=\"24px\">\n",
              "    <path d=\"M0 0h24v24H0V0z\" fill=\"none\"/>\n",
              "    <path d=\"M18.56 5.44l.94 2.06.94-2.06 2.06-.94-2.06-.94-.94-2.06-.94 2.06-2.06.94zm-11 1L8.5 8.5l.94-2.06 2.06-.94-2.06-.94L8.5 2.5l-.94 2.06-2.06.94zm10 10l.94 2.06.94-2.06 2.06-.94-2.06-.94-.94-2.06-.94 2.06-2.06.94z\"/><path d=\"M17.41 7.96l-1.37-1.37c-.4-.4-.92-.59-1.43-.59-.52 0-1.04.2-1.43.59L10.3 9.45l-7.72 7.72c-.78.78-.78 2.05 0 2.83L4 21.41c.39.39.9.59 1.41.59.51 0 1.02-.2 1.41-.59l7.78-7.78 2.81-2.81c.8-.78.8-2.07 0-2.86zM5.41 20L4 18.59l7.72-7.72 1.47 1.35L5.41 20z\"/>\n",
              "  </svg>\n",
              "      </button>\n",
              "      \n",
              "  <style>\n",
              "    .colab-df-container {\n",
              "      display:flex;\n",
              "      flex-wrap:wrap;\n",
              "      gap: 12px;\n",
              "    }\n",
              "\n",
              "    .colab-df-convert {\n",
              "      background-color: #E8F0FE;\n",
              "      border: none;\n",
              "      border-radius: 50%;\n",
              "      cursor: pointer;\n",
              "      display: none;\n",
              "      fill: #1967D2;\n",
              "      height: 32px;\n",
              "      padding: 0 0 0 0;\n",
              "      width: 32px;\n",
              "    }\n",
              "\n",
              "    .colab-df-convert:hover {\n",
              "      background-color: #E2EBFA;\n",
              "      box-shadow: 0px 1px 2px rgba(60, 64, 67, 0.3), 0px 1px 3px 1px rgba(60, 64, 67, 0.15);\n",
              "      fill: #174EA6;\n",
              "    }\n",
              "\n",
              "    [theme=dark] .colab-df-convert {\n",
              "      background-color: #3B4455;\n",
              "      fill: #D2E3FC;\n",
              "    }\n",
              "\n",
              "    [theme=dark] .colab-df-convert:hover {\n",
              "      background-color: #434B5C;\n",
              "      box-shadow: 0px 1px 3px 1px rgba(0, 0, 0, 0.15);\n",
              "      filter: drop-shadow(0px 1px 2px rgba(0, 0, 0, 0.3));\n",
              "      fill: #FFFFFF;\n",
              "    }\n",
              "  </style>\n",
              "\n",
              "      <script>\n",
              "        const buttonEl =\n",
              "          document.querySelector('#df-493358b6-f6a6-40cb-ab35-b4a2742f47b4 button.colab-df-convert');\n",
              "        buttonEl.style.display =\n",
              "          google.colab.kernel.accessAllowed ? 'block' : 'none';\n",
              "\n",
              "        async function convertToInteractive(key) {\n",
              "          const element = document.querySelector('#df-493358b6-f6a6-40cb-ab35-b4a2742f47b4');\n",
              "          const dataTable =\n",
              "            await google.colab.kernel.invokeFunction('convertToInteractive',\n",
              "                                                     [key], {});\n",
              "          if (!dataTable) return;\n",
              "\n",
              "          const docLinkHtml = 'Like what you see? Visit the ' +\n",
              "            '<a target=\"_blank\" href=https://colab.research.google.com/notebooks/data_table.ipynb>data table notebook</a>'\n",
              "            + ' to learn more about interactive tables.';\n",
              "          element.innerHTML = '';\n",
              "          dataTable['output_type'] = 'display_data';\n",
              "          await google.colab.output.renderOutput(dataTable, element);\n",
              "          const docLink = document.createElement('div');\n",
              "          docLink.innerHTML = docLinkHtml;\n",
              "          element.appendChild(docLink);\n",
              "        }\n",
              "      </script>\n",
              "    </div>\n",
              "  </div>\n",
              "  "
            ]
          },
          "metadata": {},
          "execution_count": 52
        }
      ]
    },
    {
      "cell_type": "code",
      "source": [
        "# 7 points\n",
        "grader.grade(test_case_id = 'test_ucity', answer = (trips_final_df, ucity_df, ucity_query))"
      ],
      "metadata": {
        "id": "I8i6HGFDJPi1",
        "colab": {
          "base_uri": "https://localhost:8080/"
        },
        "outputId": "ad702c0e-92d3-40b1-9fd1-532b3128bde9"
      },
      "execution_count": 53,
      "outputs": [
        {
          "output_type": "stream",
          "name": "stdout",
          "text": [
            "Correct! You earned 5/5 points. You are a star!\n",
            "\n",
            "Your submission has been successfully recorded in the gradebook.\n"
          ]
        }
      ]
    },
    {
      "cell_type": "markdown",
      "source": [
        "#### 2.2.3 Most Popular Stations (6 points)\n",
        "We now want to see which stations from `trips_final_df` are used most frequently. \n",
        "\n",
        "**TODO**: \n",
        "* Find the total number of rides for each `start_station`\n",
        "* Return the top 3 most frequently used stations in a dataframe named `top3_df` where the schema looks like this:\n",
        "\n",
        "> Station | Count_rides\n",
        "> --- | ---\n",
        "\n",
        "**Hint**: Use `pandasql` to do this in ONE query. "
      ],
      "metadata": {
        "id": "aCCk-rrn7JOg"
      }
    },
    {
      "cell_type": "code",
      "source": [
        "#TODO: Return the top three used stations by number of rides\n",
        "top3_query = \"\"\" \n",
        "             SELECT start_station AS Station, COUNT(*) AS Count_rides\n",
        "             FROM trips_final_df\n",
        "             GROUP BY start_station\n",
        "             ORDER BY Count_rides DESC\n",
        "             LIMIT 3\n",
        "             \"\"\"\n",
        "top3_df = ps.sqldf(top3_query, locals())\n",
        "top3_df"
      ],
      "metadata": {
        "id": "ZaZqjaky7PHB",
        "colab": {
          "base_uri": "https://localhost:8080/",
          "height": 143
        },
        "outputId": "a78be773-c79c-477f-f98d-fc36829b3dbe"
      },
      "execution_count": 54,
      "outputs": [
        {
          "output_type": "execute_result",
          "data": {
            "text/plain": [
              "           Station  Count_rides\n",
              "0    17th & Locust          267\n",
              "1  12th & Chestnut          238\n",
              "2    15th & Spruce          233"
            ],
            "text/html": [
              "\n",
              "  <div id=\"df-1bec42cc-ef05-449b-b76d-dadc8a8ba525\">\n",
              "    <div class=\"colab-df-container\">\n",
              "      <div>\n",
              "<style scoped>\n",
              "    .dataframe tbody tr th:only-of-type {\n",
              "        vertical-align: middle;\n",
              "    }\n",
              "\n",
              "    .dataframe tbody tr th {\n",
              "        vertical-align: top;\n",
              "    }\n",
              "\n",
              "    .dataframe thead th {\n",
              "        text-align: right;\n",
              "    }\n",
              "</style>\n",
              "<table border=\"1\" class=\"dataframe\">\n",
              "  <thead>\n",
              "    <tr style=\"text-align: right;\">\n",
              "      <th></th>\n",
              "      <th>Station</th>\n",
              "      <th>Count_rides</th>\n",
              "    </tr>\n",
              "  </thead>\n",
              "  <tbody>\n",
              "    <tr>\n",
              "      <th>0</th>\n",
              "      <td>17th &amp; Locust</td>\n",
              "      <td>267</td>\n",
              "    </tr>\n",
              "    <tr>\n",
              "      <th>1</th>\n",
              "      <td>12th &amp; Chestnut</td>\n",
              "      <td>238</td>\n",
              "    </tr>\n",
              "    <tr>\n",
              "      <th>2</th>\n",
              "      <td>15th &amp; Spruce</td>\n",
              "      <td>233</td>\n",
              "    </tr>\n",
              "  </tbody>\n",
              "</table>\n",
              "</div>\n",
              "      <button class=\"colab-df-convert\" onclick=\"convertToInteractive('df-1bec42cc-ef05-449b-b76d-dadc8a8ba525')\"\n",
              "              title=\"Convert this dataframe to an interactive table.\"\n",
              "              style=\"display:none;\">\n",
              "        \n",
              "  <svg xmlns=\"http://www.w3.org/2000/svg\" height=\"24px\"viewBox=\"0 0 24 24\"\n",
              "       width=\"24px\">\n",
              "    <path d=\"M0 0h24v24H0V0z\" fill=\"none\"/>\n",
              "    <path d=\"M18.56 5.44l.94 2.06.94-2.06 2.06-.94-2.06-.94-.94-2.06-.94 2.06-2.06.94zm-11 1L8.5 8.5l.94-2.06 2.06-.94-2.06-.94L8.5 2.5l-.94 2.06-2.06.94zm10 10l.94 2.06.94-2.06 2.06-.94-2.06-.94-.94-2.06-.94 2.06-2.06.94z\"/><path d=\"M17.41 7.96l-1.37-1.37c-.4-.4-.92-.59-1.43-.59-.52 0-1.04.2-1.43.59L10.3 9.45l-7.72 7.72c-.78.78-.78 2.05 0 2.83L4 21.41c.39.39.9.59 1.41.59.51 0 1.02-.2 1.41-.59l7.78-7.78 2.81-2.81c.8-.78.8-2.07 0-2.86zM5.41 20L4 18.59l7.72-7.72 1.47 1.35L5.41 20z\"/>\n",
              "  </svg>\n",
              "      </button>\n",
              "      \n",
              "  <style>\n",
              "    .colab-df-container {\n",
              "      display:flex;\n",
              "      flex-wrap:wrap;\n",
              "      gap: 12px;\n",
              "    }\n",
              "\n",
              "    .colab-df-convert {\n",
              "      background-color: #E8F0FE;\n",
              "      border: none;\n",
              "      border-radius: 50%;\n",
              "      cursor: pointer;\n",
              "      display: none;\n",
              "      fill: #1967D2;\n",
              "      height: 32px;\n",
              "      padding: 0 0 0 0;\n",
              "      width: 32px;\n",
              "    }\n",
              "\n",
              "    .colab-df-convert:hover {\n",
              "      background-color: #E2EBFA;\n",
              "      box-shadow: 0px 1px 2px rgba(60, 64, 67, 0.3), 0px 1px 3px 1px rgba(60, 64, 67, 0.15);\n",
              "      fill: #174EA6;\n",
              "    }\n",
              "\n",
              "    [theme=dark] .colab-df-convert {\n",
              "      background-color: #3B4455;\n",
              "      fill: #D2E3FC;\n",
              "    }\n",
              "\n",
              "    [theme=dark] .colab-df-convert:hover {\n",
              "      background-color: #434B5C;\n",
              "      box-shadow: 0px 1px 3px 1px rgba(0, 0, 0, 0.15);\n",
              "      filter: drop-shadow(0px 1px 2px rgba(0, 0, 0, 0.3));\n",
              "      fill: #FFFFFF;\n",
              "    }\n",
              "  </style>\n",
              "\n",
              "      <script>\n",
              "        const buttonEl =\n",
              "          document.querySelector('#df-1bec42cc-ef05-449b-b76d-dadc8a8ba525 button.colab-df-convert');\n",
              "        buttonEl.style.display =\n",
              "          google.colab.kernel.accessAllowed ? 'block' : 'none';\n",
              "\n",
              "        async function convertToInteractive(key) {\n",
              "          const element = document.querySelector('#df-1bec42cc-ef05-449b-b76d-dadc8a8ba525');\n",
              "          const dataTable =\n",
              "            await google.colab.kernel.invokeFunction('convertToInteractive',\n",
              "                                                     [key], {});\n",
              "          if (!dataTable) return;\n",
              "\n",
              "          const docLinkHtml = 'Like what you see? Visit the ' +\n",
              "            '<a target=\"_blank\" href=https://colab.research.google.com/notebooks/data_table.ipynb>data table notebook</a>'\n",
              "            + ' to learn more about interactive tables.';\n",
              "          element.innerHTML = '';\n",
              "          dataTable['output_type'] = 'display_data';\n",
              "          await google.colab.output.renderOutput(dataTable, element);\n",
              "          const docLink = document.createElement('div');\n",
              "          docLink.innerHTML = docLinkHtml;\n",
              "          element.appendChild(docLink);\n",
              "        }\n",
              "      </script>\n",
              "    </div>\n",
              "  </div>\n",
              "  "
            ]
          },
          "metadata": {},
          "execution_count": 54
        }
      ]
    },
    {
      "cell_type": "code",
      "source": [
        "# 6 points\n",
        "grader.grade(test_case_id = 'test_freq_stat', answer = (top3_query,top3_df))"
      ],
      "metadata": {
        "id": "nCcj1xdr7O2H",
        "colab": {
          "base_uri": "https://localhost:8080/"
        },
        "outputId": "85b72da1-0af7-4123-fba0-14dd3e211bc0"
      },
      "execution_count": 55,
      "outputs": [
        {
          "output_type": "stream",
          "name": "stdout",
          "text": [
            "Correct! You earned 6/6 points. You are a star!\n",
            "\n",
            "Your submission has been successfully recorded in the gradebook.\n"
          ]
        }
      ]
    },
    {
      "cell_type": "markdown",
      "source": [
        "### 2.3 Determining the Distance [8 points]\n",
        "\n",
        "We are going to be using a new package called geopy to calculate the distance between the start and end stations for a particular ride. \n",
        "\n",
        "`geopy` has been imported as `gp` above, and the `.geodesic()` gives you the distance between two sets of coordinates. We have the coordinates for the start_station and end_station for each ride. \n",
        "\n",
        "**TO-DO**: \n",
        "* For the trip with `'trip_id': 540422637`, find the latitude and longitudes of both the start and end stations.\n",
        "* Save the latitude and longitude as **tuples** into variables `coords_1` and `coords_2` for the `'start_station'` and `'end_station'` respectively.\n",
        "  - Do **NOT** hard code the values: you will get a **ZERO** for the question when we manually review for this!\n",
        "* Use geopy to calculate the distance **in miles** between the two stations and save it to the variable final_dist. "
      ],
      "metadata": {
        "id": "2oUvTghy7Pdw"
      }
    },
    {
      "cell_type": "code",
      "source": [
        "# TO-DO: Use pandasql to obtain the latitude and longitude of the start and end stations for ride ID 540422637. \n",
        "latlng_query = \"\"\"  \n",
        "               SELECT start_lat, start_lon, end_lat, end_lon\n",
        "               FROM trips_final_df\n",
        "               WHERE trip_id = 540422637\n",
        "               \"\"\"\n",
        "\n",
        "latlng_df = ps.sqldf(latlng_query, locals())\n",
        "latlng_df"
      ],
      "metadata": {
        "id": "EpVOwJtp7aWS",
        "colab": {
          "base_uri": "https://localhost:8080/",
          "height": 81
        },
        "outputId": "9fb7fa12-b822-42f2-d175-5b60f8202a49"
      },
      "execution_count": 56,
      "outputs": [
        {
          "output_type": "execute_result",
          "data": {
            "text/plain": [
              "   start_lat  start_lon    end_lat    end_lon\n",
              "0  39.947109 -75.166183  39.927769 -75.151031"
            ],
            "text/html": [
              "\n",
              "  <div id=\"df-b36c9805-08c3-4d78-8580-7096c02154b3\">\n",
              "    <div class=\"colab-df-container\">\n",
              "      <div>\n",
              "<style scoped>\n",
              "    .dataframe tbody tr th:only-of-type {\n",
              "        vertical-align: middle;\n",
              "    }\n",
              "\n",
              "    .dataframe tbody tr th {\n",
              "        vertical-align: top;\n",
              "    }\n",
              "\n",
              "    .dataframe thead th {\n",
              "        text-align: right;\n",
              "    }\n",
              "</style>\n",
              "<table border=\"1\" class=\"dataframe\">\n",
              "  <thead>\n",
              "    <tr style=\"text-align: right;\">\n",
              "      <th></th>\n",
              "      <th>start_lat</th>\n",
              "      <th>start_lon</th>\n",
              "      <th>end_lat</th>\n",
              "      <th>end_lon</th>\n",
              "    </tr>\n",
              "  </thead>\n",
              "  <tbody>\n",
              "    <tr>\n",
              "      <th>0</th>\n",
              "      <td>39.947109</td>\n",
              "      <td>-75.166183</td>\n",
              "      <td>39.927769</td>\n",
              "      <td>-75.151031</td>\n",
              "    </tr>\n",
              "  </tbody>\n",
              "</table>\n",
              "</div>\n",
              "      <button class=\"colab-df-convert\" onclick=\"convertToInteractive('df-b36c9805-08c3-4d78-8580-7096c02154b3')\"\n",
              "              title=\"Convert this dataframe to an interactive table.\"\n",
              "              style=\"display:none;\">\n",
              "        \n",
              "  <svg xmlns=\"http://www.w3.org/2000/svg\" height=\"24px\"viewBox=\"0 0 24 24\"\n",
              "       width=\"24px\">\n",
              "    <path d=\"M0 0h24v24H0V0z\" fill=\"none\"/>\n",
              "    <path d=\"M18.56 5.44l.94 2.06.94-2.06 2.06-.94-2.06-.94-.94-2.06-.94 2.06-2.06.94zm-11 1L8.5 8.5l.94-2.06 2.06-.94-2.06-.94L8.5 2.5l-.94 2.06-2.06.94zm10 10l.94 2.06.94-2.06 2.06-.94-2.06-.94-.94-2.06-.94 2.06-2.06.94z\"/><path d=\"M17.41 7.96l-1.37-1.37c-.4-.4-.92-.59-1.43-.59-.52 0-1.04.2-1.43.59L10.3 9.45l-7.72 7.72c-.78.78-.78 2.05 0 2.83L4 21.41c.39.39.9.59 1.41.59.51 0 1.02-.2 1.41-.59l7.78-7.78 2.81-2.81c.8-.78.8-2.07 0-2.86zM5.41 20L4 18.59l7.72-7.72 1.47 1.35L5.41 20z\"/>\n",
              "  </svg>\n",
              "      </button>\n",
              "      \n",
              "  <style>\n",
              "    .colab-df-container {\n",
              "      display:flex;\n",
              "      flex-wrap:wrap;\n",
              "      gap: 12px;\n",
              "    }\n",
              "\n",
              "    .colab-df-convert {\n",
              "      background-color: #E8F0FE;\n",
              "      border: none;\n",
              "      border-radius: 50%;\n",
              "      cursor: pointer;\n",
              "      display: none;\n",
              "      fill: #1967D2;\n",
              "      height: 32px;\n",
              "      padding: 0 0 0 0;\n",
              "      width: 32px;\n",
              "    }\n",
              "\n",
              "    .colab-df-convert:hover {\n",
              "      background-color: #E2EBFA;\n",
              "      box-shadow: 0px 1px 2px rgba(60, 64, 67, 0.3), 0px 1px 3px 1px rgba(60, 64, 67, 0.15);\n",
              "      fill: #174EA6;\n",
              "    }\n",
              "\n",
              "    [theme=dark] .colab-df-convert {\n",
              "      background-color: #3B4455;\n",
              "      fill: #D2E3FC;\n",
              "    }\n",
              "\n",
              "    [theme=dark] .colab-df-convert:hover {\n",
              "      background-color: #434B5C;\n",
              "      box-shadow: 0px 1px 3px 1px rgba(0, 0, 0, 0.15);\n",
              "      filter: drop-shadow(0px 1px 2px rgba(0, 0, 0, 0.3));\n",
              "      fill: #FFFFFF;\n",
              "    }\n",
              "  </style>\n",
              "\n",
              "      <script>\n",
              "        const buttonEl =\n",
              "          document.querySelector('#df-b36c9805-08c3-4d78-8580-7096c02154b3 button.colab-df-convert');\n",
              "        buttonEl.style.display =\n",
              "          google.colab.kernel.accessAllowed ? 'block' : 'none';\n",
              "\n",
              "        async function convertToInteractive(key) {\n",
              "          const element = document.querySelector('#df-b36c9805-08c3-4d78-8580-7096c02154b3');\n",
              "          const dataTable =\n",
              "            await google.colab.kernel.invokeFunction('convertToInteractive',\n",
              "                                                     [key], {});\n",
              "          if (!dataTable) return;\n",
              "\n",
              "          const docLinkHtml = 'Like what you see? Visit the ' +\n",
              "            '<a target=\"_blank\" href=https://colab.research.google.com/notebooks/data_table.ipynb>data table notebook</a>'\n",
              "            + ' to learn more about interactive tables.';\n",
              "          element.innerHTML = '';\n",
              "          dataTable['output_type'] = 'display_data';\n",
              "          await google.colab.output.renderOutput(dataTable, element);\n",
              "          const docLink = document.createElement('div');\n",
              "          docLink.innerHTML = docLinkHtml;\n",
              "          element.appendChild(docLink);\n",
              "        }\n",
              "      </script>\n",
              "    </div>\n",
              "  </div>\n",
              "  "
            ]
          },
          "metadata": {},
          "execution_count": 56
        }
      ]
    },
    {
      "cell_type": "code",
      "source": [
        "# TO-DO : Fill in the coordinates using the dataframe that has the resultant coordinates\n",
        "coords_1 = (latlng_df.loc[0, \"start_lat\"], latlng_df.loc[0, \"start_lon\"])\n",
        "coords_2 = (latlng_df.loc[0, \"end_lat\"], latlng_df.loc[0, \"end_lon\"])\n",
        "print(coords_1, coords_2)"
      ],
      "metadata": {
        "id": "kIZfNmVuMLEk",
        "colab": {
          "base_uri": "https://localhost:8080/"
        },
        "outputId": "d5933944-1341-4c17-c2de-412ffa9c0e4e"
      },
      "execution_count": 57,
      "outputs": [
        {
          "output_type": "stream",
          "name": "stdout",
          "text": [
            "(39.947109, -75.166183) (39.927769, -75.151031)\n"
          ]
        }
      ]
    },
    {
      "cell_type": "code",
      "source": [
        "# TO-DO: Use geopy and its appropriate functions to calculate the distance between the two stations \n",
        "final_dist = gp.geodesic(coords_1, coords_2).miles\n",
        "final_dist"
      ],
      "metadata": {
        "id": "KpR7DKPBMLmL",
        "colab": {
          "base_uri": "https://localhost:8080/"
        },
        "outputId": "9ae35d60-7e2a-48c3-82c5-f650b0f58acc"
      },
      "execution_count": 58,
      "outputs": [
        {
          "output_type": "execute_result",
          "data": {
            "text/plain": [
              "1.5582014020414594"
            ]
          },
          "metadata": {},
          "execution_count": 58
        }
      ]
    },
    {
      "cell_type": "code",
      "source": [
        "# 8 points\n",
        "grader.grade(test_case_id = 'test_geodist', answer = (coords_1, coords_2, final_dist, latlng_query))"
      ],
      "metadata": {
        "id": "DIzg0Xkn7Z-7",
        "colab": {
          "base_uri": "https://localhost:8080/"
        },
        "outputId": "ff1c51fb-cc67-4391-a745-2a5da1b8ca22"
      },
      "execution_count": 59,
      "outputs": [
        {
          "output_type": "stream",
          "name": "stdout",
          "text": [
            "Correct! You earned 8/8 points. You are a star!\n",
            "\n",
            "Your submission has been successfully recorded in the gradebook.\n"
          ]
        }
      ]
    },
    {
      "cell_type": "markdown",
      "source": [
        "### 2.4 Destinations from Amtrak Station [7 points]\n",
        "As you might imagine, Amtrak Station is a very important location for Indego, as there is a lot of people that either want to get there for a train ride or are exiting from there to visit Philadelphia. Thus, we want to learn about where people tend to go once they leave Amtrak Station.\n",
        "\n",
        "You will first create this dataset using Pandas, and then SQL (pandasql)\n",
        "\n",
        "**TO-DO:**\n",
        "- Using `trips_final_df`, find the top 5 most common end stations where Amtrak Station was the start_station where the duration is **at least 15 minutes**\n",
        "  - Do **NOT** include Amtrak as an end station! \n",
        "  - Note that duration is already measured in minutes, and that Amtrak's station_name is _\"Amtrak 30th Street Station\"_\n",
        "- For this Pandas section, name the final dataframe `end_station_df`.\n",
        "- Ensure that `end_station_df` is first sorted by `Count` in descending order, and then sorted by `end_station` in ascending order.\n",
        "\n",
        "**Final Schema (make sure you have the same column names and order!)**:\n",
        "> end_station | Count\n",
        "> --- | ---"
      ],
      "metadata": {
        "id": "sQQ1CzdiS3yI"
      }
    },
    {
      "cell_type": "code",
      "source": [
        "# TODO: Get end_station_df using Pandas\n",
        "end_station_df = trips_final_df[trips_final_df[\"start_station\"] == \"Amtrak 30th Street Station\"]\n",
        "end_station_df = end_station_df[end_station_df[\"end_station\"] != \"Amtrak 30th Street Station\"]\n",
        "end_station_df = end_station_df[end_station_df[\"duration\"] >= 15][[\"trip_id\", \"end_station\"]].groupby(\"end_station\").count().rename(columns={\"trip_id\": \"Count\"})\n",
        "end_station_df.reset_index(inplace=True)\n",
        "end_station_df = end_station_df.sort_values([\"Count\", \"end_station\"], ascending=[False, True])[:5]\n",
        "end_station_df"
      ],
      "metadata": {
        "id": "VGAB9ue9S3yK",
        "colab": {
          "base_uri": "https://localhost:8080/",
          "height": 206
        },
        "outputId": "653ac088-83d3-46af-b165-ba5e8cc6c212"
      },
      "execution_count": 60,
      "outputs": [
        {
          "output_type": "execute_result",
          "data": {
            "text/plain": [
              "                 end_station  Count\n",
              "18          Broad & Chestnut      3\n",
              "25  Schuylkill Banks Pergola      3\n",
              "1          12th & Callowhill      2\n",
              "3             12th & Filbert      2\n",
              "5          16th & Montgomery      2"
            ],
            "text/html": [
              "\n",
              "  <div id=\"df-556c14df-4cb0-4bda-b54d-1584886fe648\">\n",
              "    <div class=\"colab-df-container\">\n",
              "      <div>\n",
              "<style scoped>\n",
              "    .dataframe tbody tr th:only-of-type {\n",
              "        vertical-align: middle;\n",
              "    }\n",
              "\n",
              "    .dataframe tbody tr th {\n",
              "        vertical-align: top;\n",
              "    }\n",
              "\n",
              "    .dataframe thead th {\n",
              "        text-align: right;\n",
              "    }\n",
              "</style>\n",
              "<table border=\"1\" class=\"dataframe\">\n",
              "  <thead>\n",
              "    <tr style=\"text-align: right;\">\n",
              "      <th></th>\n",
              "      <th>end_station</th>\n",
              "      <th>Count</th>\n",
              "    </tr>\n",
              "  </thead>\n",
              "  <tbody>\n",
              "    <tr>\n",
              "      <th>18</th>\n",
              "      <td>Broad &amp; Chestnut</td>\n",
              "      <td>3</td>\n",
              "    </tr>\n",
              "    <tr>\n",
              "      <th>25</th>\n",
              "      <td>Schuylkill Banks Pergola</td>\n",
              "      <td>3</td>\n",
              "    </tr>\n",
              "    <tr>\n",
              "      <th>1</th>\n",
              "      <td>12th &amp; Callowhill</td>\n",
              "      <td>2</td>\n",
              "    </tr>\n",
              "    <tr>\n",
              "      <th>3</th>\n",
              "      <td>12th &amp; Filbert</td>\n",
              "      <td>2</td>\n",
              "    </tr>\n",
              "    <tr>\n",
              "      <th>5</th>\n",
              "      <td>16th &amp; Montgomery</td>\n",
              "      <td>2</td>\n",
              "    </tr>\n",
              "  </tbody>\n",
              "</table>\n",
              "</div>\n",
              "      <button class=\"colab-df-convert\" onclick=\"convertToInteractive('df-556c14df-4cb0-4bda-b54d-1584886fe648')\"\n",
              "              title=\"Convert this dataframe to an interactive table.\"\n",
              "              style=\"display:none;\">\n",
              "        \n",
              "  <svg xmlns=\"http://www.w3.org/2000/svg\" height=\"24px\"viewBox=\"0 0 24 24\"\n",
              "       width=\"24px\">\n",
              "    <path d=\"M0 0h24v24H0V0z\" fill=\"none\"/>\n",
              "    <path d=\"M18.56 5.44l.94 2.06.94-2.06 2.06-.94-2.06-.94-.94-2.06-.94 2.06-2.06.94zm-11 1L8.5 8.5l.94-2.06 2.06-.94-2.06-.94L8.5 2.5l-.94 2.06-2.06.94zm10 10l.94 2.06.94-2.06 2.06-.94-2.06-.94-.94-2.06-.94 2.06-2.06.94z\"/><path d=\"M17.41 7.96l-1.37-1.37c-.4-.4-.92-.59-1.43-.59-.52 0-1.04.2-1.43.59L10.3 9.45l-7.72 7.72c-.78.78-.78 2.05 0 2.83L4 21.41c.39.39.9.59 1.41.59.51 0 1.02-.2 1.41-.59l7.78-7.78 2.81-2.81c.8-.78.8-2.07 0-2.86zM5.41 20L4 18.59l7.72-7.72 1.47 1.35L5.41 20z\"/>\n",
              "  </svg>\n",
              "      </button>\n",
              "      \n",
              "  <style>\n",
              "    .colab-df-container {\n",
              "      display:flex;\n",
              "      flex-wrap:wrap;\n",
              "      gap: 12px;\n",
              "    }\n",
              "\n",
              "    .colab-df-convert {\n",
              "      background-color: #E8F0FE;\n",
              "      border: none;\n",
              "      border-radius: 50%;\n",
              "      cursor: pointer;\n",
              "      display: none;\n",
              "      fill: #1967D2;\n",
              "      height: 32px;\n",
              "      padding: 0 0 0 0;\n",
              "      width: 32px;\n",
              "    }\n",
              "\n",
              "    .colab-df-convert:hover {\n",
              "      background-color: #E2EBFA;\n",
              "      box-shadow: 0px 1px 2px rgba(60, 64, 67, 0.3), 0px 1px 3px 1px rgba(60, 64, 67, 0.15);\n",
              "      fill: #174EA6;\n",
              "    }\n",
              "\n",
              "    [theme=dark] .colab-df-convert {\n",
              "      background-color: #3B4455;\n",
              "      fill: #D2E3FC;\n",
              "    }\n",
              "\n",
              "    [theme=dark] .colab-df-convert:hover {\n",
              "      background-color: #434B5C;\n",
              "      box-shadow: 0px 1px 3px 1px rgba(0, 0, 0, 0.15);\n",
              "      filter: drop-shadow(0px 1px 2px rgba(0, 0, 0, 0.3));\n",
              "      fill: #FFFFFF;\n",
              "    }\n",
              "  </style>\n",
              "\n",
              "      <script>\n",
              "        const buttonEl =\n",
              "          document.querySelector('#df-556c14df-4cb0-4bda-b54d-1584886fe648 button.colab-df-convert');\n",
              "        buttonEl.style.display =\n",
              "          google.colab.kernel.accessAllowed ? 'block' : 'none';\n",
              "\n",
              "        async function convertToInteractive(key) {\n",
              "          const element = document.querySelector('#df-556c14df-4cb0-4bda-b54d-1584886fe648');\n",
              "          const dataTable =\n",
              "            await google.colab.kernel.invokeFunction('convertToInteractive',\n",
              "                                                     [key], {});\n",
              "          if (!dataTable) return;\n",
              "\n",
              "          const docLinkHtml = 'Like what you see? Visit the ' +\n",
              "            '<a target=\"_blank\" href=https://colab.research.google.com/notebooks/data_table.ipynb>data table notebook</a>'\n",
              "            + ' to learn more about interactive tables.';\n",
              "          element.innerHTML = '';\n",
              "          dataTable['output_type'] = 'display_data';\n",
              "          await google.colab.output.renderOutput(dataTable, element);\n",
              "          const docLink = document.createElement('div');\n",
              "          docLink.innerHTML = docLinkHtml;\n",
              "          element.appendChild(docLink);\n",
              "        }\n",
              "      </script>\n",
              "    </div>\n",
              "  </div>\n",
              "  "
            ]
          },
          "metadata": {},
          "execution_count": 60
        }
      ]
    },
    {
      "cell_type": "markdown",
      "source": [
        "**TO-DO:**\n",
        "- Repeat the process but now using pandasql. Please make sure to use `end_station_query` to save your SQL code as this is what will be graded.\n",
        "- Name the final dataframe `sql_end_station_df`\n",
        "- Double-check that this looks the exact same as `end_station_df` from the Pandas section above.\n",
        "\n",
        "**Final Schema:**\n",
        "> end_station | Count\n",
        "> --- | ---"
      ],
      "metadata": {
        "id": "4XTfx3f_S3yL"
      }
    },
    {
      "cell_type": "code",
      "source": [
        "# TODO: Get the same exact query, but only using PandaSQL\n",
        "\n",
        "end_station_query = \"\"\"\n",
        "                    SELECT end_station, COUNT(*) AS Count\n",
        "                    FROM trips_final_df\n",
        "                    WHERE start_station == \"Amtrak 30th Street Station\" and end_station != \"Amtrak 30th Street Station\" and duration >= 15\n",
        "                    GROUP BY end_station\n",
        "                    ORDER BY Count DESC, end_station ASC\n",
        "                    LIMIT 5\n",
        "                    \"\"\"\n",
        "\n",
        "sql_end_station_df = ps.sqldf(end_station_query, locals())\n",
        "sql_end_station_df"
      ],
      "metadata": {
        "id": "wArHcWrvS3yM",
        "colab": {
          "base_uri": "https://localhost:8080/",
          "height": 206
        },
        "outputId": "6320659d-e313-4e7a-f63d-95241d96fdf4"
      },
      "execution_count": 61,
      "outputs": [
        {
          "output_type": "execute_result",
          "data": {
            "text/plain": [
              "                end_station  Count\n",
              "0          Broad & Chestnut      3\n",
              "1  Schuylkill Banks Pergola      3\n",
              "2         12th & Callowhill      2\n",
              "3            12th & Filbert      2\n",
              "4         16th & Montgomery      2"
            ],
            "text/html": [
              "\n",
              "  <div id=\"df-93515893-77c5-41bb-a22c-c0361fb81256\">\n",
              "    <div class=\"colab-df-container\">\n",
              "      <div>\n",
              "<style scoped>\n",
              "    .dataframe tbody tr th:only-of-type {\n",
              "        vertical-align: middle;\n",
              "    }\n",
              "\n",
              "    .dataframe tbody tr th {\n",
              "        vertical-align: top;\n",
              "    }\n",
              "\n",
              "    .dataframe thead th {\n",
              "        text-align: right;\n",
              "    }\n",
              "</style>\n",
              "<table border=\"1\" class=\"dataframe\">\n",
              "  <thead>\n",
              "    <tr style=\"text-align: right;\">\n",
              "      <th></th>\n",
              "      <th>end_station</th>\n",
              "      <th>Count</th>\n",
              "    </tr>\n",
              "  </thead>\n",
              "  <tbody>\n",
              "    <tr>\n",
              "      <th>0</th>\n",
              "      <td>Broad &amp; Chestnut</td>\n",
              "      <td>3</td>\n",
              "    </tr>\n",
              "    <tr>\n",
              "      <th>1</th>\n",
              "      <td>Schuylkill Banks Pergola</td>\n",
              "      <td>3</td>\n",
              "    </tr>\n",
              "    <tr>\n",
              "      <th>2</th>\n",
              "      <td>12th &amp; Callowhill</td>\n",
              "      <td>2</td>\n",
              "    </tr>\n",
              "    <tr>\n",
              "      <th>3</th>\n",
              "      <td>12th &amp; Filbert</td>\n",
              "      <td>2</td>\n",
              "    </tr>\n",
              "    <tr>\n",
              "      <th>4</th>\n",
              "      <td>16th &amp; Montgomery</td>\n",
              "      <td>2</td>\n",
              "    </tr>\n",
              "  </tbody>\n",
              "</table>\n",
              "</div>\n",
              "      <button class=\"colab-df-convert\" onclick=\"convertToInteractive('df-93515893-77c5-41bb-a22c-c0361fb81256')\"\n",
              "              title=\"Convert this dataframe to an interactive table.\"\n",
              "              style=\"display:none;\">\n",
              "        \n",
              "  <svg xmlns=\"http://www.w3.org/2000/svg\" height=\"24px\"viewBox=\"0 0 24 24\"\n",
              "       width=\"24px\">\n",
              "    <path d=\"M0 0h24v24H0V0z\" fill=\"none\"/>\n",
              "    <path d=\"M18.56 5.44l.94 2.06.94-2.06 2.06-.94-2.06-.94-.94-2.06-.94 2.06-2.06.94zm-11 1L8.5 8.5l.94-2.06 2.06-.94-2.06-.94L8.5 2.5l-.94 2.06-2.06.94zm10 10l.94 2.06.94-2.06 2.06-.94-2.06-.94-.94-2.06-.94 2.06-2.06.94z\"/><path d=\"M17.41 7.96l-1.37-1.37c-.4-.4-.92-.59-1.43-.59-.52 0-1.04.2-1.43.59L10.3 9.45l-7.72 7.72c-.78.78-.78 2.05 0 2.83L4 21.41c.39.39.9.59 1.41.59.51 0 1.02-.2 1.41-.59l7.78-7.78 2.81-2.81c.8-.78.8-2.07 0-2.86zM5.41 20L4 18.59l7.72-7.72 1.47 1.35L5.41 20z\"/>\n",
              "  </svg>\n",
              "      </button>\n",
              "      \n",
              "  <style>\n",
              "    .colab-df-container {\n",
              "      display:flex;\n",
              "      flex-wrap:wrap;\n",
              "      gap: 12px;\n",
              "    }\n",
              "\n",
              "    .colab-df-convert {\n",
              "      background-color: #E8F0FE;\n",
              "      border: none;\n",
              "      border-radius: 50%;\n",
              "      cursor: pointer;\n",
              "      display: none;\n",
              "      fill: #1967D2;\n",
              "      height: 32px;\n",
              "      padding: 0 0 0 0;\n",
              "      width: 32px;\n",
              "    }\n",
              "\n",
              "    .colab-df-convert:hover {\n",
              "      background-color: #E2EBFA;\n",
              "      box-shadow: 0px 1px 2px rgba(60, 64, 67, 0.3), 0px 1px 3px 1px rgba(60, 64, 67, 0.15);\n",
              "      fill: #174EA6;\n",
              "    }\n",
              "\n",
              "    [theme=dark] .colab-df-convert {\n",
              "      background-color: #3B4455;\n",
              "      fill: #D2E3FC;\n",
              "    }\n",
              "\n",
              "    [theme=dark] .colab-df-convert:hover {\n",
              "      background-color: #434B5C;\n",
              "      box-shadow: 0px 1px 3px 1px rgba(0, 0, 0, 0.15);\n",
              "      filter: drop-shadow(0px 1px 2px rgba(0, 0, 0, 0.3));\n",
              "      fill: #FFFFFF;\n",
              "    }\n",
              "  </style>\n",
              "\n",
              "      <script>\n",
              "        const buttonEl =\n",
              "          document.querySelector('#df-93515893-77c5-41bb-a22c-c0361fb81256 button.colab-df-convert');\n",
              "        buttonEl.style.display =\n",
              "          google.colab.kernel.accessAllowed ? 'block' : 'none';\n",
              "\n",
              "        async function convertToInteractive(key) {\n",
              "          const element = document.querySelector('#df-93515893-77c5-41bb-a22c-c0361fb81256');\n",
              "          const dataTable =\n",
              "            await google.colab.kernel.invokeFunction('convertToInteractive',\n",
              "                                                     [key], {});\n",
              "          if (!dataTable) return;\n",
              "\n",
              "          const docLinkHtml = 'Like what you see? Visit the ' +\n",
              "            '<a target=\"_blank\" href=https://colab.research.google.com/notebooks/data_table.ipynb>data table notebook</a>'\n",
              "            + ' to learn more about interactive tables.';\n",
              "          element.innerHTML = '';\n",
              "          dataTable['output_type'] = 'display_data';\n",
              "          await google.colab.output.renderOutput(dataTable, element);\n",
              "          const docLink = document.createElement('div');\n",
              "          docLink.innerHTML = docLinkHtml;\n",
              "          element.appendChild(docLink);\n",
              "        }\n",
              "      </script>\n",
              "    </div>\n",
              "  </div>\n",
              "  "
            ]
          },
          "metadata": {},
          "execution_count": 61
        }
      ]
    },
    {
      "cell_type": "code",
      "source": [
        "# 7 points\n",
        "grader.grade(test_case_id = 'test_amtrak', answer = (end_station_df, sql_end_station_df, end_station_query))"
      ],
      "metadata": {
        "id": "uCoROMVlS3yM",
        "colab": {
          "base_uri": "https://localhost:8080/"
        },
        "outputId": "23b41ea2-fef7-42f5-c330-42562c661897"
      },
      "execution_count": 62,
      "outputs": [
        {
          "output_type": "stream",
          "name": "stdout",
          "text": [
            "Correct! You earned 7/7 points. You are a star!\n",
            "\n",
            "Your submission has been successfully recorded in the gradebook.\n"
          ]
        }
      ]
    },
    {
      "cell_type": "markdown",
      "source": [
        "### 2.5 Weather and Trip Data [15 points]"
      ],
      "metadata": {
        "id": "0OIIHzThS3yM"
      }
    },
    {
      "cell_type": "markdown",
      "source": [
        "#### 2.5.1 Trips and Weather Tables [2 points]\n",
        "\n",
        "We will begin by slightly modifying `trips_final_df` and `weather_cleaned_df`. We eventually want to merge using the `date` column from `weather_cleaned_df` and the `start_time` column from `trips_final_df`. You will note that these two columns do not contain the same information, since `date` does not contain the time.\n",
        "\n",
        "**We are not concerned about the time, it is up to you to find the best way to alter the `start_time` column to keep just the date and thus make merging possible**.\n",
        "\n",
        "We strongly recommend creating a new `date` column in `trips_final_df` containing only the day information, as it will make merging the dataframes much easier.\n",
        "\n",
        "**TO-DO:** \\\\\n",
        "- `weather_merge_df`, containing columns `date`, `actual_max_temp` and `actual_precipitation`\n",
        "- `trips_merge_df`, containing columns `date`,  `bike_type`, `start_station` and `trip_id`"
      ],
      "metadata": {
        "id": "FMW2nhXPS3yN"
      }
    },
    {
      "cell_type": "code",
      "source": [
        "# TODO: Create weather_merge_df and trips_merge_df\n",
        "trips_final_df[\"date\"] = trips_final_df[\"start_time\"].apply(lambda x: x.split()[0]).astype(datetime64)\n",
        "weather_merge_df = weather_cleaned_df[[\"date\", \"actual_max_temp\", \"actual_precipitation\"]]\n",
        "trips_merge_df = trips_final_df[[\"date\", \"bike_type\", \"start_station\", \"trip_id\"]]"
      ],
      "metadata": {
        "id": "owKCJszYS3yO"
      },
      "execution_count": 63,
      "outputs": []
    },
    {
      "cell_type": "code",
      "source": [
        "# 2 points\n",
        "grader.grade(test_case_id = 'test_merge_df', answer = (weather_merge_df, trips_merge_df))"
      ],
      "metadata": {
        "id": "IYjUTfDQS3yO",
        "colab": {
          "base_uri": "https://localhost:8080/"
        },
        "outputId": "4691101e-d8c0-44a0-8009-ffb64076599d"
      },
      "execution_count": 64,
      "outputs": [
        {
          "output_type": "stream",
          "name": "stdout",
          "text": [
            "Correct! You earned 2/2 points. You are a star!\n",
            "\n",
            "Your submission has been successfully recorded in the gradebook.\n"
          ]
        }
      ]
    },
    {
      "cell_type": "markdown",
      "source": [
        "#### 2.5.2 Standard Riding on Spruce (SQL) [3 points]\n",
        "\n",
        "**TO-DO:**\n",
        "- Using `trips_merge_df` and `weather_merge_df`, *for each actual max temperature*, find the percentage of rides that were of **standard** bike type on trips where the start_station included **Spruce** in it\n",
        "  - e.g. \"13th & Spruce\" OR \"15th & Spruce\" are 2 potential start_stations that would be included\n",
        "- Filter so that we only have entries where the **average actual_precipitation** is **less than** 0.3\n",
        "\n",
        "*   Cast your percentages to integers and name the column **Standard_Percentage**\n",
        "\n",
        "**Final Schema (make sure you have the same column names and order!)**:\n",
        ">Temperature | Standard_Percentage |\n",
        ">--- | --- |"
      ],
      "metadata": {
        "id": "NystCsO9EuIh"
      }
    },
    {
      "cell_type": "code",
      "source": [
        "# TO-DO: Create percentage_df (use PandaSQL)\n",
        "percentage_query = '''\n",
        "                   SELECT actual_max_temp AS Temperature, SUM(bike_type == \"standard\") * 100 / COUNT(*) AS Standard_Percentage\n",
        "                   FROM weather_merge_df AS w\n",
        "                     INNER JOIN trips_merge_df AS t\n",
        "                       ON w.date = t.date\n",
        "                   WHERE start_station like \"%Spruce%\"\n",
        "                   GROUP BY actual_max_temp\n",
        "                   HAVING AVG(actual_precipitation) < 0.3\n",
        "                   '''\n",
        "\n",
        "percentage_df = ps.sqldf(percentage_query, locals())\n",
        "percentage_df"
      ],
      "metadata": {
        "id": "7jbzplMKS3yP",
        "colab": {
          "base_uri": "https://localhost:8080/",
          "height": 175
        },
        "outputId": "c3816475-903e-4398-c555-82b3bf575604"
      },
      "execution_count": 67,
      "outputs": [
        {
          "output_type": "execute_result",
          "data": {
            "text/plain": [
              "   Temperature  Standard_Percentage\n",
              "0           61                   49\n",
              "1           70                   51\n",
              "2           72                   56\n",
              "3           73                   58"
            ],
            "text/html": [
              "\n",
              "  <div id=\"df-90f9073a-c9f0-4778-9077-36098764ab27\">\n",
              "    <div class=\"colab-df-container\">\n",
              "      <div>\n",
              "<style scoped>\n",
              "    .dataframe tbody tr th:only-of-type {\n",
              "        vertical-align: middle;\n",
              "    }\n",
              "\n",
              "    .dataframe tbody tr th {\n",
              "        vertical-align: top;\n",
              "    }\n",
              "\n",
              "    .dataframe thead th {\n",
              "        text-align: right;\n",
              "    }\n",
              "</style>\n",
              "<table border=\"1\" class=\"dataframe\">\n",
              "  <thead>\n",
              "    <tr style=\"text-align: right;\">\n",
              "      <th></th>\n",
              "      <th>Temperature</th>\n",
              "      <th>Standard_Percentage</th>\n",
              "    </tr>\n",
              "  </thead>\n",
              "  <tbody>\n",
              "    <tr>\n",
              "      <th>0</th>\n",
              "      <td>61</td>\n",
              "      <td>49</td>\n",
              "    </tr>\n",
              "    <tr>\n",
              "      <th>1</th>\n",
              "      <td>70</td>\n",
              "      <td>51</td>\n",
              "    </tr>\n",
              "    <tr>\n",
              "      <th>2</th>\n",
              "      <td>72</td>\n",
              "      <td>56</td>\n",
              "    </tr>\n",
              "    <tr>\n",
              "      <th>3</th>\n",
              "      <td>73</td>\n",
              "      <td>58</td>\n",
              "    </tr>\n",
              "  </tbody>\n",
              "</table>\n",
              "</div>\n",
              "      <button class=\"colab-df-convert\" onclick=\"convertToInteractive('df-90f9073a-c9f0-4778-9077-36098764ab27')\"\n",
              "              title=\"Convert this dataframe to an interactive table.\"\n",
              "              style=\"display:none;\">\n",
              "        \n",
              "  <svg xmlns=\"http://www.w3.org/2000/svg\" height=\"24px\"viewBox=\"0 0 24 24\"\n",
              "       width=\"24px\">\n",
              "    <path d=\"M0 0h24v24H0V0z\" fill=\"none\"/>\n",
              "    <path d=\"M18.56 5.44l.94 2.06.94-2.06 2.06-.94-2.06-.94-.94-2.06-.94 2.06-2.06.94zm-11 1L8.5 8.5l.94-2.06 2.06-.94-2.06-.94L8.5 2.5l-.94 2.06-2.06.94zm10 10l.94 2.06.94-2.06 2.06-.94-2.06-.94-.94-2.06-.94 2.06-2.06.94z\"/><path d=\"M17.41 7.96l-1.37-1.37c-.4-.4-.92-.59-1.43-.59-.52 0-1.04.2-1.43.59L10.3 9.45l-7.72 7.72c-.78.78-.78 2.05 0 2.83L4 21.41c.39.39.9.59 1.41.59.51 0 1.02-.2 1.41-.59l7.78-7.78 2.81-2.81c.8-.78.8-2.07 0-2.86zM5.41 20L4 18.59l7.72-7.72 1.47 1.35L5.41 20z\"/>\n",
              "  </svg>\n",
              "      </button>\n",
              "      \n",
              "  <style>\n",
              "    .colab-df-container {\n",
              "      display:flex;\n",
              "      flex-wrap:wrap;\n",
              "      gap: 12px;\n",
              "    }\n",
              "\n",
              "    .colab-df-convert {\n",
              "      background-color: #E8F0FE;\n",
              "      border: none;\n",
              "      border-radius: 50%;\n",
              "      cursor: pointer;\n",
              "      display: none;\n",
              "      fill: #1967D2;\n",
              "      height: 32px;\n",
              "      padding: 0 0 0 0;\n",
              "      width: 32px;\n",
              "    }\n",
              "\n",
              "    .colab-df-convert:hover {\n",
              "      background-color: #E2EBFA;\n",
              "      box-shadow: 0px 1px 2px rgba(60, 64, 67, 0.3), 0px 1px 3px 1px rgba(60, 64, 67, 0.15);\n",
              "      fill: #174EA6;\n",
              "    }\n",
              "\n",
              "    [theme=dark] .colab-df-convert {\n",
              "      background-color: #3B4455;\n",
              "      fill: #D2E3FC;\n",
              "    }\n",
              "\n",
              "    [theme=dark] .colab-df-convert:hover {\n",
              "      background-color: #434B5C;\n",
              "      box-shadow: 0px 1px 3px 1px rgba(0, 0, 0, 0.15);\n",
              "      filter: drop-shadow(0px 1px 2px rgba(0, 0, 0, 0.3));\n",
              "      fill: #FFFFFF;\n",
              "    }\n",
              "  </style>\n",
              "\n",
              "      <script>\n",
              "        const buttonEl =\n",
              "          document.querySelector('#df-90f9073a-c9f0-4778-9077-36098764ab27 button.colab-df-convert');\n",
              "        buttonEl.style.display =\n",
              "          google.colab.kernel.accessAllowed ? 'block' : 'none';\n",
              "\n",
              "        async function convertToInteractive(key) {\n",
              "          const element = document.querySelector('#df-90f9073a-c9f0-4778-9077-36098764ab27');\n",
              "          const dataTable =\n",
              "            await google.colab.kernel.invokeFunction('convertToInteractive',\n",
              "                                                     [key], {});\n",
              "          if (!dataTable) return;\n",
              "\n",
              "          const docLinkHtml = 'Like what you see? Visit the ' +\n",
              "            '<a target=\"_blank\" href=https://colab.research.google.com/notebooks/data_table.ipynb>data table notebook</a>'\n",
              "            + ' to learn more about interactive tables.';\n",
              "          element.innerHTML = '';\n",
              "          dataTable['output_type'] = 'display_data';\n",
              "          await google.colab.output.renderOutput(dataTable, element);\n",
              "          const docLink = document.createElement('div');\n",
              "          docLink.innerHTML = docLinkHtml;\n",
              "          element.appendChild(docLink);\n",
              "        }\n",
              "      </script>\n",
              "    </div>\n",
              "  </div>\n",
              "  "
            ]
          },
          "metadata": {},
          "execution_count": 67
        }
      ]
    },
    {
      "cell_type": "code",
      "source": [
        "# 3 points\n",
        "grader.grade(test_case_id = 'test_percentage', answer = (percentage_query, percentage_df))"
      ],
      "metadata": {
        "id": "ql6NED1sqwFr",
        "colab": {
          "base_uri": "https://localhost:8080/"
        },
        "outputId": "f1efe86d-0039-4e67-fa7d-f71181f78251"
      },
      "execution_count": 68,
      "outputs": [
        {
          "output_type": "stream",
          "name": "stdout",
          "text": [
            "Correct! You earned 3/3 points. You are a star!\n",
            "\n",
            "Your submission has been successfully recorded in the gradebook.\n"
          ]
        }
      ]
    },
    {
      "cell_type": "markdown",
      "source": [
        "#### 2.5.3 Bike Types by Weather (SQL) [3 points]\n",
        "\n",
        "Using the dataframes from part 2.5.1, we want to find out which bike type is the most popular during good weather conditions.\n",
        "\n",
        "**TO-DO:**\n",
        "- Good weather conditions are defined to be when the temperature (`actual_max_temp`) is **AT OR ABOVE 70 degrees Farenheit**, and the `'actual_precipitation'` is **AT OR BELOW 0.3**.\n",
        "- Create a dataframe that has columns `Bike Type` for each of the various kinds of bikes that Indego offers, and `Number of Rides` for the number of rides taken by each kind of bike.\n",
        "- For the final dataframe, there should only be ONE entry, consisting of the bike type with the most rides. Name this dataframe `sql_bike_type_df`.\n",
        "\n",
        "**NOTE:** When renaming one of the aggregated columns as `Number of Rides`, you can select either `actual_max_temp` or `actual_precipitation`, just be consistent!\n",
        "\n",
        "**Final Schema (make sure you have the same column names and order!)**:\n",
        ">Bike Type | Number of Rides |\n",
        ">--- | --- |"
      ],
      "metadata": {
        "id": "AmZHEsBsS3yQ"
      }
    },
    {
      "cell_type": "code",
      "source": [
        "# TODO: Create sql_bike_type_df using PandasSQL\n",
        "\n",
        "bike_query = \"\"\"\n",
        "             SELECT bike_type AS \"Bike Type\", COUNT(*) AS \"Number of Rides\"\n",
        "             FROM weather_merge_df AS w\n",
        "               INNER JOIN trips_merge_df AS t\n",
        "                 ON w.date = t.date\n",
        "             WHERE actual_max_temp >= 70 and actual_precipitation <= 0.3\n",
        "             GROUP BY bike_type\n",
        "             ORDER BY \"Number of Rides\" DESC\n",
        "             LIMIT 1\n",
        "             \"\"\"\n",
        "\n",
        "sql_bike_type_df = ps.sqldf(bike_query, locals())\n",
        "sql_bike_type_df"
      ],
      "metadata": {
        "id": "AHgMRPv3S3yQ",
        "colab": {
          "base_uri": "https://localhost:8080/",
          "height": 81
        },
        "outputId": "2c8d151f-ae09-4db9-fcc0-bc0e9094bfe2"
      },
      "execution_count": 69,
      "outputs": [
        {
          "output_type": "execute_result",
          "data": {
            "text/plain": [
              "  Bike Type  Number of Rides\n",
              "0  standard             4690"
            ],
            "text/html": [
              "\n",
              "  <div id=\"df-d697f7a4-44b0-4d9e-9160-0f99868d2453\">\n",
              "    <div class=\"colab-df-container\">\n",
              "      <div>\n",
              "<style scoped>\n",
              "    .dataframe tbody tr th:only-of-type {\n",
              "        vertical-align: middle;\n",
              "    }\n",
              "\n",
              "    .dataframe tbody tr th {\n",
              "        vertical-align: top;\n",
              "    }\n",
              "\n",
              "    .dataframe thead th {\n",
              "        text-align: right;\n",
              "    }\n",
              "</style>\n",
              "<table border=\"1\" class=\"dataframe\">\n",
              "  <thead>\n",
              "    <tr style=\"text-align: right;\">\n",
              "      <th></th>\n",
              "      <th>Bike Type</th>\n",
              "      <th>Number of Rides</th>\n",
              "    </tr>\n",
              "  </thead>\n",
              "  <tbody>\n",
              "    <tr>\n",
              "      <th>0</th>\n",
              "      <td>standard</td>\n",
              "      <td>4690</td>\n",
              "    </tr>\n",
              "  </tbody>\n",
              "</table>\n",
              "</div>\n",
              "      <button class=\"colab-df-convert\" onclick=\"convertToInteractive('df-d697f7a4-44b0-4d9e-9160-0f99868d2453')\"\n",
              "              title=\"Convert this dataframe to an interactive table.\"\n",
              "              style=\"display:none;\">\n",
              "        \n",
              "  <svg xmlns=\"http://www.w3.org/2000/svg\" height=\"24px\"viewBox=\"0 0 24 24\"\n",
              "       width=\"24px\">\n",
              "    <path d=\"M0 0h24v24H0V0z\" fill=\"none\"/>\n",
              "    <path d=\"M18.56 5.44l.94 2.06.94-2.06 2.06-.94-2.06-.94-.94-2.06-.94 2.06-2.06.94zm-11 1L8.5 8.5l.94-2.06 2.06-.94-2.06-.94L8.5 2.5l-.94 2.06-2.06.94zm10 10l.94 2.06.94-2.06 2.06-.94-2.06-.94-.94-2.06-.94 2.06-2.06.94z\"/><path d=\"M17.41 7.96l-1.37-1.37c-.4-.4-.92-.59-1.43-.59-.52 0-1.04.2-1.43.59L10.3 9.45l-7.72 7.72c-.78.78-.78 2.05 0 2.83L4 21.41c.39.39.9.59 1.41.59.51 0 1.02-.2 1.41-.59l7.78-7.78 2.81-2.81c.8-.78.8-2.07 0-2.86zM5.41 20L4 18.59l7.72-7.72 1.47 1.35L5.41 20z\"/>\n",
              "  </svg>\n",
              "      </button>\n",
              "      \n",
              "  <style>\n",
              "    .colab-df-container {\n",
              "      display:flex;\n",
              "      flex-wrap:wrap;\n",
              "      gap: 12px;\n",
              "    }\n",
              "\n",
              "    .colab-df-convert {\n",
              "      background-color: #E8F0FE;\n",
              "      border: none;\n",
              "      border-radius: 50%;\n",
              "      cursor: pointer;\n",
              "      display: none;\n",
              "      fill: #1967D2;\n",
              "      height: 32px;\n",
              "      padding: 0 0 0 0;\n",
              "      width: 32px;\n",
              "    }\n",
              "\n",
              "    .colab-df-convert:hover {\n",
              "      background-color: #E2EBFA;\n",
              "      box-shadow: 0px 1px 2px rgba(60, 64, 67, 0.3), 0px 1px 3px 1px rgba(60, 64, 67, 0.15);\n",
              "      fill: #174EA6;\n",
              "    }\n",
              "\n",
              "    [theme=dark] .colab-df-convert {\n",
              "      background-color: #3B4455;\n",
              "      fill: #D2E3FC;\n",
              "    }\n",
              "\n",
              "    [theme=dark] .colab-df-convert:hover {\n",
              "      background-color: #434B5C;\n",
              "      box-shadow: 0px 1px 3px 1px rgba(0, 0, 0, 0.15);\n",
              "      filter: drop-shadow(0px 1px 2px rgba(0, 0, 0, 0.3));\n",
              "      fill: #FFFFFF;\n",
              "    }\n",
              "  </style>\n",
              "\n",
              "      <script>\n",
              "        const buttonEl =\n",
              "          document.querySelector('#df-d697f7a4-44b0-4d9e-9160-0f99868d2453 button.colab-df-convert');\n",
              "        buttonEl.style.display =\n",
              "          google.colab.kernel.accessAllowed ? 'block' : 'none';\n",
              "\n",
              "        async function convertToInteractive(key) {\n",
              "          const element = document.querySelector('#df-d697f7a4-44b0-4d9e-9160-0f99868d2453');\n",
              "          const dataTable =\n",
              "            await google.colab.kernel.invokeFunction('convertToInteractive',\n",
              "                                                     [key], {});\n",
              "          if (!dataTable) return;\n",
              "\n",
              "          const docLinkHtml = 'Like what you see? Visit the ' +\n",
              "            '<a target=\"_blank\" href=https://colab.research.google.com/notebooks/data_table.ipynb>data table notebook</a>'\n",
              "            + ' to learn more about interactive tables.';\n",
              "          element.innerHTML = '';\n",
              "          dataTable['output_type'] = 'display_data';\n",
              "          await google.colab.output.renderOutput(dataTable, element);\n",
              "          const docLink = document.createElement('div');\n",
              "          docLink.innerHTML = docLinkHtml;\n",
              "          element.appendChild(docLink);\n",
              "        }\n",
              "      </script>\n",
              "    </div>\n",
              "  </div>\n",
              "  "
            ]
          },
          "metadata": {},
          "execution_count": 69
        }
      ]
    },
    {
      "cell_type": "code",
      "source": [
        "# 3 points\n",
        "grader.grade(test_case_id = 'test_bikes', answer = (sql_bike_type_df, bike_query))"
      ],
      "metadata": {
        "id": "w6RSHDbUS3yR",
        "colab": {
          "base_uri": "https://localhost:8080/"
        },
        "outputId": "86741353-777f-4b0c-9606-c151b6301574"
      },
      "execution_count": 70,
      "outputs": [
        {
          "output_type": "stream",
          "name": "stdout",
          "text": [
            "Correct! You earned 3/3 points. You are a star!\n",
            "\n",
            "Your submission has been successfully recorded in the gradebook.\n"
          ]
        }
      ]
    },
    {
      "cell_type": "markdown",
      "source": [
        "#### 2.5.4 Rainy Days vs Non-Rainy Days [7 points]\n",
        "\n",
        "Just to get a little more practice with SQL...\n",
        "\n",
        "**TO-DO:**\n",
        "- Make a dataframe called `sql_rain_df` using query `rain_query` that finds the total number of trips on Rainy Days vs. Sunny Days, along with the number of days for each day type (rainy, non-rainy)\n",
        "  - A rainy day is defined as one where the precipitation was **greater than 0**.\n",
        "  - You will find `WITH (...) AS` and `UNION` commands useful here.\n",
        "\n",
        "<ins>Sense-Check</ins>: The `'Number of Days'` in your output will necessarily need to sum up to **7** since we only have 7 different days in our bikes dataset.\n",
        "\n",
        "<ins>Warning</ins>: Please note that you do NOT need to do this with Pandas, **ONLY PANDASQL**! <br> If you do this in Pandas, we will reduce the score to **ZERO** during manual review.\n",
        "\n",
        "\n",
        "**Final Schema** _(make sure you have the same column names and order!)_:\n",
        ">Day Type | Number of Rides | Number of Days\n",
        ">--- | --- | --- |\n",
        "> Rainy Day | ? | ?\n",
        "> Sunny Day | ? | ?"
      ],
      "metadata": {
        "id": "_3sr7YYrS3yR"
      }
    },
    {
      "cell_type": "code",
      "source": [
        "# TODO: create sql_rain_df as described above. =\n",
        "\n",
        "rain_query = \"\"\"\n",
        "             WITH merge AS (\n",
        "               SELECT *\n",
        "               FROM weather_merge_df w\n",
        "                 INNER JOIN trips_merge_df t\n",
        "                   ON w.date = t.date\n",
        "             ),\n",
        "             rainy AS (\n",
        "               SELECT \"Rainy Day\" AS \"Day Type\", SUM(c) AS \"Number of Rides\", COUNT(c) AS \"Number of Days\"\n",
        "               FROM (\n",
        "                 SELECT COUNT(*) AS c\n",
        "                 FROM merge\n",
        "                 WHERE actual_precipitation > 0\n",
        "                 GROUP BY date\n",
        "               )\n",
        "             ),\n",
        "             sunny AS (\n",
        "               SELECT \"Sunny Day\" AS \"Day Type\", SUM(c) AS \"Number of Rides\", COUNT(c) AS \"Number of Days\"\n",
        "               FROM (\n",
        "                 SELECT COUNT(*) AS c\n",
        "                 FROM merge\n",
        "                 WHERE actual_precipitation = 0\n",
        "                 GROUP BY date\n",
        "               )\n",
        "             )\n",
        "             SELECT *\n",
        "             FROM rainy \n",
        "             UNION\n",
        "             SELECT *\n",
        "             FROM sunny \n",
        "             \"\"\"\n",
        "\n",
        "sql_rain_df = ps.sqldf(rain_query, locals())\n",
        "sql_rain_df"
      ],
      "metadata": {
        "id": "x0ifSHrSS3yR",
        "colab": {
          "base_uri": "https://localhost:8080/",
          "height": 112
        },
        "outputId": "0ed75514-a8cb-4484-f1a0-72b747b92857"
      },
      "execution_count": 71,
      "outputs": [
        {
          "output_type": "execute_result",
          "data": {
            "text/plain": [
              "    Day Type  Number of Rides  Number of Days\n",
              "0  Rainy Day             6419               3\n",
              "1  Sunny Day             8836               4"
            ],
            "text/html": [
              "\n",
              "  <div id=\"df-dca45e96-0198-4ad5-8559-67e396212e7e\">\n",
              "    <div class=\"colab-df-container\">\n",
              "      <div>\n",
              "<style scoped>\n",
              "    .dataframe tbody tr th:only-of-type {\n",
              "        vertical-align: middle;\n",
              "    }\n",
              "\n",
              "    .dataframe tbody tr th {\n",
              "        vertical-align: top;\n",
              "    }\n",
              "\n",
              "    .dataframe thead th {\n",
              "        text-align: right;\n",
              "    }\n",
              "</style>\n",
              "<table border=\"1\" class=\"dataframe\">\n",
              "  <thead>\n",
              "    <tr style=\"text-align: right;\">\n",
              "      <th></th>\n",
              "      <th>Day Type</th>\n",
              "      <th>Number of Rides</th>\n",
              "      <th>Number of Days</th>\n",
              "    </tr>\n",
              "  </thead>\n",
              "  <tbody>\n",
              "    <tr>\n",
              "      <th>0</th>\n",
              "      <td>Rainy Day</td>\n",
              "      <td>6419</td>\n",
              "      <td>3</td>\n",
              "    </tr>\n",
              "    <tr>\n",
              "      <th>1</th>\n",
              "      <td>Sunny Day</td>\n",
              "      <td>8836</td>\n",
              "      <td>4</td>\n",
              "    </tr>\n",
              "  </tbody>\n",
              "</table>\n",
              "</div>\n",
              "      <button class=\"colab-df-convert\" onclick=\"convertToInteractive('df-dca45e96-0198-4ad5-8559-67e396212e7e')\"\n",
              "              title=\"Convert this dataframe to an interactive table.\"\n",
              "              style=\"display:none;\">\n",
              "        \n",
              "  <svg xmlns=\"http://www.w3.org/2000/svg\" height=\"24px\"viewBox=\"0 0 24 24\"\n",
              "       width=\"24px\">\n",
              "    <path d=\"M0 0h24v24H0V0z\" fill=\"none\"/>\n",
              "    <path d=\"M18.56 5.44l.94 2.06.94-2.06 2.06-.94-2.06-.94-.94-2.06-.94 2.06-2.06.94zm-11 1L8.5 8.5l.94-2.06 2.06-.94-2.06-.94L8.5 2.5l-.94 2.06-2.06.94zm10 10l.94 2.06.94-2.06 2.06-.94-2.06-.94-.94-2.06-.94 2.06-2.06.94z\"/><path d=\"M17.41 7.96l-1.37-1.37c-.4-.4-.92-.59-1.43-.59-.52 0-1.04.2-1.43.59L10.3 9.45l-7.72 7.72c-.78.78-.78 2.05 0 2.83L4 21.41c.39.39.9.59 1.41.59.51 0 1.02-.2 1.41-.59l7.78-7.78 2.81-2.81c.8-.78.8-2.07 0-2.86zM5.41 20L4 18.59l7.72-7.72 1.47 1.35L5.41 20z\"/>\n",
              "  </svg>\n",
              "      </button>\n",
              "      \n",
              "  <style>\n",
              "    .colab-df-container {\n",
              "      display:flex;\n",
              "      flex-wrap:wrap;\n",
              "      gap: 12px;\n",
              "    }\n",
              "\n",
              "    .colab-df-convert {\n",
              "      background-color: #E8F0FE;\n",
              "      border: none;\n",
              "      border-radius: 50%;\n",
              "      cursor: pointer;\n",
              "      display: none;\n",
              "      fill: #1967D2;\n",
              "      height: 32px;\n",
              "      padding: 0 0 0 0;\n",
              "      width: 32px;\n",
              "    }\n",
              "\n",
              "    .colab-df-convert:hover {\n",
              "      background-color: #E2EBFA;\n",
              "      box-shadow: 0px 1px 2px rgba(60, 64, 67, 0.3), 0px 1px 3px 1px rgba(60, 64, 67, 0.15);\n",
              "      fill: #174EA6;\n",
              "    }\n",
              "\n",
              "    [theme=dark] .colab-df-convert {\n",
              "      background-color: #3B4455;\n",
              "      fill: #D2E3FC;\n",
              "    }\n",
              "\n",
              "    [theme=dark] .colab-df-convert:hover {\n",
              "      background-color: #434B5C;\n",
              "      box-shadow: 0px 1px 3px 1px rgba(0, 0, 0, 0.15);\n",
              "      filter: drop-shadow(0px 1px 2px rgba(0, 0, 0, 0.3));\n",
              "      fill: #FFFFFF;\n",
              "    }\n",
              "  </style>\n",
              "\n",
              "      <script>\n",
              "        const buttonEl =\n",
              "          document.querySelector('#df-dca45e96-0198-4ad5-8559-67e396212e7e button.colab-df-convert');\n",
              "        buttonEl.style.display =\n",
              "          google.colab.kernel.accessAllowed ? 'block' : 'none';\n",
              "\n",
              "        async function convertToInteractive(key) {\n",
              "          const element = document.querySelector('#df-dca45e96-0198-4ad5-8559-67e396212e7e');\n",
              "          const dataTable =\n",
              "            await google.colab.kernel.invokeFunction('convertToInteractive',\n",
              "                                                     [key], {});\n",
              "          if (!dataTable) return;\n",
              "\n",
              "          const docLinkHtml = 'Like what you see? Visit the ' +\n",
              "            '<a target=\"_blank\" href=https://colab.research.google.com/notebooks/data_table.ipynb>data table notebook</a>'\n",
              "            + ' to learn more about interactive tables.';\n",
              "          element.innerHTML = '';\n",
              "          dataTable['output_type'] = 'display_data';\n",
              "          await google.colab.output.renderOutput(dataTable, element);\n",
              "          const docLink = document.createElement('div');\n",
              "          docLink.innerHTML = docLinkHtml;\n",
              "          element.appendChild(docLink);\n",
              "        }\n",
              "      </script>\n",
              "    </div>\n",
              "  </div>\n",
              "  "
            ]
          },
          "metadata": {},
          "execution_count": 71
        }
      ]
    },
    {
      "cell_type": "code",
      "source": [
        "# 7 points\n",
        "grader.grade(test_case_id = 'test_rainy', answer = (sql_rain_df,rain_query))"
      ],
      "metadata": {
        "id": "XKRLmq_2S3yS",
        "colab": {
          "base_uri": "https://localhost:8080/"
        },
        "outputId": "90aaf7b6-30f2-433b-a2e3-3cd1abe6de3f"
      },
      "execution_count": 72,
      "outputs": [
        {
          "output_type": "stream",
          "name": "stdout",
          "text": [
            "Correct! You earned 7/7 points. You are a star!\n",
            "\n",
            "Your submission has been successfully recorded in the gradebook.\n"
          ]
        }
      ]
    },
    {
      "cell_type": "markdown",
      "source": [
        "### 2.6 Weekend Rush [8 points]\n",
        "\n",
        "We want to determine the percentage change in the number of rides from the weekend to the weekdays in the first 7 days of October using `pandasql`.\n",
        "\n",
        "\n",
        "\n",
        "**TODO**: Use `pandasql` to :\n",
        "* Count the number of rides that take place on the weekend (Saturday, Sunday)\n",
        "* Count the number of rides that take place M-F.\n",
        "* Calculate the percentage change for `trips_final_df` and save it in a new dataframe called `perc_df` with the column named `perc_change`. Please cast this column to `float` type You can use the following formula:\n",
        "\n",
        "$$\\frac{ number\\_of\\_trips\\_on\\_weekday - number\\_of\\_trips\\_on\\_weekend}{number\\_of\\_trips\\_on\\_weekend} \\times 100$$"
      ],
      "metadata": {
        "id": "O4HY0xZQS3yS"
      }
    },
    {
      "cell_type": "code",
      "source": [
        "# TODO: Use pandasql to get the percentage change between trips on the weekend and trips on the weekday\n",
        "perc_query = \"\"\"\n",
        "             SELECT (weekday - weekend) * 100.0 / weekend AS perc_change\n",
        "             FROM (\n",
        "               SELECT COUNT(*) AS weekend\n",
        "               FROM trips_final_df t\n",
        "               WHERE strftime('%w', t.date) = '0'\n",
        "                 OR strftime('%w', t.date) = '6'\n",
        "             ),\n",
        "             (\n",
        "               SELECT COUNT(*) AS weekday\n",
        "               FROM trips_final_df t\n",
        "               WHERE strftime('%w', t.date) != '0'\n",
        "                 AND strftime('%w', t.date) != '6'\n",
        "             ) \n",
        "             \"\"\"\n",
        "\n",
        "perc_df = ps.sqldf(perc_query, locals())\n",
        "perc_df"
      ],
      "metadata": {
        "id": "JxRHY1lsS3yT",
        "colab": {
          "base_uri": "https://localhost:8080/",
          "height": 81
        },
        "outputId": "57163dae-5b55-40ec-d544-11d0a96e3454"
      },
      "execution_count": 73,
      "outputs": [
        {
          "output_type": "execute_result",
          "data": {
            "text/plain": [
              "   perc_change\n",
              "0   418.362383"
            ],
            "text/html": [
              "\n",
              "  <div id=\"df-31d58ef8-2d1e-4240-90c4-7682638cf14e\">\n",
              "    <div class=\"colab-df-container\">\n",
              "      <div>\n",
              "<style scoped>\n",
              "    .dataframe tbody tr th:only-of-type {\n",
              "        vertical-align: middle;\n",
              "    }\n",
              "\n",
              "    .dataframe tbody tr th {\n",
              "        vertical-align: top;\n",
              "    }\n",
              "\n",
              "    .dataframe thead th {\n",
              "        text-align: right;\n",
              "    }\n",
              "</style>\n",
              "<table border=\"1\" class=\"dataframe\">\n",
              "  <thead>\n",
              "    <tr style=\"text-align: right;\">\n",
              "      <th></th>\n",
              "      <th>perc_change</th>\n",
              "    </tr>\n",
              "  </thead>\n",
              "  <tbody>\n",
              "    <tr>\n",
              "      <th>0</th>\n",
              "      <td>418.362383</td>\n",
              "    </tr>\n",
              "  </tbody>\n",
              "</table>\n",
              "</div>\n",
              "      <button class=\"colab-df-convert\" onclick=\"convertToInteractive('df-31d58ef8-2d1e-4240-90c4-7682638cf14e')\"\n",
              "              title=\"Convert this dataframe to an interactive table.\"\n",
              "              style=\"display:none;\">\n",
              "        \n",
              "  <svg xmlns=\"http://www.w3.org/2000/svg\" height=\"24px\"viewBox=\"0 0 24 24\"\n",
              "       width=\"24px\">\n",
              "    <path d=\"M0 0h24v24H0V0z\" fill=\"none\"/>\n",
              "    <path d=\"M18.56 5.44l.94 2.06.94-2.06 2.06-.94-2.06-.94-.94-2.06-.94 2.06-2.06.94zm-11 1L8.5 8.5l.94-2.06 2.06-.94-2.06-.94L8.5 2.5l-.94 2.06-2.06.94zm10 10l.94 2.06.94-2.06 2.06-.94-2.06-.94-.94-2.06-.94 2.06-2.06.94z\"/><path d=\"M17.41 7.96l-1.37-1.37c-.4-.4-.92-.59-1.43-.59-.52 0-1.04.2-1.43.59L10.3 9.45l-7.72 7.72c-.78.78-.78 2.05 0 2.83L4 21.41c.39.39.9.59 1.41.59.51 0 1.02-.2 1.41-.59l7.78-7.78 2.81-2.81c.8-.78.8-2.07 0-2.86zM5.41 20L4 18.59l7.72-7.72 1.47 1.35L5.41 20z\"/>\n",
              "  </svg>\n",
              "      </button>\n",
              "      \n",
              "  <style>\n",
              "    .colab-df-container {\n",
              "      display:flex;\n",
              "      flex-wrap:wrap;\n",
              "      gap: 12px;\n",
              "    }\n",
              "\n",
              "    .colab-df-convert {\n",
              "      background-color: #E8F0FE;\n",
              "      border: none;\n",
              "      border-radius: 50%;\n",
              "      cursor: pointer;\n",
              "      display: none;\n",
              "      fill: #1967D2;\n",
              "      height: 32px;\n",
              "      padding: 0 0 0 0;\n",
              "      width: 32px;\n",
              "    }\n",
              "\n",
              "    .colab-df-convert:hover {\n",
              "      background-color: #E2EBFA;\n",
              "      box-shadow: 0px 1px 2px rgba(60, 64, 67, 0.3), 0px 1px 3px 1px rgba(60, 64, 67, 0.15);\n",
              "      fill: #174EA6;\n",
              "    }\n",
              "\n",
              "    [theme=dark] .colab-df-convert {\n",
              "      background-color: #3B4455;\n",
              "      fill: #D2E3FC;\n",
              "    }\n",
              "\n",
              "    [theme=dark] .colab-df-convert:hover {\n",
              "      background-color: #434B5C;\n",
              "      box-shadow: 0px 1px 3px 1px rgba(0, 0, 0, 0.15);\n",
              "      filter: drop-shadow(0px 1px 2px rgba(0, 0, 0, 0.3));\n",
              "      fill: #FFFFFF;\n",
              "    }\n",
              "  </style>\n",
              "\n",
              "      <script>\n",
              "        const buttonEl =\n",
              "          document.querySelector('#df-31d58ef8-2d1e-4240-90c4-7682638cf14e button.colab-df-convert');\n",
              "        buttonEl.style.display =\n",
              "          google.colab.kernel.accessAllowed ? 'block' : 'none';\n",
              "\n",
              "        async function convertToInteractive(key) {\n",
              "          const element = document.querySelector('#df-31d58ef8-2d1e-4240-90c4-7682638cf14e');\n",
              "          const dataTable =\n",
              "            await google.colab.kernel.invokeFunction('convertToInteractive',\n",
              "                                                     [key], {});\n",
              "          if (!dataTable) return;\n",
              "\n",
              "          const docLinkHtml = 'Like what you see? Visit the ' +\n",
              "            '<a target=\"_blank\" href=https://colab.research.google.com/notebooks/data_table.ipynb>data table notebook</a>'\n",
              "            + ' to learn more about interactive tables.';\n",
              "          element.innerHTML = '';\n",
              "          dataTable['output_type'] = 'display_data';\n",
              "          await google.colab.output.renderOutput(dataTable, element);\n",
              "          const docLink = document.createElement('div');\n",
              "          docLink.innerHTML = docLinkHtml;\n",
              "          element.appendChild(docLink);\n",
              "        }\n",
              "      </script>\n",
              "    </div>\n",
              "  </div>\n",
              "  "
            ]
          },
          "metadata": {},
          "execution_count": 73
        }
      ]
    },
    {
      "cell_type": "code",
      "source": [
        "# 8 points\n",
        "grader.grade(test_case_id = 'test_perc', answer = (perc_df, perc_query))"
      ],
      "metadata": {
        "id": "7cJ2QvpsS3yU",
        "colab": {
          "base_uri": "https://localhost:8080/"
        },
        "outputId": "de8a3691-fe06-4d4d-9e8f-43f1bd72f8a7"
      },
      "execution_count": 74,
      "outputs": [
        {
          "output_type": "stream",
          "name": "stdout",
          "text": [
            "Correct! You earned 8/8 points. You are a star!\n",
            "\n",
            "Your submission has been successfully recorded in the gradebook.\n"
          ]
        }
      ]
    },
    {
      "cell_type": "markdown",
      "source": [
        "## Part 3: Data Visualization [8 points total]"
      ],
      "metadata": {
        "id": "2TmWRlsBS3yU"
      }
    },
    {
      "cell_type": "markdown",
      "source": [
        "You've done great work so far! Now let's create a couple visualizations to illustrate data we might be interested in. \n",
        "\n",
        "\n",
        "This section will be **manually graded**."
      ],
      "metadata": {
        "id": "FBMLzvZES3yU"
      }
    },
    {
      "cell_type": "markdown",
      "source": [
        "Begin by following the directions below to prepare the dataset for plotting"
      ],
      "metadata": {
        "id": "SWl6emHZS3yU"
      }
    },
    {
      "cell_type": "code",
      "source": [
        "from datetime import datetime\n",
        "import seaborn as sns\n",
        "import numpy as np"
      ],
      "metadata": {
        "id": "vUBBTugE9T4H"
      },
      "execution_count": 75,
      "outputs": []
    },
    {
      "cell_type": "markdown",
      "source": [
        "For this part we will be using `trips_final_df`"
      ],
      "metadata": {
        "id": "7TbqcrVG9VDd"
      }
    },
    {
      "cell_type": "code",
      "source": [
        "# Step 1a - using datetime functions, create a column called Time that has the time \n",
        "# (Hour:Minute) seen in the start_time column\n",
        "\n",
        "# HINT: The date should be of type %m/%d/%Y %H:%M, and once you've converted to datetime\n",
        "# you can use the .time() function to get the time of day\n",
        "\n",
        "# datetime.strptime(date_string, format)\n",
        "trips_final_df['Time'] = trips_final_df['start_time'].apply(lambda x: x.split()[1])\n",
        "# trips_final_df"
      ],
      "metadata": {
        "id": "76tp5HG-S3yU"
      },
      "execution_count": 97,
      "outputs": []
    },
    {
      "cell_type": "code",
      "source": [
        "# Step 1b - to make things simple for our graph, \"round\" the time down to the nearest hour.\n",
        "# For example, 0:01 and 0:59 should both turn into 0:00. You can either alter the \"Time of Day\"\n",
        "# column or create a new column and drop the old one, your choice.\n",
        "\n",
        "# Hint: you can use the replace() function to alter the minute component of the datetime object\n",
        "\n",
        "trips_final_df[\"Time of Day\"] = trips_final_df[\"start_time\"].apply(lambda x: x.split()[1][:-2]+\"00\").astype(datetime64).apply(lambda x: x.time())\n",
        "# trips_final_df[\"Time of Day\"] = trips_final_df[\"Time of Day\"].apply(lambda x: x.time())\n",
        "# trips_final_df"
      ],
      "metadata": {
        "id": "sVAMLlHM9Hy9"
      },
      "execution_count": 98,
      "outputs": []
    },
    {
      "cell_type": "code",
      "source": [
        "# Step 2a - Create a column called Date that gets the actual date (Month/Day/Year) seen\n",
        "# in the start_time column. Similar process as part 1a, and you will find .date() helpful here\n",
        "\n",
        "trips_final_df[\"Date\"] = trips_final_df[\"start_time\"].apply(lambda x: x.split()[0]).astype(datetime64)\n",
        "# trips_final_df"
      ],
      "metadata": {
        "id": "wLcQT5Ok9JLP"
      },
      "execution_count": 99,
      "outputs": []
    },
    {
      "cell_type": "code",
      "source": [
        "# Step 2b- Using the 'Date' column, create a column called Day which has the day\n",
        "# associated with the date (Monday, Tuesday, ..., Sunday). You can discard the \n",
        "# 'Date' column once you're done.\n",
        "\n",
        "# Hint: the .weekday() function will be helpful here, but you cannot leave the final\n",
        "# answer as an integer; make sure to convert to the actual name of the day!\n",
        "\n",
        "# Note: 0 represents Monday, 1 represents Tuesday, ... , 6 represents Sunday\n",
        "int2day = {0:\"Monday\",1:\"Tuesday\",2:\"Wednesday\",3:\"Thursday\",4:\"Friday\",5:\"Saturday\",6:\"Sunday\"}\n",
        "trips_final_df[\"Day\"] = trips_final_df[\"Date\"].apply(lambda x: int2day[int(x.weekday())])\n",
        "# trips_final_df"
      ],
      "metadata": {
        "id": "SkJU6LBS9KMa"
      },
      "execution_count": 100,
      "outputs": []
    },
    {
      "cell_type": "code",
      "source": [
        "# Step 3-  Make a dataframe that just contains 'trip_id','duration','Time of Day', and 'Day'\n",
        "\n",
        "new_trips = trips_final_df[['trip_id','duration','Time of Day', 'Day']]"
      ],
      "metadata": {
        "id": "tEI_BSHF9L9p"
      },
      "execution_count": 101,
      "outputs": []
    },
    {
      "cell_type": "markdown",
      "source": [
        "Your dataset is now complete! For the first line plot, you will be visualizing the number of trips that occur during each hour of the day, for all 7 days. To do so, you will be creating 2 line charts using Seaborn (sns).\n",
        "\n",
        "### This is important: using only Matplotlib will NOT result in full credit\n",
        "\n",
        "It is crucial that **your first line graph** contains the following features:\n",
        "1. The X-axis should be labelled \"Time of Day\", is of type datetime and ranges from 00:00 (midnight) to 23:00 (11 pm)\n",
        "2. The Y-axis should be labelled \"# of Rides\".\n",
        "3. There should be a title called \"# of Rides for each Time of Day\"\n",
        "4. There are 7 lines for each day of the week, clearly labeled and differentiated, **containing markers**.\n",
        "5. Again, must be completed using Seaborn (sns)\n"
      ],
      "metadata": {
        "id": "3uz28_FeVYnK"
      }
    },
    {
      "cell_type": "code",
      "source": [
        "# First Plot:\n",
        "\n",
        "# For this plot, create a dataframe that does not the duration column\n",
        "plot1_df = new_trips[['trip_id','Day','Time of Day']]\n",
        "\n",
        "\n",
        "# Now, alter this dataframe to have 3 columns, IN THIS ORDER:\n",
        "# 'day', 'Time of Day', 'Count'. Count will keep track of how many rides occured \n",
        "# during the particular hour of that day. Using Pandas for aggregation is strongly recommended.\n",
        "\n",
        "plot1_df = plot1_df.groupby([\"Time of Day\",\"Day\"]).count()\n",
        "plot1_df.reset_index(inplace=True)\n",
        "plot1_df = plot1_df.rename({\"trip_id\":\"Count\", \"Day\":\"day\"}, axis=1)\n",
        "plot1_df = plot1_df[[\"day\", \"Time of Day\", \"Count\"]]\n",
        "plot1_df[\"Time of Day\"] = plot1_df[\"Time of Day\"].astype(str)"
      ],
      "metadata": {
        "id": "ydXhm8lCS3yV"
      },
      "execution_count": 102,
      "outputs": []
    },
    {
      "cell_type": "code",
      "source": [
        "plot1_df.info()"
      ],
      "metadata": {
        "colab": {
          "base_uri": "https://localhost:8080/"
        },
        "id": "AZAO4I2ivIVt",
        "outputId": "6bd763fe-7daf-407a-c832-9e6de20470d5"
      },
      "execution_count": 82,
      "outputs": [
        {
          "output_type": "stream",
          "name": "stdout",
          "text": [
            "<class 'pandas.core.frame.DataFrame'>\n",
            "RangeIndex: 167 entries, 0 to 166\n",
            "Data columns (total 3 columns):\n",
            " #   Column       Non-Null Count  Dtype \n",
            "---  ------       --------------  ----- \n",
            " 0   day          167 non-null    object\n",
            " 1   Time of Day  167 non-null    object\n",
            " 2   Count        167 non-null    int64 \n",
            "dtypes: int64(1), object(2)\n",
            "memory usage: 4.0+ KB\n"
          ]
        }
      ]
    },
    {
      "cell_type": "code",
      "source": [
        "# Now you have everything you need to create and display a line graph that\n",
        "# meets all the necessary criteria.\n",
        "plot1_df_wide = plot1_df.pivot(\"Time of Day\", \"day\", \"Count\")\n",
        "plt.figure(figsize=(20,5)) \n",
        "sns.lineplot(data=plot1_df_wide).set(title=\"# of Rides for each Time of Day\",ylabel=\"# of Rides\")"
      ],
      "metadata": {
        "colab": {
          "base_uri": "https://localhost:8080/",
          "height": 367
        },
        "id": "Fw4IQdjyv8gE",
        "outputId": "45b36e7d-925b-44a3-bdab-51fb30285fd0"
      },
      "execution_count": 85,
      "outputs": [
        {
          "output_type": "execute_result",
          "data": {
            "text/plain": [
              "[Text(0, 0.5, '# of Rides'), Text(0.5, 1.0, '# of Rides for each Time of Day')]"
            ]
          },
          "metadata": {},
          "execution_count": 85
        },
        {
          "output_type": "display_data",
          "data": {
            "text/plain": [
              "<Figure size 1440x360 with 1 Axes>"
            ],
            "image/png": "[encoded data removed]"
          },
          "metadata": {
            "needs_background": "light"
          }
        }
      ]
    },
    {
      "cell_type": "markdown",
      "source": [
        "Very interesting. Now for the second line plot, you will be visualizing the average duration of a ride that occurs during each hour of the day, for all 7 days. \n",
        "\n",
        "As a reminder, **your second line graph** should contain the following features:\n",
        "1. The X-axis should be the same as last time\n",
        "2. The Y-axis should be labelled \"Average Duration\".\n",
        "3. There should be a title called \"Average Duration of an Indego Bike Ride for each Time of Day\"\n",
        "4. There are 7 lines for each of the 7 days"
      ],
      "metadata": {
        "id": "CJKpjLkUp5B0"
      }
    },
    {
      "cell_type": "code",
      "source": [
        "# Second Plot:\n",
        "\n",
        "# For this plot, create a dataframe that does not the trip_id column\n",
        "plot2_df = new_trips[['duration','Day','Time of Day']].groupby([\"Time of Day\",\"Day\"]).mean()\n",
        "plot2_df.reset_index(inplace=True)\n",
        "plot2_df = plot2_df.rename({\"duration\":\"Average Duration\"}, axis=1)\n",
        "# plot1_df = plot1_df[[\"day\", \"Time of Day\", \"Count\"]]\n",
        "plot2_df[\"Time of Day\"] = plot2_df[\"Time of Day\"].astype(str)\n",
        "plot2_df\n",
        "# Now, alter this dataframe to have 3 columns, IN THIS ORDER:\n",
        "# 'day', 'Time of Day', 'Average Duration'. Average Duration is the mean duration time\n",
        "# for the particular hour of that day. \n",
        "\n",
        "\n",
        "# Now just plot the graph\n"
      ],
      "metadata": {
        "id": "GzP5j9KCS3yW",
        "colab": {
          "base_uri": "https://localhost:8080/",
          "height": 424
        },
        "outputId": "20b3ed89-68be-4ae7-91c6-f6cf677deb6c"
      },
      "execution_count": 86,
      "outputs": [
        {
          "output_type": "execute_result",
          "data": {
            "text/plain": [
              "    Time of Day        Day  Average Duration\n",
              "0      00:00:00     Friday         22.472222\n",
              "1      00:00:00     Monday          7.833333\n",
              "2      00:00:00   Saturday         13.580000\n",
              "3      00:00:00     Sunday         11.521739\n",
              "4      00:00:00   Thursday         10.777778\n",
              "..          ...        ...               ...\n",
              "162    23:00:00   Saturday         10.868852\n",
              "163    23:00:00     Sunday          8.166667\n",
              "164    23:00:00   Thursday          9.063291\n",
              "165    23:00:00    Tuesday         11.904762\n",
              "166    23:00:00  Wednesday         11.083333\n",
              "\n",
              "[167 rows x 3 columns]"
            ],
            "text/html": [
              "\n",
              "  <div id=\"df-3b3ac615-cce0-4595-94c2-e3f5343bc2c6\">\n",
              "    <div class=\"colab-df-container\">\n",
              "      <div>\n",
              "<style scoped>\n",
              "    .dataframe tbody tr th:only-of-type {\n",
              "        vertical-align: middle;\n",
              "    }\n",
              "\n",
              "    .dataframe tbody tr th {\n",
              "        vertical-align: top;\n",
              "    }\n",
              "\n",
              "    .dataframe thead th {\n",
              "        text-align: right;\n",
              "    }\n",
              "</style>\n",
              "<table border=\"1\" class=\"dataframe\">\n",
              "  <thead>\n",
              "    <tr style=\"text-align: right;\">\n",
              "      <th></th>\n",
              "      <th>Time of Day</th>\n",
              "      <th>Day</th>\n",
              "      <th>Average Duration</th>\n",
              "    </tr>\n",
              "  </thead>\n",
              "  <tbody>\n",
              "    <tr>\n",
              "      <th>0</th>\n",
              "      <td>00:00:00</td>\n",
              "      <td>Friday</td>\n",
              "      <td>22.472222</td>\n",
              "    </tr>\n",
              "    <tr>\n",
              "      <th>1</th>\n",
              "      <td>00:00:00</td>\n",
              "      <td>Monday</td>\n",
              "      <td>7.833333</td>\n",
              "    </tr>\n",
              "    <tr>\n",
              "      <th>2</th>\n",
              "      <td>00:00:00</td>\n",
              "      <td>Saturday</td>\n",
              "      <td>13.580000</td>\n",
              "    </tr>\n",
              "    <tr>\n",
              "      <th>3</th>\n",
              "      <td>00:00:00</td>\n",
              "      <td>Sunday</td>\n",
              "      <td>11.521739</td>\n",
              "    </tr>\n",
              "    <tr>\n",
              "      <th>4</th>\n",
              "      <td>00:00:00</td>\n",
              "      <td>Thursday</td>\n",
              "      <td>10.777778</td>\n",
              "    </tr>\n",
              "    <tr>\n",
              "      <th>...</th>\n",
              "      <td>...</td>\n",
              "      <td>...</td>\n",
              "      <td>...</td>\n",
              "    </tr>\n",
              "    <tr>\n",
              "      <th>162</th>\n",
              "      <td>23:00:00</td>\n",
              "      <td>Saturday</td>\n",
              "      <td>10.868852</td>\n",
              "    </tr>\n",
              "    <tr>\n",
              "      <th>163</th>\n",
              "      <td>23:00:00</td>\n",
              "      <td>Sunday</td>\n",
              "      <td>8.166667</td>\n",
              "    </tr>\n",
              "    <tr>\n",
              "      <th>164</th>\n",
              "      <td>23:00:00</td>\n",
              "      <td>Thursday</td>\n",
              "      <td>9.063291</td>\n",
              "    </tr>\n",
              "    <tr>\n",
              "      <th>165</th>\n",
              "      <td>23:00:00</td>\n",
              "      <td>Tuesday</td>\n",
              "      <td>11.904762</td>\n",
              "    </tr>\n",
              "    <tr>\n",
              "      <th>166</th>\n",
              "      <td>23:00:00</td>\n",
              "      <td>Wednesday</td>\n",
              "      <td>11.083333</td>\n",
              "    </tr>\n",
              "  </tbody>\n",
              "</table>\n",
              "<p>167 rows × 3 columns</p>\n",
              "</div>\n",
              "      <button class=\"colab-df-convert\" onclick=\"convertToInteractive('df-3b3ac615-cce0-4595-94c2-e3f5343bc2c6')\"\n",
              "              title=\"Convert this dataframe to an interactive table.\"\n",
              "              style=\"display:none;\">\n",
              "        \n",
              "  <svg xmlns=\"http://www.w3.org/2000/svg\" height=\"24px\"viewBox=\"0 0 24 24\"\n",
              "       width=\"24px\">\n",
              "    <path d=\"M0 0h24v24H0V0z\" fill=\"none\"/>\n",
              "    <path d=\"M18.56 5.44l.94 2.06.94-2.06 2.06-.94-2.06-.94-.94-2.06-.94 2.06-2.06.94zm-11 1L8.5 8.5l.94-2.06 2.06-.94-2.06-.94L8.5 2.5l-.94 2.06-2.06.94zm10 10l.94 2.06.94-2.06 2.06-.94-2.06-.94-.94-2.06-.94 2.06-2.06.94z\"/><path d=\"M17.41 7.96l-1.37-1.37c-.4-.4-.92-.59-1.43-.59-.52 0-1.04.2-1.43.59L10.3 9.45l-7.72 7.72c-.78.78-.78 2.05 0 2.83L4 21.41c.39.39.9.59 1.41.59.51 0 1.02-.2 1.41-.59l7.78-7.78 2.81-2.81c.8-.78.8-2.07 0-2.86zM5.41 20L4 18.59l7.72-7.72 1.47 1.35L5.41 20z\"/>\n",
              "  </svg>\n",
              "      </button>\n",
              "      \n",
              "  <style>\n",
              "    .colab-df-container {\n",
              "      display:flex;\n",
              "      flex-wrap:wrap;\n",
              "      gap: 12px;\n",
              "    }\n",
              "\n",
              "    .colab-df-convert {\n",
              "      background-color: #E8F0FE;\n",
              "      border: none;\n",
              "      border-radius: 50%;\n",
              "      cursor: pointer;\n",
              "      display: none;\n",
              "      fill: #1967D2;\n",
              "      height: 32px;\n",
              "      padding: 0 0 0 0;\n",
              "      width: 32px;\n",
              "    }\n",
              "\n",
              "    .colab-df-convert:hover {\n",
              "      background-color: #E2EBFA;\n",
              "      box-shadow: 0px 1px 2px rgba(60, 64, 67, 0.3), 0px 1px 3px 1px rgba(60, 64, 67, 0.15);\n",
              "      fill: #174EA6;\n",
              "    }\n",
              "\n",
              "    [theme=dark] .colab-df-convert {\n",
              "      background-color: #3B4455;\n",
              "      fill: #D2E3FC;\n",
              "    }\n",
              "\n",
              "    [theme=dark] .colab-df-convert:hover {\n",
              "      background-color: #434B5C;\n",
              "      box-shadow: 0px 1px 3px 1px rgba(0, 0, 0, 0.15);\n",
              "      filter: drop-shadow(0px 1px 2px rgba(0, 0, 0, 0.3));\n",
              "      fill: #FFFFFF;\n",
              "    }\n",
              "  </style>\n",
              "\n",
              "      <script>\n",
              "        const buttonEl =\n",
              "          document.querySelector('#df-3b3ac615-cce0-4595-94c2-e3f5343bc2c6 button.colab-df-convert');\n",
              "        buttonEl.style.display =\n",
              "          google.colab.kernel.accessAllowed ? 'block' : 'none';\n",
              "\n",
              "        async function convertToInteractive(key) {\n",
              "          const element = document.querySelector('#df-3b3ac615-cce0-4595-94c2-e3f5343bc2c6');\n",
              "          const dataTable =\n",
              "            await google.colab.kernel.invokeFunction('convertToInteractive',\n",
              "                                                     [key], {});\n",
              "          if (!dataTable) return;\n",
              "\n",
              "          const docLinkHtml = 'Like what you see? Visit the ' +\n",
              "            '<a target=\"_blank\" href=https://colab.research.google.com/notebooks/data_table.ipynb>data table notebook</a>'\n",
              "            + ' to learn more about interactive tables.';\n",
              "          element.innerHTML = '';\n",
              "          dataTable['output_type'] = 'display_data';\n",
              "          await google.colab.output.renderOutput(dataTable, element);\n",
              "          const docLink = document.createElement('div');\n",
              "          docLink.innerHTML = docLinkHtml;\n",
              "          element.appendChild(docLink);\n",
              "        }\n",
              "      </script>\n",
              "    </div>\n",
              "  </div>\n",
              "  "
            ]
          },
          "metadata": {},
          "execution_count": 86
        }
      ]
    },
    {
      "cell_type": "code",
      "source": [
        "plot2_df_wide = plot2_df.pivot(\"Time of Day\", \"Day\", \"Average Duration\")\n",
        "plt.figure(figsize=(20,5)) \n",
        "sns.lineplot(data=plot2_df_wide).set(title=\"Average Duration of an Indego Bike Ride for each Time of Day\",ylabel=\"Average Duration\")\n"
      ],
      "metadata": {
        "colab": {
          "base_uri": "https://localhost:8080/",
          "height": 385
        },
        "id": "tOiH4GECxqPq",
        "outputId": "71286800-ad90-41c7-a5d9-b2003749493c"
      },
      "execution_count": 87,
      "outputs": [
        {
          "output_type": "execute_result",
          "data": {
            "text/plain": [
              "[Text(0, 0.5, 'Average Duration'),\n",
              " Text(0.5, 1.0, 'Average Duration of an Indego Bike Ride for each Time of Day')]"
            ]
          },
          "metadata": {},
          "execution_count": 87
        },
        {
          "output_type": "display_data",
          "data": {
            "text/plain": [
              "<Figure size 1440x360 with 1 Axes>"
            ],
            "image/png": "[encoded data removed]"
          },
          "metadata": {
            "needs_background": "light"
          }
        }
      ]
    },
    {
      "cell_type": "markdown",
      "source": [
        "## Part 4: Working with Text Data [9 points]\n",
        "\n",
        "Now, let's switch gears and try to text-based analysis. Textual data is complex, but can also be used to generate extremely interpretable results, making it both valuable and interesting. \n",
        "\n",
        "Throughout this section, we will attempt to answer the following question:\n",
        "\n",
        "**According to the `reviews_df` dataframe, what do the reviews for some of the most popular restaurants in Philadelphia look like?**"
      ],
      "metadata": {
        "id": "rC5YZxulS3yX"
      }
    },
    {
      "cell_type": "markdown",
      "source": [
        "###4.1 Tokenizing the text [2 points]\n",
        "\n",
        "We are going to split the contents of the `reviews` column from `reviews_df` into a list of words. We will use the **nltk** library, which contains an extensive set of tools for text processing. Now, this homework would be interminably long if we went into all the details of nltk. Thus, we are only going to use the following components of the library:\n",
        "- `nltk.word_tokenize()`: a function used to tokenize text\n",
        "- `nltk.corpus.stopwords`: a list of commonly used words such as \"a\", \"an\",\"in\" that are often ignored in text analysis\n",
        "\n",
        "Note that for this question, we didn't have to clean the text data first as our original dataset was well-formatted. However, in practice, we would typically clean the text first using regular expressions (regex). Keep this in mind as you work on the project later on in the semester.\n",
        "\n",
        "**TODO:** Perform the following tasks:\n",
        "- Use **nltk.corpus.stopwords** to create a set containing the most common English stopwords.\n",
        "- Implement the function **tokenized_content(content)**, which takes in a string and does the following:\n",
        "1. Tokenize the text\n",
        "2. Keep tokens that only contain alphabetic characters (i.e. tokens with no punctuation)\n",
        "3. Convert each token to lowercase\n",
        "4. Remove stopwords (commonly used words such as \"a\", \"an\", \"in\")\n"
      ],
      "metadata": {
        "id": "6LRZiK9YS3yX"
      }
    },
    {
      "cell_type": "code",
      "source": [
        "# We've imported the nltk library and created the stopwords set for you\n",
        "import re\n",
        "from string import punctuation\n",
        "\n",
        "import nltk\n",
        "from nltk.corpus import stopwords\n",
        "nltk.download('stopwords')\n",
        "stopwords = set(stopwords.words('english'))"
      ],
      "metadata": {
        "id": "MTeCg9ggS3yX",
        "colab": {
          "base_uri": "https://localhost:8080/"
        },
        "outputId": "7b743b84-565d-4246-eb8d-64ead00cd727"
      },
      "execution_count": 88,
      "outputs": [
        {
          "output_type": "stream",
          "name": "stderr",
          "text": [
            "[nltk_data] Downloading package stopwords to /root/nltk_data...\n",
            "[nltk_data]   Unzipping corpora/stopwords.zip.\n"
          ]
        }
      ]
    },
    {
      "cell_type": "code",
      "source": [
        "# TODO: tokenize and flatten \n",
        "# (create a tokenized_content function that performs the steps listed above)\n",
        "\n",
        "def tokenized_content(content):\n",
        "  content = nltk.word_tokenize(content)\n",
        "  tokens = []\n",
        "  for c in content:\n",
        "    if c.isalpha():\n",
        "      token = c.lower()\n",
        "      if token and token not in stopwords:\n",
        "        tokens.append(token)\n",
        "  return tokens"
      ],
      "metadata": {
        "id": "VrCQn9XkS3yY"
      },
      "execution_count": 89,
      "outputs": []
    },
    {
      "cell_type": "code",
      "source": [
        "tokenized_content(\"THIS TEXT WILL BE LOWERCASED. THIS WON'T: ßßß\")"
      ],
      "metadata": {
        "colab": {
          "base_uri": "https://localhost:8080/"
        },
        "id": "_TaeycpZyYIN",
        "outputId": "6fcc46b2-bbf1-46eb-915c-b5b69c7cea48"
      },
      "execution_count": 90,
      "outputs": [
        {
          "output_type": "execute_result",
          "data": {
            "text/plain": [
              "['text', 'lowercased', 'wo', 'ßßß']"
            ]
          },
          "metadata": {},
          "execution_count": 90
        }
      ]
    },
    {
      "cell_type": "markdown",
      "source": [
        " **TODO**: Now perform the following tasks: \n",
        "- We are interested in reviews for the **most reviewed** restaurant in `reviews_df`. Using Counter() to find this restaurant is recommended. Store the name of the restaurant in the `most_reviewed_restaurant` variable, and use it to create `restaurant_reviews_df`, a subset of `reviews_df` only containing instances from the restaurant in question\n",
        "- From there, extract the `review` column of `reviews_df` as a list called `reviews`. \n",
        "- Apply your `tokenize_content()` function to each item in the list `reviews`. Call the resultant list `top_tokens_list`. \n",
        "- Flatten the list `top_tokens_list`, and call the resultant list `top_tokens`. The autograder will be examining the contents of this list. (Flatten using list comprehension)\n",
        "\n",
        "For futher assistance, here is the documentation for Counter() objects: \n",
        "\n",
        "https://docs.python.org/2/library/collections.html#counter-objects"
      ],
      "metadata": {
        "id": "kSFZfxDXS3yY"
      }
    },
    {
      "cell_type": "code",
      "source": [
        "from collections import Counter\n",
        "# TODO: find the most reviewed restaurant, use that to make restaurant_reviews_df,\n",
        "#       extract the reviews, use your function to make the token list, and flatten it\n",
        "\n",
        "most_reviewed_restaurant = list(Counter(reviews_df['restaurant']).items())[0]\n",
        "for r in Counter(reviews_df['restaurant']).items():\n",
        "  if r[1] > most_reviewed_restaurant[1]:\n",
        "    most_reviewed_restaurant = r\n",
        "most_reviewed_restaurant = most_reviewed_restaurant[0]\n",
        "print(most_reviewed_restaurant)\n",
        "restaurant_reviews_df = reviews_df[reviews_df['restaurant'] == most_reviewed_restaurant]\n",
        "# restaurant_reviews_df\n",
        "reviews = restaurant_reviews_df.review.tolist()\n",
        "top_tokens_list = [tokenized_content(review) for review in reviews]\n",
        "top_tokens = []\n",
        "for ele in top_tokens_list:\n",
        "  for item in ele:\n",
        "    top_tokens.append(item)"
      ],
      "metadata": {
        "colab": {
          "base_uri": "https://localhost:8080/"
        },
        "id": "1PIVb9lO658f",
        "outputId": "2623a695-f814-4b2e-bb90-353de4e7a67e"
      },
      "execution_count": 92,
      "outputs": [
        {
          "output_type": "stream",
          "name": "stdout",
          "text": [
            "Rose Restaurant\n"
          ]
        }
      ]
    },
    {
      "cell_type": "code",
      "source": [
        "# 2 points\n",
        "grader.grade(test_case_id = 'test_top_tokens', answer = top_tokens)"
      ],
      "metadata": {
        "id": "8Dc2ogf8S3yZ",
        "colab": {
          "base_uri": "https://localhost:8080/"
        },
        "outputId": "1668ac9b-c4d8-4219-d499-e7015c67711c"
      },
      "execution_count": 93,
      "outputs": [
        {
          "output_type": "stream",
          "name": "stdout",
          "text": [
            "Correct! You earned 2/2 points. You are a star!\n",
            "\n",
            "Your submission has been successfully recorded in the gradebook.\n"
          ]
        }
      ]
    },
    {
      "cell_type": "markdown",
      "source": [
        "\n",
        "### 4.2 Most Frequent Words [2 points]\n",
        "**TODO**: Now, find the 10 most common words amongst the content of `top_tokens`. Return this as a list of `(word, count)` tuples, in descending order of `count`. Store this variable in `top_ten_words`\n",
        "\n",
        "**Hint**: We again recommend using `Counter` in this question."
      ],
      "metadata": {
        "id": "GEwk7DbrS3yZ"
      }
    },
    {
      "cell_type": "code",
      "source": [
        "# TODO: From top_tokens, find the ten most frequent words\n",
        "top_ten_words = Counter(top_tokens).most_common(10)"
      ],
      "metadata": {
        "id": "GFd9R1wyS3yZ"
      },
      "execution_count": 94,
      "outputs": []
    },
    {
      "cell_type": "code",
      "source": [
        "# 2 points\n",
        "grader.grade(test_case_id = 'test_top_most_common', answer = top_ten_words)"
      ],
      "metadata": {
        "id": "Wd_RRFloS3ya",
        "colab": {
          "base_uri": "https://localhost:8080/"
        },
        "outputId": "6e5afb93-4823-49dd-868b-98b995e5a744"
      },
      "execution_count": 95,
      "outputs": [
        {
          "output_type": "stream",
          "name": "stdout",
          "text": [
            "Correct! You earned 2/2 points. You are a star!\n",
            "\n",
            "Your submission has been successfully recorded in the gradebook.\n"
          ]
        }
      ]
    },
    {
      "cell_type": "markdown",
      "source": [
        "### 4.3 Word Clouds [5 points]\n",
        "\n",
        "Before we move on from this dataset, let's visualize our results using a word cloud.\n",
        "\n",
        "**TODO**: Create a word cloud containing all the words in the list `top_tokens` (created in part 4.1). [The WordCloud documentation](https://amueller.github.io/word_cloud/generated/wordcloud.WordCloud.html) contains instructions on how to do this. \n",
        "\n",
        "*Please make sure your wordcloud has a **lavender** background color.*\n",
        "\n",
        "We will be going through your notebooks and **manually grading** your word cloud. This is worth 5 points. "
      ],
      "metadata": {
        "id": "vr94cNcdS3ya"
      }
    },
    {
      "cell_type": "code",
      "source": [
        "# TODO: generate your word cloud, making sure it meets the requirements above\n",
        "import wordcloud\n",
        "wordcloud = wordcloud.WordCloud(background_color=\"lavender\")\n",
        "wordcloud.generate(\" \".join(top_tokens))\n",
        "plt.axis(\"off\")\n",
        "plt.imshow(wordcloud, interpolation=\"bilinear\")\n",
        "plt.show()"
      ],
      "metadata": {
        "id": "gzM1RmhxS3ya",
        "colab": {
          "base_uri": "https://localhost:8080/",
          "height": 198
        },
        "outputId": "3ecebec8-42e0-45e6-82a0-d68b63384191"
      },
      "execution_count": 96,
      "outputs": [
        {
          "output_type": "display_data",
          "data": {
            "text/plain": [
              "<Figure size 432x288 with 1 Axes>"
            ],
            "image/png": "[encoded data removed]"
          },
          "metadata": {
            "needs_background": "light"
          }
        }
      ]
    },
    {
      "cell_type": "markdown",
      "metadata": {
        "id": "UcrcDEJNlrN0"
      },
      "source": [
        "# HW Submission\n",
        "\n",
        "<br>\n",
        "<center><img src = \"https://i.imgflip.com/79knab.jpg\" width= \"500\" align =\"center\"/></center>\n",
        "<br>\n",
        "\n",
        "Congratulations on finishing this homework! The good news is that similar to HW1, you basically know your score when you submit to Gradescope. \n",
        "However, this time, we will be manually grading your lineplots and wordclouds, so the autograder score is not final! Remember that we will also be checking for plagiarism, so please make sure to cite your sources (if any) by commenting the urls / links you looked at.\n",
        "\n",
        "Before you submit on Gradescope (you must submit your notebook to receive credit):\n",
        "\n",
        "1.   Please rerun your notebook on Colab by clicking \"Restart and Run-All\", and make sure there is nothing wrong with your notebook.\n",
        "2.   **Double check that you have the correct PennID (all numbers) saved in the autograder**. \n",
        "3. Make sure you've run all the PennGrader cells and have received a score.\n",
        "4. Go to the \"File\" tab at the top left, and click \"Download .ipynb\" + \"Download .py\". Please name the `.ipynb` and `.py` files **\"homework2.ipynb\"** and **\"homework2.py\"** respectively. Then, upload both the `.py` and `.ipynb` files to Gradescope. \n",
        "\n",
        "###Be sure to name your files correctly!!!\n",
        "\n",
        "**Please let the course staff know ASAP if you have any issues submitting.**"
      ]
    }
  ],
  "metadata": {
    "colab": {
      "provenance": []
    },
    "kernelspec": {
      "display_name": "Python 3",
      "name": "python3"
    },
    "language_info": {
      "name": "python"
    }
  },
  "nbformat": 4,
  "nbformat_minor": 0
}